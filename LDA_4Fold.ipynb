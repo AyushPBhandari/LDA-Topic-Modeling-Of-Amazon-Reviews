{
 "cells": [
  {
   "cell_type": "code",
   "execution_count": null,
   "metadata": {},
   "outputs": [],
   "source": [
    "%matplotlib inline\n",
    "import re\n",
    "from collections import defaultdict\n",
    "import numpy as np\n",
    "from sklearn.decomposition import  LatentDirichletAllocation\n",
    "from sklearn.feature_extraction.text import CountVectorizer\n",
    "from nltk.stem.snowball import SnowballStemmer\n",
    "import matplotlib.pyplot as plt\n",
    "from sklearn.manifold import TSNE\n",
    "from sklearn.model_selection import KFold\n",
    "\n",
    "from prep import *\n",
    "import pandas as pd\n",
    "from time import time\n",
    "import pickle"
   ]
  },
  {
   "cell_type": "code",
   "execution_count": null,
   "metadata": {},
   "outputs": [],
   "source": [
    "\"\"\"\n",
    "load dataset and convert bag of words represenetations.\n",
    "\"\"\"\n",
    "with open(\"./text_prep.txt\", \"r\") as t:\n",
    "    df = t.read()\n",
    "    df = df.split(\"\\n\")\n",
    "\n",
    "# Set seed\n",
    "np.random.seed(999)\n",
    "    \n",
    "df = pd.DataFrame(df)\n",
    "df = df[0]\n",
    "vec = CountVectorizer(min_df = 10, max_features = 10000)\n",
    "df_vec = vec.fit_transform(df)\n"
   ]
  },
  {
   "cell_type": "code",
   "execution_count": null,
   "metadata": {},
   "outputs": [],
   "source": [
    "n_topics = 100\n",
    "alpha = 0.01\n",
    "beta = 0.1\n",
    "\n",
    "# 4-fold crossvalidation \n",
    "index = list(range(0,len(df)))\n",
    "kf = KFold(n_splits = 4)\n",
    "\n",
    "preplexity = []\n",
    "k = 1\n",
    "for train_index, test_index in kf.split(index):\n",
    "    train = df_vec[train_index]\n",
    "    test = df_vec[test_index]\n",
    "    lda = LatentDirichletAllocation(n_components = n_topics, doc_topic_prior=alpha, topic_word_prior=beta, n_jobs = 10)\n",
    "    t0 = time()\n",
    "    lda.fit(train)\n",
    "\n",
    "    train_gamma = lda.transform(train)\n",
    "    train_perplexity = lda.perplexity(train, train_gamma)\n",
    "\n",
    "    test_gamma = lda.transform(test)\n",
    "    test_perplexity = lda.perplexity(test, test_gamma)\n",
    "    \n",
    "    perplexity.append(test_perplexity)\n",
    "    k += 1\n",
    "    print('================================ Fold %f =====================================' %k)\n",
    "\n",
    "\n",
    "    print('sklearn preplexity: train=%.3f, test=%.3f' %\n",
    "          (train_perplexity, test_perplexity))\n",
    "\n",
    "    print(\"done in %0.3fs.\" % (time() - t0))\n",
    "    filename = 'model_fold_{0}.sav'.format(k)\n",
    "    pickle.dump(lda, open(filename, 'wb'))\n",
    "    "
   ]
  },
  {
   "cell_type": "code",
   "execution_count": null,
   "metadata": {},
   "outputs": [],
   "source": [
    "avg_perplexity = np.mean(perplexity)"
   ]
  },
  {
   "cell_type": "code",
   "execution_count": null,
   "metadata": {},
   "outputs": [],
   "source": []
  }
 ],
 "metadata": {
  "kernelspec": {
   "display_name": "Python 3",
   "language": "python",
   "name": "python3"
  },
  "language_info": {
   "codemirror_mode": {
    "name": "ipython",
    "version": 3
   },
   "file_extension": ".py",
   "mimetype": "text/x-python",
   "name": "python",
   "nbconvert_exporter": "python",
   "pygments_lexer": "ipython3",
   "version": "3.6.5"
  }
 },
 "nbformat": 4,
 "nbformat_minor": 2
}
