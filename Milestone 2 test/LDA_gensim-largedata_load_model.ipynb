{
 "cells": [
  {
   "cell_type": "code",
   "execution_count": 1,
   "metadata": {},
   "outputs": [
    {
     "name": "stderr",
     "output_type": "stream",
     "text": [
      "C:\\Users\\Xiaomeng\\Anaconda3\\lib\\site-packages\\gensim\\utils.py:1197: UserWarning: detected Windows; aliasing chunkize to chunkize_serial\n",
      "  warnings.warn(\"detected Windows; aliasing chunkize to chunkize_serial\")\n",
      "C:\\Users\\Xiaomeng\\Anaconda3\\lib\\site-packages\\funcy\\colls.py:6: DeprecationWarning: Using or importing the ABCs from 'collections' instead of from 'collections.abc' is deprecated, and in 3.8 it will stop working\n",
      "  from collections import Mapping, Set, Iterable, Iterator, defaultdict\n",
      "C:\\Users\\Xiaomeng\\Anaconda3\\lib\\site-packages\\funcy\\colls.py:6: DeprecationWarning: Using or importing the ABCs from 'collections' instead of from 'collections.abc' is deprecated, and in 3.8 it will stop working\n",
      "  from collections import Mapping, Set, Iterable, Iterator, defaultdict\n",
      "C:\\Users\\Xiaomeng\\Anaconda3\\lib\\site-packages\\funcy\\flow.py:2: DeprecationWarning: Using or importing the ABCs from 'collections' instead of from 'collections.abc' is deprecated, and in 3.8 it will stop working\n",
      "  from collections import Hashable\n",
      "C:\\Users\\Xiaomeng\\Anaconda3\\lib\\site-packages\\nltk\\decorators.py:70: DeprecationWarning: `formatargspec` is deprecated since Python 3.5. Use `signature` and the `Signature` object directly\n",
      "  formatvalue=lambda value: \"\")[1:-1]\n"
     ]
    }
   ],
   "source": [
    "import re\n",
    "import numpy as np\n",
    "import pandas as pd\n",
    "from pprint import pprint\n",
    "import pickle\n",
    "import numpy as np\n",
    "\n",
    "# Gensim\n",
    "import gensim\n",
    "from gensim import corpora\n",
    "from gensim.utils import simple_preprocess\n",
    "from gensim.models import CoherenceModel\n",
    "from gensim.models import ldamulticore\n",
    "#from gensim.parsing.preprocessing import STOPWORDS\n",
    "\n",
    "# spacy for lemmatization\n",
    "import spacy\n",
    "\n",
    "# Plotting tools\n",
    "import pyLDAvis\n",
    "import  pyLDAvis.gensim # don't skip this\n",
    "from matplotlib import pyplot as plt\n",
    "\n",
    "\n",
    "import nltk\n",
    "\n",
    "# Enable logging for gensim - optional\n",
    "import logging\n",
    "logging.basicConfig(format='%(asctime)s : %(levelname)s : %(message)s', level=logging.ERROR)\n",
    "\n",
    "import warnings\n",
    "warnings.filterwarnings(\"ignore\",category=DeprecationWarning)"
   ]
  },
  {
   "cell_type": "code",
   "execution_count": 2,
   "metadata": {},
   "outputs": [
    {
     "data": {
      "text/plain": [
       "'C:\\\\Users\\\\Xiaomeng\\\\OneDrive\\\\Project\\\\Category Dataframe'"
      ]
     },
     "execution_count": 2,
     "metadata": {},
     "output_type": "execute_result"
    }
   ],
   "source": [
    "import os\n",
    "cwd = os.getcwd()\n",
    "data_dir = os.path.join(cwd,'Category Dataframe')\n",
    "os.chdir(data_dir)\n",
    "data_dir"
   ]
  },
  {
   "cell_type": "code",
   "execution_count": 3,
   "metadata": {},
   "outputs": [],
   "source": [
    "# save train and test data index in to pickle\n",
    "f =open('data_lemmatized.pkl','rb')\n",
    "data_lemmatized =pickle.load(f)\n",
    "f.close()"
   ]
  },
  {
   "cell_type": "code",
   "execution_count": 4,
   "metadata": {},
   "outputs": [
    {
     "name": "stdout",
     "output_type": "stream",
     "text": [
      "[[(4, 1), (14, 1), (43, 1), (60, 1), (119, 1), (659, 1), (1366, 1), (9780, 1), (22959, 1), (22960, 1), (22961, 1)]]\n",
      "[[(43, 1), (322, 1), (408, 1), (419, 1), (435, 2), (554, 1), (954, 1), (1127, 1), (2243, 2), (3245, 1), (4325, 2), (5030, 1), (7567, 1)]]\n",
      "9644\n",
      "104400\n"
     ]
    }
   ],
   "source": [
    "# Create Dictionary\n",
    "id2word = corpora.Dictionary(data_lemmatized)\n",
    "\n",
    "# Create Corpus\n",
    "texts = data_lemmatized\n",
    "\n",
    "# Term Document Frequency\n",
    "corpus = [id2word.doc2bow(text) for text in texts]\n",
    "\n",
    "from sklearn.model_selection import train_test_split\n",
    "\n",
    "corpus_index = [i for i in range(len(corpus))]\n",
    "\n",
    "train, test, train_index, test_index = train_test_split(corpus, corpus_index, test_size=0.33, random_state=42)\n",
    "print(train[:1])\n",
    "print(test[:1])\n",
    "print(train_index[0])\n",
    "print(test_index[0])"
   ]
  },
  {
   "cell_type": "markdown",
   "metadata": {},
   "source": [
    "# Find optimal number of topics"
   ]
  },
  {
   "cell_type": "code",
   "execution_count": 28,
   "metadata": {},
   "outputs": [],
   "source": [
    "def compute_metrics(dictionary,train,test,texts,n_list):\n",
    "    \"\"\"\n",
    "    Compute c_v coherence for various number of topics\n",
    "\n",
    "    Parameters:\n",
    "    ----------\n",
    "    dictionary : Gensim dictionary\n",
    "    corpus : Gensim corpus\n",
    "    texts : List of input texts\n",
    "    limit : Max num of topics\n",
    "\n",
    "    Returns:\n",
    "    -------\n",
    "    model_list : List of LDA topic models\n",
    "    coherence_values : Coherence values corresponding to the LDA model with respective number of topics\n",
    "    \"\"\"\n",
    "    from gensim.models.coherencemodel import CoherenceModel\n",
    "    coherence_values = []\n",
    "    model_list = []\n",
    "    perplexity_values = []\n",
    "    for num_topics in n_list:\n",
    "        t0 = time()\n",
    "        \n",
    "        print('================================ N_topics %f =====================================' %num_topics)\n",
    "        filename = 'model_n_{0}.sav'.format(num_topics)\n",
    "        model = pickle.load(open(filename, 'rb'))\n",
    "        \n",
    "        model_list.append(model)\n",
    "        # Compute Coherence Score\n",
    "        coherence_model = CoherenceModel(model = model, corpus=test,texts=data_lemmatized, dictionary=dictionary, coherence='c_npmi')\n",
    "        coherence = coherence_model.get_coherence()\n",
    "        coherence_values.append(coherence)\n",
    "        \n",
    "        print('Coherence Score:test=%.3f' %coherence)\n",
    "        \n",
    "        # Compute Perplexity \n",
    "        #perplexity = model.log_perplexity(test)\n",
    "        #print('preplexity: test=%.3f' %perplexity)\n",
    "        #perplexity_values.append(perplexity)\n",
    "        \n",
    "              \n",
    "        print(\"done in %0.3fs.\" %(time() - t0))\n",
    "    return model_list, coherence_values,perplexity_values"
   ]
  },
  {
   "cell_type": "code",
   "execution_count": null,
   "metadata": {},
   "outputs": [],
   "source": [
    "filename = 'model_n_{0}.sav'.format(5)\n",
    "model = pickle.load(open(filename, 'rb'))"
   ]
  },
  {
   "cell_type": "code",
   "execution_count": null,
   "metadata": {},
   "outputs": [],
   "source": []
  },
  {
   "cell_type": "code",
   "execution_count": 5,
   "metadata": {},
   "outputs": [
    {
     "ename": "NameError",
     "evalue": "name 'compute_metrics' is not defined",
     "output_type": "error",
     "traceback": [
      "\u001b[1;31m---------------------------------------------------------------------------\u001b[0m",
      "\u001b[1;31mNameError\u001b[0m                                 Traceback (most recent call last)",
      "\u001b[1;32m<ipython-input-5-d25861117f86>\u001b[0m in \u001b[0;36m<module>\u001b[1;34m()\u001b[0m\n\u001b[0;32m      3\u001b[0m \u001b[1;32mfrom\u001b[0m \u001b[0mtime\u001b[0m \u001b[1;32mimport\u001b[0m \u001b[0mtime\u001b[0m\u001b[1;33m\u001b[0m\u001b[0m\n\u001b[0;32m      4\u001b[0m \u001b[0mn_list\u001b[0m \u001b[1;33m=\u001b[0m \u001b[1;33m[\u001b[0m\u001b[1;36m5\u001b[0m\u001b[1;33m,\u001b[0m\u001b[1;36m10\u001b[0m\u001b[1;33m,\u001b[0m\u001b[1;36m15\u001b[0m\u001b[1;33m,\u001b[0m\u001b[1;36m20\u001b[0m\u001b[1;33m,\u001b[0m\u001b[1;36m25\u001b[0m\u001b[1;33m,\u001b[0m\u001b[1;36m30\u001b[0m\u001b[1;33m,\u001b[0m\u001b[1;36m40\u001b[0m\u001b[1;33m,\u001b[0m\u001b[1;36m50\u001b[0m\u001b[1;33m,\u001b[0m\u001b[1;36m60\u001b[0m\u001b[1;33m,\u001b[0m\u001b[1;36m70\u001b[0m\u001b[1;33m,\u001b[0m\u001b[1;36m80\u001b[0m\u001b[1;33m]\u001b[0m\u001b[1;33m\u001b[0m\u001b[0m\n\u001b[1;32m----> 5\u001b[1;33m \u001b[0mmodel_list\u001b[0m\u001b[1;33m,\u001b[0m \u001b[0mcoherence_values\u001b[0m\u001b[1;33m,\u001b[0m \u001b[0mperplexity_values\u001b[0m \u001b[1;33m=\u001b[0m \u001b[0mcompute_metrics\u001b[0m\u001b[1;33m(\u001b[0m\u001b[0mdictionary\u001b[0m\u001b[1;33m=\u001b[0m\u001b[0mid2word\u001b[0m\u001b[1;33m,\u001b[0m \u001b[0mtrain\u001b[0m\u001b[1;33m=\u001b[0m\u001b[0mtrain\u001b[0m\u001b[1;33m,\u001b[0m \u001b[0mtest\u001b[0m \u001b[1;33m=\u001b[0m \u001b[0mtest\u001b[0m\u001b[1;33m,\u001b[0m\u001b[0mtexts\u001b[0m\u001b[1;33m=\u001b[0m\u001b[0mdata_lemmatized\u001b[0m\u001b[1;33m,\u001b[0m \u001b[0mn_list\u001b[0m \u001b[1;33m=\u001b[0m \u001b[0mn_list\u001b[0m\u001b[1;33m)\u001b[0m\u001b[1;33m\u001b[0m\u001b[0m\n\u001b[0m",
      "\u001b[1;31mNameError\u001b[0m: name 'compute_metrics' is not defined"
     ]
    }
   ],
   "source": [
    "# Can take a long time to run.\n",
    "from gensim.models.coherencemodel import CoherenceModel\n",
    "from time import time\n",
    "n_list = [5,10,15,20,25,30,40,50,60,70,80]\n",
    "model_list, coherence_values, perplexity_values = compute_metrics(dictionary=id2word, train=train, test = test,texts=data_lemmatized, n_list = n_list)"
   ]
  },
  {
   "cell_type": "code",
   "execution_count": 6,
   "metadata": {
    "scrolled": false
   },
   "outputs": [
    {
     "name": "stdout",
     "output_type": "stream",
     "text": [
      "================================ N_topics 5.000000 =====================================\n",
      "Cv Score:test=0.307\n",
      "done in 8.978s.\n",
      "================================ N_topics 10.000000 =====================================\n",
      "Cv Score:test=0.343\n",
      "done in 11.502s.\n",
      "================================ N_topics 15.000000 =====================================\n",
      "Cv Score:test=0.384\n",
      "done in 20.277s.\n",
      "================================ N_topics 20.000000 =====================================\n",
      "Cv Score:test=0.361\n",
      "done in 28.322s.\n",
      "================================ N_topics 25.000000 =====================================\n",
      "Cv Score:test=0.405\n",
      "done in 27.065s.\n",
      "================================ N_topics 30.000000 =====================================\n",
      "Cv Score:test=0.406\n",
      "done in 28.992s.\n",
      "================================ N_topics 40.000000 =====================================\n",
      "Cv Score:test=0.443\n",
      "done in 35.717s.\n",
      "================================ N_topics 50.000000 =====================================\n",
      "Cv Score:test=0.436\n",
      "done in 48.130s.\n",
      "================================ N_topics 60.000000 =====================================\n",
      "Cv Score:test=0.465\n",
      "done in 57.865s.\n",
      "================================ N_topics 70.000000 =====================================\n",
      "Cv Score:test=0.468\n",
      "done in 71.341s.\n",
      "================================ N_topics 80.000000 =====================================\n",
      "Cv Score:test=0.481\n",
      "done in 83.563s.\n",
      "================================ N_topics 90.000000 =====================================\n",
      "Cv Score:test=0.492\n",
      "done in 104.971s.\n"
     ]
    }
   ],
   "source": [
    "cv_values = []\n",
    "n_list = [5,10,15,20,25,30,40,50,60,70,80,90]\n",
    "for num_topics in n_list:\n",
    "    t0 = time()\n",
    "    print('================================ N_topics %f =====================================' %num_topics)\n",
    "    filename = 'model_n_{0}.sav'.format(num_topics)\n",
    "    model = pickle.load(open(filename, 'rb'))\n",
    "    coherence_model = CoherenceModel(model = model,texts=data_lemmatized, dictionary=id2word, coherence='c_v')\n",
    "    cv = coherence_model.get_coherence()\n",
    "    cv_values.append(cv)\n",
    "    print('Cv Score:test=%.3f' %cv)\n",
    "    print(\"done in %0.3fs.\" %(time() - t0))"
   ]
  },
  {
   "cell_type": "code",
   "execution_count": null,
   "metadata": {},
   "outputs": [],
   "source": [
    "# Show graph\n",
    "x = [5,10,15,20,25,30,40,50,60,70,80]\n",
    "plt.plot(x, coherence_values[:11])\n",
    "plt.xlabel(\"Num Topics\")\n",
    "plt.ylabel(\"Coherence score:c\")\n",
    "plt.legend((\"coherence_values\"), loc='best')\n",
    "plt.show()"
   ]
  },
  {
   "cell_type": "code",
   "execution_count": 7,
   "metadata": {},
   "outputs": [
    {
     "data": {
      "image/png": "[encoded data removed]",
      "text/plain": [
       "<Figure size 432x288 with 1 Axes>"
      ]
     },
     "metadata": {
      "needs_background": "light"
     },
     "output_type": "display_data"
    }
   ],
   "source": [
    "# Show graph\n",
    "\n",
    "x = [5,10,15,20,25,30,40,50,60,70,80,90]\n",
    "plt.plot(x, cv_values)\n",
    "plt.xlabel(\"Num Topics\")\n",
    "plt.ylabel(\"Coherence score:cv\")\n",
    "plt.legend((\"coherence_values\"), loc='best')\n",
    "plt.show()"
   ]
  },
  {
   "cell_type": "code",
   "execution_count": null,
   "metadata": {},
   "outputs": [],
   "source": [
    "# Print the coherence scores\n",
    "for m, cv in zip(x, coherence_values):\n",
    "    print(\"Num Topics =\", m, \" has Coherence Value of\", round(cv, 4))"
   ]
  },
  {
   "cell_type": "markdown",
   "metadata": {},
   "source": [
    "# Build LDA"
   ]
  },
  {
   "cell_type": "code",
   "execution_count": null,
   "metadata": {},
   "outputs": [],
   "source": [
    "# Build LDA model\n",
    "lda_model = gensim.models.ldamodel.LdaModel(corpus=train,\n",
    "                                           id2word=id2word,\n",
    "                                           num_topics=30, \n",
    "                                           random_state=100,\n",
    "                                           update_every=1,\n",
    "                                           chunksize=100,\n",
    "                                           passes=10,\n",
    "                                           alpha='auto',\n",
    "                                           per_word_topics=True)"
   ]
  },
  {
   "cell_type": "code",
   "execution_count": null,
   "metadata": {},
   "outputs": [],
   "source": [
    "lda_model.save(\"lda_model_gensim\")"
   ]
  },
  {
   "cell_type": "code",
   "execution_count": null,
   "metadata": {},
   "outputs": [],
   "source": [
    "lda_model"
   ]
  },
  {
   "cell_type": "code",
   "execution_count": null,
   "metadata": {},
   "outputs": [],
   "source": [
    "# Print the Keyword in the 10 topics\n",
    "pprint(lda_model.print_topics(30))\n",
    "doc_lda = lda_model[test]"
   ]
  },
  {
   "cell_type": "code",
   "execution_count": null,
   "metadata": {},
   "outputs": [],
   "source": [
    "# Compute Perplexity\n",
    "print('\\nPerplexity: ', lda_model.log_perplexity(corpus))  # a measure of how good the model is. lower the better.\n",
    "\n",
    "# Compute Coherence Score\n",
    "coherence_model_lda = CoherenceModel(model=lda_model, texts=data_lemmatized, dictionary=id2word, coherence='c_v')\n",
    "coherence_lda = coherence_model_lda.get_coherence()\n",
    "print('\\nCoherence Score: ', coherence_lda)"
   ]
  },
  {
   "cell_type": "code",
   "execution_count": null,
   "metadata": {},
   "outputs": [],
   "source": [
    "theta, _ = lda_model.inference(train)\n",
    "theta /= theta.sum(axis=1)[:, None]\n",
    "theta_df_train = pd.DataFrame(theta)\n",
    "\n",
    "theta, _ = lda_model.inference(test)\n",
    "theta /= theta.sum(axis=1)[:, None]\n",
    "theta_df_test = pd.DataFrame(theta)\n",
    "\n",
    "\n",
    "from sklearn import svm\n",
    "x = theta_df_train\n",
    "y = list(all_data_df.iloc[train_index]['category'])\n",
    "\n",
    "clf = svm.LinearSVC()\n",
    "clf.fit(x,y)\n",
    "result = clf.predict(theta_df_test)\n",
    "\n",
    "i = 0\n",
    "for y,y_pred in zip(all_data_df.iloc[test_index]['category'],result):\n",
    "    if y == y_pred:\n",
    "        i +=1\n",
    "        \n",
    "print(i/len(result)*100)"
   ]
  },
  {
   "cell_type": "code",
   "execution_count": null,
   "metadata": {},
   "outputs": [],
   "source": [
    "from sklearn.manifold import TSNE \n",
    "tsne = TSNE(n_components=2, perplexity=50)\n",
    "\n",
    "# TSNE is taking too long for bigger dataset\n",
    "#reduced_X = theta_df_test.sample(n=5000)\n",
    "tsne_data = tsne.fit_transform(theta_df_test)\n",
    "tsne_data = pd.DataFrame(tsne_data, columns=[\"dim1\", \"dim2\"])\n",
    "tsne_data.plot(\"dim1\", \"dim2\", kind=\"scatter\")"
   ]
  },
  {
   "cell_type": "markdown",
   "metadata": {},
   "source": [
    "# Visualization"
   ]
  },
  {
   "cell_type": "code",
   "execution_count": null,
   "metadata": {
    "scrolled": false
   },
   "outputs": [],
   "source": [
    "import pyLDAvis.gensim\n",
    "pyLDAvis.enable_notebook()\n",
    "vis = pyLDAvis.gensim.prepare(lda_model, corpus, dct,mds='tsne',sort_topics=False)\n",
    "pyLDAvis.display(vis)"
   ]
  },
  {
   "cell_type": "code",
   "execution_count": null,
   "metadata": {},
   "outputs": [],
   "source": [
    "pyLDAvis.save_html(vis, 'lda.html')"
   ]
  },
  {
   "cell_type": "code",
   "execution_count": null,
   "metadata": {
    "scrolled": true
   },
   "outputs": [],
   "source": [
    "# Select the model and print the topics\n",
    "optimal_model = model_list[3]\n",
    "model_topics = optimal_model.show_topics(formatted=False)\n",
    "pprint(optimal_model.print_topics(num_words=10))"
   ]
  },
  {
   "cell_type": "markdown",
   "metadata": {},
   "source": [
    "# t - sne Visulization "
   ]
  },
  {
   "cell_type": "code",
   "execution_count": null,
   "metadata": {},
   "outputs": [],
   "source": [
    "theta, _ = lda_model_2.inference(train)\n",
    "theta /= theta.sum(axis=1)[:, None]\n",
    "theta_df_train = pd.DataFrame(theta)\n",
    "\n",
    "theta, _ = lda_model_2.inference(test)\n",
    "theta /= theta.sum(axis=1)[:, None]\n",
    "theta_df_test = pd.DataFrame(theta)"
   ]
  },
  {
   "cell_type": "markdown",
   "metadata": {},
   "source": [
    "# SVM"
   ]
  },
  {
   "cell_type": "code",
   "execution_count": null,
   "metadata": {},
   "outputs": [],
   "source": [
    "from sklearn import svm\n",
    "x = theta_df_train\n",
    "y = list(all_data_df.iloc[train_index]['category'])\n",
    "\n",
    "clf = svm.LinearSVC()\n",
    "clf.fit(x,y)\n",
    "result = clf.predict(theta_df_test)\n",
    "\n",
    "i = 0\n",
    "for y,y_pred in zip(all_data_df.iloc[test_index]['category'],result):\n",
    "    if y == y_pred:\n",
    "        i +=1\n",
    "        \n",
    "print(i/len(result)*100)"
   ]
  },
  {
   "cell_type": "markdown",
   "metadata": {},
   "source": [
    "# PCA"
   ]
  },
  {
   "cell_type": "code",
   "execution_count": null,
   "metadata": {},
   "outputs": [],
   "source": []
  },
  {
   "cell_type": "code",
   "execution_count": null,
   "metadata": {},
   "outputs": [],
   "source": []
  },
  {
   "cell_type": "markdown",
   "metadata": {},
   "source": [
    "# Building LDA Mallet Model"
   ]
  },
  {
   "cell_type": "code",
   "execution_count": null,
   "metadata": {},
   "outputs": [],
   "source": [
    "import os\n",
    "from gensim.models.wrappers import LdaMallet\n",
    "os.environ.update({'MALLET_HOME':r'C:/Xiaomeng/mallet/'})\n",
    "mallet_path = 'C:\\\\Xiaomeng\\\\mallet\\\\bin\\\\mallet' # update this path\n",
    "\n",
    "#ldamallet = gensim.models.wrappers.LdaMallet(mallet_path, corpus=corpus, num_topics=3, id2word=id2word)\n",
    "\n",
    "#result = (ldamallet.show_topics(num_topics=3, num_words=10,formatted=False))\n",
    "#for each in result:\n",
    "#print (each)\n",
    "#os.environ['MALLET_HOME'] = 'C:/Users/Xiaomeng/OneDrive/Project/Category Dataframe/mallet'\n",
    "#mallet_path = 'C:/Users/Xiaomeng/OneDrive/Project/Category Dataframe/mallet/bin/mallet' # update this path\n",
    "#mallet_path = 'C:\\Users\\Xiaomeng\\OneDrive\\Project\\Category Dataframe\\mallet\\bin\\mallet' # update this path\n",
    "ldamallet = LdaMallet(mallet_path, corpus=train, num_topics=30, id2word=id2word)"
   ]
  },
  {
   "cell_type": "code",
   "execution_count": null,
   "metadata": {},
   "outputs": [],
   "source": [
    "# Show Topics\n",
    "pprint(ldamallet.show_topics(formatted=False))\n",
    "\n",
    "# Compute Coherence Score\n",
    "coherence_model_ldamallet = CoherenceModel(model=ldamallet, texts=data_lemmatized, dictionary=id2word, coherence='c_v')\n",
    "coherence_ldamallet = coherence_model_ldamallet.get_coherence()\n",
    "print('\\nCoherence Score: ', coherence_ldamallet)"
   ]
  },
  {
   "cell_type": "code",
   "execution_count": null,
   "metadata": {},
   "outputs": [],
   "source": [
    "def compute_coherence_values(dictionary, corpus, texts, limit, start=2, step=3):\n",
    "    \"\"\"\n",
    "    Compute c_v coherence for various number of topics\n",
    "\n",
    "    Parameters:\n",
    "    ----------\n",
    "    dictionary : Gensim dictionary\n",
    "    corpus : Gensim corpus\n",
    "    texts : List of input texts\n",
    "    limit : Max num of topics\n",
    "\n",
    "    Returns:\n",
    "    -------\n",
    "    model_list : List of LDA topic models\n",
    "    coherence_values : Coherence values corresponding to the LDA model with respective number of topics\n",
    "    \"\"\"\n",
    "    coherence_values = []\n",
    "    model_list = []\n",
    "    for num_topics in range(start, limit, step):\n",
    "        model = gensim.models.wrappers.LdaMallet(mallet_path, corpus=corpus, num_topics=num_topics, id2word=id2word)\n",
    "        model_list.append(model)\n",
    "        coherencemodel = CoherenceModel(model=model, texts=texts, dictionary=dictionary, coherence='c_v')\n",
    "        coherence_values.append(coherencemodel.get_coherence())\n",
    "\n",
    "    return model_list, coherence_values"
   ]
  },
  {
   "cell_type": "code",
   "execution_count": null,
   "metadata": {},
   "outputs": [],
   "source": [
    "mode"
   ]
  },
  {
   "cell_type": "raw",
   "metadata": {},
   "source": [
    "# Can take a long time to run.\n",
    "model_list, coherence_values = compute_coherence_values(dictionary=dct, corpus=corpus, texts=data_lemmatized, start=2, limit=40, step=6)"
   ]
  },
  {
   "cell_type": "code",
   "execution_count": null,
   "metadata": {},
   "outputs": [],
   "source": [
    "# Build LDA model with the result from hyperparameter tuning\n",
    "lda_model_2 = gensim.models.LdaMulticore(corpus=train,\n",
    "                                           id2word=id2word,\n",
    "                                           num_topics=30, \n",
    "                                           random_state=100,\n",
    "                                           chunksize=100,\n",
    "                                           passes=10,\n",
    "                                           alpha=0.6,\n",
    "                                            eta=0.05,\n",
    "                                           per_word_topics=True)\n",
    "\n",
    "lda_model_2.save(\"lda_model2_gensim\")"
   ]
  },
  {
   "cell_type": "code",
   "execution_count": null,
   "metadata": {},
   "outputs": [],
   "source": [
    "lda_model_2 = gensim.models.LdaModel.load(\"lda_model2_gensim\")\n",
    "theta, _ = lda_model_2.inference(train)\n",
    "theta /= theta.sum(axis=1)[:, None]\n",
    "theta_df_test = pd.DataFrame(theta)\n",
    "tsne = TSNE(n_components=2, perplexity=50)\n",
    "\n",
    "# Clean and sample the data from each categories\n",
    "#theta_df_clean = theta_df[ theta_df['category'] != \"\" ]\n",
    "#theta_df_grouped = theta_df_clean.groupby(['category'])\n",
    "#theta_df_grouped = theta_df_grouped.apply(lambda x: x.sample(frac=0.3))\n",
    "# TSNE is taking too long for bigger dataset\n",
    "reduced_X = theta_df_grouped.sample(n=6000)\n",
    "\n",
    "\n",
    "tsne_data = tsne.fit_transform(reduced_X.ix[:, :30])\n",
    "tsne_data = pd.DataFrame(tsne_data, columns=[\"dim1\", \"dim2\"])\n",
    "tsne_data.plot(\"dim1\", \"dim2\", kind=\"scatter\")"
   ]
  },
  {
   "cell_type": "code",
   "execution_count": null,
   "metadata": {},
   "outputs": [],
   "source": [
    "tsne_data"
   ]
  },
  {
   "cell_type": "code",
   "execution_count": null,
   "metadata": {},
   "outputs": [],
   "source": [
    "    # label_marker dictionary for true labels\n",
    "    unqique_label = np.unique(result_df['labels_predict'].tolist())\n",
    "    unqique_true_label = np.unique(result_df['label'].tolist())\n",
    "    markers = ['o','*','s']\n",
    "    keys = [str(x) for x in unqique_true_label]\n",
    "    true_label_dict = dict(zip(keys, markers))\n",
    "    \n",
    "    for k in unqique_predict_label:\n",
    "        result_df.loc[(result_df['labels_predict']== k),'color'] = label_dict[str(int(k))]\n",
    "            \n",
    "    for kt in unqique_true_label:\n",
    "        result_df.loc[(result_df['label']== kt),'marker'] = true_label_dict[str(kt)]\n",
    "    "
   ]
  },
  {
   "cell_type": "code",
   "execution_count": null,
   "metadata": {},
   "outputs": [],
   "source": [
    "# Compute Perplexity\n",
    "print('\\nPerplexity: ', lda_model_2.log_perplexity(corpus))  # a measure of how good the model is. lower the better.\n",
    "\n",
    "# Compute Coherence Score\n",
    "coherence_model_lda = CoherenceModel(model=lda_model_2, corpus=test,texts=data_lemmatized, dictionary=id2word, coherence='c_npmi')\n",
    "coherence_lda = coherence_model_lda.get_coherence()\n",
    "print('\\nCoherence Score: ', coherence_lda)"
   ]
  },
  {
   "cell_type": "code",
   "execution_count": null,
   "metadata": {},
   "outputs": [],
   "source": [
    "#tsne_data['label'] = list(theta_df_test['category'])\n",
    "from ggplot import *\n",
    "ggplot(tsne_data, aes(x='dim1', y='dim2', color='category')) +\\\n",
    "    geom_point()"
   ]
  },
  {
   "cell_type": "code",
   "execution_count": null,
   "metadata": {},
   "outputs": [],
   "source": []
  }
 ],
 "metadata": {
  "kernelspec": {
   "display_name": "Python 3",
   "language": "python",
   "name": "python3"
  },
  "language_info": {
   "codemirror_mode": {
    "name": "ipython",
    "version": 3
   },
   "file_extension": ".py",
   "mimetype": "text/x-python",
   "name": "python",
   "nbconvert_exporter": "python",
   "pygments_lexer": "ipython3",
   "version": "3.7.0"
  }
 },
 "nbformat": 4,
 "nbformat_minor": 2
}
