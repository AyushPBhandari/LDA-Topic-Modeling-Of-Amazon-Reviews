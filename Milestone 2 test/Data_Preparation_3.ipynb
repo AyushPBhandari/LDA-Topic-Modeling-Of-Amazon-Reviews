{
 "cells": [
  {
   "cell_type": "code",
   "execution_count": 2,
   "metadata": {},
   "outputs": [],
   "source": [
    "import os\n",
    "import pandas as pd\n",
    "import gzip"
   ]
  },
  {
   "cell_type": "code",
   "execution_count": 3,
   "metadata": {},
   "outputs": [],
   "source": [
    "def parse(path):\n",
    "  g = gzip.open(path, 'rb')\n",
    "  for l in g:\n",
    "    yield eval(l)\n",
    "\n",
    "def getDF(path):\n",
    "  i = 0\n",
    "  df = {}\n",
    "  for d in parse(path):\n",
    "    df[i] = d\n",
    "    i += 1\n",
    "  return pd.DataFrame.from_dict(df, orient='index')"
   ]
  },
  {
   "cell_type": "code",
   "execution_count": 4,
   "metadata": {},
   "outputs": [
    {
     "data": {
      "text/plain": [
       "'C:\\\\Users\\\\peng.x\\\\Study\\\\Data\\\\Amazon_category'"
      ]
     },
     "execution_count": 4,
     "metadata": {},
     "output_type": "execute_result"
    }
   ],
   "source": [
    "#file_dir = os.path.abspath(os.path.dirname('Data_Preparation_2.ipynb'))\n",
    "#data_dir = os.path.join(file_dir, 'Amazon_category')\n",
    "os.chdir('C:/Users/peng.x/Study/Data/Amazon_category')\n",
    "os.getcwd()"
   ]
  },
  {
   "cell_type": "markdown",
   "metadata": {},
   "source": [
    "# File name List\n",
    "category_list = ['reviews_Books.json.gz',\\\n",
    "'reviews_Electronics.json.gz',\\\n",
    "'reviews_CDs and Vinyl.json.gz',\\\n",
    "'reviews_Clothing, Shoes and Jewelry.json.gz',\\\n",
    "'review_Home and Kitchen.json.gz',\\\n",
    "'reviews_Cell Phones and Accessories.json.gz',\\\n",
    "'reviews_Health and Personal Cares.json.gz',\\\n",
    "'reviews_Toys and Games.json.gz',\\\n",
    "'reviews_Beauty.json.gz',\\\n",
    "'reviews_Automotive.json.gz',\\\n",
    "'reviews_Baby.json.gz',\\\n",
    "'reviews_Office Products.json.gz',\\\n",
    "'reviews_Pet Supplies.json.gz',\\\n",
    "'reviews_Grocery and Gourmet Food.json.gz',\\\n",
    "'reviews_Digital Music.json.gz',\\\n",
    "'reviews_Amazon Instant Video.json.gz',\\\n",
    "'reviews_Sports and Outdoors.json.gz',\\\n",
    "'reviews_Musical Instruments.json.gz']"
   ]
  },
  {
   "cell_type": "markdown",
   "metadata": {},
   "source": [
    "# File name List\n",
    "category_list = ['reviews_Books.json.gz',\\\n",
    "'reviews_Electronics.json.gz',\\\n",
    "'reviews_CDs and Vinyl.json.gz',\\\n",
    "'reviews_Clothing, Shoes and Jewelry.json.gz',\\\n",
    "'review_Home and Kitchen.json.gz',\\\n",
    "'reviews_Cell Phones and Accessories.json.gz',\\\n",
    "'reviews_Health and Personal Cares.json.gz',\\\n",
    "'reviews_Sports and Outdoors.json.gz',\\\n"
   ]
  },
  {
   "cell_type": "code",
   "execution_count": null,
   "metadata": {},
   "outputs": [],
   "source": [
    "n_samples = 30000\n",
    "frac = 0.001"
   ]
  },
  {
   "cell_type": "code",
   "execution_count": null,
   "metadata": {},
   "outputs": [],
   "source": [
    "# Video_Games\n",
    "df_read = getDF('reviews_Video_Games.json.gz')\n",
    "df_read['category'] = 'Video Games'\n",
    "\n",
    "df_1 = df_read.sample(frac = 0.001,  replace = False)\n",
    "df_1.to_pickle('./df_1_0.001.pkl')\n",
    "\n",
    "df_12 = df_read.sample(frac = 0.01,  replace = False)\n",
    "df_12.to_pickle('./df_1_0.01.pkl')"
   ]
  },
  {
   "cell_type": "code",
   "execution_count": null,
   "metadata": {},
   "outputs": [],
   "source": [
    "# Books\n",
    "df_read = getDF('reviews_Books.json.gz')\n",
    "df_read['category'] = 'Books'\n",
    "\n",
    "df_2 = df_read.sample(frac = 0.001,  replace = False)\n",
    "df_2.to_pickle('./df_2_0.001.pkl')\n",
    "\n",
    "df_22 = df_read.sample(frac = 0.01,  replace = False)\n",
    "df_22.to_pickle('./df_2_0.01.pkl')"
   ]
  },
  {
   "cell_type": "code",
   "execution_count": null,
   "metadata": {},
   "outputs": [],
   "source": [
    "# Electronics\n",
    "df_read = getDF('reviews_Electronics.json.gz')\n",
    "df_read['category'] = 'Electronics'\n",
    "\n",
    "df_3 = df_read.sample(frac = 0.001,  replace = False)\n",
    "df_3.to_pickle('./df_3_0.001.pkl')\n",
    "\n",
    "df_32 = df_read.sample(frac = 0.01,  replace = False)\n",
    "df_32.to_pickle('./df_3_0.01.pkl')"
   ]
  },
  {
   "cell_type": "code",
   "execution_count": null,
   "metadata": {},
   "outputs": [],
   "source": [
    "# CDs and Vinyl\n",
    "df_read = getDF('reviews_CDs_and_Vinyl.json.gz')\n",
    "df_read['category'] = 'CDs and Vinyl'\n",
    "\n",
    "df_4 = df_read.sample(frac = 0.001,  replace = False)\n",
    "df_4.to_pickle('./df_4_0.001.pkl')\n",
    "\n",
    "df_42 = df_read.sample(frac = 0.01,  replace = False)\n",
    "df_42.to_pickle('./df_4_0.01.pkl')"
   ]
  },
  {
   "cell_type": "code",
   "execution_count": null,
   "metadata": {},
   "outputs": [],
   "source": [
    "# Clothing, Shoes and Jewelry\n",
    "df_read = getDF('reviews_Clothing_Shoes_and_Jewelry.json.gz')\n",
    "df_read['category'] = 'Clothing, Shoes and Jewelry'\n",
    "\n",
    "df_5 = df_read.sample(frac = 0.001,  replace = False)\n",
    "df_5.to_pickle('./df_5_0.001.pkl')\n",
    "\n",
    "df_52 = df_read.sample(frac = 0.01,  replace = False)\n",
    "df_52.to_pickle('./df_5_0.01.pkl')"
   ]
  },
  {
   "cell_type": "code",
   "execution_count": null,
   "metadata": {},
   "outputs": [],
   "source": [
    "# Home and Kitchen\n",
    "df_read = getDF('reviews_Home_and_Kitchen.json.gz')\n",
    "df_read['category'] = 'Home and Kitchen'\n",
    "\n",
    "df_6 = df_read.sample(frac = 0.001,  replace = False)\n",
    "df_6.to_pickle('./df_6_0.001.pkl')\n",
    "\n",
    "df_62 = df_read.sample(frac = 0.01,  replace = False)\n",
    "df_62.to_pickle('./df_6_0.01.pkl')"
   ]
  },
  {
   "cell_type": "code",
   "execution_count": 5,
   "metadata": {},
   "outputs": [],
   "source": [
    "# Cell Phones and Accessories\n",
    "df_read = getDF('reviews_Cell_Phones_and_Accessories.json.gz')\n",
    "df_read['category'] = 'Cell Phones and Accessories'\n",
    "\n",
    "df_7 = df_read.sample(frac = 0.001,  replace = False)\n",
    "df_7.to_pickle('./df_7_0.001.pkl')\n",
    "\n",
    "df_72 = df_read.sample(frac = 0.01,  replace = False)\n",
    "df_72.to_pickle('./df_7_0.01.pkl')"
   ]
  },
  {
   "cell_type": "code",
   "execution_count": null,
   "metadata": {},
   "outputs": [],
   "source": [
    "# Health and Personal Cares\n",
    "df_read = getDF('reviews_Health_and_Personal_Cares.json.gz')\n",
    "df_read['category'] = 'Health and Personal Cares'\n",
    "\n",
    "df_8 = df_read.sample(frac = 0.001,  replace = False)\n",
    "df_8.to_pickle('./df_8_0.001.pkl')\n",
    "\n",
    "df_82 = df_read.sample(frac = 0.01,  replace = False)\n",
    "df_82.to_pickle('./df_8_0.01.pkl')"
   ]
  },
  {
   "cell_type": "code",
   "execution_count": null,
   "metadata": {},
   "outputs": [],
   "source": [
    "# Toys and Games\n",
    "df_read = getDF('reviews_Toys_and_Games.json.gz')\n",
    "df_read['category'] = 'Toys and Games'\n",
    "\n",
    "df_9 = df_read.sample(frac = 0.001,  replace = False)\n",
    "df_9.to_pickle('./df_9_0.001.pkl')\n",
    "\n",
    "df_92 = df_read.sample(frac = 0.01,  replace = False)\n",
    "df_92.to_pickle('./df_9_0.01.pkl')"
   ]
  },
  {
   "cell_type": "code",
   "execution_count": null,
   "metadata": {},
   "outputs": [],
   "source": [
    "# Beauty\n",
    "df_read = getDF('reviews_Beauty.json.gz')\n",
    "df_read['category'] = 'Beauty'\n",
    "\n",
    "df_10 = df_read.sample(frac = 0.001,  replace = False)\n",
    "df_10.to_pickle('./df_10_0.001.pkl')\n",
    "\n",
    "df_102 = df_read.sample(frac = 0.01,  replace = False)\n",
    "df_102.to_pickle('./df_10_0.01.pkl')"
   ]
  },
  {
   "cell_type": "code",
   "execution_count": null,
   "metadata": {},
   "outputs": [],
   "source": [
    "# Automotive\n",
    "df_read = getDF('reviews_Automotive.json.gz')\n",
    "df_read['category'] = 'Automotive'\n",
    "\n",
    "df_11 = df_read.sample(frac = 0.001,  replace = False)\n",
    "df_11.to_pickle('./df_11_0.001.pkl')\n",
    "\n",
    "df_112 = df_read.sample(frac = 0.01,  replace = False)\n",
    "df_112.to_pickle('./df_11_0.01.pkl')"
   ]
  },
  {
   "cell_type": "code",
   "execution_count": null,
   "metadata": {},
   "outputs": [],
   "source": [
    "# Baby\n",
    "df_read = getDF('reviews_Baby.json.gz')\n",
    "df_read['category'] = 'Baby'\n",
    "\n",
    "df_12 = df_read.sample(frac = 0.001,  replace = False)\n",
    "df_12.to_pickle('./df_12_0.001.pkl')\n",
    "\n",
    "df_122 = df_read.sample(frac = 0.01,  replace = False)\n",
    "df_122.to_pickle('./df_12_0.01.pkl')"
   ]
  },
  {
   "cell_type": "code",
   "execution_count": null,
   "metadata": {},
   "outputs": [],
   "source": [
    "# Office Products\n",
    "df_read = getDF('reviews_Office_Products.json.gz')\n",
    "df_read['category'] = 'Office Products'\n",
    "\n",
    "df_13 = df_read.sample(frac = 0.001,  replace = False)\n",
    "df_13.to_pickle('./df_13_0.001.pkl')\n",
    "\n",
    "df_132 = df_read.sample(frac = 0.01,  replace = False)\n",
    "df_132.to_pickle('./df_13_0.01.pkl')"
   ]
  },
  {
   "cell_type": "code",
   "execution_count": null,
   "metadata": {},
   "outputs": [],
   "source": [
    "# Pet Supplies\n",
    "df_read = getDF('reviews_Pet_Supplies.json.gz')\n",
    "df_read['category'] = 'Pet Supplies'\n",
    "\n",
    "df_14 = df_read.sample(frac = 0.001,  replace = False)\n",
    "df_14.to_pickle('./df_14_0.001.pkl')\n",
    "\n",
    "df_142 = df_read.sample(frac = 0.01,  replace = False)\n",
    "df_142.to_pickle('./df_14_0.01.pkl')"
   ]
  },
  {
   "cell_type": "code",
   "execution_count": null,
   "metadata": {},
   "outputs": [],
   "source": [
    "# Grocery and Gourmet Food\n",
    "df_read = getDF('reviews_Grocery_and_Gourmet_Food.json.gz')\n",
    "df_read['category'] = 'Grocery and Gourmet Food'\n",
    "\n",
    "df_15 = df_read.sample(frac = 0.001,  replace = False)\n",
    "df_15.to_pickle('./df_15_0.001.pkl')\n",
    "\n",
    "df_152 = df_read.sample(frac = 0.01,  replace = False)\n",
    "df_152.to_pickle('./df_15_0.01.pkl')"
   ]
  },
  {
   "cell_type": "code",
   "execution_count": null,
   "metadata": {},
   "outputs": [],
   "source": [
    "# Digital Music\n",
    "df_read = getDF('reviews_Digital_Music.json.gz')\n",
    "df_read['category'] = 'Digital Music'\n",
    "\n",
    "df_16 = df_read.sample(frac = 0.001,  replace = False)\n",
    "df_16.to_pickle('./df_16_0.001.pkl')\n",
    "\n",
    "df_162 = df_read.sample(frac = 0.01,  replace = False)\n",
    "df_162.to_pickle('./df_16_0.01.pkl')"
   ]
  },
  {
   "cell_type": "code",
   "execution_count": null,
   "metadata": {},
   "outputs": [],
   "source": [
    "# Amazon Instant Video\n",
    "df_read = getDF('reviews_Amazon_Instant_Video.json.gz')\n",
    "df_read['category'] = 'Amazon Instant Video'\n",
    "\n",
    "df_17 = df_read.sample(frac = 0.001,  replace = False)\n",
    "df_17.to_pickle('./df_17_0.001.pkl')\n",
    "\n",
    "df_172 = df_read.sample(frac = 0.01,  replace = False)\n",
    "df_172.to_pickle('./df_17_0.01.pkl')"
   ]
  },
  {
   "cell_type": "code",
   "execution_count": null,
   "metadata": {},
   "outputs": [],
   "source": [
    "# Sports and Outdoors\n",
    "df_read = getDF('reviews_Sports_and_Outdoors.json.gz')\n",
    "df_read['category'] = 'Sports and Outdoors'\n",
    "\n",
    "df_18 = df_read.sample(frac = 0.001,  replace = False)\n",
    "df_18.to_pickle('./df_18_0.001.pkl')\n",
    "\n",
    "df_182 = df_read.sample(frac = 0.01,  replace = False)\n",
    "df_182.to_pickle('./df_18_0.01.pkl')"
   ]
  },
  {
   "cell_type": "code",
   "execution_count": null,
   "metadata": {},
   "outputs": [],
   "source": [
    "# Musical Instruments\n",
    "df_read = getDF('reviews_Musical_Instruments.json.gz')\n",
    "df_read['category'] = 'Musical Instruments'\n",
    "\n",
    "df_19 = df_read.sample(frac = 0.001,  replace = False)\n",
    "df_19.to_pickle('./df_19_0.001.pkl')\n",
    "\n",
    "df_192 = df_read.sample(frac = 0.01,  replace = False)\n",
    "df_192.to_pickle('./df_19_0.01.pkl')"
   ]
  },
  {
   "cell_type": "code",
   "execution_count": null,
   "metadata": {},
   "outputs": [],
   "source": []
  }
 ],
 "metadata": {
  "kernelspec": {
   "display_name": "Python 3",
   "language": "python",
   "name": "python3"
  },
  "language_info": {
   "codemirror_mode": {
    "name": "ipython",
    "version": 3
   },
   "file_extension": ".py",
   "mimetype": "text/x-python",
   "name": "python",
   "nbconvert_exporter": "python",
   "pygments_lexer": "ipython3",
   "version": "3.6.5"
  }
 },
 "nbformat": 4,
 "nbformat_minor": 2
}
