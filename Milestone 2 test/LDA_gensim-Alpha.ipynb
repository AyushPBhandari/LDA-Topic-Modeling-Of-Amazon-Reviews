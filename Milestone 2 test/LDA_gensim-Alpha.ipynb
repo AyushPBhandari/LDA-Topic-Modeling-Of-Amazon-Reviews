{
 "cells": [
  {
   "cell_type": "code",
   "execution_count": 6,
   "metadata": {},
   "outputs": [],
   "source": [
    "import re\n",
    "import numpy as np\n",
    "import pandas as pd\n",
    "from pprint import pprint\n",
    "import pickle\n",
    "import numpy as np\n",
    "\n",
    "# Gensim\n",
    "import gensim\n",
    "from gensim import corpora\n",
    "from gensim.utils import simple_preprocess\n",
    "from gensim.models import CoherenceModel\n",
    "#from gensim.parsing.preprocessing import STOPWORDS\n",
    "\n",
    "# spacy for lemmatization\n",
    "import spacy\n",
    "\n",
    "# Plotting tools\n",
    "import pyLDAvis\n",
    "import  pyLDAvis.gensim # don't skip this\n",
    "from matplotlib import pyplot as plt\n",
    "\n",
    "\n",
    "import nltk\n",
    "from nltk.corpus import stopwords\n",
    "\n",
    "# Enable logging for gensim - optional\n",
    "import logging\n",
    "logging.basicConfig(format='%(asctime)s : %(levelname)s : %(message)s', level=logging.ERROR)\n",
    "\n",
    "import warnings\n",
    "warnings.filterwarnings(\"ignore\",category=DeprecationWarning)"
   ]
  },
  {
   "cell_type": "code",
   "execution_count": 2,
   "metadata": {},
   "outputs": [],
   "source": [
    "import os\n",
    "cwd = os.getcwd()\n",
    "data_dir = os.path.join(cwd,'Category Dataframe')\n",
    "os.chdir(data_dir)"
   ]
  },
  {
   "cell_type": "markdown",
   "metadata": {},
   "source": [
    "df1 = pd.read_pickle(\"df_1_0.001.pkl\")\n",
    "df2 = pd.read_pickle(\"df_2_0.001.pkl\")\n",
    "df3 = pd.read_pickle(\"df_3_0.001.pkl\")\n",
    "df4 = pd.read_pickle(\"df_4_0.001.pkl\")\n",
    "df5 = pd.read_pickle(\"df_5_0.001.pkl\")\n",
    "df6 = pd.read_pickle(\"df_6_0.001.pkl\")\n",
    "df7 = pd.read_pickle(\"df_7_0.001.pkl\")\n",
    "df8 = pd.read_pickle(\"df_8_0.001.pkl\")\n",
    "df9 = pd.read_pickle(\"df_9_0.001.pkl\")\n",
    "df10 = pd.read_pickle(\"df_10_0.001.pkl\")\n",
    "df11 = pd.read_pickle(\"df_11_0.001.pkl\")\n",
    "df12 = pd.read_pickle(\"df_12_0.001.pkl\")\n",
    "df13 = pd.read_pickle(\"df_13_0.001.pkl\")\n",
    "df14 = pd.read_pickle(\"df_14_0.001.pkl\")\n",
    "df15 = pd.read_pickle(\"df_15_0.001.pkl\")\n",
    "df16 = pd.read_pickle(\"df_16_0.001.pkl\")\n",
    "df17 = pd.read_pickle(\"df_17_0.001.pkl\")\n",
    "df18 = pd.read_pickle(\"df_18_0.001.pkl\")\n",
    "df19 = pd.read_pickle(\"df_19_0.001.pkl\")\n",
    "\n",
    "complete_df = [df1,df2,df3,df4,df5,df6,df7,df8,df9,df10,df11,df12,,df13,df14,df15,df16,df17,df18,df19]"
   ]
  },
  {
   "cell_type": "code",
   "execution_count": 3,
   "metadata": {},
   "outputs": [],
   "source": [
    "#each df pickle is a dataframe for a category\n",
    "#df_1_0.001 is category that sampling rate is 0.001 which has around several thousand reviews\n",
    "#Detailed which dataframe belongs to which category can check data_preparation\n",
    "#there also 0.01 rate which is much larger and I did not test it \n",
    "\n",
    "# All_data_df is the joined dataframe of all category data\n",
    "#all_data_df = df.read_pickle('all_data_df.pkl')"
   ]
  },
  {
   "cell_type": "code",
   "execution_count": 4,
   "metadata": {},
   "outputs": [],
   "source": [
    "df1 = pd.read_pickle(\"df_1_0.001.pkl\")\n",
    "df7 = pd.read_pickle(\"df_7_0.001.pkl\")\n",
    "df8 = pd.read_pickle(\"df_8_0.001.pkl\")\n",
    "df9 = pd.read_pickle(\"df_9_0.001.pkl\")\n",
    "df10 = pd.read_pickle(\"df_10_0.001.pkl\")\n",
    "df11 = pd.read_pickle(\"df_11_0.001.pkl\")\n",
    "df12 = pd.read_pickle(\"df_12_0.001.pkl\")\n",
    "df13 = pd.read_pickle(\"df_13_0.001.pkl\")\n",
    "df14 = pd.read_pickle(\"df_14_0.001.pkl\")\n",
    "df15 = pd.read_pickle(\"df_15_0.001.pkl\")\n",
    "df16 = pd.read_pickle(\"df_16_0.001.pkl\")\n",
    "df17 = pd.read_pickle(\"df_17_0.001.pkl\")\n",
    "df19 = pd.read_pickle(\"df_19_0.001.pkl\")\n",
    "frames  = [df1,df7,df8,df9,df10,df11,df12,df13,df14,df15,df16,df17,df19]\n",
    "all_data_df = pd.concat(frames)\n",
    "all_data_df.to_pickle('./all_data_df.pkl')"
   ]
  },
  {
   "cell_type": "code",
   "execution_count": 10,
   "metadata": {},
   "outputs": [],
   "source": [
    "# Convert to list\n",
    "data = all_data_df.reviewText.values.tolist()"
   ]
  },
  {
   "cell_type": "markdown",
   "metadata": {},
   "source": [
    "# Tokenize words and Clean-up text"
   ]
  },
  {
   "cell_type": "code",
   "execution_count": 11,
   "metadata": {},
   "outputs": [],
   "source": [
    "# NLTK Stop words\n",
    "#nltk.download('stopwords')\n",
    "stop_words = stopwords.words('english')\n",
    "stop_words.extend(['from', 'subject', 're', 'edu', 'use'])"
   ]
  },
  {
   "cell_type": "code",
   "execution_count": 12,
   "metadata": {},
   "outputs": [
    {
     "name": "stdout",
     "output_type": "stream",
     "text": [
      "[['this', 'game', 'has', 'all', 'the', 'elements', 'that', 'rpg', 'mecha', 'anime', 'lover', 'would', 'want', 'but', 'for', 'some', 'reason', 'just', 'could', 'not', 'get', 'in', 'to', 'it', 'bought', 'but', 'while', 'the', 'cut', 'scenes', 'were', 'pretty', 'the', 'mecha', 'battling', 'cool', 'found', 'myself', 'bored', 'stiff', 'by', 'the', 'story', 'line', 'am', 'so', 'sorry', 'feel', 'like', 'am', 'betraying', 'rpg', 'ers', 'and', 'anime', 'fans', 'everywhere', 'actually', 'did', 'not', 'get', 'through', 'the', 'game', 'set', 'it', 'down', 'and', 'started', 'playing', 'something', 'else', 'and', 'that', 'was', 'like', 'years', 'ago', 'or', 'something', 'and', 'have', 'still', 'not', 'played', 'it', 'or', 'the', 'second', 'one', 'shame', 'on', 'me', 'will', 'get', 'to', 'it', 'though', 'soon']]\n"
     ]
    }
   ],
   "source": [
    "def sent_to_words(sentences):\n",
    "    for sentence in sentences:\n",
    "        yield(gensim.utils.simple_preprocess(str(sentence), deacc=True))  \n",
    "        # deacc=True removes punctuations\n",
    "\n",
    "data_words = list(sent_to_words(data))\n",
    "print(data_words[:1])"
   ]
  },
  {
   "cell_type": "code",
   "execution_count": 16,
   "metadata": {},
   "outputs": [
    {
     "name": "stderr",
     "output_type": "stream",
     "text": [
      "C:\\Users\\Xiaomeng\\Anaconda3\\lib\\site-packages\\gensim\\models\\phrases.py:494: UserWarning: For a faster implementation, use the gensim.models.phrases.Phraser class\n",
      "  warnings.warn(\"For a faster implementation, use the gensim.models.phrases.Phraser class\")\n"
     ]
    },
    {
     "name": "stdout",
     "output_type": "stream",
     "text": [
      "['this', 'game', 'has', 'all', 'the', 'elements', 'that', 'rpg', 'mecha', 'anime', 'lover', 'would', 'want', 'but', 'for', 'some', 'reason', 'just', 'could', 'not', 'get', 'in', 'to', 'it', 'bought', 'but', 'while', 'the', 'cut_scenes', 'were', 'pretty', 'the', 'mecha', 'battling', 'cool', 'found', 'myself', 'bored', 'stiff', 'by', 'the', 'story', 'line', 'am', 'so', 'sorry', 'feel', 'like', 'am', 'betraying', 'rpg', 'ers', 'and', 'anime', 'fans', 'everywhere', 'actually', 'did', 'not', 'get', 'through', 'the', 'game', 'set', 'it', 'down', 'and', 'started', 'playing', 'something', 'else', 'and', 'that', 'was', 'like', 'years_ago', 'or', 'something', 'and', 'have', 'still', 'not', 'played', 'it', 'or', 'the', 'second', 'one', 'shame', 'on', 'me', 'will', 'get', 'to', 'it', 'though', 'soon']\n"
     ]
    }
   ],
   "source": [
    "# Build the bigram and trigram models\n",
    "bigram = gensim.models.Phrases(data_words, min_count=5, threshold=100) # higher threshold fewer phrases.\n",
    "trigram = gensim.models.Phrases(bigram[data_words], threshold=100)  \n",
    "\n",
    "# Faster way to get a sentence clubbed as a trigram/bigram\n",
    "bigram_mod = gensim.models.phrases.Phraser(bigram)\n",
    "trigram_mod = gensim.models.phrases.Phraser(trigram)\n",
    "\n",
    "# See trigram example\n",
    "print(trigram_mod[bigram_mod[data_words[0]]])"
   ]
  },
  {
   "cell_type": "code",
   "execution_count": 17,
   "metadata": {},
   "outputs": [],
   "source": [
    "# Define functions for stopwords, bigrams, trigrams and lemmatization\n",
    "def remove_stopwords(texts):\n",
    "    return [[word for word in simple_preprocess(str(doc)) if word not in stop_words] for doc in texts]\n",
    "\n",
    "def make_bigrams(texts):\n",
    "    return [bigram_mod[doc] for doc in texts]\n",
    "\n",
    "def make_trigrams(texts):\n",
    "    return [trigram_mod[bigram_mod[doc]] for doc in texts]\n",
    "\n",
    "def lemmatization(texts, allowed_postags=['NOUN', 'ADJ', 'VERB', 'ADV']):\n",
    "    \"\"\"https://spacy.io/api/annotation\"\"\"\n",
    "    texts_out = []\n",
    "    for sent in texts:\n",
    "        doc = nlp(\" \".join(sent)) \n",
    "        texts_out.append([token.lemma_ for token in doc if token.pos_ in allowed_postags])\n",
    "    return texts_out"
   ]
  },
  {
   "cell_type": "code",
   "execution_count": 20,
   "metadata": {},
   "outputs": [
    {
     "name": "stdout",
     "output_type": "stream",
     "text": [
      "[['game', 'element', 'rpg', 'mecha', 'anime', 'lover', 'would', 'want', 'reason', 'could', 'get', 'buy', 'cut_scene', 'pretty', 'mecha', 'battle', 'cool', 'find', 'bored', 'stiff', 'story', 'line', 'feel', 'betray', 'rpg', 'er', 'anime', 'fan', 'everywhere', 'actually', 'get', 'game', 'set', 'start', 'play', 'something', 'else', 'years_ago', 'something', 'still', 'play', 'second', 'shame', 'get', 'though', 'soon']]\n"
     ]
    }
   ],
   "source": [
    "# Remove Stop Words\n",
    "data_words_nostops = remove_stopwords(data_words)\n",
    "\n",
    "# Form Bigrams\n",
    "data_words_bigrams = make_bigrams(data_words_nostops)\n",
    "\n",
    "# Initialize spacy 'en' model, keeping only tagger component (for efficiency)\n",
    "# -m spacy download en\n",
    "import en_core_web_sm\n",
    "nlp = en_core_web_sm.load()\n",
    "\n",
    "#nlp = spacy.load()\n",
    "\n",
    "# Do lemmatization keeping only noun, adj, vb, adv\n",
    "data_lemmatized = lemmatization(data_words_bigrams, allowed_postags=['NOUN', 'ADJ', 'VERB', 'ADV'])\n",
    "\n",
    "print(data_lemmatized[:1])"
   ]
  },
  {
   "cell_type": "code",
   "execution_count": 12,
   "metadata": {},
   "outputs": [],
   "source": [
    "# save cleared data in to pickle\n",
    "f =open('data_lemmatized.pkl','wb')\n",
    "pickle.dump(data_lemmatized, f)\n",
    "f.close()"
   ]
  },
  {
   "cell_type": "code",
   "execution_count": 40,
   "metadata": {},
   "outputs": [
    {
     "name": "stdout",
     "output_type": "stream",
     "text": [
      "[[(0, 1), (1, 2), (2, 1), (3, 1), (4, 1), (5, 1), (6, 1), (7, 1), (8, 1), (9, 1), (10, 1), (11, 1), (12, 1), (13, 1), (14, 2), (15, 3), (16, 1), (17, 1), (18, 2), (19, 1), (20, 1), (21, 2), (22, 1), (23, 1), (24, 1), (25, 2), (26, 1), (27, 1), (28, 1), (29, 1), (30, 1), (31, 1), (32, 1), (33, 1), (34, 1)]]\n"
     ]
    }
   ],
   "source": [
    "# Create Dictionary\n",
    "id2word  = corpora.Dictionary(data_lemmatized)\n",
    "# Filter out word with frequency < 10 and max number of 10000\n",
    "id2word.filter_extremes(no_below=10, keep_n = 10000)\n",
    "# Create Corpus\n",
    "texts = data_lemmatized\n",
    "\n",
    "# Term Document Frequency\n",
    "corpus = [id2word.doc2bow(text) for text in texts]\n",
    "\n",
    "# View\n",
    "print(corpus[:1])"
   ]
  },
  {
   "cell_type": "code",
   "execution_count": 107,
   "metadata": {},
   "outputs": [
    {
     "name": "stdout",
     "output_type": "stream",
     "text": [
      "good\n",
      "get\n",
      "great\n",
      "work\n",
      "love\n",
      "buy\n",
      "product\n",
      "would\n",
      "make\n",
      "time\n",
      "use\n",
      "go\n",
      "well\n",
      "look\n",
      "really\n",
      "much\n",
      "take\n",
      "little\n",
      "come\n",
      "also\n",
      "price\n",
      "find\n",
      "try\n",
      "easy\n",
      "need\n",
      "even\n",
      "say\n",
      "first\n",
      "give\n",
      "think\n",
      "want\n",
      "phone\n",
      "purchase\n",
      "day\n",
      "see\n",
      "recommend\n",
      "put\n",
      "still\n",
      "case\n",
      "thing\n",
      "keep\n",
      "fit\n",
      "play\n",
      "feel\n",
      "way\n",
      "nice\n",
      "quality\n",
      "year\n",
      "could\n",
      "back\n"
     ]
    }
   ],
   "source": [
    "# get 50 most frequenct words\n",
    "most_freq_words_id_dct = {key: dct.dfs[key] for key in sorted(id2word.dfs, key=id2word .dfs.get, reverse=True)[:50]}\n",
    "most_freq_words_id_list = list(most_freq_words_id_dct.keys())\n",
    "for id in most_freq_words_id_list:\n",
    "    print(dct[id])"
   ]
  },
  {
   "cell_type": "code",
   "execution_count": 70,
   "metadata": {},
   "outputs": [
    {
     "data": {
      "text/plain": [
       "[[('actually', 1),\n",
       "  ('anime', 2),\n",
       "  ('battle', 1),\n",
       "  ('bored', 1),\n",
       "  ('buy', 1),\n",
       "  ('cool', 1),\n",
       "  ('could', 1),\n",
       "  ('cut_scene', 1),\n",
       "  ('element', 1),\n",
       "  ('else', 1),\n",
       "  ('everywhere', 1),\n",
       "  ('fan', 1),\n",
       "  ('feel', 1),\n",
       "  ('find', 1),\n",
       "  ('game', 2),\n",
       "  ('get', 3),\n",
       "  ('line', 1),\n",
       "  ('lover', 1),\n",
       "  ('play', 2),\n",
       "  ('pretty', 1),\n",
       "  ('reason', 1),\n",
       "  ('rpg', 2),\n",
       "  ('second', 1),\n",
       "  ('set', 1),\n",
       "  ('shame', 1),\n",
       "  ('something', 2),\n",
       "  ('soon', 1),\n",
       "  ('start', 1),\n",
       "  ('stiff', 1),\n",
       "  ('still', 1),\n",
       "  ('story', 1),\n",
       "  ('though', 1),\n",
       "  ('want', 1),\n",
       "  ('would', 1),\n",
       "  ('years_ago', 1)]]"
      ]
     },
     "execution_count": 70,
     "metadata": {},
     "output_type": "execute_result"
    }
   ],
   "source": [
    "# Human readable format of corpus (term-frequency)\n",
    "[[(id2word[id], freq) for id, freq in cp] for cp in corpus[:1]]"
   ]
  },
  {
   "cell_type": "markdown",
   "metadata": {},
   "source": [
    "# Build LDA"
   ]
  },
  {
   "cell_type": "code",
   "execution_count": 71,
   "metadata": {},
   "outputs": [
    {
     "name": "stdout",
     "output_type": "stream",
     "text": [
      "[[(18, 1), (21, 1), (33, 1), (62, 1), (67, 1), (101, 1), (194, 1), (296, 1), (324, 1), (484, 1), (619, 1), (693, 1), (862, 1), (1169, 1), (1190, 1)]]\n",
      "[[(19, 1), (101, 1), (111, 1), (137, 1), (438, 1), (729, 1), (1559, 1), (1678, 1), (2767, 1), (3711, 1)]]\n",
      "8623\n",
      "13725\n"
     ]
    }
   ],
   "source": [
    "from sklearn.model_selection import train_test_split\n",
    "\n",
    "corpus_index = [i for i in range(len(corpus))]\n",
    "\n",
    "train, test, train_index, test_index = train_test_split(corpus, corpus_index, test_size=0.33, random_state=42)\n",
    "print(train[:1])\n",
    "print(test[:1])\n",
    "print(train_index[0])\n",
    "print(test_index[0])"
   ]
  },
  {
   "cell_type": "code",
   "execution_count": 116,
   "metadata": {},
   "outputs": [],
   "source": [
    "# Build LDA model\n",
    "lda_model = gensim.models.ldamodel.LdaModel(corpus=train,\n",
    "                                           id2word=id2word,\n",
    "                                           num_topics=30, \n",
    "                                           random_state=100,\n",
    "                                           update_every=1,\n",
    "                                           chunksize=100,\n",
    "                                           passes=10,\n",
    "                                           alpha='auto',\n",
    "                                           per_word_topics=True)"
   ]
  },
  {
   "cell_type": "code",
   "execution_count": 73,
   "metadata": {},
   "outputs": [],
   "source": [
    "lda_model.save(\"lda_model_gensim\")"
   ]
  },
  {
   "cell_type": "code",
   "execution_count": 79,
   "metadata": {},
   "outputs": [
    {
     "data": {
      "text/plain": [
       "<gensim.models.ldamodel.LdaModel at 0x36804cc0>"
      ]
     },
     "execution_count": 79,
     "metadata": {},
     "output_type": "execute_result"
    }
   ],
   "source": [
    "lda_model"
   ]
  },
  {
   "cell_type": "code",
   "execution_count": 74,
   "metadata": {},
   "outputs": [
    {
     "name": "stdout",
     "output_type": "stream",
     "text": [
      "[(0,\n",
      "  '0.097*\"hair\" + 0.060*\"dry\" + 0.054*\"iphone\" + 0.042*\"thick\" + '\n",
      "  '0.035*\"chemical\" + 0.029*\"natural\" + 0.026*\"create\" + 0.021*\"season\" + '\n",
      "  '0.018*\"forever\" + 0.018*\"movement\"'),\n",
      " (1,\n",
      "  '0.148*\"get\" + 0.104*\"buy\" + 0.047*\"see\" + 0.042*\"keep\" + 0.037*\"thing\" + '\n",
      "  '0.036*\"want\" + 0.032*\"nice\" + 0.029*\"lot\" + 0.027*\"set\" + 0.024*\"enough\"'),\n",
      " (2,\n",
      "  '0.365*\"product\" + 0.075*\"money\" + 0.048*\"receive\" + 0.045*\"bag\" + '\n",
      "  '0.045*\"company\" + 0.042*\"taste\" + 0.033*\"anything\" + 0.030*\"eat\" + '\n",
      "  '0.023*\"christma\" + 0.014*\"supplier\"'),\n",
      " (3,\n",
      "  '0.102*\"sound\" + 0.087*\"help\" + 0.044*\"unit\" + 0.043*\"power\" + '\n",
      "  '0.038*\"switch\" + 0.036*\"provide\" + 0.030*\"available\" + 0.027*\"ear\" + '\n",
      "  '0.026*\"prefer\" + 0.024*\"professional\"'),\n",
      " (4,\n",
      "  '0.206*\"play\" + 0.090*\"fun\" + 0.085*\"cat\" + 0.061*\"nothing\" + 0.046*\"range\" '\n",
      "  '+ 0.038*\"other\" + 0.034*\"reason\" + 0.022*\"age\" + 0.022*\"house\" + '\n",
      "  '0.021*\"drive\"'),\n",
      " (5,\n",
      "  '0.102*\"box\" + 0.096*\"smell\" + 0.081*\"thank\" + 0.049*\"head\" + '\n",
      "  '0.044*\"exactly\" + 0.035*\"wonderful\" + 0.035*\"tea\" + 0.034*\"strong\" + '\n",
      "  '0.032*\"continue\" + 0.029*\"lovely\"'),\n",
      " (6,\n",
      "  '0.098*\"do\" + 0.072*\"ever\" + 0.050*\"else\" + 0.043*\"anyone\" + 0.037*\"track\" + '\n",
      "  '0.036*\"job\" + 0.034*\"ground\" + 0.033*\"someone\" + 0.030*\"sturdy\" + '\n",
      "  '0.029*\"probably\"'),\n",
      " (7,\n",
      "  '0.136*\"work\" + 0.029*\"less\" + 0.021*\"tell\" + 0.020*\"full\" + 0.017*\"fine\" + '\n",
      "  '0.014*\"result\" + 0.012*\"design\" + 0.012*\"stop\" + 0.011*\"front\" + '\n",
      "  '0.011*\"movie\"'),\n",
      " (8,\n",
      "  '0.078*\"say\" + 0.063*\"even\" + 0.050*\"pencil\" + 0.042*\"may\" + 0.037*\"review\" '\n",
      "  '+ 0.032*\"know\" + 0.029*\"bad\" + 0.029*\"watch\" + 0.029*\"something\" + '\n",
      "  '0.027*\"high\"'),\n",
      " (9,\n",
      "  '0.104*\"first\" + 0.077*\"purchase\" + 0.054*\"battery\" + 0.049*\"last\" + '\n",
      "  '0.048*\"charge\" + 0.044*\"week\" + 0.030*\"hour\" + 0.029*\"run\" + 0.028*\"extra\" '\n",
      "  '+ 0.026*\"pay\"'),\n",
      " (10,\n",
      "  '0.046*\"minute\" + 0.038*\"album\" + 0.036*\"version\" + 0.035*\"safe\" + '\n",
      "  '0.031*\"fresh\" + 0.030*\"ready\" + 0.028*\"base\" + 0.026*\"beat\" + 0.024*\"throw\" '\n",
      "  '+ 0.021*\"instal\"'),\n",
      " (11,\n",
      "  '0.074*\"make\" + 0.052*\"well\" + 0.052*\"little\" + 0.050*\"much\" + 0.042*\"also\" '\n",
      "  '+ 0.038*\"need\" + 0.035*\"quality\" + 0.026*\"seem\" + 0.026*\"fit\" + '\n",
      "  '0.025*\"put\"'),\n",
      " (12,\n",
      "  '0.125*\"new\" + 0.072*\"old\" + 0.059*\"break\" + 0.053*\"cheap\" + 0.045*\"care\" + '\n",
      "  '0.045*\"star\" + 0.036*\"lose\" + 0.036*\"system\" + 0.034*\"replace\" + '\n",
      "  '0.030*\"control\"'),\n",
      " (13,\n",
      "  '0.130*\"bit\" + 0.080*\"actually\" + 0.071*\"face\" + 0.052*\"button\" + '\n",
      "  '0.043*\"soap\" + 0.041*\"glad\" + 0.032*\"please\" + 0.028*\"volume\" + '\n",
      "  '0.027*\"plan\" + 0.024*\"tool\"'),\n",
      " (14,\n",
      "  '0.159*\"easy\" + 0.057*\"add\" + 0.043*\"second\" + 0.038*\"quickly\" + '\n",
      "  '0.035*\"save\" + 0.032*\"aware\" + 0.031*\"printer\" + 0.030*\"ship\" + '\n",
      "  '0.027*\"remove\" + 0.026*\"install\"'),\n",
      " (15,\n",
      "  '0.087*\"enjoy\" + 0.084*\"water\" + 0.076*\"song\" + 0.068*\"daughter\" + '\n",
      "  '0.037*\"art\" + 0.036*\"flavor\" + 0.032*\"favorite\" + 0.031*\"label\" + '\n",
      "  '0.029*\"tone\" + 0.023*\"become\"'),\n",
      " (16,\n",
      "  '0.096*\"food\" + 0.091*\"clean\" + 0.060*\"bottle\" + 0.048*\"wash\" + '\n",
      "  '0.039*\"wrong\" + 0.035*\"difference\" + 0.035*\"ingredient\" + 0.034*\"fix\" + '\n",
      "  '0.029*\"notice\" + 0.021*\"check\"'),\n",
      " (17,\n",
      "  '0.172*\"use\" + 0.070*\"order\" + 0.068*\"year\" + 0.055*\"right\" + 0.050*\"start\" '\n",
      "  '+ 0.049*\"never\" + 0.047*\"month\" + 0.039*\"different\" + 0.036*\"one\" + '\n",
      "  '0.035*\"far\"'),\n",
      " (18,\n",
      "  '0.066*\"cover\" + 0.049*\"piece\" + 0.045*\"part\" + 0.040*\"expensive\" + '\n",
      "  '0.031*\"sometimes\" + 0.029*\"already\" + 0.028*\"almost\" + 0.027*\"let\" + '\n",
      "  '0.026*\"mix\" + 0.026*\"drop\"'),\n",
      " (19,\n",
      "  '0.325*\"love\" + 0.064*\"toy\" + 0.048*\"light\" + 0.048*\"son\" + 0.037*\"package\" '\n",
      "  '+ 0.036*\"absolutely\" + 0.029*\"screen\" + 0.026*\"wait\" + 0.025*\"cup\" + '\n",
      "  '0.019*\"super\"'),\n",
      " (20,\n",
      "  '0.093*\"time\" + 0.079*\"go\" + 0.062*\"take\" + 0.055*\"try\" + 0.052*\"day\" + '\n",
      "  '0.049*\"feel\" + 0.043*\"give\" + 0.041*\"way\" + 0.033*\"long\" + 0.031*\"back\"'),\n",
      " (21,\n",
      "  '0.064*\"place\" + 0.058*\"issue\" + 0.051*\"open\" + 0.044*\"send\" + '\n",
      "  '0.039*\"perfectly\" + 0.039*\"include\" + 0.036*\"pack\" + 0.034*\"whole\" + '\n",
      "  '0.030*\"clear\" + 0.028*\"family\"'),\n",
      " (22,\n",
      "  '0.337*\"phone\" + 0.086*\"amazing\" + 0.059*\"card\" + 0.036*\"post\" + '\n",
      "  '0.035*\"effect\" + 0.027*\"apply\" + 0.021*\"previous\" + 0.019*\"rest\" + '\n",
      "  '0.019*\"mom\" + 0.016*\"properly\"'),\n",
      " (23,\n",
      "  '0.153*\"good\" + 0.142*\"great\" + 0.097*\"would\" + 0.082*\"really\" + '\n",
      "  '0.082*\"look\" + 0.045*\"think\" + 0.041*\"come\" + 0.038*\"still\" + '\n",
      "  '0.034*\"recommend\" + 0.023*\"perfect\"'),\n",
      " (24,\n",
      "  '0.278*\"game\" + 0.038*\"story\" + 0.025*\"red\" + 0.023*\"learn\" + 0.023*\"fan\" + '\n",
      "  '0.023*\"anyway\" + 0.021*\"player\" + 0.018*\"series\" + 0.018*\"cd\" + '\n",
      "  '0.015*\"morning\"'),\n",
      " (25,\n",
      "  '0.117*\"find\" + 0.108*\"price\" + 0.069*\"item\" + 0.052*\"amazon\" + '\n",
      "  '0.046*\"store\" + 0.045*\"kid\" + 0.041*\"pretty\" + 0.033*\"brand\" + 0.032*\"kind\" '\n",
      "  '+ 0.025*\"difficult\"'),\n",
      " (26,\n",
      "  '0.066*\"baby\" + 0.063*\"able\" + 0.046*\"must\" + 0.036*\"move\" + 0.035*\"point\" + '\n",
      "  '0.034*\"page\" + 0.032*\"coffee\" + 0.031*\"contain\" + 0.030*\"durable\" + '\n",
      "  '0.028*\"drink\"'),\n",
      " (27,\n",
      "  '0.165*\"not\" + 0.097*\"hand\" + 0.087*\"be\" + 0.075*\"can\" + 0.074*\"soft\" + '\n",
      "  '0.069*\"picture\" + 0.049*\"update\" + 0.029*\"description\" + 0.027*\"what\" + '\n",
      "  '0.027*\"mostly\"'),\n",
      " (28,\n",
      "  '0.242*\"case\" + 0.090*\"brush\" + 0.037*\"short\" + 0.035*\"protection\" + '\n",
      "  '0.027*\"pocket\" + 0.027*\"free\" + 0.024*\"rub\" + 0.022*\"cord\" + '\n",
      "  '0.021*\"crystal\" + 0.018*\"alive\"'),\n",
      " (29,\n",
      "  '0.119*\"color\" + 0.055*\"highly_recommend\" + 0.053*\"friend\" + 0.047*\"car\" + '\n",
      "  '0.038*\"deal\" + 0.037*\"paint\" + 0.030*\"child\" + 0.028*\"body\" + '\n",
      "  '0.027*\"painting\" + 0.027*\"usually\"')]\n"
     ]
    }
   ],
   "source": [
    "# Print the Keyword in the 10 topics\n",
    "pprint(lda_model.print_topics(30))\n",
    "doc_lda = lda_model[test]"
   ]
  },
  {
   "cell_type": "code",
   "execution_count": 75,
   "metadata": {},
   "outputs": [
    {
     "name": "stdout",
     "output_type": "stream",
     "text": [
      "\n",
      "Perplexity:  -7.272597412974476\n",
      "\n",
      "Coherence Score:  0.34346150750976806\n"
     ]
    }
   ],
   "source": [
    "# Compute Perplexity\n",
    "print('\\nPerplexity: ', lda_model_2.log_perplexity(corpus))  # a measure of how good the model is. lower the better.\n",
    "\n",
    "# Compute Coherence Score\n",
    "coherence_model_lda = CoherenceModel(model=lda_model_2, corpus=test,texts=data_lemmatized, dictionary=id2word, coherence='c_npmi')\n",
    "coherence_lda = coherence_model_lda.get_coherence()\n",
    "print('\\nCoherence Score: ', coherence_lda)"
   ]
  },
  {
   "cell_type": "code",
   "execution_count": 120,
   "metadata": {},
   "outputs": [
    {
     "name": "stdout",
     "output_type": "stream",
     "text": [
      "37.486752460257385\n"
     ]
    }
   ],
   "source": [
    "theta, _ = lda_model.inference(train)\n",
    "theta /= theta.sum(axis=1)[:, None]\n",
    "theta_df_train = pd.DataFrame(theta)\n",
    "\n",
    "theta, _ = lda_model.inference(test)\n",
    "theta /= theta.sum(axis=1)[:, None]\n",
    "theta_df_test = pd.DataFrame(theta)\n",
    "\n",
    "\n",
    "from sklearn import svm\n",
    "x = theta_df_train\n",
    "y = list(all_data_df.iloc[train_index]['category'])\n",
    "\n",
    "clf = svm.LinearSVC()\n",
    "clf.fit(x,y)\n",
    "result = clf.predict(theta_df_test)\n",
    "\n",
    "i = 0\n",
    "for y,y_pred in zip(all_data_df.iloc[test_index]['category'],result):\n",
    "    if y == y_pred:\n",
    "        i +=1\n",
    "        \n",
    "print(i/len(result)*100)"
   ]
  },
  {
   "cell_type": "code",
   "execution_count": null,
   "metadata": {},
   "outputs": [],
   "source": [
    "from sklearn.manifold import TSNE \n",
    "tsne = TSNE(n_components=2, perplexity=50)\n",
    "\n",
    "# TSNE is taking too long for bigger dataset\n",
    "#reduced_X = theta_df_test.sample(n=5000)\n",
    "tsne_data = tsne.fit_transform(theta_df_test)\n",
    "tsne_data = pd.DataFrame(tsne_data, columns=[\"dim1\", \"dim2\"])\n",
    "tsne_data.plot(\"dim1\", \"dim2\", kind=\"scatter\")"
   ]
  },
  {
   "cell_type": "markdown",
   "metadata": {},
   "source": [
    "# Visualization"
   ]
  },
  {
   "cell_type": "code",
   "execution_count": 81,
   "metadata": {
    "scrolled": false
   },
   "outputs": [
    {
     "name": "stderr",
     "output_type": "stream",
     "text": [
      "C:\\Users\\Xiaomeng\\Anaconda3\\lib\\site-packages\\pyLDAvis\\_prepare.py:257: FutureWarning: Sorting because non-concatenation axis is not aligned. A future version\n",
      "of pandas will change to not sort by default.\n",
      "\n",
      "To accept the future behavior, pass 'sort=False'.\n",
      "\n",
      "To retain the current behavior and silence the warning, pass 'sort=True'.\n",
      "\n",
      "  return pd.concat([default_term_info] + list(topic_dfs))\n"
     ]
    },
    {
     "data": {
      "text/html": [
       "\n",
       "<link rel=\"stylesheet\" type=\"text/css\" href=\"https://cdn.rawgit.com/bmabey/pyLDAvis/files/ldavis.v1.0.0.css\">\n",
       "\n",
       "\n",
       "<div id=\"ldavis_el71768745073846440019863\"></div>\n",
       "<script type=\"text/javascript\">\n",
       "\n",
       "var ldavis_el71768745073846440019863_data = {\"mdsDat\": {\"x\": [-36.22440719604492, 10.9636812210083, 87.90705108642578, 39.7939567565918, 17.347639083862305, 46.720340728759766, 15.140064239501953, -51.028812408447266, -2.2166991233825684, 62.58995056152344, 38.72959899902344, -23.71989631652832, 28.699098587036133, -27.869714736938477, -28.35409927368164, 47.04579162597656, -10.256013870239258, 56.96668243408203, -2.8139100074768066, -6.678843975067139, 19.364803314208984, 61.642879486083984, 82.96041870117188, -52.55321502685547, 72.59752655029297, 17.79865074157715, 42.34721755981445, -1.9904804229736328, -23.996980667114258, 20.3300724029541], \"y\": [36.93643569946289, -77.5841064453125, -2.540804862976074, -3.177314281463623, 63.431251525878906, -75.57414245605469, -34.98667907714844, 6.564119815826416, 25.40155029296875, 7.893165111541748, -28.77721405029297, 12.976330757141113, -54.799198150634766, -12.402508735656738, -41.13841247558594, 51.25816345214844, 51.03861618041992, -48.407814025878906, -0.774607241153717, -25.14183807373047, 11.504895210266113, -18.754135131835938, -36.959716796875, -26.684526443481445, 33.568016052246094, -12.368885040283203, 23.412281036376953, -52.25355529785156, -69.46286010742188, 36.81553649902344], \"topics\": [1, 2, 3, 4, 5, 6, 7, 8, 9, 10, 11, 12, 13, 14, 15, 16, 17, 18, 19, 20, 21, 22, 23, 24, 25, 26, 27, 28, 29, 30], \"cluster\": [1, 1, 1, 1, 1, 1, 1, 1, 1, 1, 1, 1, 1, 1, 1, 1, 1, 1, 1, 1, 1, 1, 1, 1, 1, 1, 1, 1, 1, 1], \"Freq\": [2.0376901626586914, 8.47797966003418, 2.560701608657837, 1.7984997034072876, 2.002963066101074, 1.6292426586151123, 1.9239673614501953, 6.184635162353516, 5.178499698638916, 4.171089172363281, 1.9525293111801147, 10.093363761901855, 2.5061020851135254, 1.4593266248703003, 2.4970812797546387, 1.8635809421539307, 1.7851392030715942, 3.975123643875122, 2.851729154586792, 2.7784409523010254, 7.795169830322266, 2.1272683143615723, 1.5767428874969482, 7.642727375030518, 2.3354032039642334, 3.4522340297698975, 2.0631444454193115, 1.114793062210083, 1.84304678440094, 2.321777582168579]}, \"tinfo\": {\"Category\": [\"Default\", \"Default\", \"Default\", \"Default\", \"Default\", \"Default\", \"Default\", \"Default\", \"Default\", \"Default\", \"Default\", \"Default\", \"Default\", \"Default\", \"Default\", \"Default\", \"Default\", \"Default\", \"Default\", \"Default\", \"Default\", \"Default\", \"Default\", \"Default\", \"Default\", \"Default\", \"Default\", \"Default\", \"Default\", \"Default\", \"Topic1\", \"Topic1\", \"Topic1\", \"Topic1\", \"Topic1\", \"Topic1\", \"Topic1\", \"Topic1\", \"Topic1\", \"Topic1\", \"Topic1\", \"Topic1\", \"Topic1\", \"Topic1\", \"Topic1\", \"Topic1\", \"Topic1\", \"Topic1\", \"Topic1\", \"Topic1\", \"Topic1\", \"Topic1\", \"Topic1\", \"Topic1\", \"Topic1\", \"Topic1\", \"Topic1\", \"Topic1\", \"Topic1\", \"Topic1\", \"Topic2\", \"Topic2\", \"Topic2\", \"Topic2\", \"Topic2\", \"Topic2\", \"Topic2\", \"Topic2\", \"Topic2\", \"Topic2\", \"Topic2\", \"Topic2\", \"Topic2\", \"Topic2\", \"Topic2\", \"Topic2\", \"Topic2\", \"Topic2\", \"Topic2\", \"Topic2\", \"Topic2\", \"Topic2\", \"Topic2\", \"Topic2\", \"Topic2\", \"Topic2\", \"Topic2\", \"Topic2\", \"Topic2\", \"Topic2\", \"Topic2\", \"Topic2\", \"Topic2\", \"Topic2\", \"Topic2\", \"Topic3\", \"Topic3\", \"Topic3\", \"Topic3\", \"Topic3\", \"Topic3\", \"Topic3\", \"Topic3\", \"Topic3\", \"Topic3\", \"Topic3\", \"Topic3\", \"Topic3\", \"Topic3\", \"Topic3\", \"Topic3\", \"Topic3\", \"Topic3\", \"Topic3\", \"Topic3\", \"Topic3\", \"Topic3\", \"Topic3\", \"Topic3\", \"Topic3\", \"Topic3\", \"Topic3\", \"Topic3\", \"Topic3\", \"Topic3\", \"Topic4\", \"Topic4\", \"Topic4\", \"Topic4\", \"Topic4\", \"Topic4\", \"Topic4\", \"Topic4\", \"Topic4\", \"Topic4\", \"Topic4\", \"Topic4\", \"Topic4\", \"Topic4\", \"Topic4\", \"Topic4\", \"Topic4\", \"Topic4\", \"Topic4\", \"Topic4\", \"Topic4\", \"Topic4\", \"Topic4\", \"Topic4\", \"Topic4\", \"Topic4\", \"Topic4\", \"Topic4\", \"Topic4\", \"Topic4\", \"Topic4\", \"Topic5\", \"Topic5\", \"Topic5\", \"Topic5\", \"Topic5\", \"Topic5\", \"Topic5\", \"Topic5\", \"Topic5\", \"Topic5\", \"Topic5\", \"Topic5\", \"Topic5\", \"Topic5\", \"Topic5\", \"Topic5\", \"Topic5\", \"Topic5\", \"Topic5\", \"Topic5\", \"Topic5\", \"Topic5\", \"Topic5\", \"Topic5\", \"Topic5\", \"Topic5\", \"Topic5\", \"Topic5\", \"Topic5\", \"Topic5\", \"Topic6\", \"Topic6\", \"Topic6\", \"Topic6\", \"Topic6\", \"Topic6\", \"Topic6\", \"Topic6\", \"Topic6\", \"Topic6\", \"Topic6\", \"Topic6\", \"Topic6\", \"Topic6\", \"Topic6\", \"Topic6\", \"Topic6\", \"Topic6\", \"Topic6\", \"Topic6\", \"Topic6\", \"Topic6\", \"Topic6\", \"Topic6\", \"Topic6\", \"Topic6\", \"Topic6\", \"Topic6\", \"Topic6\", \"Topic6\", \"Topic7\", \"Topic7\", \"Topic7\", \"Topic7\", \"Topic7\", \"Topic7\", \"Topic7\", \"Topic7\", \"Topic7\", \"Topic7\", \"Topic7\", \"Topic7\", \"Topic7\", \"Topic7\", \"Topic7\", \"Topic7\", \"Topic7\", \"Topic7\", \"Topic7\", \"Topic7\", \"Topic7\", \"Topic7\", \"Topic7\", \"Topic7\", \"Topic7\", \"Topic7\", \"Topic7\", \"Topic7\", \"Topic7\", \"Topic7\", \"Topic8\", \"Topic8\", \"Topic8\", \"Topic8\", \"Topic8\", \"Topic8\", \"Topic8\", \"Topic8\", \"Topic8\", \"Topic8\", \"Topic8\", \"Topic8\", \"Topic8\", \"Topic8\", \"Topic8\", \"Topic8\", \"Topic8\", \"Topic8\", \"Topic8\", \"Topic8\", \"Topic8\", \"Topic8\", \"Topic8\", \"Topic8\", \"Topic8\", \"Topic8\", \"Topic8\", \"Topic8\", \"Topic8\", \"Topic8\", \"Topic9\", \"Topic9\", \"Topic9\", \"Topic9\", \"Topic9\", \"Topic9\", \"Topic9\", \"Topic9\", \"Topic9\", \"Topic9\", \"Topic9\", \"Topic9\", \"Topic9\", \"Topic9\", \"Topic9\", \"Topic9\", \"Topic9\", \"Topic9\", \"Topic9\", \"Topic9\", \"Topic9\", \"Topic9\", \"Topic9\", \"Topic9\", \"Topic9\", \"Topic9\", \"Topic9\", \"Topic9\", \"Topic9\", \"Topic9\", \"Topic9\", \"Topic9\", \"Topic9\", \"Topic10\", \"Topic10\", \"Topic10\", \"Topic10\", \"Topic10\", \"Topic10\", \"Topic10\", \"Topic10\", \"Topic10\", \"Topic10\", \"Topic10\", \"Topic10\", \"Topic10\", \"Topic10\", \"Topic10\", \"Topic10\", \"Topic10\", \"Topic10\", \"Topic10\", \"Topic10\", \"Topic10\", \"Topic10\", \"Topic10\", \"Topic10\", \"Topic10\", \"Topic10\", \"Topic10\", \"Topic10\", \"Topic10\", \"Topic10\", \"Topic10\", \"Topic11\", \"Topic11\", \"Topic11\", \"Topic11\", \"Topic11\", \"Topic11\", \"Topic11\", \"Topic11\", \"Topic11\", \"Topic11\", \"Topic11\", \"Topic11\", \"Topic11\", \"Topic11\", \"Topic11\", \"Topic11\", \"Topic11\", \"Topic11\", \"Topic11\", \"Topic11\", \"Topic11\", \"Topic11\", \"Topic11\", \"Topic11\", \"Topic11\", \"Topic11\", \"Topic11\", \"Topic11\", \"Topic11\", \"Topic11\", \"Topic12\", \"Topic12\", \"Topic12\", \"Topic12\", \"Topic12\", \"Topic12\", \"Topic12\", \"Topic12\", \"Topic12\", \"Topic12\", \"Topic12\", \"Topic12\", \"Topic12\", \"Topic12\", \"Topic12\", \"Topic12\", \"Topic12\", \"Topic12\", \"Topic12\", \"Topic12\", \"Topic12\", \"Topic12\", \"Topic12\", \"Topic12\", \"Topic12\", \"Topic12\", \"Topic12\", \"Topic12\", \"Topic12\", \"Topic12\", \"Topic12\", \"Topic12\", \"Topic12\", \"Topic12\", \"Topic13\", \"Topic13\", \"Topic13\", \"Topic13\", \"Topic13\", \"Topic13\", \"Topic13\", \"Topic13\", \"Topic13\", \"Topic13\", \"Topic13\", \"Topic13\", \"Topic13\", \"Topic13\", \"Topic13\", \"Topic13\", \"Topic13\", \"Topic13\", \"Topic13\", \"Topic13\", \"Topic13\", \"Topic13\", \"Topic13\", \"Topic13\", \"Topic13\", \"Topic13\", \"Topic13\", \"Topic13\", \"Topic13\", \"Topic13\", \"Topic14\", \"Topic14\", \"Topic14\", \"Topic14\", \"Topic14\", \"Topic14\", \"Topic14\", \"Topic14\", \"Topic14\", \"Topic14\", \"Topic14\", \"Topic14\", \"Topic14\", \"Topic14\", \"Topic14\", \"Topic14\", \"Topic14\", \"Topic14\", \"Topic14\", \"Topic14\", \"Topic14\", \"Topic14\", \"Topic14\", \"Topic14\", \"Topic14\", \"Topic14\", \"Topic14\", \"Topic14\", \"Topic14\", \"Topic14\", \"Topic15\", \"Topic15\", \"Topic15\", \"Topic15\", \"Topic15\", \"Topic15\", \"Topic15\", \"Topic15\", \"Topic15\", \"Topic15\", \"Topic15\", \"Topic15\", \"Topic15\", \"Topic15\", \"Topic15\", \"Topic15\", \"Topic15\", \"Topic15\", \"Topic15\", \"Topic15\", \"Topic15\", \"Topic15\", \"Topic15\", \"Topic15\", \"Topic15\", \"Topic15\", \"Topic15\", \"Topic15\", \"Topic15\", \"Topic15\", \"Topic16\", \"Topic16\", \"Topic16\", \"Topic16\", \"Topic16\", \"Topic16\", \"Topic16\", \"Topic16\", \"Topic16\", \"Topic16\", \"Topic16\", \"Topic16\", \"Topic16\", \"Topic16\", \"Topic16\", \"Topic16\", \"Topic16\", \"Topic16\", \"Topic16\", \"Topic16\", \"Topic16\", \"Topic16\", \"Topic16\", \"Topic16\", \"Topic16\", \"Topic16\", \"Topic16\", \"Topic16\", \"Topic16\", \"Topic16\", \"Topic17\", \"Topic17\", \"Topic17\", \"Topic17\", \"Topic17\", \"Topic17\", \"Topic17\", \"Topic17\", \"Topic17\", \"Topic17\", \"Topic17\", \"Topic17\", \"Topic17\", \"Topic17\", \"Topic17\", \"Topic17\", \"Topic17\", \"Topic17\", \"Topic17\", \"Topic17\", \"Topic17\", \"Topic17\", \"Topic17\", \"Topic17\", \"Topic17\", \"Topic17\", \"Topic17\", \"Topic17\", \"Topic17\", \"Topic17\", \"Topic18\", \"Topic18\", \"Topic18\", \"Topic18\", \"Topic18\", \"Topic18\", \"Topic18\", \"Topic18\", \"Topic18\", \"Topic18\", \"Topic18\", \"Topic18\", \"Topic18\", \"Topic18\", \"Topic18\", \"Topic18\", \"Topic18\", \"Topic18\", \"Topic18\", \"Topic18\", \"Topic18\", \"Topic18\", \"Topic18\", \"Topic18\", \"Topic18\", \"Topic18\", \"Topic18\", \"Topic18\", \"Topic18\", \"Topic18\", \"Topic18\", \"Topic19\", \"Topic19\", \"Topic19\", \"Topic19\", \"Topic19\", \"Topic19\", \"Topic19\", \"Topic19\", \"Topic19\", \"Topic19\", \"Topic19\", \"Topic19\", \"Topic19\", \"Topic19\", \"Topic19\", \"Topic19\", \"Topic19\", \"Topic19\", \"Topic19\", \"Topic19\", \"Topic19\", \"Topic19\", \"Topic19\", \"Topic19\", \"Topic19\", \"Topic19\", \"Topic19\", \"Topic19\", \"Topic19\", \"Topic19\", \"Topic20\", \"Topic20\", \"Topic20\", \"Topic20\", \"Topic20\", \"Topic20\", \"Topic20\", \"Topic20\", \"Topic20\", \"Topic20\", \"Topic20\", \"Topic20\", \"Topic20\", \"Topic20\", \"Topic20\", \"Topic20\", \"Topic20\", \"Topic20\", \"Topic20\", \"Topic20\", \"Topic20\", \"Topic20\", \"Topic20\", \"Topic20\", \"Topic20\", \"Topic20\", \"Topic20\", \"Topic20\", \"Topic20\", \"Topic20\", \"Topic21\", \"Topic21\", \"Topic21\", \"Topic21\", \"Topic21\", \"Topic21\", \"Topic21\", \"Topic21\", \"Topic21\", \"Topic21\", \"Topic21\", \"Topic21\", \"Topic21\", \"Topic21\", \"Topic21\", \"Topic21\", \"Topic21\", \"Topic21\", \"Topic21\", \"Topic21\", \"Topic21\", \"Topic21\", \"Topic21\", \"Topic21\", \"Topic21\", \"Topic21\", \"Topic21\", \"Topic21\", \"Topic21\", \"Topic21\", \"Topic21\", \"Topic21\", \"Topic21\", \"Topic22\", \"Topic22\", \"Topic22\", \"Topic22\", \"Topic22\", \"Topic22\", \"Topic22\", \"Topic22\", \"Topic22\", \"Topic22\", \"Topic22\", \"Topic22\", \"Topic22\", \"Topic22\", \"Topic22\", \"Topic22\", \"Topic22\", \"Topic22\", \"Topic22\", \"Topic22\", \"Topic22\", \"Topic22\", \"Topic22\", \"Topic22\", \"Topic22\", \"Topic22\", \"Topic22\", \"Topic22\", \"Topic22\", \"Topic22\", \"Topic23\", \"Topic23\", \"Topic23\", \"Topic23\", \"Topic23\", \"Topic23\", \"Topic23\", \"Topic23\", \"Topic23\", \"Topic23\", \"Topic23\", \"Topic23\", \"Topic23\", \"Topic23\", \"Topic23\", \"Topic23\", \"Topic23\", \"Topic23\", \"Topic23\", \"Topic23\", \"Topic23\", \"Topic23\", \"Topic23\", \"Topic23\", \"Topic23\", \"Topic23\", \"Topic23\", \"Topic23\", \"Topic23\", \"Topic23\", \"Topic24\", \"Topic24\", \"Topic24\", \"Topic24\", \"Topic24\", \"Topic24\", \"Topic24\", \"Topic24\", \"Topic24\", \"Topic24\", \"Topic24\", \"Topic24\", \"Topic24\", \"Topic24\", \"Topic24\", \"Topic24\", \"Topic24\", \"Topic24\", \"Topic24\", \"Topic24\", \"Topic24\", \"Topic24\", \"Topic24\", \"Topic24\", \"Topic24\", \"Topic24\", \"Topic24\", \"Topic24\", \"Topic24\", \"Topic24\", \"Topic24\", \"Topic24\", \"Topic25\", \"Topic25\", \"Topic25\", \"Topic25\", \"Topic25\", \"Topic25\", \"Topic25\", \"Topic25\", \"Topic25\", \"Topic25\", \"Topic25\", \"Topic25\", \"Topic25\", \"Topic25\", \"Topic25\", \"Topic25\", \"Topic25\", \"Topic25\", \"Topic25\", \"Topic25\", \"Topic25\", \"Topic25\", \"Topic25\", \"Topic25\", \"Topic25\", \"Topic25\", \"Topic25\", \"Topic25\", \"Topic25\", \"Topic25\", \"Topic26\", \"Topic26\", \"Topic26\", \"Topic26\", \"Topic26\", \"Topic26\", \"Topic26\", \"Topic26\", \"Topic26\", \"Topic26\", \"Topic26\", \"Topic26\", \"Topic26\", \"Topic26\", \"Topic26\", \"Topic26\", \"Topic26\", \"Topic26\", \"Topic26\", \"Topic26\", \"Topic26\", \"Topic26\", \"Topic26\", \"Topic26\", \"Topic26\", \"Topic26\", \"Topic26\", \"Topic26\", \"Topic26\", \"Topic26\", \"Topic27\", \"Topic27\", \"Topic27\", \"Topic27\", \"Topic27\", \"Topic27\", \"Topic27\", \"Topic27\", \"Topic27\", \"Topic27\", \"Topic27\", \"Topic27\", \"Topic27\", \"Topic27\", \"Topic27\", \"Topic27\", \"Topic27\", \"Topic27\", \"Topic27\", \"Topic27\", \"Topic27\", \"Topic27\", \"Topic27\", \"Topic27\", \"Topic27\", \"Topic27\", \"Topic27\", \"Topic27\", \"Topic27\", \"Topic27\", \"Topic28\", \"Topic28\", \"Topic28\", \"Topic28\", \"Topic28\", \"Topic28\", \"Topic28\", \"Topic28\", \"Topic28\", \"Topic28\", \"Topic28\", \"Topic28\", \"Topic28\", \"Topic28\", \"Topic28\", \"Topic28\", \"Topic28\", \"Topic28\", \"Topic28\", \"Topic28\", \"Topic28\", \"Topic28\", \"Topic28\", \"Topic28\", \"Topic28\", \"Topic28\", \"Topic28\", \"Topic28\", \"Topic28\", \"Topic28\", \"Topic29\", \"Topic29\", \"Topic29\", \"Topic29\", \"Topic29\", \"Topic29\", \"Topic29\", \"Topic29\", \"Topic29\", \"Topic29\", \"Topic29\", \"Topic29\", \"Topic29\", \"Topic29\", \"Topic29\", \"Topic29\", \"Topic29\", \"Topic29\", \"Topic29\", \"Topic29\", \"Topic29\", \"Topic29\", \"Topic29\", \"Topic29\", \"Topic29\", \"Topic29\", \"Topic29\", \"Topic29\", \"Topic29\", \"Topic29\", \"Topic30\", \"Topic30\", \"Topic30\", \"Topic30\", \"Topic30\", \"Topic30\", \"Topic30\", \"Topic30\", \"Topic30\", \"Topic30\", \"Topic30\", \"Topic30\", \"Topic30\", \"Topic30\", \"Topic30\", \"Topic30\", \"Topic30\", \"Topic30\", \"Topic30\", \"Topic30\", \"Topic30\", \"Topic30\", \"Topic30\", \"Topic30\", \"Topic30\", \"Topic30\", \"Topic30\", \"Topic30\", \"Topic30\", \"Topic30\"], \"Freq\": [5434.0, 5246.0, 7313.0, 6813.0, 6317.0, 3770.0, 4884.0, 3978.0, 3086.0, 5144.0, 4306.0, 4231.0, 2590.0, 4358.0, 2398.0, 3654.0, 3642.0, 3579.0, 2306.0, 2520.0, 2344.0, 2170.0, 2797.0, 2344.0, 3024.0, 1825.0, 3494.0, 3011.0, 2508.0, 1602.0, 1145.616943359375, 715.3009033203125, 642.9327392578125, 502.4556884765625, 418.7672424316406, 342.4095458984375, 305.7469482421875, 252.50595092773438, 208.59036254882812, 208.53463745117188, 197.6439971923828, 194.27285766601562, 182.27395629882812, 179.35220336914062, 176.88546752929688, 173.56912231445312, 166.58335876464844, 164.55300903320312, 156.49356079101562, 147.7443084716797, 146.37216186523438, 142.6757049560547, 139.40628051757812, 137.5221405029297, 131.4605255126953, 122.55010223388672, 121.24383544921875, 116.39727783203125, 114.87291717529297, 109.24308013916016, 7311.775390625, 5142.68017578125, 2307.527587890625, 2093.372802734375, 1834.0213623046875, 1785.9454345703125, 1552.5850830078125, 1438.0760498046875, 1348.7686767578125, 1051.84228515625, 985.6220703125, 963.6436157226562, 954.57958984375, 767.1719970703125, 656.7799682617188, 611.01416015625, 576.22607421875, 561.0372314453125, 541.265869140625, 411.00433349609375, 408.7991027832031, 380.97357177734375, 378.9425048828125, 377.7016296386719, 370.8949890136719, 363.5489196777344, 331.7138671875, 329.4461669921875, 296.0010986328125, 290.8192443847656, 786.7717895507812, 1206.260498046875, 708.677001953125, 412.4219970703125, 451.1281433105469, 5432.6064453125, 1119.740478515625, 711.5919799804688, 675.5258178710938, 667.6203002929688, 628.6759643554688, 497.33013916015625, 444.92901611328125, 344.85845947265625, 205.79888916015625, 192.4143524169922, 178.00169372558594, 127.35636901855469, 123.45787811279297, 101.80462646484375, 101.30252838134766, 99.23194885253906, 97.32076263427734, 92.83363342285156, 88.60511016845703, 86.0308609008789, 83.21114349365234, 82.5201416015625, 78.29004669189453, 77.66098022460938, 72.22418212890625, 71.95146942138672, 68.50202178955078, 68.49479675292969, 66.63534545898438, 1065.7640380859375, 905.1415405273438, 462.5013122558594, 452.0556640625, 393.9713439941406, 373.461181640625, 308.71746826171875, 281.5663146972656, 274.2188415527344, 250.86080932617188, 247.09600830078125, 240.30897521972656, 234.77401733398438, 232.8717803955078, 218.10350036621094, 207.61990356445312, 197.39646911621094, 187.33587646484375, 186.83544921875, 156.42465209960938, 133.81072998046875, 123.63136291503906, 103.73780059814453, 98.2901382446289, 97.9702377319336, 91.6627426147461, 84.48011016845703, 82.93244171142578, 82.52867126464844, 73.6209487915039, 78.09326171875, 2396.773681640625, 1051.2437744140625, 984.8189086914062, 715.8126831054688, 535.1041870117188, 441.874755859375, 392.5654296875, 258.9333190917969, 257.8912353515625, 247.35235595703125, 218.81390380859375, 209.66062927246094, 176.52822875976562, 148.40325927734375, 147.92703247070312, 145.43145751953125, 129.3908233642578, 122.35376739501953, 113.46375274658203, 106.10771179199219, 91.80320739746094, 90.07797241210938, 84.68511962890625, 84.66848754882812, 83.70329284667969, 75.07675170898438, 74.34999084472656, 69.43498229980469, 69.41651916503906, 64.22730255126953, 970.3347778320312, 913.459228515625, 762.8380737304688, 463.3663024902344, 417.08306884765625, 332.9396667480469, 329.7768249511719, 320.1722106933594, 299.958251953125, 270.89825439453125, 235.1127166748047, 214.69940185546875, 209.85789489746094, 196.81350708007812, 190.5744171142578, 187.90753173828125, 163.23707580566406, 130.81967163085938, 130.0537109375, 126.99343872070312, 117.7353286743164, 105.90555572509766, 91.56133270263672, 78.59949493408203, 67.8108139038086, 66.65185546875, 65.43042755126953, 62.07052230834961, 61.68014907836914, 60.500938415527344, 1094.365234375, 799.8662719726562, 556.2899780273438, 477.0243225097656, 412.8053894042969, 404.6689453125, 376.9848327636719, 363.8367614746094, 336.6722106933594, 328.6278076171875, 257.38824462890625, 257.1612548828125, 249.69921875, 216.0478057861328, 214.9217987060547, 193.14515686035156, 187.72772216796875, 180.57960510253906, 170.85826110839844, 160.5108184814453, 147.52877807617188, 146.63917541503906, 124.3195571899414, 108.54279327392578, 100.46720886230469, 94.02599334716797, 89.47254180908203, 86.60773468017578, 84.90345764160156, 84.11473083496094, 4883.23681640625, 1027.787841796875, 741.9699096679688, 728.8687133789062, 626.300537109375, 509.65838623046875, 434.9151306152344, 420.482666015625, 401.7189636230469, 396.2248840332031, 389.008544921875, 381.3963317871094, 351.6694030761719, 348.245361328125, 341.7618713378906, 333.7774353027344, 332.8966369628906, 318.7595520019531, 311.4056701660156, 310.1046142578125, 289.2112121582031, 286.2724914550781, 286.00830078125, 274.86181640625, 273.1941833496094, 266.4587097167969, 263.2690734863281, 253.51617431640625, 243.90525817871094, 243.30899047851562, 2343.5390625, 1495.877197265625, 1118.067138671875, 884.8375244140625, 876.3883666992188, 863.1253051757812, 825.5512084960938, 798.22607421875, 797.5950927734375, 755.2801513671875, 743.3662109375, 705.1925048828125, 660.6524047851562, 483.4830017089844, 441.21533203125, 425.490966796875, 376.7999572753906, 366.76263427734375, 328.8326110839844, 326.455810546875, 320.2583923339844, 319.50543212890625, 268.0784912109375, 266.3514404296875, 205.43295288085938, 197.64895629882812, 196.74049377441406, 193.82366943359375, 193.00375366210938, 192.5419464111328, 1893.8294677734375, 1275.4010009765625, 971.5938110351562, 2519.236328125, 1863.7435302734375, 1297.883544921875, 1191.89599609375, 1173.3477783203125, 1058.15673828125, 724.1963500976562, 691.4544067382812, 672.9734497070312, 626.01025390625, 624.02392578125, 608.34912109375, 551.4909057617188, 539.3145751953125, 534.5662841796875, 514.4774780273438, 470.9020080566406, 373.9015197753906, 358.8425598144531, 334.4626770019531, 318.22845458984375, 310.2768859863281, 306.87493896484375, 260.5135498046875, 226.07177734375, 217.49935913085938, 198.28048706054688, 181.36097717285156, 163.01123046875, 156.80299377441406, 241.0934295654297, 526.7949829101562, 431.4075012207031, 412.0140686035156, 392.7507019042969, 352.12786865234375, 345.3817138671875, 318.0162353515625, 290.1064147949219, 267.251953125, 241.37344360351562, 239.93936157226562, 239.6742706298828, 230.0973358154297, 218.58377075195312, 212.78399658203125, 208.2183837890625, 206.7079315185547, 197.88343811035156, 194.8876190185547, 175.5466766357422, 168.48057556152344, 162.32220458984375, 157.41134643554688, 148.43516540527344, 144.11773681640625, 134.00091552734375, 132.7967071533203, 132.4385223388672, 132.20169067382812, 114.3584213256836, 4356.66748046875, 3023.3046875, 2440.2138671875, 2030.616943359375, 1553.8143310546875, 1497.8236083984375, 1483.303955078125, 1431.315185546875, 1285.6944580078125, 1165.22900390625, 1038.510986328125, 957.6975708007812, 939.7888793945312, 931.219482421875, 812.1004028320312, 808.97021484375, 788.0528564453125, 785.0462646484375, 751.8236083984375, 726.6307373046875, 707.9503784179688, 685.814208984375, 643.3630981445312, 593.4698486328125, 483.9613342285156, 473.7239685058594, 441.019287109375, 435.0247497558594, 433.709716796875, 368.610595703125, 2223.214599609375, 2952.591796875, 523.3584594726562, 3042.34130859375, 1824.1572265625, 1051.1590576171875, 851.9890747070312, 767.0328369140625, 655.5801391601562, 648.7484741210938, 525.5025024414062, 518.2542114257812, 493.394287109375, 444.1431884765625, 442.6486511230469, 354.8501892089844, 344.7630920410156, 279.1210021972656, 263.9073791503906, 256.82421875, 241.95468139648438, 237.95556640625, 211.42837524414062, 171.40460205078125, 167.7880096435547, 165.82681274414062, 160.9730987548828, 154.9738006591797, 147.79812622070312, 144.0518035888672, 139.42250061035156, 134.14471435546875, 129.27919006347656, 128.3881072998047, 1102.217529296875, 674.2980346679688, 604.638671875, 442.7829284667969, 361.0583190917969, 348.76171875, 269.1966552734375, 239.473876953125, 227.94960021972656, 201.53623962402344, 173.37460327148438, 151.21401977539062, 133.61700439453125, 133.302490234375, 123.84049224853516, 118.93698120117188, 113.02397918701172, 111.13929748535156, 108.27591705322266, 99.86837768554688, 90.4500961303711, 83.58865356445312, 75.5681381225586, 74.26216125488281, 71.7412109375, 69.51828002929688, 67.84247589111328, 64.8845443725586, 56.90693283081055, 56.32193374633789, 2305.15185546875, 830.5863037109375, 626.1292724609375, 545.9193725585938, 503.77099609375, 470.1371765136719, 451.1007080078125, 439.3787841796875, 387.7657165527344, 377.6748352050781, 334.3072509765625, 286.1222229003906, 269.1287536621094, 249.5492706298828, 245.26840209960938, 240.6072998046875, 224.0874786376953, 209.17544555664062, 191.95318603515625, 184.79583740234375, 181.70140075683594, 161.52499389648438, 139.65440368652344, 130.92196655273438, 130.8433380126953, 117.454833984375, 116.18199157714844, 109.64151763916016, 106.67889404296875, 104.3173828125, 937.4191284179688, 908.095458984375, 817.8477172851562, 739.59033203125, 405.0315246582031, 393.0556335449219, 347.6561279296875, 331.73193359375, 311.4522705078125, 248.41041564941406, 193.3031768798828, 191.55384826660156, 188.9122772216797, 177.5075225830078, 173.5425262451172, 143.83505249023438, 131.914794921875, 128.2017059326172, 121.00762176513672, 112.20730590820312, 108.61178588867188, 107.77183532714844, 101.62158203125, 91.16363525390625, 86.91060638427734, 85.30535888671875, 84.982666015625, 76.51616668701172, 72.84199523925781, 70.67285919189453, 991.7853393554688, 944.7913208007812, 620.930419921875, 493.4141845703125, 408.4057922363281, 367.047607421875, 362.6879577636719, 357.56134033203125, 299.1628112792969, 216.8968048095703, 212.46536254882812, 182.9000244140625, 179.27542114257812, 172.67079162597656, 155.33544921875, 152.10887145996094, 143.04444885253906, 136.25067138671875, 120.99469757080078, 119.51797485351562, 119.44754791259766, 117.64093780517578, 112.2027359008789, 111.4703598022461, 111.31686401367188, 109.25159454345703, 97.3049087524414, 87.6457290649414, 87.0263900756836, 83.40000915527344, 3976.894287109375, 1620.0357666015625, 1560.2239990234375, 1162.8541259765625, 1141.443115234375, 1094.864990234375, 902.0748291015625, 842.4595947265625, 809.3876953125, 548.615966796875, 482.37542724609375, 440.8416442871094, 400.08209228515625, 295.2689514160156, 293.1816101074219, 284.0373229980469, 268.88958740234375, 265.3742980957031, 258.9626159667969, 258.8547058105469, 258.1398620605469, 222.75733947753906, 221.43006896972656, 207.62074279785156, 145.22021484375, 138.35385131835938, 126.9836654663086, 120.55640411376953, 105.77725219726562, 99.13963317871094, 1268.265869140625, 1096.48876953125, 816.8881225585938, 744.4949951171875, 664.6312866210938, 515.8097534179688, 480.35943603515625, 471.9149169921875, 446.9632263183594, 427.0042419433594, 426.1392822265625, 419.6280517578125, 409.9350891113281, 403.0281982421875, 360.3653564453125, 314.41131591796875, 285.05242919921875, 271.4620056152344, 271.46368408203125, 271.1877136230469, 262.0570068359375, 258.85919189453125, 248.3882598876953, 239.76321411132812, 227.57342529296875, 217.91966247558594, 215.5816192626953, 214.125244140625, 205.14617919921875, 189.5584716796875, 187.3115692138672, 5244.7939453125, 1039.5716552734375, 779.7202758789062, 772.5404663085938, 602.2048950195312, 577.1287231445312, 462.1095275878906, 423.8934326171875, 401.11688232421875, 300.4364318847656, 293.4026794433594, 289.64141845703125, 266.74090576171875, 260.4341735839844, 222.82040405273438, 206.26144409179688, 198.64886474609375, 177.65484619140625, 176.34889221191406, 165.22987365722656, 159.83660888671875, 150.00221252441406, 128.41311645507812, 114.2236328125, 114.1177749633789, 107.31282806396484, 105.43283081054688, 104.20184326171875, 79.99559020996094, 75.40126037597656, 4229.99169921875, 3578.44140625, 2796.181884765625, 2507.146240234375, 2338.7978515625, 2220.675048828125, 1875.4066162109375, 1479.3814697265625, 1297.43359375, 1142.9129638671875, 786.1629028320312, 665.2084350585938, 663.1119995117188, 591.2119140625, 589.9398803710938, 553.407470703125, 548.718505859375, 498.94354248046875, 496.1205749511719, 453.0033874511719, 414.8753967285156, 404.5683898925781, 379.4682922363281, 368.1747741699219, 353.4126892089844, 339.0344543457031, 328.24267578125, 292.95953369140625, 258.6487121582031, 241.08602905273438, 1966.0401611328125, 1410.3021240234375, 1040.2718505859375, 795.3582153320312, 721.459228515625, 632.5679931640625, 544.1776123046875, 486.5871276855469, 478.4013366699219, 447.1761169433594, 423.8575744628906, 375.60858154296875, 347.5748291015625, 327.7607421875, 308.96551513671875, 286.13397216796875, 273.5088806152344, 264.02960205078125, 256.81744384765625, 217.1191864013672, 214.3646697998047, 204.8541259765625, 201.29806518554688, 188.6112060546875, 186.91575622558594, 178.82546997070312, 171.2342071533203, 149.35182189941406, 134.25396728515625, 131.9925537109375, 125.33868408203125, 115.00852966308594, 112.02377319335938, 3084.813232421875, 789.2420043945312, 539.1162109375, 329.78662109375, 320.1488037109375, 249.6183319091797, 188.15481567382812, 178.14764404296875, 170.02175903320312, 146.76731872558594, 137.1629638671875, 135.8512420654297, 119.83543395996094, 109.59286499023438, 107.57273864746094, 106.88964080810547, 91.374267578125, 83.3370132446289, 76.17958068847656, 72.91423034667969, 71.15001678466797, 67.1196060180664, 63.38614273071289, 60.08049774169922, 58.94997787475586, 57.590370178222656, 57.32050323486328, 56.147544860839844, 53.54794692993164, 52.6038703918457, 6812.44873046875, 6316.330078125, 4304.80712890625, 3653.529296875, 3640.873291015625, 1517.2249755859375, 1010.6439819335938, 950.2000122070312, 793.0556640625, 512.0809326171875, 470.00177001953125, 453.60137939453125, 423.2773742675781, 394.4222106933594, 334.9405517578125, 331.8662414550781, 317.7439270019531, 308.5300598144531, 282.5337829589844, 242.83853149414062, 238.54737854003906, 224.4584197998047, 2015.1859130859375, 202.13470458984375, 200.1559600830078, 196.4614715576172, 195.00241088867188, 193.74176025390625, 178.71041870117188, 173.39964294433594, 1684.008056640625, 1820.6959228515625, 3769.416015625, 515.4993286132812, 344.96832275390625, 318.46051025390625, 316.3730773925781, 310.3278503417969, 281.00689697265625, 243.1865692138672, 240.91458129882812, 199.79632568359375, 188.99081420898438, 186.78736877441406, 182.7525634765625, 175.9515838623047, 175.05860900878906, 167.24835205078125, 164.60362243652344, 157.70933532714844, 155.67889404296875, 140.28053283691406, 137.28416442871094, 123.28646087646484, 121.88583374023438, 121.5730209350586, 116.51709747314453, 112.28580474853516, 96.25537872314453, 85.9564437866211, 85.93484497070312, 84.61717987060547, 2342.741455078125, 2169.32861328125, 1383.9832763671875, 1051.1861572265625, 921.9285888671875, 900.66650390625, 813.3670654296875, 667.890625, 650.5336303710938, 501.4474792480469, 492.9563293457031, 402.8939514160156, 378.9156799316406, 357.26629638671875, 342.3685607910156, 250.01585388183594, 247.6522979736328, 244.89552307128906, 224.77474975585938, 217.6739959716797, 210.63446044921875, 191.06272888183594, 185.7799072265625, 156.93861389160156, 155.8372039794922, 151.83277893066406, 132.31350708007812, 131.82908630371094, 124.58263397216797, 110.26466369628906, 792.3712158203125, 754.8603515625, 548.5369262695312, 435.61529541015625, 414.26971435546875, 403.7908020019531, 387.0831604003906, 367.575927734375, 354.7325439453125, 335.48602294921875, 290.8932189941406, 289.9068298339844, 276.77337646484375, 226.02767944335938, 225.0421600341797, 215.0149383544922, 202.11900329589844, 169.50636291503906, 158.54856872558594, 150.09542846679688, 137.6448516845703, 135.14163208007812, 120.03616333007812, 113.7974624633789, 110.1396713256836, 99.02040100097656, 97.5152359008789, 95.4488525390625, 92.2300796508789, 91.2043228149414, 1072.0777587890625, 627.4932250976562, 564.915283203125, 485.5115966796875, 481.499755859375, 447.4505615234375, 317.2634582519531, 188.66664123535156, 177.666259765625, 172.90127563476562, 166.12416076660156, 114.45000457763672, 91.107666015625, 88.04979705810547, 84.52271270751953, 71.07669067382812, 65.38471221923828, 64.07212829589844, 59.64324951171875, 56.12185287475586, 52.46012878417969, 45.57979965209961, 44.34775161743164, 41.9758186340332, 38.72273635864258, 35.56228256225586, 35.20906448364258, 33.77959060668945, 31.710800170898438, 23.180492401123047, 2589.55712890625, 963.2771606445312, 397.860595703125, 374.7891845703125, 292.88818359375, 290.1323547363281, 256.6697082519531, 235.41209411621094, 228.9371795654297, 188.52340698242188, 178.10418701171875, 172.79885864257812, 157.59913635253906, 155.79444885253906, 145.0177764892578, 142.75355529785156, 138.2343292236328, 135.50685119628906, 133.97511291503906, 125.61217498779297, 124.8729248046875, 117.6164321899414, 100.61141967773438, 100.48452758789062, 90.44246673583984, 84.32565307617188, 83.57709503173828, 79.86534118652344, 76.22285461425781, 73.26134490966797, 1601.428466796875, 738.98583984375, 708.8671875, 628.9564819335938, 510.770263671875, 494.62994384765625, 400.448486328125, 378.2624206542969, 362.5642395019531, 361.1046142578125, 290.1227111816406, 283.08953857421875, 279.0186767578125, 269.3073425292969, 206.82989501953125, 203.16995239257812, 187.44725036621094, 163.0236358642578, 154.1656494140625, 141.31817626953125, 138.66627502441406, 137.5377197265625, 136.3104705810547, 134.70440673828125, 134.70281982421875, 132.87612915039062, 122.47904205322266, 114.97810363769531, 113.24641418457031, 109.77111053466797], \"Term\": [\"product\", \"love\", \"get\", \"good\", \"great\", \"game\", \"work\", \"use\", \"phone\", \"buy\", \"would\", \"time\", \"case\", \"make\", \"play\", \"really\", \"look\", \"go\", \"easy\", \"first\", \"find\", \"price\", \"take\", \"say\", \"little\", \"new\", \"well\", \"much\", \"try\", \"color\", \"hair\", \"dry\", \"iphone\", \"thick\", \"chemical\", \"natural\", \"create\", \"season\", \"forever\", \"movement\", \"research\", \"evening\", \"neck\", \"sweet\", \"online\", \"healthy\", \"cold\", \"past\", \"energy\", \"cookie\", \"main\", \"shampoo\", \"delicious\", \"bath\", \"desk\", \"sugar\", \"heat\", \"meal\", \"curl\", \"strip\", \"get\", \"buy\", \"see\", \"keep\", \"thing\", \"want\", \"nice\", \"lot\", \"set\", \"worth\", \"however\", \"happy\", \"big\", \"arrive\", \"year_old\", \"like\", \"excellent\", \"return\", \"music\", \"low\", \"away\", \"husband\", \"especially\", \"stand\", \"build\", \"disappointed\", \"seat\", \"value\", \"live\", \"pick\", \"always\", \"enough\", \"come\", \"easily\", \"well\", \"product\", \"money\", \"receive\", \"bag\", \"company\", \"taste\", \"anything\", \"eat\", \"christma\", \"supplier\", \"tin\", \"poor\", \"terrible\", \"supplement\", \"roast\", \"bolt\", \"copy\", \"filter\", \"disc\", \"business\", \"desire\", \"block\", \"shell\", \"tasty\", \"organic\", \"response\", \"side_effect\", \"vehicle\", \"football\", \"purchasing\", \"sound\", \"help\", \"unit\", \"power\", \"switch\", \"provide\", \"available\", \"ear\", \"prefer\", \"professional\", \"headset\", \"compact\", \"comfortable\", \"glass\", \"multiple\", \"silver\", \"crowd\", \"verizon\", \"condition\", \"keyboard\", \"adapter\", \"tiny\", \"variety\", \"bluetooth\", \"shock\", \"correct\", \"lightweight\", \"setup\", \"technology\", \"visit\", \"pro\", \"play\", \"fun\", \"cat\", \"nothing\", \"range\", \"other\", \"reason\", \"age\", \"house\", \"drive\", \"service\", \"slide\", \"xbox\", \"rip\", \"controller\", \"shop\", \"shoe\", \"wind\", \"share\", \"solve\", \"hurt\", \"mic\", \"master\", \"sharp\", \"email\", \"site\", \"actual\", \"obvious\", \"blast\", \"team\", \"box\", \"smell\", \"thank\", \"head\", \"exactly\", \"wonderful\", \"tea\", \"strong\", \"continue\", \"lovely\", \"trouble\", \"shine\", \"chicken\", \"describe\", \"harmful\", \"book\", \"tear\", \"process\", \"door\", \"green\", \"mother\", \"refund\", \"nut\", \"appetite\", \"sadly\", \"direct\", \"struggle\", \"squeeze\", \"sensitive_skin\", \"treatment\", \"do\", \"ever\", \"else\", \"anyone\", \"track\", \"job\", \"ground\", \"someone\", \"sturdy\", \"probably\", \"guy\", \"jump\", \"hot\", \"lift\", \"intense\", \"bl\", \"hook\", \"thoroughly\", \"bling\", \"perform\", \"likely\", \"addition\", \"classic\", \"chip\", \"regard\", \"incredibly\", \"fake\", \"basically\", \"powerful\", \"opening\", \"work\", \"less\", \"tell\", \"full\", \"fine\", \"result\", \"design\", \"stop\", \"front\", \"movie\", \"figure\", \"interesting\", \"chocolate\", \"bring\", \"slight\", \"mind\", \"deliver\", \"camera\", \"image\", \"person\", \"suppose\", \"pull\", \"allow\", \"handle\", \"film\", \"pleasant\", \"single\", \"razor\", \"lol\", \"follow\", \"say\", \"pencil\", \"review\", \"bad\", \"watch\", \"something\", \"high\", \"quite\", \"people\", \"line\", \"end\", \"turn\", \"change\", \"read\", \"spend\", \"believe\", \"couple\", \"halo\", \"sharpen\", \"today\", \"character\", \"write\", \"surprise\", \"mean\", \"ask\", \"certainly\", \"automatic\", \"action\", \"fly\", \"carrier\", \"even\", \"may\", \"know\", \"first\", \"purchase\", \"battery\", \"last\", \"charge\", \"week\", \"hour\", \"run\", \"extra\", \"pay\", \"several\", \"gift\", \"shipping\", \"fast\", \"charger\", \"experience\", \"plug\", \"compare\", \"life\", \"cost\", \"seller\", \"device\", \"travel\", \"name\", \"wall\", \"enjoyment\", \"cable\", \"usb\", \"buck\", \"complete\", \"least\", \"minute\", \"album\", \"version\", \"safe\", \"fresh\", \"ready\", \"base\", \"beat\", \"throw\", \"instal\", \"mine\", \"direction\", \"release\", \"fabulous\", \"annoying\", \"computer\", \"sell\", \"walker\", \"crown\", \"tape\", \"wire\", \"funny\", \"window\", \"third\", \"user\", \"total\", \"noise\", \"basic\", \"date\", \"audio\", \"make\", \"little\", \"also\", \"quality\", \"seem\", \"fit\", \"put\", \"problem\", \"small\", \"plastic\", \"sure\", \"expect\", \"side\", \"hard\", \"top\", \"together\", \"size\", \"dog\", \"hold\", \"overall\", \"better\", \"stay\", \"large\", \"material\", \"cut\", \"draw\", \"class\", \"print\", \"complaint\", \"close\", \"need\", \"much\", \"fact\", \"well\", \"new\", \"old\", \"break\", \"cheap\", \"care\", \"star\", \"lose\", \"system\", \"replace\", \"control\", \"call\", \"guitar\", \"cute\", \"begin\", \"holder\", \"finally\", \"foot\", \"key\", \"fence\", \"tune\", \"string\", \"immediately\", \"perfume\", \"horrible\", \"because\", \"office\", \"headphone\", \"sale\", \"constantly\", \"forget\", \"bit\", \"actually\", \"face\", \"button\", \"soap\", \"glad\", \"please\", \"volume\", \"plan\", \"tool\", \"mess\", \"pre\", \"obviously\", \"nephew\", \"purse\", \"generally\", \"powder\", \"yellow\", \"message\", \"average\", \"tablet\", \"cook\", \"cereal\", \"frequently\", \"facial\", \"five_star\", \"risk\", \"tech\", \"glow\", \"access\", \"easy\", \"add\", \"second\", \"quickly\", \"save\", \"aware\", \"printer\", \"ship\", \"remove\", \"install\", \"wet\", \"completely\", \"ride\", \"pet\", \"significant\", \"photo\", \"ink\", \"strap\", \"air\", \"puzzle\", \"gate\", \"worry\", \"space\", \"cartridge\", \"canon\", \"secure\", \"pillow\", \"feed\", \"clearly\", \"mask\", \"enjoy\", \"water\", \"song\", \"daughter\", \"art\", \"flavor\", \"favorite\", \"label\", \"tone\", \"become\", \"dip\", \"listen\", \"slow\", \"young\", \"frustrated\", \"birthday\", \"snack\", \"ne\", \"portable\", \"unique\", \"barely\", \"pepper\", \"challenge\", \"granddaughter\", \"salt\", \"die\", \"fruit\", \"juice\", \"satisfy\", \"study\", \"food\", \"clean\", \"bottle\", \"wash\", \"wrong\", \"difference\", \"ingredient\", \"fix\", \"notice\", \"check\", \"straight\", \"fill\", \"vet\", \"container\", \"choice\", \"girl\", \"bite\", \"doll\", \"expectation\", \"aspect\", \"diet\", \"fabric\", \"leak\", \"depend\", \"fragrance\", \"meet\", \"highly\", \"rinse\", \"impress\", \"lip\", \"use\", \"order\", \"year\", \"start\", \"never\", \"month\", \"different\", \"one\", \"far\", \"feature\", \"graphic\", \"real\", \"yet\", \"everyone\", \"hope\", \"ago\", \"trust\", \"sun\", \"soon\", \"miss\", \"mode\", \"recently\", \"vibrant\", \"adjust\", \"compliment\", \"spot\", \"develop\", \"thus\", \"formula\", \"blend\", \"right\", \"cover\", \"piece\", \"part\", \"expensive\", \"sometimes\", \"already\", \"almost\", \"let\", \"mix\", \"drop\", \"offer\", \"sit\", \"protect\", \"amount\", \"lie\", \"happen\", \"kit\", \"number\", \"bottom\", \"otherwise\", \"sleep\", \"experiment\", \"scratch\", \"true\", \"consider\", \"list\", \"manufacturer\", \"own\", \"arm\", \"special\", \"love\", \"toy\", \"light\", \"son\", \"package\", \"absolutely\", \"screen\", \"wait\", \"cup\", \"super\", \"ton\", \"carry\", \"crazy\", \"blue\", \"typical\", \"style\", \"dishwasher\", \"pill\", \"sandbox\", \"appear\", \"chew\", \"scale\", \"accurate\", \"train\", \"party\", \"litter\", \"mouth\", \"kitchen\", \"bathroom\", \"ounce\", \"time\", \"go\", \"take\", \"try\", \"day\", \"feel\", \"way\", \"long\", \"skin\", \"many\", \"leave\", \"hear\", \"night\", \"stuff\", \"area\", \"everything\", \"maybe\", \"snap\", \"home\", \"type\", \"next\", \"eye\", \"instead\", \"talk\", \"guess\", \"smooth\", \"hit\", \"truly\", \"s\", \"huge\", \"give\", \"back\", \"could\", \"place\", \"issue\", \"open\", \"send\", \"perfectly\", \"include\", \"pack\", \"whole\", \"clear\", \"family\", \"replacement\", \"edge\", \"pouch\", \"screen_protector\", \"pop\", \"often\", \"transform\", \"choose\", \"acrylic\", \"nicely\", \"cap\", \"touch\", \"disappoint\", \"pressure\", \"popcorn\", \"suggest\", \"helpful\", \"flip\", \"alternative\", \"tough\", \"phone\", \"amazing\", \"card\", \"post\", \"effect\", \"apply\", \"previous\", \"rest\", \"mom\", \"properly\", \"complain\", \"wonder\", \"dock\", \"trim\", \"port\", \"uncomfortable\", \"belt\", \"thumb\", \"flow\", \"bike\", \"milk\", \"dust\", \"slot\", \"reward\", \"comfort\", \"sim\", \"amazed\", \"shade\", \"guarantee\", \"gps\", \"good\", \"great\", \"would\", \"really\", \"look\", \"recommend\", \"perfect\", \"show\", \"definitely\", \"wear\", \"wish\", \"awesome\", \"cool\", \"white\", \"tip\", \"black\", \"longer\", \"artist\", \"scent\", \"adore\", \"entire\", \"treat\", \"think\", \"tube\", \"dark\", \"grow\", \"tooth\", \"bright\", \"bowl\", \"machine\", \"still\", \"come\", \"game\", \"story\", \"red\", \"learn\", \"fan\", \"anyway\", \"player\", \"series\", \"cd\", \"morning\", \"walk\", \"fantastic\", \"explore\", \"definately\", \"gem\", \"leopard\", \"glitch\", \"cell\", \"perk\", \"adult\", \"mini\", \"kill\", \"wii\", \"gameplay\", \"shoot\", \"gaming\", \"suck\", \"bake\", \"group\", \"city\", \"find\", \"price\", \"item\", \"amazon\", \"store\", \"kid\", \"pretty\", \"brand\", \"kind\", \"difficult\", \"fall\", \"decide\", \"note\", \"waste\", \"oil\", \"flimsy\", \"boy\", \"similar\", \"local\", \"totally\", \"plenty\", \"opinion\", \"finish\", \"website\", \"handy\", \"apart\", \"lemon\", \"glove\", \"vitamin\", \"pass\", \"baby\", \"able\", \"must\", \"move\", \"point\", \"page\", \"coffee\", \"contain\", \"durable\", \"drink\", \"wife\", \"beautiful\", \"extremely\", \"word\", \"pleased\", \"world\", \"toxic\", \"purpose\", \"useful\", \"leaf\", \"serve\", \"important\", \"previously\", \"detail\", \"click\", \"junk\", \"record\", \"text\", \"difficulty\", \"rarely\", \"not\", \"hand\", \"be\", \"can\", \"soft\", \"picture\", \"update\", \"description\", \"what\", \"mostly\", \"grandson\", \"warm\", \"toothbrush\", \"directly\", \"symptom\", \"angle\", \"link\", \"intend\", \"construct\", \"shame\", \"muscle\", \"beach\", \"edit\", \"soooo\", \"factor\", \"pokemon\", \"flower\", \"belly\", \"heavy_duty\", \"discard\", \"case\", \"brush\", \"short\", \"protection\", \"pocket\", \"free\", \"rub\", \"cord\", \"crystal\", \"alive\", \"sparkle\", \"bulky\", \"slip\", \"inch\", \"gel\", \"application\", \"pen\", \"lack\", \"rubber\", \"normal\", \"pound\", \"length\", \"program\", \"additional\", \"pc\", \"bundle\", \"auto\", \"software\", \"relief\", \"vendor\", \"color\", \"highly_recommend\", \"friend\", \"car\", \"deal\", \"paint\", \"child\", \"body\", \"painting\", \"usually\", \"quick\", \"level\", \"forward\", \"weight\", \"moisturizer\", \"spray\", \"floor\", \"truck\", \"rid\", \"effective\", \"toner\", \"school\", \"supply\", \"search\", \"stroller\", \"tank\", \"storage\", \"customer_service\", \"leather\", \"table\"], \"Total\": [5434.0, 5246.0, 7313.0, 6813.0, 6317.0, 3770.0, 4884.0, 3978.0, 3086.0, 5144.0, 4306.0, 4231.0, 2590.0, 4358.0, 2398.0, 3654.0, 3642.0, 3579.0, 2306.0, 2520.0, 2344.0, 2170.0, 2797.0, 2344.0, 3024.0, 1825.0, 3494.0, 3011.0, 2508.0, 1602.0, 1147.019287109375, 716.7031860351562, 644.3350219726562, 503.8581237792969, 420.169677734375, 343.8119812011719, 307.1493835449219, 253.90835571289062, 209.99276733398438, 209.93704223632812, 199.04640197753906, 195.67526245117188, 183.67636108398438, 180.75460815429688, 178.28787231445312, 174.97152709960938, 167.9857635498047, 165.95541381835938, 157.89596557617188, 149.14671325683594, 147.77456665039062, 144.07810974121094, 140.80868530273438, 138.92454528808594, 132.86293029785156, 123.95249938964844, 122.64623260498047, 117.79967498779297, 116.27531433105469, 110.64547729492188, 7313.169921875, 5144.07470703125, 2308.921630859375, 2094.766845703125, 1835.4156494140625, 1787.3397216796875, 1553.9793701171875, 1439.4703369140625, 1350.1629638671875, 1053.236572265625, 987.0162963867188, 965.037841796875, 955.9738159179688, 768.5662231445312, 658.1741943359375, 612.4083862304688, 577.6203002929688, 562.4314575195312, 542.6600952148438, 412.39874267578125, 410.1935119628906, 382.36798095703125, 380.3369140625, 379.0960388183594, 372.2893981933594, 364.9433288574219, 333.1082763671875, 330.840576171875, 297.3955078125, 292.2136535644531, 801.885498046875, 1304.948974609375, 2530.717041015625, 644.50244140625, 3494.8154296875, 5434.005859375, 1121.1395263671875, 712.9910278320312, 676.9248657226562, 669.0193481445312, 630.0750122070312, 498.7293395996094, 446.3282165527344, 346.2576599121094, 207.1980743408203, 193.81353759765625, 179.40087890625, 128.7555694580078, 124.85704803466797, 103.20379638671875, 102.70169830322266, 100.63111877441406, 98.71993255615234, 94.23280334472656, 90.00428009033203, 87.4300308227539, 84.61031341552734, 83.9193115234375, 79.68921661376953, 79.06015014648438, 73.62335205078125, 73.35063934326172, 69.90119171142578, 69.89396667480469, 68.03451538085938, 1067.162353515625, 906.539794921875, 463.8997497558594, 453.4541015625, 395.3697814941406, 374.859619140625, 310.11590576171875, 282.9647521972656, 275.6172790527344, 252.2592010498047, 248.49440002441406, 241.70736694335938, 236.1724090576172, 234.27017211914062, 219.50189208984375, 209.01829528808594, 198.79486083984375, 188.73426818847656, 188.2338409423828, 157.8230438232422, 135.20912170410156, 125.02974700927734, 105.13618469238281, 99.68852233886719, 99.36862182617188, 93.06112670898438, 85.87849426269531, 84.33082580566406, 83.92705535888672, 75.01933288574219, 142.6129913330078, 2398.169677734375, 1052.6396484375, 986.2147827148438, 717.2085571289062, 536.5000610351562, 443.27081298828125, 393.96148681640625, 260.3293762207031, 259.28729248046875, 248.7483673095703, 220.2099151611328, 211.056640625, 177.9242401123047, 149.7992706298828, 149.3230438232422, 146.8274688720703, 130.78683471679688, 123.74977111816406, 114.85975646972656, 107.50371551513672, 93.19921112060547, 91.4739761352539, 86.08112335205078, 86.06449127197266, 85.09929656982422, 76.4727554321289, 75.7459945678711, 70.83098602294922, 70.8125228881836, 65.62330627441406, 971.7344970703125, 914.8589477539062, 764.23779296875, 464.76617431640625, 418.4829406738281, 334.33953857421875, 331.17669677734375, 321.57208251953125, 301.3581237792969, 272.2981262207031, 236.51254272460938, 216.09922790527344, 211.25772094726562, 198.2133331298828, 191.9742431640625, 189.30735778808594, 164.63690185546875, 132.21949768066406, 131.4535369873047, 128.3932647705078, 119.1351547241211, 107.30538177490234, 92.9611587524414, 79.99932098388672, 69.21063995361328, 68.05168151855469, 66.83025360107422, 63.47035217285156, 63.079978942871094, 61.9007682800293, 1095.7655029296875, 801.2667236328125, 557.6904296875, 478.42486572265625, 414.2059326171875, 406.0694885253906, 378.3853759765625, 365.2373046875, 338.07275390625, 330.0283508300781, 258.7887878417969, 258.5617980957031, 251.0997314453125, 217.4483184814453, 216.3223114013672, 194.54566955566406, 189.12823486328125, 181.98011779785156, 172.2589111328125, 161.9113311767578, 148.92929077148438, 148.03968811035156, 125.72005462646484, 109.94329071044922, 101.86770629882812, 95.4264907836914, 90.87303924560547, 88.00823211669922, 86.303955078125, 85.51522827148438, 4884.6318359375, 1029.1824951171875, 743.3646240234375, 730.263427734375, 627.6952514648438, 511.05322265625, 436.3099670410156, 421.87750244140625, 403.1138000488281, 397.6197204589844, 390.40338134765625, 382.7911682128906, 353.0642395019531, 349.64019775390625, 343.1567077636719, 335.1722717285156, 334.2914733886719, 320.1543884277344, 312.8005065917969, 311.49945068359375, 290.6060485839844, 287.6673278808594, 287.40313720703125, 276.25665283203125, 274.5890197753906, 267.8535461425781, 264.6639099121094, 254.91099548339844, 245.30007934570312, 244.7038116455078, 2344.94140625, 1497.279541015625, 1119.469482421875, 886.239990234375, 877.7908325195312, 864.5277709960938, 826.9537963867188, 799.6285400390625, 798.99755859375, 756.6826171875, 744.7686767578125, 706.594970703125, 662.0548706054688, 484.88555908203125, 442.6178894042969, 426.8935241699219, 378.2025146484375, 368.1651916503906, 330.23516845703125, 327.8583679199219, 321.66094970703125, 320.9079895019531, 269.4810485839844, 267.7539978027344, 206.83547973632812, 199.05148315429688, 198.1430206298828, 195.2261962890625, 194.40628051757812, 193.94447326660156, 1985.6082763671875, 1490.18359375, 1199.0347900390625, 2520.631591796875, 1865.1390380859375, 1299.279052734375, 1193.29150390625, 1174.7432861328125, 1059.55224609375, 725.591796875, 692.849853515625, 674.368896484375, 627.4057006835938, 625.4193725585938, 609.7445678710938, 552.8863525390625, 540.7100219726562, 535.9617309570312, 515.8729248046875, 472.29754638671875, 375.29705810546875, 360.23809814453125, 335.85821533203125, 319.6239929199219, 311.67242431640625, 308.2704772949219, 261.9090881347656, 227.46731567382812, 218.8948974609375, 199.676025390625, 182.7565155029297, 164.40676879882812, 158.1985321044922, 279.8955383300781, 528.1907348632812, 432.8033142089844, 413.4098815917969, 394.1465148925781, 353.523681640625, 346.77752685546875, 319.41204833984375, 291.5022277832031, 268.64776611328125, 242.76925659179688, 241.33517456054688, 241.07008361816406, 231.49314880371094, 219.97958374023438, 214.1798095703125, 209.61419677734375, 208.10374450683594, 199.2792510986328, 196.28343200683594, 176.94248962402344, 169.8763885498047, 163.718017578125, 158.80715942382812, 149.8309783935547, 145.5135498046875, 135.396728515625, 134.19252014160156, 133.83433532714844, 133.59750366210938, 115.75420379638672, 4358.0654296875, 3024.70263671875, 2441.61181640625, 2032.0150146484375, 1555.21240234375, 1499.2216796875, 1484.7020263671875, 1432.7132568359375, 1287.092529296875, 1166.6270751953125, 1039.9090576171875, 959.095703125, 941.18701171875, 932.6176147460938, 813.49853515625, 810.3683471679688, 789.4509887695312, 786.4443969726562, 753.2217407226562, 728.0288696289062, 709.3485107421875, 687.2123413085938, 644.76123046875, 594.8679809570312, 485.3594970703125, 475.12213134765625, 442.4174499511719, 436.42291259765625, 435.1078796386719, 370.0087585449219, 2237.740478515625, 3011.839599609375, 526.49267578125, 3494.8154296875, 1825.5537109375, 1052.5555419921875, 853.3856811523438, 768.429443359375, 656.9767456054688, 650.1450805664062, 526.8991088867188, 519.6508178710938, 494.7908935546875, 445.539794921875, 444.0452575683594, 356.2467956542969, 346.1596984863281, 280.5176086425781, 265.3039855957031, 258.2208251953125, 243.35128784179688, 239.3521728515625, 212.82498168945312, 172.80120849609375, 169.1846160888672, 167.22341918945312, 162.3697052001953, 156.3704071044922, 149.19473266601562, 145.4484100341797, 140.81910705566406, 135.54132080078125, 130.67579650878906, 129.7847137451172, 1103.6107177734375, 675.6913452148438, 606.031982421875, 444.1762390136719, 362.4516296386719, 350.155029296875, 270.5899658203125, 240.8671875, 229.34291076660156, 202.92955017089844, 174.76791381835938, 152.60733032226562, 135.01031494140625, 134.69580078125, 125.23377227783203, 120.33026123046875, 114.4172592163086, 112.53257751464844, 109.66919708251953, 101.26165771484375, 91.84337615966797, 84.98193359375, 76.96141815185547, 75.65544128417969, 73.13449096679688, 70.91156005859375, 69.23575592041016, 66.27782440185547, 58.30023193359375, 57.715232849121094, 2306.548583984375, 831.9833374023438, 627.5263061523438, 547.31640625, 505.16796875, 471.5341491699219, 452.4976806640625, 440.7757568359375, 389.1626892089844, 379.0718078613281, 335.7042236328125, 287.5191955566406, 270.5257263183594, 250.9462432861328, 246.66537475585938, 242.0042724609375, 225.4844512939453, 210.57241821289062, 193.35015869140625, 186.19281005859375, 183.09837341308594, 162.92196655273438, 141.05137634277344, 132.31893920898438, 132.2403106689453, 118.85179138183594, 117.57894897460938, 111.0384750366211, 108.07585144042969, 105.71434020996094, 938.8194580078125, 909.4957885742188, 819.248046875, 740.9906616210938, 406.43182373046875, 394.4559326171875, 349.0564270019531, 333.1322326660156, 312.8525695800781, 249.81069946289062, 194.70346069335938, 192.95413208007812, 190.31256103515625, 178.90780639648438, 174.94281005859375, 145.23533630371094, 133.31507873535156, 129.60198974609375, 122.40789794921875, 113.60758209228516, 110.0120620727539, 109.17211151123047, 103.02185821533203, 92.56391143798828, 88.31088256835938, 86.70563507080078, 86.38294219970703, 77.91644287109375, 74.24227142333984, 72.07313537597656, 993.1854248046875, 946.19140625, 622.3305053710938, 494.814208984375, 409.8058166503906, 368.4476318359375, 364.0879821777344, 358.96136474609375, 300.5628356933594, 218.29684448242188, 213.8654022216797, 184.30006408691406, 180.6754608154297, 174.07083129882812, 156.73548889160156, 153.5089111328125, 144.44448852539062, 137.6507110595703, 122.39472961425781, 120.91800689697266, 120.84757995605469, 119.04096984863281, 113.60276794433594, 112.87039184570312, 112.7168960571289, 110.65162658691406, 98.70494079589844, 89.04576110839844, 88.42642211914062, 84.80004119873047, 3978.290771484375, 1621.4326171875, 1561.620849609375, 1164.2509765625, 1142.8399658203125, 1096.2618408203125, 903.4717407226562, 843.8565063476562, 810.7846069335938, 550.0128784179688, 483.77227783203125, 442.2384948730469, 401.47894287109375, 296.6658020019531, 294.5784606933594, 285.4341735839844, 270.28643798828125, 266.7711486816406, 260.3594665527344, 260.2515563964844, 259.5367126464844, 224.15420532226562, 222.82693481445312, 209.01760864257812, 146.61708068847656, 139.75071716308594, 128.38052368164062, 121.95326232910156, 107.17411041259766, 100.53649139404297, 1296.2119140625, 1097.88330078125, 818.2826538085938, 745.8895263671875, 666.0258178710938, 517.2042846679688, 481.75390625, 473.30938720703125, 448.3576965332031, 428.3987121582031, 427.53375244140625, 421.02252197265625, 411.3295593261719, 404.42266845703125, 361.75982666015625, 315.8057861328125, 286.4468994140625, 272.8564758300781, 272.858154296875, 272.5821838378906, 263.45147705078125, 260.253662109375, 249.78274536132812, 241.15769958496094, 228.96791076660156, 219.31414794921875, 216.97610473632812, 215.5197296142578, 206.54066467285156, 190.9529571533203, 188.7060546875, 5246.193359375, 1040.9710693359375, 781.1196899414062, 773.9398803710938, 603.6043090820312, 578.5281372070312, 463.5089111328125, 425.2928161621094, 402.5162658691406, 301.8358154296875, 294.80206298828125, 291.0408020019531, 268.1402893066406, 261.83355712890625, 224.2198028564453, 207.6608428955078, 200.0482635498047, 179.0542449951172, 177.748291015625, 166.6292724609375, 161.2360076904297, 151.401611328125, 129.81251525878906, 115.6230239868164, 115.51716613769531, 108.71221923828125, 106.83222198486328, 105.60123443603516, 81.39498138427734, 76.80065155029297, 4231.39111328125, 3579.8408203125, 2797.581298828125, 2508.545654296875, 2340.197265625, 2222.074462890625, 1876.80615234375, 1480.781005859375, 1298.8331298828125, 1144.3125, 787.5625, 666.6080322265625, 664.5115966796875, 592.6115112304688, 591.3394775390625, 554.8070678710938, 550.1181030273438, 500.3431091308594, 497.5201416015625, 454.4029541015625, 416.27496337890625, 405.96795654296875, 380.86785888671875, 369.5743408203125, 354.812255859375, 340.43402099609375, 329.6422424316406, 294.3591003417969, 260.04827880859375, 242.48558044433594, 2017.53759765625, 1595.51708984375, 1316.655517578125, 796.7535400390625, 722.8545532226562, 633.9633178710938, 545.5729370117188, 487.982421875, 479.796630859375, 448.5714111328125, 425.25286865234375, 377.0038757324219, 348.9701232910156, 329.1560363769531, 310.3608093261719, 287.5292663574219, 274.9041748046875, 265.4248962402344, 258.2127380371094, 218.5144805908203, 215.7599639892578, 206.24942016601562, 202.693359375, 190.00650024414062, 188.31105041503906, 180.22076416015625, 172.62950134277344, 150.7471160888672, 135.64926147460938, 133.38784790039062, 126.73397827148438, 116.40382385253906, 113.4190673828125, 3086.2119140625, 790.640869140625, 540.5150756835938, 331.1854553222656, 321.5476379394531, 251.01718139648438, 189.5536651611328, 179.54649353027344, 171.4206085205078, 148.16616821289062, 138.5618133544922, 137.25009155273438, 121.2342758178711, 110.99170684814453, 108.9715805053711, 108.28848266601562, 92.77310943603516, 84.73585510253906, 77.57842254638672, 74.31307220458984, 72.54885864257812, 68.51844787597656, 64.78498840332031, 61.479347229003906, 60.34882736206055, 58.989219665527344, 58.71935272216797, 57.54639434814453, 54.94679641723633, 54.00271987915039, 6813.84521484375, 6317.7265625, 4306.20361328125, 3654.925537109375, 3642.26953125, 1518.6214599609375, 1012.0404663085938, 951.5964965820312, 794.4521484375, 513.4774169921875, 471.398193359375, 454.997802734375, 424.6737976074219, 395.8186340332031, 336.33697509765625, 333.2626647949219, 319.1403503417969, 309.9264831542969, 283.9302062988281, 244.23497009277344, 239.94381713867188, 225.8548583984375, 2028.9022216796875, 203.53114318847656, 201.55239868164062, 197.85791015625, 196.3988494873047, 195.13819885253906, 180.1068572998047, 174.79608154296875, 1754.65576171875, 2530.717041015625, 3770.82080078125, 516.904052734375, 346.373046875, 319.865234375, 317.7778015136719, 311.7325744628906, 282.41162109375, 244.59132385253906, 242.3193359375, 201.20108032226562, 190.39556884765625, 188.19212341308594, 184.15731811523438, 177.35633850097656, 176.46336364746094, 168.65310668945312, 166.0083770751953, 159.1140899658203, 157.08364868164062, 141.68528747558594, 138.6889190673828, 124.69120788574219, 123.29058074951172, 122.97776794433594, 117.92184448242188, 113.6905517578125, 97.66012573242188, 87.36119079589844, 87.33959197998047, 86.02192687988281, 2344.1376953125, 2170.724853515625, 1385.3795166015625, 1052.5823974609375, 923.3247680664062, 902.0626831054688, 814.7632446289062, 669.2868041992188, 651.9298095703125, 502.8436584472656, 494.3525085449219, 404.2901306152344, 380.3118591308594, 358.6624755859375, 343.7647399902344, 251.41207885742188, 249.04852294921875, 246.291748046875, 226.1709747314453, 219.07022094726562, 212.0306854248047, 192.45895385742188, 187.17613220214844, 158.3348388671875, 157.23342895507812, 153.22900390625, 133.70973205566406, 133.22531127929688, 125.97884368896484, 111.66087341308594, 793.7655639648438, 756.2546997070312, 549.9312744140625, 437.0096435546875, 415.6640625, 405.1851501464844, 388.4775085449219, 368.97027587890625, 356.12689208984375, 336.88037109375, 292.2875671386719, 291.3011779785156, 278.167724609375, 227.4220428466797, 226.4365234375, 216.4093017578125, 203.51336669921875, 170.90072631835938, 159.94293212890625, 151.4897918701172, 139.03921508789062, 136.53599548339844, 121.43051147460938, 115.19181060791016, 111.53401947021484, 100.41474914550781, 98.90958404541016, 96.84320068359375, 93.62442779541016, 92.59867095947266, 1073.478271484375, 628.8937377929688, 566.3157958984375, 486.912109375, 482.9002685546875, 448.85107421875, 318.6639709472656, 190.06715393066406, 179.0667724609375, 174.30178833007812, 167.52467346191406, 115.85050964355469, 92.50817108154297, 89.45030212402344, 85.9232177734375, 72.4771957397461, 66.78521728515625, 65.4726333618164, 61.043758392333984, 57.522361755371094, 53.86063766479492, 46.980308532714844, 45.748260498046875, 43.37632751464844, 40.12324523925781, 36.962791442871094, 36.60957336425781, 35.18009948730469, 33.11130905151367, 24.581003189086914, 2590.959228515625, 964.6793212890625, 399.26275634765625, 376.19134521484375, 294.29034423828125, 291.5345153808594, 258.0718688964844, 236.8142547607422, 230.33934020996094, 189.92556762695312, 179.50634765625, 174.20101928710938, 159.0012969970703, 157.1966094970703, 146.41993713378906, 144.1557159423828, 139.63648986816406, 136.9090118408203, 135.3772735595703, 127.01432800292969, 126.27507781982422, 119.01858520507812, 102.0135726928711, 101.88668060302734, 91.84461975097656, 85.7278060913086, 84.979248046875, 81.26749420166016, 77.62500762939453, 74.66349792480469, 1602.8294677734375, 740.3867797851562, 710.2681274414062, 630.357421875, 512.1712036132812, 496.0308837890625, 401.84942626953125, 379.6633605957031, 363.9651794433594, 362.50555419921875, 291.5236511230469, 284.490478515625, 280.41961669921875, 270.7082824707031, 208.23085021972656, 204.57090759277344, 188.84820556640625, 164.42459106445312, 155.5666046142578, 142.71913146972656, 140.06723022460938, 138.9386749267578, 137.71142578125, 136.10536193847656, 136.10377502441406, 134.27708435058594, 123.87999725341797, 116.37905883789062, 114.64736938476562, 111.17206573486328], \"loglift\": [30.0, 29.0, 28.0, 27.0, 26.0, 25.0, 24.0, 23.0, 22.0, 21.0, 20.0, 19.0, 18.0, 17.0, 16.0, 15.0, 14.0, 13.0, 12.0, 11.0, 10.0, 9.0, 8.0, 7.0, 6.0, 5.0, 4.0, 3.0, 2.0, 1.0, 3.8921000957489014, 3.891400098800659, 3.891200065612793, 3.8905999660491943, 3.890000104904175, 3.8893001079559326, 3.8887999057769775, 3.8877999782562256, 3.886699914932251, 3.886699914932251, 3.8863000869750977, 3.886199951171875, 3.885699987411499, 3.8856000900268555, 3.885499954223633, 3.8852999210357666, 3.884999990463257, 3.8849000930786133, 3.884399890899658, 3.8838999271392822, 3.8838000297546387, 3.8835999965667725, 3.8833000659942627, 3.88319993019104, 3.882699966430664, 3.881999969482422, 3.8819000720977783, 3.8814001083374023, 3.881200075149536, 3.8805999755859375, 2.4674999713897705, 2.467400074005127, 2.467099905014038, 2.4670000076293945, 2.466900110244751, 2.466900110244751, 2.4667999744415283, 2.4667000770568848, 2.4667000770568848, 2.466399908065796, 2.4663000106811523, 2.4663000106811523, 2.466200113296509, 2.46589994430542, 2.46560001373291, 2.465399980545044, 2.4653000831604004, 2.4651999473571777, 2.465100049972534, 2.4642999172210693, 2.4642999172210693, 2.4639999866485596, 2.4639999866485596, 2.4639999866485596, 2.463900089263916, 2.463900089263916, 2.4635000228881836, 2.4635000228881836, 2.4630000591278076, 2.462899923324585, 2.448699951171875, 2.3891000747680664, 1.1948000192642212, 2.0213000774383545, 0.4203999936580658, 3.664599895477295, 3.663599967956543, 3.662899971008301, 3.6628000736236572, 3.6628000736236572, 3.6626999378204346, 3.662100076675415, 3.6617000102996826, 3.660799980163574, 3.658099889755249, 3.657599925994873, 3.657099962234497, 3.6540000438690186, 3.653599977493286, 3.65120005607605, 3.65120005607605, 3.650899887084961, 3.650599956512451, 3.649899959564209, 3.649199962615967, 3.6487998962402344, 3.648200035095215, 3.648099899291992, 3.647200107574463, 3.6470000743865967, 3.645699977874756, 3.6456000804901123, 3.644700050354004, 3.644700050354004, 3.6440999507904053, 4.016900062561035, 4.01669979095459, 4.015200138092041, 4.015100002288818, 4.014699935913086, 4.014500141143799, 4.013700008392334, 4.013299942016602, 4.0131001472473145, 4.012700080871582, 4.012599945068359, 4.012400150299072, 4.01230001449585, 4.012199878692627, 4.0117998123168945, 4.011499881744385, 4.011199951171875, 4.010799884796143, 4.010799884796143, 4.009300231933594, 4.007800102233887, 4.006999969482422, 4.004799842834473, 4.0040998458862305, 4.004000186920166, 4.0030999183654785, 4.001800060272217, 4.001500129699707, 4.001399993896484, 3.9993999004364014, 3.4159998893737793, 3.9100000858306885, 3.9091999530792236, 3.90910005569458, 3.908600091934204, 3.907900094985962, 3.907399892807007, 3.9070000648498535, 3.9052000045776367, 3.905100107192993, 3.904900074005127, 3.9042000770568848, 3.903899908065796, 3.9026999473571777, 3.90120005607605, 3.901099920272827, 3.9010000228881836, 3.8998000621795654, 3.899199962615967, 3.8982999324798584, 3.8975000381469727, 3.8954999446868896, 3.89520001411438, 3.894200086593628, 3.894200086593628, 3.8940000534057617, 3.8921000957489014, 3.891900062561035, 3.8905999660491943, 3.8905999660491943, 3.8889999389648438, 4.115600109100342, 4.115499973297119, 4.115200042724609, 4.113999843597412, 4.113699913024902, 4.1128997802734375, 4.112800121307373, 4.11269998550415, 4.112400054931641, 4.1118998527526855, 4.111100196838379, 4.110599994659424, 4.110400199890137, 4.110000133514404, 4.1097002029418945, 4.109600067138672, 4.108500003814697, 4.106400012969971, 4.106299877166748, 4.106100082397461, 4.105199813842773, 4.103899955749512, 4.101900100708008, 4.099400043487549, 4.09660005569458, 4.09630012512207, 4.095900058746338, 4.094799995422363, 4.094600200653076, 4.094200134277344, 3.94950008392334, 3.9489998817443848, 3.9482998847961426, 3.9477999210357666, 3.9474000930786133, 3.9472999572753906, 3.9470999240875244, 3.946899890899658, 3.9465999603271484, 3.946500062942505, 3.9453999996185303, 3.9453001022338867, 3.945199966430664, 3.9442999362945557, 3.9442999362945557, 3.9435999393463135, 3.9433000087738037, 3.9430999755859375, 3.9426000118255615, 3.9421000480651855, 3.9412999153137207, 3.9412999153137207, 3.9395999908447266, 3.937999963760376, 3.9368999004364014, 3.936000108718872, 3.9351999759674072, 3.9347000122070312, 3.9344000816345215, 3.934299945831299, 2.7827999591827393, 2.7816998958587646, 2.7811999320983887, 2.7811999320983887, 2.780900001525879, 2.780400037765503, 2.779900074005127, 2.7797999382019043, 2.779599905014038, 2.779599905014038, 2.7795000076293945, 2.7795000076293945, 2.779099941253662, 2.779099941253662, 2.7790000438690186, 2.778899908065796, 2.778899908065796, 2.778700113296509, 2.778599977493286, 2.778599977493286, 2.7783000469207764, 2.7781999111175537, 2.7781999111175537, 2.7780001163482666, 2.7780001163482666, 2.777899980545044, 2.7778000831604004, 2.777600049972534, 2.777400016784668, 2.777400016784668, 2.960099935531616, 2.959700107574463, 2.959399938583374, 2.9591000080108643, 2.9591000080108643, 2.9590001106262207, 2.9590001106262207, 2.958899974822998, 2.958899974822998, 2.9588000774383545, 2.9588000774383545, 2.958699941635132, 2.9584999084472656, 2.9577999114990234, 2.9574999809265137, 2.95740008354187, 2.956899881362915, 2.9567999839782715, 2.956399917602539, 2.956399917602539, 2.9563000202178955, 2.9563000202178955, 2.955399990081787, 2.955399990081787, 2.953900098800659, 2.9535999298095703, 2.9535999298095703, 2.953399896621704, 2.953399896621704, 2.953399896621704, 2.913300037384033, 2.805000066757202, 2.7502999305725098, 3.1763999462127686, 3.1761999130249023, 3.1758999824523926, 3.175800085067749, 3.175800085067749, 3.1756999492645264, 3.175100088119507, 3.174999952316284, 3.1749000549316406, 3.174799919128418, 3.174799919128418, 3.1747000217437744, 3.174499988555908, 3.1744000911712646, 3.1744000911712646, 3.174299955368042, 3.1740000247955322, 3.17330002784729, 3.173099994659424, 3.172800064086914, 3.172600030899048, 3.172499895095825, 3.172499895095825, 3.1717000007629395, 3.170799970626831, 3.170599937438965, 3.1700000762939453, 3.169300079345703, 3.1684999465942383, 3.168100118637085, 3.0278000831604004, 3.9333999156951904, 3.932800054550171, 3.9326999187469482, 3.932499885559082, 3.9321000576019287, 3.931999921798706, 3.9316999912261963, 3.9312000274658203, 3.930799961090088, 3.930299997329712, 3.9302000999450684, 3.9302000999450684, 3.930000066757202, 3.9296998977661133, 3.929500102996826, 3.9293999671936035, 3.92930006980896, 3.928999900817871, 3.9289000034332275, 3.928100109100342, 3.927799940109253, 3.927500009536743, 3.9272000789642334, 3.9267001152038574, 3.9263999462127686, 3.9256999492645264, 3.925600051879883, 3.925600051879883, 3.92549991607666, 3.9238998889923096, 2.2929999828338623, 2.292799949645996, 2.2927000522613525, 2.29259991645813, 2.2923998832702637, 2.2923998832702637, 2.2923998832702637, 2.29229998588562, 2.2922000885009766, 2.292099952697754, 2.2918999195098877, 2.291800022125244, 2.291800022125244, 2.291800022125244, 2.291599988937378, 2.291599988937378, 2.2915000915527344, 2.2915000915527344, 2.2913999557495117, 2.2913999557495117, 2.291300058364868, 2.291300058364868, 2.291100025177002, 2.2908999919891357, 2.2904000282287598, 2.290299892425537, 2.29010009765625, 2.29010009765625, 2.29010009765625, 2.2894999980926514, 2.286799907684326, 2.273400068283081, 2.2873001098632812, 2.154599905014038, 3.685699939727783, 3.6851000785827637, 3.684799909591675, 3.6846001148223877, 3.684299945831299, 3.684299945831299, 3.683799982070923, 3.683799982070923, 3.6835999488830566, 3.683300018310547, 3.683300018310547, 3.682499885559082, 3.6823999881744385, 3.68149995803833, 3.6812000274658203, 3.680999994277954, 3.6807000637054443, 3.6805999279022217, 3.6798999309539795, 3.678299903869629, 3.6782000064849854, 3.678100109100342, 3.677799940109253, 3.677500009536743, 3.677000045776367, 3.676800012588501, 3.676500082015991, 3.676100015640259, 3.6756999492645264, 3.675600051879883, 4.225900173187256, 4.225100040435791, 4.224899768829346, 4.224100112915039, 4.223299980163574, 4.223199844360352, 4.2220001220703125, 4.221399784088135, 4.221099853515625, 4.220300197601318, 4.219200134277344, 4.2179999351501465, 4.216800212860107, 4.216800212860107, 4.216000080108643, 4.2154998779296875, 4.214900016784668, 4.214700222015381, 4.214399814605713, 4.2133002281188965, 4.211900234222412, 4.210700035095215, 4.208899974822998, 4.208600044250488, 4.208000183105469, 4.207399845123291, 4.206900119781494, 4.205900192260742, 4.203000068664551, 4.2027997970581055, 3.6893999576568604, 3.6884000301361084, 3.6877999305725098, 3.6875, 3.687299966812134, 3.6870999336242676, 3.687000036239624, 3.6868999004364014, 3.686500072479248, 3.6863999366760254, 3.6858999729156494, 3.6851999759674072, 3.6849000453948975, 3.684499979019165, 3.6844000816345215, 3.684299945831299, 3.683799982070923, 3.6833999156951904, 3.682800054550171, 3.682499885559082, 3.6823999881744385, 3.6814000606536865, 3.6800999641418457, 3.6793999671936035, 3.6793999671936035, 3.6782000064849854, 3.678100109100342, 3.6774001121520996, 3.677000045776367, 3.6767001152038574, 3.9811999797821045, 3.981100082397461, 3.9809999465942383, 3.980799913406372, 3.9791998863220215, 3.979099988937378, 3.9786999225616455, 3.9784998893737793, 3.9781999588012695, 3.9769999980926514, 3.9755001068115234, 3.975399971008301, 3.9753000736236572, 3.9748001098632812, 3.974600076675415, 3.9730000495910645, 3.972100019454956, 3.9718000888824463, 3.9711999893188477, 3.9702999591827393, 3.969899892807007, 3.9697999954223633, 3.9690001010894775, 3.967400074005127, 3.9667000770568848, 3.966399908065796, 3.9663000106811523, 3.9644999504089355, 3.963599920272827, 3.963099956512451, 4.0243000984191895, 4.024199962615967, 4.023399829864502, 4.022799968719482, 4.022299766540527, 4.021900177001953, 4.0218000411987305, 4.0218000411987305, 4.020999908447266, 4.019199848175049, 4.019100189208984, 4.01800012588501, 4.017899990081787, 4.017600059509277, 4.01669979095459, 4.016499996185303, 4.015900135040283, 4.015500068664551, 4.014200210571289, 4.013999938964844, 4.013999938964844, 4.013800144195557, 4.013299942016602, 4.013199806213379, 4.013199806213379, 4.012899875640869, 4.01140022277832, 4.009799957275391, 4.009699821472168, 4.008999824523926, 3.2248001098632812, 3.224299907684326, 3.2242000102996826, 3.223900079727173, 3.223900079727173, 3.22379994392395, 3.223599910736084, 3.2235000133514404, 3.223400115966797, 3.222599983215332, 3.2221999168395996, 3.2219998836517334, 3.22160005569458, 3.220400094985962, 3.220400094985962, 3.2202000617980957, 3.219899892807007, 3.219899892807007, 3.2197000980377197, 3.2197000980377197, 3.2197000980377197, 3.218899965286255, 3.2188000679016113, 3.218400001525879, 3.2155001163482666, 3.215100049972534, 3.214200019836426, 3.213599920272827, 3.2119998931884766, 3.2111001014709473, 3.2032999992370605, 3.555999994277954, 3.555500030517578, 3.5553998947143555, 3.5550999641418457, 3.554500102996826, 3.55430006980896, 3.55430006980896, 3.5541000366210938, 3.553999900817871, 3.553999900817871, 3.5539000034332275, 3.553800106048584, 3.553800106048584, 3.5534000396728516, 3.552799940109253, 3.5524001121520996, 3.5520999431610107, 3.5520999431610107, 3.5520999431610107, 3.5518999099731445, 3.5518999099731445, 3.5515999794006348, 3.5513999462127686, 3.551100015640259, 3.5508999824523926, 3.550800085067749, 3.550800085067749, 3.55049991607666, 3.5499000549316406, 3.549799919128418, 3.5829999446868896, 3.581899881362915, 3.5815000534057617, 3.5815000534057617, 3.5810000896453857, 3.580899953842163, 3.5803000926971436, 3.5799999237060547, 3.5797998905181885, 3.5785999298095703, 3.5785000324249268, 3.5785000324249268, 3.578000068664551, 3.577899932861328, 3.5769999027252197, 3.5764999389648438, 3.5762999057769775, 3.5754001140594482, 3.5754001140594482, 3.5748000144958496, 3.5745999813079834, 3.5739998817443848, 3.5724000930786133, 3.5710999965667725, 3.5710999965667725, 3.5703001022338867, 3.5701000690460205, 3.5699000358581543, 3.5659000873565674, 3.5648999214172363, 2.551300048828125, 2.551300048828125, 2.5511999130249023, 2.551100015640259, 2.551100015640259, 2.5510001182556152, 2.5508999824523926, 2.5506999492645264, 2.550600051879883, 2.5504000186920166, 2.5499000549316406, 2.5495998859405518, 2.5495998859405518, 2.549299955368042, 2.549299955368042, 2.549099922180176, 2.549099922180176, 2.5488998889923096, 2.548799991607666, 2.5485999584198, 2.54830002784729, 2.5481998920440674, 2.5480000972747803, 2.5478999614715576, 2.5476999282836914, 2.547499895095825, 2.5473999977111816, 2.5469000339508057, 2.546299934387207, 2.5459001064300537, 2.5257999897003174, 2.428299903869629, 2.3160998821258545, 3.848599910736084, 3.848400115966797, 3.848099946975708, 3.8478000164031982, 3.8475000858306885, 3.847399950027466, 3.8471999168395996, 3.8469998836517334, 3.84660005569458, 3.846299886703491, 3.846100091934204, 3.8457999229431152, 3.8454999923706055, 3.8452000617980957, 3.845099925994873, 3.844899892807007, 3.843899965286255, 3.8438000679016113, 3.8434998989105225, 3.843400001525879, 3.8429999351501465, 3.842900037765503, 3.842600107192993, 3.8422000408172607, 3.8410000801086426, 3.8399999141693115, 3.8397998809814453, 3.8392999172210693, 3.8382999897003174, 3.8380000591278076, 4.149400234222412, 4.1479997634887695, 4.147200107574463, 4.145599842071533, 4.145400047302246, 4.144199848175049, 4.142399787902832, 4.142000198364258, 4.141600131988525, 4.1402997970581055, 4.139699935913086, 4.139599800109863, 4.138199806213379, 4.1371002197265625, 4.136899948120117, 4.1367998123168945, 4.1346001625061035, 4.133200168609619, 4.1315999031066895, 4.130799770355225, 4.130300045013428, 4.129199981689453, 4.127999782562256, 4.126800060272217, 4.126399993896484, 4.125800132751465, 4.125699996948242, 4.125199794769287, 4.124000072479248, 4.123600006103516, 2.571199893951416, 2.571199893951416, 2.5710999965667725, 2.571000099182129, 2.571000099182129, 2.570499897003174, 2.569999933242798, 2.5699000358581543, 2.569700002670288, 2.568700075149536, 2.5683999061584473, 2.5683000087738037, 2.5680999755859375, 2.5678999423980713, 2.5673000812530518, 2.567199945449829, 2.566999912261963, 2.5669000148773193, 2.566499948501587, 2.565700054168701, 2.5655999183654785, 2.565200090408325, 2.5645999908447266, 2.564500093460083, 2.564500093460083, 2.564300060272217, 2.564300060272217, 2.564199924468994, 2.5636000633239746, 2.5634000301361084, 2.5302999019622803, 2.2421000003814697, 3.7565999031066895, 3.754300117492676, 3.7528998851776123, 3.7525999546051025, 3.7525999546051025, 3.752500057220459, 3.752000093460083, 3.751199960708618, 3.751199960708618, 3.75, 3.7495999336242676, 3.749500036239624, 3.749300003051758, 3.749000072479248, 3.749000072479248, 3.7486000061035156, 3.748500108718872, 3.7481000423431396, 3.747999906539917, 3.746999979019165, 3.746799945831299, 3.745699882507324, 3.745500087738037, 3.745500087738037, 3.744999885559082, 3.7446000576019287, 3.742500066757202, 3.740799903869629, 3.740799903869629, 3.740499973297119, 3.365600109100342, 3.365499973297119, 3.3650999069213867, 3.364799976348877, 3.3645999431610107, 3.3645999431610107, 3.3643999099731445, 3.3640999794006348, 3.364000082015991, 3.3633999824523926, 3.363300085067749, 3.3626999855041504, 3.362499952316284, 3.3622000217437744, 3.3620998859405518, 3.360599994659424, 3.3605000972747803, 3.3605000972747803, 3.359999895095825, 3.359800100326538, 3.359499931335449, 3.3589000701904297, 3.3587000370025635, 3.357300043106079, 3.3571999073028564, 3.3570001125335693, 3.3557000160217285, 3.355600118637085, 3.3550000190734863, 3.353600025177002, 3.879199981689453, 3.8791000843048096, 3.8784000873565674, 3.877700090408325, 3.8775999546051025, 3.877500057220459, 3.8773000240325928, 3.87719988822937, 3.877000093460083, 3.876800060272217, 3.876199960708618, 3.8761000633239746, 3.8759000301361084, 3.874799966812134, 3.874799966812134, 3.874500036239624, 3.8740999698638916, 3.8726999759674072, 3.8722000122070312, 3.8717000484466553, 3.8708999156951904, 3.870699882507324, 3.8694000244140625, 3.868799924850464, 3.8684000968933105, 3.867000102996826, 3.8666999340057373, 3.8664000034332275, 3.8659000396728516, 3.865799903869629, 4.495200157165527, 4.49429988861084, 4.49399995803833, 4.493599891662598, 4.493599891662598, 4.4934000968933105, 4.492099761962891, 4.489099979400635, 4.48859977722168, 4.488399982452393, 4.488100051879883, 4.484300136566162, 4.481200218200684, 4.4807000160217285, 4.480100154876709, 4.4770002365112305, 4.475299835205078, 4.474899768829346, 4.473299980163574, 4.47189998626709, 4.470200061798096, 4.46619987487793, 4.465400218963623, 4.463699817657471, 4.460999965667725, 4.457900047302246, 4.457499980926514, 4.455900192260742, 4.4532999992370605, 4.43779993057251, 3.9932000637054443, 3.992300033569336, 3.9902000427246094, 3.990000009536743, 3.989000082015991, 3.9888999462127686, 3.988300085067749, 3.987799882888794, 3.987600088119507, 3.986299991607666, 3.9858999252319336, 3.9856998920440674, 3.9848999977111816, 3.984800100326538, 3.984100103378296, 3.9839999675750732, 3.9837000370025635, 3.9835000038146973, 3.983299970626831, 3.982599973678589, 3.982599973678589, 3.9818999767303467, 3.9798998832702637, 3.9798998832702637, 3.9783999919891357, 3.977299928665161, 3.977099895477295, 3.976300001144409, 3.9755001068115234, 3.9748001098632812, 3.76200008392334, 3.7609000205993652, 3.7609000205993652, 3.7606000900268555, 3.7600998878479004, 3.759999990463257, 3.7592999935150146, 3.7590999603271484, 3.759000062942505, 3.759000062942505, 3.757999897003174, 3.7578999996185303, 3.7578001022338867, 3.7576000690460205, 3.7560999393463135, 3.75600004196167, 3.7553999423980713, 3.754300117492676, 3.7537999153137207, 3.753000020980835, 3.7527999877929688, 3.752700090408325, 3.7525999546051025, 3.752500057220459, 3.752500057220459, 3.7523000240325928, 3.751499891281128, 3.750699996948242, 3.750499963760376, 3.750200033187866], \"logprob\": [30.0, 29.0, 28.0, 27.0, 26.0, 25.0, 24.0, 23.0, 22.0, 21.0, 20.0, 19.0, 18.0, 17.0, 16.0, 15.0, 14.0, 13.0, 12.0, 11.0, 10.0, 9.0, 8.0, 7.0, 6.0, 5.0, 4.0, 3.0, 2.0, 1.0, -2.335599899291992, -2.8066000938415527, -2.913300037384033, -3.1598000526428223, -3.3420000076293945, -3.543299913406372, -3.656599998474121, -3.847899913787842, -4.039000034332275, -4.0391998291015625, -4.092899799346924, -4.110099792480469, -4.173799991607666, -4.190000057220459, -4.203800201416016, -4.222799777984619, -4.263800144195557, -4.276100158691406, -4.326300144195557, -4.383900165557861, -4.393199920654297, -4.418799877166748, -4.441999912261963, -4.455599784851074, -4.5005998611450195, -4.570799827575684, -4.581500053405762, -4.622300148010254, -4.635499954223633, -4.685800075531006, -1.9077999591827393, -2.259700059890747, -3.0611000061035156, -3.1584999561309814, -3.2906999588012695, -3.3173000812530518, -3.4572999477386475, -3.533900022506714, -3.598099946975708, -3.8466999530792236, -3.9117000102996826, -3.934299945831299, -3.943700075149536, -4.162300109863281, -4.317699909210205, -4.389900207519531, -4.448500156402588, -4.475200176239014, -4.511099815368652, -4.786399841308594, -4.791800022125244, -4.862299919128418, -4.867599964141846, -4.8709001541137695, -4.889100074768066, -4.90910005569458, -5.000699996948242, -5.007599830627441, -5.11460018157959, -5.132299900054932, -4.1371002197265625, -3.709700107574463, -4.241600036621094, -4.7829999923706055, -4.69320011138916, -1.007599949836731, -2.5869998931884766, -3.040299892425537, -3.0922999382019043, -3.104099988937378, -3.1642000675201416, -3.3986001014709473, -3.5099000930786133, -3.764699935913086, -4.280900001525879, -4.348199844360352, -4.426000118255615, -4.760799884796143, -4.791900157928467, -4.984799861907959, -4.989699840545654, -5.010300159454346, -5.029799938201904, -5.077000141143799, -5.123600006103516, -5.15310001373291, -5.186399936676025, -5.194799900054932, -5.247399806976318, -5.255499839782715, -5.328000068664551, -5.3317999839782715, -5.380899906158447, -5.381100177764893, -5.408599853515625, -2.2829999923706055, -2.4463999271392822, -3.117799997329712, -3.140700101852417, -3.2781999111175537, -3.331700086593628, -3.5220999717712402, -3.6140999794006348, -3.6405999660491943, -3.729599952697754, -3.7446999549865723, -3.772599935531616, -3.7959001064300537, -3.803999900817871, -3.869499921798706, -3.918800115585327, -3.9693000316619873, -4.021599769592285, -4.0243000984191895, -4.201900005340576, -4.358099937438965, -4.43720006942749, -4.612599849700928, -4.666600227355957, -4.6697998046875, -4.736400127410889, -4.817999839782715, -4.83650016784668, -4.841300010681152, -4.955599784851074, -4.896599769592285, -1.580299973487854, -2.404400110244751, -2.4697000980377197, -2.7887001037597656, -3.079699993133545, -3.2711000442504883, -3.3894999027252197, -3.8055999279022217, -3.8096001148223877, -3.851300001144409, -3.973900079727173, -4.01669979095459, -4.188700199127197, -4.362199783325195, -4.3653998374938965, -4.382500171661377, -4.499300003051758, -4.555200099945068, -4.63070011138916, -4.697700023651123, -4.84250020980835, -4.861499786376953, -4.9232001304626465, -4.923399925231934, -4.934899806976318, -5.043600082397461, -5.053400039672852, -5.121799945831299, -5.122000217437744, -5.199699878692627, -2.2780001163482666, -2.338399887084961, -2.5185999870300293, -3.0171000957489014, -3.1224000453948975, -3.3477001190185547, -3.3571999073028564, -3.3868000507354736, -3.4519999027252197, -3.5539000034332275, -3.6956000328063965, -3.786400079727173, -3.8092000484466553, -3.8733999729156494, -3.905600070953369, -3.9196999073028564, -4.060400009155273, -4.281799793243408, -4.287700176239014, -4.311500072479248, -4.387199878692627, -4.493100166320801, -4.638599872589111, -4.791299819946289, -4.938899993896484, -4.956200122833252, -4.974699974060059, -5.027400016784668, -5.033699989318848, -5.052999973297119, -2.3239998817443848, -2.637500047683716, -3.0006000995635986, -3.154400110244751, -3.2988998889923096, -3.3187999725341797, -3.389699935913086, -3.4251999855041504, -3.5027999877929688, -3.5269999504089355, -3.7713000774383545, -3.772200107574463, -3.8017001152038574, -3.9463999271392822, -3.9516000747680664, -4.058499813079834, -4.086900234222412, -4.125699996948242, -4.181099891662598, -4.243599891662598, -4.327899932861328, -4.333899974822998, -4.499100208282471, -4.634799957275391, -4.712100028991699, -4.778299808502197, -4.828000068664551, -4.860499858856201, -4.88040018081665, -4.889699935913086, -1.996000051498413, -3.5543999671936035, -3.8803000450134277, -3.898099899291992, -4.049799919128418, -4.255899906158447, -4.414400100708008, -4.448200225830078, -4.493800163269043, -4.507599830627441, -4.526000022888184, -4.54580020904541, -4.6269001960754395, -4.63670015335083, -4.6554999351501465, -4.679100036621094, -4.68179988861084, -4.725200176239014, -4.748499870300293, -4.752699851989746, -4.822400093078613, -4.832699775695801, -4.833600044250488, -4.873300075531006, -4.87939977645874, -4.904399871826172, -4.916399955749512, -4.95419979095459, -4.992800235748291, -4.995299816131592, -2.5525999069213867, -3.0016000270843506, -3.2927000522613525, -3.526599884033203, -3.5362000465393066, -3.551500082015991, -3.5959999561309814, -3.629699945449829, -3.6303999423980713, -3.684999942779541, -3.700900077819824, -3.7535998821258545, -3.8187999725341797, -4.13100004196167, -4.222499847412109, -4.258800029754639, -4.380300045013428, -4.407299995422363, -4.516499996185303, -4.52370023727417, -4.542900085449219, -4.545300006866455, -4.720799922943115, -4.727200031280518, -4.9868998527526855, -5.025599956512451, -5.030200004577637, -5.045100212097168, -5.049300193786621, -5.051700115203857, -2.765700101852417, -3.1610000133514404, -3.4330999851226807, -2.2639999389648438, -2.5653998851776123, -2.9272000789642334, -3.012399911880493, -3.02810001373291, -3.1314001083374023, -3.5106000900268555, -3.5569000244140625, -3.5840001106262207, -3.6563000679016113, -3.6594998836517334, -3.684999942779541, -3.783099889755249, -3.8053998947143555, -3.814199924468994, -3.85260009765625, -3.9410998821258545, -4.1717000007629395, -4.212800025939941, -4.283199787139893, -4.332900047302246, -4.3582000732421875, -4.36929988861084, -4.533100128173828, -4.674900054931641, -4.713500022888184, -4.806000232696533, -4.895199775695801, -5.0019001960754395, -5.0406999588012695, -4.610499858856201, -3.0697999000549316, -3.2695999145507812, -3.3155999183654785, -3.3635001182556152, -3.4727001190185547, -3.492000102996826, -3.5745999813079834, -3.6663999557495117, -3.748500108718872, -3.8503000736236572, -3.856300115585327, -3.8573999404907227, -3.898200035095215, -3.94950008392334, -3.9763998985290527, -3.9981000423431396, -4.005300045013428, -4.048999786376953, -4.064199924468994, -4.168700218200684, -4.209799766540527, -4.247099876403809, -4.2778000831604, -4.33650016784668, -4.366000175476074, -4.438799858093262, -4.447800159454346, -4.450500011444092, -4.452300071716309, -4.597300052642822, -2.599900007247925, -2.9653000831604004, -3.1796000003814697, -3.363300085067749, -3.6308999061584473, -3.66759991645813, -3.6774001121520996, -3.713099956512451, -3.8203999996185303, -3.9186999797821045, -4.033899784088135, -4.1149001121521, -4.133800029754639, -4.142899990081787, -4.279799938201904, -4.283599853515625, -4.309800148010254, -4.313700199127197, -4.356900215148926, -4.390999794006348, -4.416999816894531, -4.448800086975098, -4.512700080871582, -4.593400001525879, -4.797399997711182, -4.81879997253418, -4.8902997970581055, -4.9039998054504395, -4.9070000648498535, -5.069699764251709, -3.272700071334839, -2.989000082015991, -4.719099998474121, -2.9590001106262207, -2.077399969100952, -2.6285998821258545, -2.83870005607605, -2.943700075149536, -3.1006999015808105, -3.1112000942230225, -3.321899890899658, -3.3357999324798584, -3.3849000930786133, -3.4900999069213867, -3.493499994277954, -3.714600086212158, -3.7434000968933105, -3.9546000957489014, -4.010700225830078, -4.037899971008301, -4.097499847412109, -4.114200115203857, -4.232399940490723, -4.442200183868408, -4.463600158691406, -4.475299835205078, -4.505000114440918, -4.543000221252441, -4.590400218963623, -4.616099834442139, -4.64870023727417, -4.687300205230713, -4.724299907684326, -4.731200218200684, -2.0404000282287598, -2.5318000316619873, -2.640899896621704, -2.952399969100952, -3.1565001010894775, -3.1910998821258545, -3.4500999450683594, -3.5671000480651855, -3.6164000034332275, -3.739500045776367, -3.890000104904175, -4.026800155639648, -4.1504998207092285, -4.152900218963623, -4.226500034332275, -4.266900062561035, -4.31790018081665, -4.334700107574463, -4.360799789428711, -4.441699981689453, -4.5406999588012695, -4.61959981918335, -4.7204999923706055, -4.7378997802734375, -4.77239990234375, -4.803899765014648, -4.8282999992370605, -4.872900009155273, -5.0040998458862305, -5.014400005340576, -1.8396999835968018, -2.8605000972747803, -3.1431000232696533, -3.2802000045776367, -3.3605000972747803, -3.4296000003814697, -3.4709999561309814, -3.497299909591675, -3.6222000122070312, -3.6486001014709473, -3.7706000804901123, -3.9261999130249023, -3.987499952316284, -4.063000202178955, -4.0802998542785645, -4.0995001792907715, -4.170599937438965, -4.239500045776367, -4.325399875640869, -4.363399982452393, -4.380300045013428, -4.498000144958496, -4.643499851226807, -4.708000183105469, -4.708600044250488, -4.8165998458862305, -4.827499866485596, -4.88539981842041, -4.912799835205078, -4.935200214385986, -2.446899890899658, -2.4786999225616455, -2.583400011062622, -2.6839001178741455, -3.286099910736084, -3.3160998821258545, -3.438800096511841, -3.4856998920440674, -3.548799991607666, -3.774899959564209, -4.0258002281188965, -4.034900188446045, -4.048699855804443, -4.111000061035156, -4.133600234985352, -4.321400165557861, -4.407899856567383, -4.436399936676025, -4.494200229644775, -4.569699764251709, -4.602200031280518, -4.610000133514404, -4.668799877166748, -4.777400016784668, -4.825099945068359, -4.843800067901611, -4.847599983215332, -4.952499866485596, -5.001699924468994, -5.0320000648498535, -2.3475000858306885, -2.3961000442504883, -2.8157999515533447, -3.0457000732421875, -3.234800100326538, -3.3415000438690186, -3.3534998893737793, -3.3677000999450684, -3.5460000038146973, -3.8675999641418457, -3.888200044631958, -4.038099765777588, -4.05810022354126, -4.095600128173828, -4.201399803161621, -4.222400188446045, -4.283899784088135, -4.332499980926514, -4.451300144195557, -4.463600158691406, -4.464099884033203, -4.479400157928467, -4.526700019836426, -4.533299922943115, -4.534599781036377, -4.553400039672852, -4.6691999435424805, -4.77370023727417, -4.780799865722656, -4.823400020599365, -1.7592999935150146, -2.657399892807007, -2.694999933242798, -2.989000082015991, -3.007499933242798, -3.0492000579833984, -3.2428998947143555, -3.311300039291382, -3.351300001144409, -3.7402000427246094, -3.8689000606536865, -3.958899974822998, -4.0559000968933105, -4.3597002029418945, -4.366799831390381, -4.398499965667725, -4.4532999992370605, -4.466400146484375, -4.490900039672852, -4.491300106048584, -4.494100093841553, -4.641499996185303, -4.647500038146973, -4.711900234222412, -5.069300174713135, -5.117800235748291, -5.203499794006348, -5.255499839782715, -5.386199951171875, -5.451099872589111, -2.9021999835968018, -2.71560001373291, -3.009999990463257, -3.1026999950408936, -3.216200113296509, -3.4697000980377197, -3.5408999919891357, -3.5587000846862793, -3.61299991607666, -3.6586999893188477, -3.6607000827789307, -3.676100015640259, -3.69950008392334, -3.716399908065796, -3.8282999992370605, -3.9647998809814453, -4.06279993057251, -4.111599922180176, -4.111599922180176, -4.112599849700928, -4.146900177001953, -4.159200191497803, -4.200500011444092, -4.235799789428711, -4.288000106811523, -4.331299781799316, -4.342100143432617, -4.348899841308594, -4.39169979095459, -4.470799922943115, -4.482699871063232, -1.124400019645691, -2.7428998947143555, -3.0304999351501465, -3.0397000312805176, -3.288800001144409, -3.331399917602539, -3.5536000728607178, -3.639899969100952, -3.695199966430664, -3.9842000007629395, -4.007900238037109, -4.0208001136779785, -4.103099822998047, -4.127099990844727, -4.283100128173828, -4.360300064086914, -4.397900104522705, -4.5096001625061035, -4.517000198364258, -4.582099914550781, -4.615300178527832, -4.678800106048584, -4.834199905395508, -4.951300144195557, -4.952199935913086, -5.013700008392334, -5.031300067901611, -5.043099880218506, -5.307400226593018, -5.366600036621094, -2.3710999488830566, -2.5383999347686768, -2.7850000858306885, -2.8940999507904053, -2.963599920272827, -3.015500068664551, -3.184499979019165, -3.4217000007629395, -3.5529000759124756, -3.6796998977661133, -4.053899765014648, -4.220900058746338, -4.224100112915039, -4.338900089263916, -4.341000080108643, -4.404900074005127, -4.413400173187256, -4.508500099182129, -4.514200210571289, -4.605100154876709, -4.6930999755859375, -4.718200206756592, -4.782299995422363, -4.8125, -4.853400230407715, -4.894899845123291, -4.927299976348877, -5.040999889373779, -5.165599822998047, -5.235899925231934, -3.1373000144958496, -3.4695000648498535, -3.7737998962402344, -2.7435998916625977, -2.841099977493286, -2.972599983215332, -3.1231000423431396, -3.234999895095825, -3.2518999576568604, -3.3194000720977783, -3.372999906539917, -3.493799924850464, -3.5713999271392822, -3.6301000118255615, -3.6891000270843506, -3.765899896621704, -3.811000108718872, -3.846299886703491, -3.874000072479248, -4.041900157928467, -4.054699897766113, -4.100100040435791, -4.117599964141846, -4.182700157165527, -4.191699981689453, -4.236000061035156, -4.279300212860107, -4.416100025177002, -4.522600173950195, -4.539599895477295, -4.591300010681152, -4.6774001121521, -4.703700065612793, -1.0886000394821167, -2.4518001079559326, -2.8329999446868896, -3.324399948120117, -3.354099988937378, -3.6029999256134033, -3.8856000900268555, -3.9402999877929688, -3.986999988555908, -4.133999824523926, -4.201700210571289, -4.211299896240234, -4.3368000984191895, -4.42609977722168, -4.444699764251709, -4.451099872589111, -4.607900142669678, -4.699999809265137, -4.78980016708374, -4.833600044250488, -4.858099937438965, -4.916399955749512, -4.973599910736084, -5.027200222015381, -5.046199798583984, -5.069499969482422, -5.07420015335083, -5.094900131225586, -5.142300128936768, -5.160099983215332, -1.8747999668121338, -1.9503999948501587, -2.3338000774383545, -2.49780011177063, -2.501300096511841, -3.3766000270843506, -3.782900094985962, -3.844599962234497, -4.025400161743164, -4.462800025939941, -4.548500061035156, -4.584099769592285, -4.653299808502197, -4.723899841308594, -4.88730001449585, -4.896599769592285, -4.940000057220459, -4.9695000648498535, -5.057499885559082, -5.208899974822998, -5.2266998291015625, -5.287600040435791, -3.0927999019622803, -5.392300128936768, -5.402200222015381, -5.42080020904541, -5.428299903869629, -5.434800148010254, -5.515500068664551, -5.5457000732421875, -3.27239990234375, -3.1942999362945557, -1.281000018119812, -3.2706000804901123, -3.672300100326538, -3.75219988822937, -3.7588000297546387, -3.77810001373291, -3.8773000240325928, -4.021900177001953, -4.031300067901611, -4.218400001525879, -4.27400016784668, -4.285699844360352, -4.307600021362305, -4.3454999923706055, -4.350599765777588, -4.396200180053711, -4.412199974060059, -4.454999923706055, -4.467899799346924, -4.5721001625061035, -4.593699932098389, -4.701200008392334, -4.712600231170654, -4.715199947357178, -4.757699966430664, -4.7947001457214355, -4.948699951171875, -5.0619001388549805, -5.062099933624268, -5.077600002288818, -2.1475000381469727, -2.224400043487549, -2.673799991607666, -2.948899984359741, -3.0801000595092773, -3.1033999919891357, -3.205399990081787, -3.402400016784668, -3.428800106048584, -3.6891000270843506, -3.7060999870300293, -3.907900094985962, -3.9691998958587646, -4.02810001373291, -4.070700168609619, -4.385000228881836, -4.394499778747559, -4.405700206756592, -4.491499900817871, -4.523600101470947, -4.556399822235107, -4.653900146484375, -4.682000160217285, -4.8506999015808105, -4.857699871063232, -4.883800029754639, -5.021399974822998, -5.025000095367432, -5.081600189208984, -5.203700065612793, -2.7167000770568848, -2.765199899673462, -3.0845000743865967, -3.315000057220459, -3.3652000427246094, -3.390899896621704, -3.4330999851226807, -3.484800100326538, -3.520400047302246, -3.576200008392334, -3.7188000679016113, -3.7221999168395996, -3.7685999870300293, -3.971100091934204, -3.9755001068115234, -4.021100044250488, -4.082900047302246, -4.258900165557861, -4.325699806213379, -4.380499839782715, -4.467100143432617, -4.485400199890137, -4.604000091552734, -4.657299995422363, -4.690000057220459, -4.79640007019043, -4.811800003051758, -4.833199977874756, -4.867499828338623, -4.878699779510498, -1.798799991607666, -2.3345000743865967, -2.439500093460083, -2.5910000801086426, -2.599299907684326, -2.672600030899048, -3.0164999961853027, -3.5362000465393066, -3.596299886703491, -3.623500108718872, -3.6635000705718994, -4.036099910736084, -4.264200210571289, -4.298299789428711, -4.339200019836426, -4.512400150299072, -4.595900058746338, -4.616199970245361, -4.68779993057251, -4.748700141906738, -4.816100120544434, -4.956699848175049, -4.984099864959717, -5.039100170135498, -5.119800090789795, -5.204899787902832, -5.214900016784668, -5.25629997253418, -5.319499969482422, -5.632900238037109, -1.419700026512146, -2.408600091934204, -3.292799949645996, -3.35260009765625, -3.5992000102996826, -3.608599901199341, -3.7311999797821045, -3.8176000118255615, -3.8454999923706055, -4.039700031280518, -4.09660005569458, -4.126800060272217, -4.218900203704834, -4.230400085449219, -4.30210018157959, -4.317800045013428, -4.349999904632568, -4.369900226593018, -4.38129997253418, -4.445700168609619, -4.451700210571289, -4.511499881744385, -4.667699813842773, -4.668900012969971, -4.774199962615967, -4.844299793243408, -4.8531999588012695, -4.898600101470947, -4.945300102233887, -4.984899997711182, -2.131200075149536, -2.904599905014038, -2.946199893951416, -3.0657999515533447, -3.273900032043457, -3.3060998916625977, -3.5172998905181885, -3.5743000507354736, -3.6166999340057373, -3.620699882507324, -3.839600086212158, -3.8640999794006348, -3.8785998821258545, -3.9140000343322754, -4.177999973297119, -4.195799827575684, -4.276400089263916, -4.415999889373779, -4.471799850463867, -4.558800220489502, -4.5777997970581055, -4.585999965667725, -4.594900131225586, -4.606800079345703, -4.606800079345703, -4.6203999519348145, -4.701900005340576, -4.765100002288818, -4.780300140380859, -4.811500072479248]}, \"token.table\": {\"Topic\": [27, 20, 14, 20, 22, 9, 5, 14, 4, 15, 7, 29, 18, 24, 25, 5, 18, 15, 11, 29, 8, 19, 19, 12, 22, 2, 21, 23, 23, 26, 19, 28, 11, 7, 3, 25, 26, 20, 6, 29, 23, 21, 19, 2, 16, 24, 9, 17, 11, 29, 9, 4, 14, 15, 2, 24, 27, 2, 21, 9, 3, 25, 16, 11, 11, 7, 1, 20, 10, 28, 28, 11, 27, 13, 16, 13, 9, 28, 23, 12, 2, 23, 16, 14, 17, 7, 24, 5, 18, 7, 3, 20, 4, 30, 3, 6, 17, 19, 24, 6, 26, 26, 13, 24, 8, 29, 10, 2, 29, 29, 3, 14, 2, 10, 13, 8, 28, 15, 22, 30, 23, 13, 9, 20, 15, 29, 5, 25, 25, 14, 9, 16, 9, 9, 10, 10, 13, 17, 1, 20, 6, 30, 7, 8, 17, 22, 3, 25, 12, 7, 17, 22, 15, 27, 12, 27, 1, 30, 2, 24, 23, 4, 4, 3, 10, 23, 12, 10, 15, 18, 11, 4, 19, 13, 28, 27, 17, 6, 13, 5, 14, 1, 24, 3, 29, 4, 10, 12, 21, 9, 19, 20, 1, 4, 11, 29, 20, 1, 30, 12, 13, 24, 11, 16, 21, 30, 26, 25, 24, 1, 8, 17, 6, 28, 8, 3, 1, 27, 18, 10, 16, 17, 17, 18, 26, 27, 16, 6, 11, 28, 22, 2, 3, 28, 20, 7, 23, 12, 17, 6, 12, 27, 5, 19, 1, 27, 23, 4, 2, 12, 15, 3, 22, 28, 23, 30, 7, 5, 9, 1, 16, 10, 2, 12, 24, 2, 9, 12, 1, 7, 18, 21, 6, 2, 12, 17, 19, 10, 19, 25, 10, 27, 21, 17, 11, 14, 14, 12, 25, 28, 7, 26, 22, 25, 25, 18, 10, 16, 18, 15, 21, 13, 8, 17, 8, 3, 13, 26, 8, 26, 10, 12, 14, 17, 16, 26, 22, 30, 23, 28, 9, 8, 17, 13, 3, 1, 13, 18, 30, 17, 29, 14, 11, 30, 8, 16, 16, 8, 5, 11, 25, 25, 25, 15, 29, 25, 14, 2, 10, 17, 9, 21, 14, 4, 25, 26, 14, 21, 24, 23, 16, 28, 18, 24, 6, 7, 25, 24, 23, 21, 13, 7, 1, 9, 28, 8, 26, 19, 2, 12, 6, 6, 13, 4, 1, 21, 1, 28, 4, 22, 9, 17, 30, 21, 12, 13, 21, 7, 18, 13, 7, 10, 5, 2, 21, 5, 2, 8, 13, 27, 17, 29, 22, 7, 17, 15, 11, 15, 21, 28, 7, 8, 1, 22, 26, 7, 16, 7, 27, 2, 13, 4, 26, 25, 26, 19, 20, 9, 21, 16, 29, 12, 10, 27, 17, 25, 10, 12, 30, 21, 26, 29, 25, 8, 19, 30, 19, 10, 7, 20, 4, 2, 7, 9, 28, 17, 19, 16, 20, 12, 2, 26, 8, 21, 24, 24, 13, 2, 20, 6, 2, 24, 1, 12, 19, 21, 15, 5, 12, 9, 12, 21, 1, 9, 17, 14, 14, 5, 23, 8, 11, 25, 11, 18, 19, 18, 30, 23, 3, 18, 25, 28, 6, 20, 27, 1, 8, 2, 12, 4, 28, 2, 27, 10, 1, 16, 1, 10, 12, 14, 18, 13, 21, 2, 22, 21, 11, 29, 28, 26, 5, 17, 19, 6, 5, 14, 19, 13, 22, 26, 13, 18, 1, 22, 7, 26, 18, 3, 5, 19, 20, 12, 19, 22, 20, 27, 30, 30, 19, 20, 26, 1, 10, 29, 29, 9, 9, 16, 24, 22, 7, 13, 25, 8, 15, 23, 15, 2, 28, 19, 20, 15, 22, 14, 12, 5, 25, 8, 14, 27, 26, 10, 29, 27, 28, 3, 22, 22, 23, 16, 23, 22, 29, 14, 4, 7, 14, 4, 22, 26, 23, 27, 26, 12, 15, 4, 9, 7, 12, 6, 3, 4, 29, 23, 19, 29, 4, 8, 10, 3, 27, 14, 12, 15, 12, 30, 15, 9, 5, 27, 8, 9, 11, 18, 24, 5, 3, 18, 24, 27, 25, 6, 7, 11, 29, 15, 13, 22, 1, 3, 23, 8, 2, 9, 23, 30, 15, 12, 18, 17, 5, 14, 3, 29, 29, 10, 21, 6, 11, 13, 16, 20, 16, 15, 9, 20, 24, 30, 19, 20, 22, 30, 1, 2, 15, 15, 2, 12, 11, 10, 22, 6, 25, 27, 5, 2, 4, 10, 23, 28, 1, 5, 5, 9, 3, 6, 15, 10, 4, 5, 25, 5, 29, 24, 12, 3, 15, 4, 23, 26, 8, 19, 5, 12, 21, 19, 5, 8, 29, 23, 16, 12, 6, 21, 16, 21, 14, 28, 29, 5, 7, 9, 19, 20, 16, 18, 28, 4, 15, 29, 19, 9, 18, 30, 6, 2, 13, 18, 12, 9, 24, 8, 30, 26, 25, 17, 15, 13, 1, 30, 6, 6, 16, 21, 7, 20, 25, 1, 22, 18, 20, 3, 3, 30, 8, 12, 9, 1, 4, 28, 13, 30, 14, 21, 21, 30, 11, 3, 3, 6, 5, 6, 14, 4, 8, 3, 27, 6, 1, 2, 9, 24, 11, 7, 11, 23, 18, 21, 3, 4, 24, 9, 12, 20, 16, 30, 14, 24, 28, 12, 11, 26, 22, 22, 27, 20, 7, 20, 22, 10, 24, 6, 23, 6, 30, 19, 21, 18, 21, 24, 13, 9, 21, 20, 23, 16, 4, 28, 10, 18, 27, 11, 30, 2, 4, 3, 29, 4, 11, 17, 18, 4, 26, 14, 20, 25, 11, 10, 2, 28, 17, 26, 9, 16, 21, 24, 26, 10, 30, 2, 12, 15, 28, 24, 22, 27, 25, 5, 11, 11, 24, 23, 6, 27, 8, 27, 15, 2, 24, 9, 17, 5, 18, 2, 14, 18, 16], \"Freq\": [0.998340904712677, 0.9973585605621338, 0.9702811241149902, 0.9860374331474304, 0.9939422011375427, 0.9937191009521484, 0.9769493341445923, 0.9974968433380127, 0.9910573959350586, 0.9988180994987488, 0.99297696352005, 0.9814825654029846, 0.9951314926147461, 0.9949434995651245, 0.9881054162979126, 0.994893491268158, 0.9949754476547241, 0.9930170178413391, 0.9958333969116211, 0.9951266646385193, 0.9951179027557373, 0.9972335696220398, 0.9963593482971191, 0.9993398785591125, 0.9879400730133057, 0.9814368486404419, 0.017458852380514145, 0.9707191586494446, 0.9979246258735657, 0.9984966516494751, 0.9951353669166565, 0.979618489742279, 0.9944915175437927, 0.9970217347145081, 0.9965324997901917, 0.9944421052932739, 0.9919793009757996, 0.990222156047821, 0.9875083565711975, 0.9919828772544861, 0.9959477782249451, 0.9977348446846008, 0.9950094819068909, 0.9979621767997742, 0.9964770674705505, 0.9970106482505798, 0.9911258816719055, 0.992408037185669, 0.9848454594612122, 0.9884766340255737, 0.9942313432693481, 0.9964016675949097, 0.987540602684021, 0.9967464804649353, 0.9970903396606445, 0.9978070259094238, 0.9977757334709167, 0.11532311141490936, 0.8837260603904724, 0.9986008405685425, 0.9986337423324585, 0.9844188094139099, 0.9908004403114319, 0.9955792427062988, 0.9862939715385437, 0.9885438680648804, 0.9933449625968933, 0.9828615784645081, 0.9990155696868896, 0.9976765513420105, 0.9791336059570312, 0.9948465824127197, 0.9955332279205322, 0.9919921159744263, 0.9927517175674438, 0.9945899844169617, 0.9955644011497498, 0.9664554595947266, 0.9808876514434814, 0.9980989694595337, 0.9989813566207886, 0.9823305606842041, 0.9914942383766174, 0.9985405206680298, 0.9899997115135193, 0.9920549988746643, 0.9962112307548523, 0.9744039177894592, 0.984717071056366, 0.9926917552947998, 0.9809678792953491, 0.9929972290992737, 0.9830620288848877, 0.9956188797950745, 0.9834306836128235, 0.9930939674377441, 0.9978620409965515, 0.9941955804824829, 0.9938544631004333, 0.9982150793075562, 0.9957898855209351, 0.9980773329734802, 0.9983762502670288, 0.9941672086715698, 0.9953088760375977, 0.9982591867446899, 0.9914433360099792, 0.9965365529060364, 0.9931055307388306, 0.9798454642295837, 0.9888418912887573, 0.997351884841919, 0.9997910857200623, 0.9916062951087952, 0.9976460337638855, 0.9963942766189575, 0.998126745223999, 0.9906207919120789, 0.9947028160095215, 0.9978466033935547, 0.9971969723701477, 0.9985132813453674, 0.995130181312561, 0.9964238405227661, 0.9900321364402771, 0.9996297955513, 0.9987682104110718, 0.9945553541183472, 0.9929981827735901, 0.9875078201293945, 0.994717538356781, 0.9900811314582825, 0.9984066486358643, 0.9948363304138184, 0.9985160231590271, 0.9982056021690369, 0.9981397986412048, 0.9940592646598816, 0.9972161650657654, 0.9923341870307922, 0.9940465092658997, 0.995397686958313, 0.9914202094078064, 0.9969857335090637, 0.9889273047447205, 0.9918429255485535, 0.996367871761322, 0.9881201386451721, 0.9967961311340332, 0.9863183498382568, 0.9987408518791199, 0.9973372220993042, 0.990045428276062, 0.9862461686134338, 0.9972736835479736, 0.9961966872215271, 0.994131863117218, 0.998858630657196, 0.28015774488449097, 0.7195588946342468, 0.9776495099067688, 0.9950357675552368, 0.9929361939430237, 0.9984763264656067, 0.9965439438819885, 0.988728404045105, 0.9974538087844849, 0.9924238920211792, 0.9947161674499512, 0.9889706969261169, 0.9922991991043091, 0.9934451580047607, 0.99400794506073, 0.9871759414672852, 0.9829014539718628, 0.9973703026771545, 0.9938483238220215, 0.9954933524131775, 0.9965440034866333, 0.9911397099494934, 0.9884454011917114, 0.9923115372657776, 0.9960586428642273, 0.9837911128997803, 0.9923388957977295, 0.9885975122451782, 0.9944672584533691, 0.2088625282049179, 0.789880096912384, 0.9968204498291016, 0.9982845783233643, 0.9957473874092102, 0.9962579011917114, 0.9909712672233582, 0.9934613108634949, 0.9941853880882263, 0.9962330460548401, 0.989031970500946, 0.9881502985954285, 0.9971989989280701, 0.9966498017311096, 0.9922977685928345, 0.988042414188385, 0.998663067817688, 0.9994884133338928, 0.9977132678031921, 0.9968088865280151, 0.9923524856567383, 0.9981721639633179, 0.987155020236969, 0.9961366653442383, 0.9834288358688354, 0.9938786625862122, 0.9943853616714478, 0.996997594833374, 0.9836437106132507, 0.9859785437583923, 0.9896537065505981, 0.9892466068267822, 0.9946340322494507, 0.9803284406661987, 0.9847114682197571, 0.9960709810256958, 0.9983710050582886, 0.9963335394859314, 0.9826495051383972, 0.9912509918212891, 0.9845458269119263, 0.9955611228942871, 0.9837865233421326, 0.9932262897491455, 0.9974151253700256, 0.9869174957275391, 0.935681939125061, 0.9947599172592163, 0.9983887672424316, 0.9898191094398499, 0.9981634020805359, 0.9880079627037048, 0.988942563533783, 0.9976382255554199, 0.9944182634353638, 0.9929713606834412, 0.9964125752449036, 0.9976235628128052, 0.9968357086181641, 0.9778388738632202, 0.9965905547142029, 0.6392528414726257, 0.35841602087020874, 0.99932861328125, 0.9970241189002991, 0.9956154227256775, 0.9617851972579956, 0.9951869249343872, 0.9879544377326965, 0.9969688653945923, 0.9870821833610535, 0.9976251721382141, 0.9879922866821289, 0.9980619549751282, 0.9913433194160461, 0.9241740703582764, 0.07433240860700607, 0.9960665106773376, 0.9964849352836609, 0.9538638591766357, 0.04532616212964058, 0.9914385676383972, 0.9984191060066223, 0.9943849444389343, 0.9967429041862488, 0.9964563846588135, 0.9971948862075806, 0.9988575577735901, 0.9886046648025513, 0.9984598159790039, 0.9963694214820862, 0.9928628206253052, 0.9937155842781067, 0.9979701042175293, 0.995802104473114, 0.9976156949996948, 0.9912553429603577, 0.9955469369888306, 0.9982971549034119, 0.9844875931739807, 0.9933661222457886, 0.0037987232208251953, 0.9720051288604736, 0.979388415813446, 0.9972640872001648, 0.9972200393676758, 0.9944055080413818, 0.9936653971672058, 0.9977989196777344, 0.9968374371528625, 0.99697345495224, 0.9981584548950195, 0.9906476140022278, 0.999516487121582, 0.9914249777793884, 0.996405303478241, 0.9929459095001221, 0.9942131042480469, 0.9825776815414429, 0.995272159576416, 0.999514639377594, 0.9972992539405823, 0.9937164187431335, 0.9993526935577393, 0.9991851449012756, 0.9871451258659363, 0.9973218441009521, 0.9963089823722839, 0.9943833947181702, 0.9863179922103882, 0.9902132749557495, 0.9796538352966309, 0.9560340642929077, 0.992766261100769, 0.993037223815918, 0.9988064169883728, 0.9944471716880798, 0.9729022979736328, 0.9952723979949951, 0.9862486720085144, 0.9890448451042175, 0.994937539100647, 0.9847680926322937, 0.9947364330291748, 0.9781186580657959, 0.9956899881362915, 0.998214602470398, 0.9972370266914368, 0.9839905500411987, 0.9946107268333435, 0.9982699155807495, 0.9984423518180847, 0.9895062446594238, 0.9995171427726746, 0.9920492172241211, 0.985130250453949, 0.9940012097358704, 0.990302324295044, 0.9917072653770447, 0.9889448881149292, 0.9998400211334229, 0.9971388578414917, 0.9901705384254456, 0.024782685562968254, 0.9744551777839661, 0.9967013597488403, 0.9945781826972961, 0.9939257502555847, 0.9908027052879333, 0.9776976704597473, 0.9994857907295227, 0.9997292160987854, 0.9814320206642151, 0.9831045269966125, 0.9908987879753113, 0.9963365197181702, 0.9997267127037048, 0.9891484379768372, 0.9963387250900269, 0.9846622347831726, 0.990609884262085, 0.9827688336372375, 0.9948923587799072, 0.9965001940727234, 0.9930878281593323, 0.9991113543510437, 0.9968351125717163, 0.9969887733459473, 0.9954511523246765, 0.9921554327011108, 0.9949488043785095, 0.9989245533943176, 0.9982655048370361, 0.9949251413345337, 0.9961998462677002, 0.9870819449424744, 0.993986189365387, 0.9944475293159485, 0.9975877404212952, 0.9865773916244507, 0.9664371609687805, 0.9983014464378357, 0.9895954132080078, 0.9988465905189514, 0.9827268719673157, 0.9981269240379333, 0.9950181245803833, 0.9983779788017273, 0.9950849413871765, 0.9969445466995239, 0.9940345287322998, 0.9946416020393372, 0.99123615026474, 0.9956203103065491, 0.997806191444397, 0.9950352907180786, 0.9989703297615051, 0.9938735365867615, 0.9871328473091125, 0.9964223504066467, 0.9942439198493958, 0.9926839470863342, 0.9887502789497375, 0.9838688373565674, 0.9923878312110901, 0.9962554574012756, 0.9850513935089111, 0.9970117807388306, 0.9934166073799133, 0.9927121996879578, 0.9971725344657898, 0.9950957894325256, 0.9775076508522034, 0.9938873052597046, 0.9953207969665527, 0.9979280829429626, 0.9974343776702881, 0.9990042448043823, 0.9973662495613098, 0.9882381558418274, 0.9939596652984619, 0.985910952091217, 0.9991565346717834, 0.9943506717681885, 0.9884487986564636, 0.9988219141960144, 0.9864368438720703, 0.9985737800598145, 0.9931961297988892, 0.984836995601654, 0.8106520175933838, 0.18848493695259094, 0.9966012239456177, 0.9933604598045349, 0.9972683787345886, 0.9989176988601685, 0.9901657104492188, 0.9858914613723755, 0.9941686987876892, 0.8610355257987976, 0.13219217956066132, 0.985630989074707, 0.9980160593986511, 0.987213134765625, 0.9914417862892151, 0.9901981949806213, 0.9988510608673096, 0.996971845626831, 0.9947608709335327, 0.9942819476127625, 0.9965631365776062, 0.993339478969574, 0.9985665678977966, 0.9781261682510376, 0.9977002739906311, 0.9937601685523987, 0.9977763295173645, 0.9732692837715149, 0.9787731170654297, 0.9955013394355774, 0.9950551390647888, 0.984250009059906, 0.9994370937347412, 0.9953075647354126, 0.99482262134552, 0.9947000741958618, 0.9987972378730774, 0.9964268207550049, 0.9996514320373535, 0.9982935786247253, 0.9989785552024841, 0.9997725486755371, 0.9952327013015747, 0.9966082572937012, 0.9897246956825256, 0.9879913926124573, 0.9997555017471313, 0.9929485321044922, 0.9988530278205872, 0.9837833046913147, 0.9874406456947327, 0.9968598484992981, 0.8555992841720581, 0.14293541014194489, 0.997967541217804, 0.9847225546836853, 0.9934492111206055, 0.9850736260414124, 0.9898841977119446, 0.9847797155380249, 0.9838863611221313, 0.9786508083343506, 0.9965024590492249, 0.994467556476593, 0.9878222346305847, 0.9977456331253052, 0.9951909780502319, 0.9967350363731384, 0.9940789937973022, 0.9940890073776245, 0.991712749004364, 0.99898362159729, 0.9988489747047424, 0.9940304756164551, 0.992531418800354, 0.9904717206954956, 0.9828495383262634, 0.9976896643638611, 0.9955365657806396, 0.9959264397621155, 0.019257333129644394, 0.9804639220237732, 0.9931577444076538, 0.9654545783996582, 0.9969407916069031, 0.9983065724372864, 0.9965289831161499, 0.99472975730896, 0.9876391291618347, 0.9908732771873474, 0.005809431429952383, 0.9934127926826477, 0.9874101281166077, 0.9983900189399719, 0.9991489052772522, 0.9969372153282166, 0.999369740486145, 0.9916456937789917, 0.997725248336792, 0.9911133646965027, 0.9920140504837036, 0.9986228942871094, 0.9965505599975586, 0.9983149170875549, 0.994800329208374, 0.9931900501251221, 0.9896606206893921, 0.9741499423980713, 0.9925167560577393, 0.9975713491439819, 0.9900417327880859, 0.9953033328056335, 0.9948664307594299, 0.9985221028327942, 0.9977999925613403, 0.9927764534950256, 0.998480498790741, 0.9822812080383301, 0.992419421672821, 0.9991164207458496, 0.986590564250946, 0.9971330761909485, 0.9944905042648315, 0.9765542149543762, 0.9985867738723755, 0.9925405979156494, 0.996496856212616, 0.9973421096801758, 0.9970750212669373, 0.9979217052459717, 0.9973481297492981, 0.9974667429924011, 0.986866295337677, 0.985125720500946, 0.9942429661750793, 0.9977595210075378, 0.9799158573150635, 0.9882803559303284, 0.9991454482078552, 0.9987514615058899, 0.989263653755188, 0.9989719390869141, 0.9979867935180664, 0.9943714141845703, 0.9915642738342285, 0.9931014776229858, 0.9951863288879395, 0.9962292909622192, 0.9996073246002197, 0.9958502054214478, 0.995846688747406, 0.9958759546279907, 0.9984325170516968, 0.9941121339797974, 0.9865711331367493, 0.9977991580963135, 0.9941444993019104, 0.9986053109169006, 0.999512255191803, 0.9950015544891357, 0.9930800199508667, 0.9941240549087524, 0.9936559796333313, 0.9951390027999878, 0.9972527027130127, 0.9956154227256775, 0.9959965944290161, 0.9739524126052856, 0.9921913743019104, 0.9946316480636597, 0.9884102940559387, 0.991084098815918, 0.988498330116272, 0.9964205622673035, 0.9946813583374023, 0.9899023771286011, 0.9876132607460022, 0.996793270111084, 0.9848911166191101, 0.9894675612449646, 0.9941321611404419, 0.9905607104301453, 0.9978358745574951, 0.9918035864830017, 0.9882194995880127, 0.9992054104804993, 0.9967396259307861, 0.9966902136802673, 0.5469347238540649, 0.4417549967765808, 0.9968840479850769, 0.9988042116165161, 0.9907767176628113, 0.9998148679733276, 0.9950082898139954, 0.9900643229484558, 0.9921293258666992, 0.996482253074646, 0.9968331456184387, 0.995039165019989, 0.9942039847373962, 0.9993892908096313, 0.9847942590713501, 0.9947295188903809, 0.9901482462882996, 0.9988536238670349, 0.993593692779541, 0.9995005130767822, 0.9947735071182251, 0.9975947737693787, 0.9979633688926697, 0.9972040057182312, 0.9827355146408081, 0.9964262247085571, 0.9961113333702087, 0.9948741793632507, 0.9971994757652283, 0.9997467994689941, 0.9975594282150269, 0.9986100196838379, 0.9948508143424988, 0.9989323019981384, 0.9908038973808289, 0.9960359334945679, 0.9878348708152771, 0.9816653728485107, 0.9935499429702759, 0.9790659546852112, 0.9970123171806335, 0.9963805079460144, 0.9964878559112549, 0.9947429299354553, 0.9779505729675293, 0.9913866519927979, 0.9979391098022461, 0.9974548816680908, 0.9986873269081116, 0.9759374856948853, 0.9899296760559082, 0.9943601489067078, 0.020829927176237106, 0.978235125541687, 0.9882559180259705, 0.9879887700080872, 0.982151448726654, 0.9883357286453247, 0.9958466291427612, 0.9898263812065125, 0.9973300695419312, 0.9959688782691956, 0.9825078845024109, 0.9970911741256714, 0.9886283874511719, 0.9851560592651367, 0.9901642203330994, 0.9832673072814941, 0.9976879358291626, 0.9995985627174377, 0.9907424449920654, 0.9967238306999207, 0.993243932723999, 0.9951993823051453, 0.9967445731163025, 0.9967109560966492, 0.9918786287307739, 0.996422529220581, 0.9966729283332825, 0.9975677132606506, 0.9844193458557129, 0.9996008276939392, 0.9992204308509827, 0.9946961998939514, 0.9949190616607666, 0.9971169233322144, 0.9828792214393616, 0.9934939742088318, 0.9925257563591003, 0.9945056438446045, 0.9991386532783508, 0.9842190146446228, 0.997730553150177, 0.9731278419494629, 0.9735344648361206, 0.9925171732902527, 0.9838084578514099, 0.9876314401626587, 0.9962597489356995, 0.9890453219413757, 0.9949133396148682, 0.9959712624549866, 0.9965881705284119, 0.9862267971038818, 0.9863377809524536, 0.9921825528144836, 0.9875536561012268, 0.9968372583389282, 0.9983223080635071, 0.9987388253211975, 0.9815865159034729, 0.993248462677002, 0.9951282143592834, 0.983230471611023, 0.994755208492279, 0.9937131404876709, 0.9967676401138306, 0.9807414412498474, 0.998162031173706, 0.9985886216163635, 0.9951829314231873, 0.9949935674667358, 0.9966292381286621, 0.9937025904655457, 0.9724475145339966, 0.9931031465530396, 0.9991511702537537, 0.9979680776596069, 0.9957876801490784, 0.9901355504989624, 0.9973156452178955, 0.9959949851036072, 0.9960649013519287, 0.9844034314155579, 0.9860124588012695, 0.9966123104095459, 0.9982328414916992, 0.9976715445518494, 0.9987856149673462, 0.9984765648841858, 0.9947785139083862, 0.9682700634002686, 0.9989107847213745, 0.9925461411476135, 0.9916083812713623, 0.9909591674804688, 0.9963447451591492, 0.9874725937843323, 0.9923209547996521, 0.9768340587615967, 0.9971088171005249, 0.998238742351532, 0.998925507068634, 0.9982358813285828, 0.03932395204901695, 0.9597324132919312, 0.9955496788024902, 0.9848240613937378, 0.9985651969909668, 0.9963164329528809, 0.9912776947021484, 0.9925326704978943, 0.9929980635643005, 0.9851284027099609, 0.9918901920318604, 0.9951112866401672, 0.9726133942604065, 0.9851104617118835, 0.9972806572914124, 0.9968268275260925, 0.9920021295547485, 0.9830009937286377, 0.9923155903816223, 0.9878417253494263, 0.9933608174324036, 0.9939178228378296, 0.9851266145706177, 0.9942177534103394, 0.9875723719596863, 0.9944734573364258, 0.9991258382797241, 0.9945040941238403, 0.9902928471565247, 0.9965354204177856, 0.9892553091049194, 0.9968231916427612, 0.9894571900367737, 0.9799291491508484, 0.999434769153595, 0.9957401156425476, 0.9904891848564148, 0.994673490524292, 0.9982938170433044, 0.9788024425506592, 0.9964469075202942, 0.975263237953186, 0.9900575280189514, 0.9807201623916626, 0.9889540076255798, 0.9981642365455627, 0.9863650798797607, 0.9809671640396118, 0.9983803629875183, 0.9963122010231018, 0.9992287158966064, 0.005914528388530016, 0.9931479096412659, 0.9877797365188599, 0.9946141242980957, 0.9938664436340332, 0.9795145392417908, 0.9921833872795105, 0.999671220779419, 0.9906428456306458, 0.9917640089988708, 0.9960249066352844, 0.9943317770957947, 0.998311460018158, 0.993887186050415, 0.9940784573554993, 0.9923805594444275, 0.9954193234443665, 0.9928774833679199, 0.9836968779563904, 0.9981579184532166, 0.9896841645240784, 0.9951146841049194, 0.9930378198623657, 0.9874882698059082, 0.992563784122467, 0.9990671277046204, 0.9970885515213013, 0.9859628081321716, 0.9930691719055176, 0.9958786964416504, 0.9917873740196228, 0.9854481816291809, 0.9910650253295898, 0.993604838848114, 0.991335928440094, 0.9957727193832397, 0.9953828454017639, 0.9952404499053955, 0.9993838667869568, 0.9924771189689636, 0.9895763993263245, 0.9977427124977112, 0.9969125390052795, 0.9945597648620605, 0.9881013631820679, 0.9858496785163879, 0.9980604648590088, 0.9947782754898071, 0.9903887510299683, 0.9996755719184875, 0.9941045641899109, 0.9895985722541809, 0.9958468079566956, 0.9944366812705994, 0.9891932010650635, 0.9871076345443726, 0.9777200818061829, 0.9908110499382019, 0.9965896010398865, 0.9907267093658447, 0.9918010830879211, 0.9864124059677124, 0.9922301173210144, 0.9922480583190918, 0.9969601631164551, 0.9926701784133911, 0.9935806393623352, 0.9935493469238281, 0.9992504119873047, 0.9840267300605774, 0.9963335394859314, 0.995364785194397, 0.9979598522186279, 0.9983553886413574, 0.9990376234054565, 0.9971227049827576, 0.9915695190429688, 0.9985349774360657, 0.9936895966529846, 0.12904830276966095, 0.8704322576522827, 0.9949234127998352, 0.9940425753593445, 0.995405375957489, 0.9970538020133972, 0.99559485912323, 0.9895322322845459, 0.9858604073524475, 0.988620400428772, 0.9889543652534485, 0.997033953666687, 0.9908918738365173, 0.9959934949874878, 0.9937471151351929, 0.9996659159660339, 0.9934877753257751, 0.9943410754203796, 0.9988259077072144, 0.9997205138206482, 0.9971705675125122, 0.9955934882164001, 0.9948054552078247, 0.9989620447158813, 0.9982159733772278, 0.9863810539245605, 0.9963162541389465, 0.994925856590271], \"Term\": [\"able\", \"absolutely\", \"access\", \"accurate\", \"acrylic\", \"action\", \"actual\", \"actually\", \"adapter\", \"add\", \"addition\", \"additional\", \"adjust\", \"adore\", \"adult\", \"age\", \"ago\", \"air\", \"album\", \"alive\", \"allow\", \"almost\", \"already\", \"also\", \"alternative\", \"always\", \"always\", \"amazed\", \"amazing\", \"amazon\", \"amount\", \"angle\", \"annoying\", \"anyone\", \"anything\", \"anyway\", \"apart\", \"appear\", \"appetite\", \"application\", \"apply\", \"area\", \"arm\", \"arrive\", \"art\", \"artist\", \"ask\", \"aspect\", \"audio\", \"auto\", \"automatic\", \"available\", \"average\", \"aware\", \"away\", \"awesome\", \"baby\", \"back\", \"back\", \"bad\", \"bag\", \"bake\", \"barely\", \"base\", \"basic\", \"basically\", \"bath\", \"bathroom\", \"battery\", \"be\", \"beach\", \"beat\", \"beautiful\", \"because\", \"become\", \"begin\", \"believe\", \"belly\", \"belt\", \"better\", \"big\", \"bike\", \"birthday\", \"bit\", \"bite\", \"bl\", \"black\", \"blast\", \"blend\", \"bling\", \"block\", \"blue\", \"bluetooth\", \"body\", \"bolt\", \"book\", \"bottle\", \"bottom\", \"bowl\", \"box\", \"boy\", \"brand\", \"break\", \"bright\", \"bring\", \"brush\", \"buck\", \"build\", \"bulky\", \"bundle\", \"business\", \"button\", \"buy\", \"cable\", \"call\", \"camera\", \"can\", \"canon\", \"cap\", \"car\", \"card\", \"care\", \"carrier\", \"carry\", \"cartridge\", \"case\", \"cat\", \"cd\", \"cell\", \"cereal\", \"certainly\", \"challenge\", \"change\", \"character\", \"charge\", \"charger\", \"cheap\", \"check\", \"chemical\", \"chew\", \"chicken\", \"child\", \"chip\", \"chocolate\", \"choice\", \"choose\", \"christma\", \"city\", \"class\", \"classic\", \"clean\", \"clear\", \"clearly\", \"click\", \"close\", \"coffee\", \"cold\", \"color\", \"come\", \"come\", \"comfort\", \"comfortable\", \"compact\", \"company\", \"compare\", \"complain\", \"complaint\", \"complete\", \"completely\", \"compliment\", \"computer\", \"condition\", \"consider\", \"constantly\", \"construct\", \"contain\", \"container\", \"continue\", \"control\", \"controller\", \"cook\", \"cookie\", \"cool\", \"copy\", \"cord\", \"correct\", \"cost\", \"could\", \"could\", \"couple\", \"cover\", \"crazy\", \"create\", \"crowd\", \"crown\", \"crystal\", \"cup\", \"curl\", \"customer_service\", \"cut\", \"cute\", \"dark\", \"date\", \"daughter\", \"day\", \"deal\", \"decide\", \"definately\", \"definitely\", \"delicious\", \"deliver\", \"depend\", \"describe\", \"description\", \"design\", \"desire\", \"desk\", \"detail\", \"develop\", \"device\", \"die\", \"diet\", \"difference\", \"different\", \"difficult\", \"difficulty\", \"dip\", \"direct\", \"direction\", \"directly\", \"disappoint\", \"disappointed\", \"disc\", \"discard\", \"dishwasher\", \"do\", \"dock\", \"dog\", \"doll\", \"door\", \"draw\", \"drink\", \"drive\", \"drop\", \"dry\", \"durable\", \"dust\", \"ear\", \"easily\", \"easily\", \"easy\", \"eat\", \"edge\", \"edit\", \"effect\", \"effective\", \"else\", \"email\", \"end\", \"energy\", \"enjoy\", \"enjoyment\", \"enough\", \"enough\", \"entire\", \"especially\", \"even\", \"even\", \"evening\", \"ever\", \"everyone\", \"everything\", \"exactly\", \"excellent\", \"expect\", \"expectation\", \"expensive\", \"experience\", \"experiment\", \"explore\", \"extra\", \"extremely\", \"eye\", \"fabric\", \"fabulous\", \"face\", \"facial\", \"fact\", \"fact\", \"factor\", \"fake\", \"fall\", \"family\", \"fan\", \"fantastic\", \"far\", \"fast\", \"favorite\", \"feature\", \"feed\", \"feel\", \"fence\", \"figure\", \"fill\", \"film\", \"filter\", \"finally\", \"find\", \"fine\", \"finish\", \"first\", \"fit\", \"five_star\", \"fix\", \"flavor\", \"flimsy\", \"flip\", \"floor\", \"flow\", \"flower\", \"fly\", \"follow\", \"food\", \"foot\", \"football\", \"forever\", \"forget\", \"formula\", \"forward\", \"fragrance\", \"free\", \"frequently\", \"fresh\", \"friend\", \"front\", \"fruit\", \"frustrated\", \"full\", \"fun\", \"funny\", \"game\", \"gameplay\", \"gaming\", \"gate\", \"gel\", \"gem\", \"generally\", \"get\", \"gift\", \"girl\", \"give\", \"give\", \"glad\", \"glass\", \"glitch\", \"glove\", \"glow\", \"go\", \"good\", \"gps\", \"granddaughter\", \"grandson\", \"graphic\", \"great\", \"green\", \"ground\", \"group\", \"grow\", \"guarantee\", \"guess\", \"guitar\", \"guy\", \"hair\", \"halo\", \"hand\", \"handle\", \"handy\", \"happen\", \"happy\", \"hard\", \"harmful\", \"head\", \"headphone\", \"headset\", \"healthy\", \"hear\", \"heat\", \"heavy_duty\", \"help\", \"helpful\", \"high\", \"highly\", \"highly_recommend\", \"hit\", \"hold\", \"holder\", \"home\", \"hook\", \"hope\", \"horrible\", \"hot\", \"hour\", \"house\", \"however\", \"huge\", \"hurt\", \"husband\", \"image\", \"immediately\", \"important\", \"impress\", \"inch\", \"include\", \"incredibly\", \"ingredient\", \"ink\", \"instal\", \"install\", \"instead\", \"intend\", \"intense\", \"interesting\", \"iphone\", \"issue\", \"item\", \"job\", \"juice\", \"jump\", \"junk\", \"keep\", \"key\", \"keyboard\", \"kid\", \"kill\", \"kind\", \"kit\", \"kitchen\", \"know\", \"know\", \"label\", \"lack\", \"large\", \"last\", \"leaf\", \"leak\", \"learn\", \"least\", \"least\", \"leather\", \"leave\", \"lemon\", \"length\", \"leopard\", \"less\", \"let\", \"level\", \"lie\", \"life\", \"lift\", \"light\", \"lightweight\", \"like\", \"likely\", \"line\", \"link\", \"lip\", \"list\", \"listen\", \"litter\", \"little\", \"live\", \"local\", \"lol\", \"long\", \"longer\", \"look\", \"lose\", \"lot\", \"love\", \"lovely\", \"low\", \"machine\", \"main\", \"make\", \"manufacturer\", \"many\", \"mask\", \"master\", \"material\", \"may\", \"may\", \"maybe\", \"meal\", \"mean\", \"meet\", \"mess\", \"message\", \"mic\", \"milk\", \"mind\", \"mine\", \"mini\", \"minute\", \"miss\", \"mix\", \"mode\", \"moisturizer\", \"mom\", \"money\", \"month\", \"morning\", \"mostly\", \"mother\", \"mouth\", \"move\", \"movement\", \"movie\", \"much\", \"much\", \"multiple\", \"muscle\", \"music\", \"must\", \"name\", \"natural\", \"ne\", \"neck\", \"need\", \"need\", \"nephew\", \"never\", \"new\", \"next\", \"nice\", \"nicely\", \"night\", \"noise\", \"normal\", \"not\", \"note\", \"nothing\", \"notice\", \"number\", \"nut\", \"obvious\", \"obviously\", \"offer\", \"office\", \"often\", \"oil\", \"old\", \"one\", \"online\", \"open\", \"opening\", \"opinion\", \"order\", \"organic\", \"other\", \"otherwise\", \"ounce\", \"overall\", \"own\", \"pack\", \"package\", \"page\", \"paint\", \"painting\", \"part\", \"party\", \"pass\", \"past\", \"pay\", \"pc\", \"pen\", \"pencil\", \"people\", \"pepper\", \"perfect\", \"perfectly\", \"perform\", \"perfume\", \"perk\", \"person\", \"pet\", \"phone\", \"photo\", \"pick\", \"picture\", \"piece\", \"pill\", \"pillow\", \"place\", \"plan\", \"plastic\", \"play\", \"player\", \"pleasant\", \"please\", \"pleased\", \"plenty\", \"plug\", \"pocket\", \"point\", \"pokemon\", \"poor\", \"pop\", \"popcorn\", \"port\", \"portable\", \"post\", \"pouch\", \"pound\", \"powder\", \"power\", \"powerful\", \"pre\", \"prefer\", \"pressure\", \"pretty\", \"previous\", \"previously\", \"price\", \"print\", \"printer\", \"pro\", \"pro\", \"probably\", \"problem\", \"process\", \"product\", \"professional\", \"program\", \"properly\", \"protect\", \"protection\", \"provide\", \"pull\", \"purchase\", \"purchasing\", \"purpose\", \"purse\", \"put\", \"puzzle\", \"quality\", \"quick\", \"quickly\", \"quite\", \"range\", \"rarely\", \"razor\", \"read\", \"ready\", \"real\", \"really\", \"reason\", \"receive\", \"recently\", \"recommend\", \"record\", \"red\", \"refund\", \"regard\", \"release\", \"relief\", \"remove\", \"replace\", \"replacement\", \"research\", \"response\", \"rest\", \"result\", \"return\", \"review\", \"reward\", \"rid\", \"ride\", \"right\", \"right\", \"rinse\", \"rip\", \"risk\", \"roast\", \"rub\", \"rubber\", \"run\", \"s\", \"sadly\", \"safe\", \"sale\", \"salt\", \"sandbox\", \"satisfy\", \"save\", \"say\", \"scale\", \"scent\", \"school\", \"scratch\", \"screen\", \"screen_protector\", \"search\", \"season\", \"seat\", \"second\", \"secure\", \"see\", \"seem\", \"sell\", \"seller\", \"send\", \"sensitive_skin\", \"series\", \"serve\", \"service\", \"set\", \"setup\", \"several\", \"shade\", \"shame\", \"shampoo\", \"share\", \"sharp\", \"sharpen\", \"shell\", \"shine\", \"ship\", \"shipping\", \"shock\", \"shoe\", \"shoot\", \"shop\", \"short\", \"show\", \"side\", \"side_effect\", \"significant\", \"silver\", \"sim\", \"similar\", \"single\", \"sit\", \"site\", \"size\", \"skin\", \"sleep\", \"slide\", \"slight\", \"slip\", \"slot\", \"slow\", \"small\", \"smell\", \"smooth\", \"snack\", \"snap\", \"soap\", \"soft\", \"software\", \"solve\", \"someone\", \"something\", \"sometimes\", \"son\", \"song\", \"soon\", \"soooo\", \"sound\", \"space\", \"sparkle\", \"special\", \"spend\", \"spot\", \"spray\", \"squeeze\", \"stand\", \"star\", \"start\", \"stay\", \"still\", \"still\", \"stop\", \"storage\", \"store\", \"story\", \"straight\", \"strap\", \"string\", \"strip\", \"stroller\", \"strong\", \"struggle\", \"study\", \"stuff\", \"sturdy\", \"style\", \"suck\", \"sugar\", \"suggest\", \"sun\", \"super\", \"supplement\", \"supplier\", \"supply\", \"suppose\", \"sure\", \"surprise\", \"sweet\", \"switch\", \"symptom\", \"system\", \"table\", \"tablet\", \"take\", \"talk\", \"tank\", \"tape\", \"taste\", \"tasty\", \"tea\", \"team\", \"tear\", \"tech\", \"technology\", \"tell\", \"terrible\", \"text\", \"thank\", \"thick\", \"thing\", \"think\", \"think\", \"third\", \"thoroughly\", \"throw\", \"thumb\", \"thus\", \"time\", \"tin\", \"tiny\", \"tip\", \"today\", \"together\", \"ton\", \"tone\", \"toner\", \"tool\", \"tooth\", \"toothbrush\", \"top\", \"total\", \"totally\", \"touch\", \"tough\", \"toxic\", \"toy\", \"track\", \"train\", \"transform\", \"travel\", \"treat\", \"treatment\", \"trim\", \"trouble\", \"truck\", \"true\", \"truly\", \"trust\", \"try\", \"tube\", \"tune\", \"turn\", \"type\", \"typical\", \"uncomfortable\", \"unique\", \"unit\", \"update\", \"usb\", \"use\", \"useful\", \"user\", \"usually\", \"value\", \"variety\", \"vehicle\", \"vendor\", \"verizon\", \"version\", \"vet\", \"vibrant\", \"visit\", \"vitamin\", \"volume\", \"wait\", \"walk\", \"walker\", \"wall\", \"want\", \"warm\", \"wash\", \"waste\", \"watch\", \"water\", \"way\", \"wear\", \"website\", \"week\", \"weight\", \"well\", \"well\", \"wet\", \"what\", \"white\", \"whole\", \"wife\", \"wii\", \"wind\", \"window\", \"wire\", \"wish\", \"wonder\", \"wonderful\", \"word\", \"work\", \"world\", \"worry\", \"worth\", \"would\", \"write\", \"wrong\", \"xbox\", \"year\", \"year_old\", \"yellow\", \"yet\", \"young\"]}, \"R\": 30, \"lambda.step\": 0.01, \"plot.opts\": {\"xlab\": \"PC1\", \"ylab\": \"PC2\"}, \"topic.order\": [1, 2, 3, 4, 5, 6, 7, 8, 9, 10, 11, 12, 13, 14, 15, 16, 17, 18, 19, 20, 21, 22, 23, 24, 25, 26, 27, 28, 29, 30]};\n",
       "\n",
       "function LDAvis_load_lib(url, callback){\n",
       "  var s = document.createElement('script');\n",
       "  s.src = url;\n",
       "  s.async = true;\n",
       "  s.onreadystatechange = s.onload = callback;\n",
       "  s.onerror = function(){console.warn(\"failed to load library \" + url);};\n",
       "  document.getElementsByTagName(\"head\")[0].appendChild(s);\n",
       "}\n",
       "\n",
       "if(typeof(LDAvis) !== \"undefined\"){\n",
       "   // already loaded: just create the visualization\n",
       "   !function(LDAvis){\n",
       "       new LDAvis(\"#\" + \"ldavis_el71768745073846440019863\", ldavis_el71768745073846440019863_data);\n",
       "   }(LDAvis);\n",
       "}else if(typeof define === \"function\" && define.amd){\n",
       "   // require.js is available: use it to load d3/LDAvis\n",
       "   require.config({paths: {d3: \"https://cdnjs.cloudflare.com/ajax/libs/d3/3.5.5/d3.min\"}});\n",
       "   require([\"d3\"], function(d3){\n",
       "      window.d3 = d3;\n",
       "      LDAvis_load_lib(\"https://cdn.rawgit.com/bmabey/pyLDAvis/files/ldavis.v1.0.0.js\", function(){\n",
       "        new LDAvis(\"#\" + \"ldavis_el71768745073846440019863\", ldavis_el71768745073846440019863_data);\n",
       "      });\n",
       "    });\n",
       "}else{\n",
       "    // require.js not available: dynamically load d3 & LDAvis\n",
       "    LDAvis_load_lib(\"https://cdnjs.cloudflare.com/ajax/libs/d3/3.5.5/d3.min.js\", function(){\n",
       "         LDAvis_load_lib(\"https://cdn.rawgit.com/bmabey/pyLDAvis/files/ldavis.v1.0.0.js\", function(){\n",
       "                 new LDAvis(\"#\" + \"ldavis_el71768745073846440019863\", ldavis_el71768745073846440019863_data);\n",
       "            })\n",
       "         });\n",
       "}\n",
       "</script>"
      ],
      "text/plain": [
       "<IPython.core.display.HTML object>"
      ]
     },
     "execution_count": 81,
     "metadata": {},
     "output_type": "execute_result"
    }
   ],
   "source": [
    "import pyLDAvis.gensim\n",
    "pyLDAvis.enable_notebook()\n",
    "vis = pyLDAvis.gensim.prepare(lda_model, corpus, dct,mds='tsne',sort_topics=False)\n",
    "pyLDAvis.display(vis)"
   ]
  },
  {
   "cell_type": "code",
   "execution_count": 82,
   "metadata": {},
   "outputs": [],
   "source": [
    "pyLDAvis.save_html(vis, 'lda.html')"
   ]
  },
  {
   "cell_type": "markdown",
   "metadata": {},
   "source": [
    "# Find optimal number of topics"
   ]
  },
  {
   "cell_type": "code",
   "execution_count": 103,
   "metadata": {},
   "outputs": [],
   "source": [
    "def compute_coherence_values(dictionary, corpus, texts, limit, start=2, step=3):\n",
    "    \"\"\"\n",
    "    Compute c_v coherence for various number of topics\n",
    "\n",
    "    Parameters:\n",
    "    ----------\n",
    "    dictionary : Gensim dictionary\n",
    "    corpus : Gensim corpus\n",
    "    texts : List of input texts\n",
    "    limit : Max num of topics\n",
    "\n",
    "    Returns:\n",
    "    -------\n",
    "    model_list : List of LDA topic models\n",
    "    coherence_values : Coherence values corresponding to the LDA model with respective number of topics\n",
    "    \"\"\"\n",
    "    coherence_values = []\n",
    "    model_list = []\n",
    "    for num_topics in range(start, limit, step):\n",
    "        model = gensim.models.ldamodel.LdaModel(corpus=corpus,\n",
    "                                           id2word=dictionary,\n",
    "                                           num_topics=num_topics, \n",
    "                                           random_state=100,\n",
    "                                           update_every=1,\n",
    "                                           chunksize=100,\n",
    "                                           passes=10,\n",
    "                                           alpha='auto',\n",
    "                                           per_word_topics=True)\n",
    "        #model = gensim.models.wrappers.LdaMallet(mallet_path, corpus=corpus, num_topics=num_topics, id2word=id2word)\n",
    "        model_list.append(model)\n",
    "        # Compute Coherence Score\n",
    "        coherence_model = CoherenceModel(model=model, texts=texts, dictionary=dictionary, coherence='c_v')\n",
    "        coherence_values.append(coherence_model.get_coherence())\n",
    "    return model_list, coherence_values"
   ]
  },
  {
   "cell_type": "code",
   "execution_count": 104,
   "metadata": {},
   "outputs": [],
   "source": [
    "# Can take a long time to run.\n",
    "model_list, coherence_values = compute_coherence_values(dictionary=id2word, corpus=train, texts=data_lemmatized, start=10, limit=100, step=10)"
   ]
  },
  {
   "cell_type": "code",
   "execution_count": 105,
   "metadata": {},
   "outputs": [
    {
     "data": {
      "image/png": "[encoded data removed]",
      "text/plain": [
       "<Figure size 432x288 with 1 Axes>"
      ]
     },
     "metadata": {
      "needs_background": "light"
     },
     "output_type": "display_data"
    }
   ],
   "source": [
    "# Show graph\n",
    "limit=100; start=10; step=10;\n",
    "x = range(start, limit, step)\n",
    "plt.plot(x, coherence_values)\n",
    "plt.xlabel(\"Num Topics\")\n",
    "plt.ylabel(\"Coherence score\")\n",
    "plt.legend((\"coherence_values\"), loc='best')\n",
    "plt.show()"
   ]
  },
  {
   "cell_type": "code",
   "execution_count": 106,
   "metadata": {},
   "outputs": [
    {
     "name": "stdout",
     "output_type": "stream",
     "text": [
      "[(4,\n",
      "  '0.211*\"hair\" + 0.088*\"shipping\" + 0.037*\"moisturizer\" + 0.036*\"style\" + '\n",
      "  '0.032*\"acrylic\" + 0.032*\"healthy\" + 0.029*\"grandson\" + 0.026*\"shampoo\" + '\n",
      "  '0.025*\"bath\" + 0.022*\"dry\"'),\n",
      " (10,\n",
      "  '0.132*\"song\" + 0.073*\"draw\" + 0.063*\"album\" + 0.059*\"low\" + 0.046*\"artist\" '\n",
      "  '+ 0.041*\"beautiful\" + 0.034*\"improvement\" + 0.030*\"sell\" + 0.023*\"birthday\" '\n",
      "  '+ 0.020*\"performance\"'),\n",
      " (9,\n",
      "  '0.161*\"fun\" + 0.127*\"son\" + 0.057*\"husband\" + 0.051*\"glad\" + '\n",
      "  '0.033*\"enjoyment\" + 0.032*\"world\" + 0.030*\"sprint\" + 0.025*\"worry\" + '\n",
      "  '0.024*\"chance\" + 0.023*\"controller\"'),\n",
      " (26,\n",
      "  '0.093*\"baby\" + 0.092*\"change\" + 0.089*\"able\" + 0.052*\"cup\" + 0.045*\"coffee\" '\n",
      "  '+ 0.041*\"tone\" + 0.039*\"drink\" + 0.034*\"wife\" + 0.032*\"extremely\" + '\n",
      "  '0.032*\"crystal\"'),\n",
      " (22,\n",
      "  '0.152*\"battery\" + 0.138*\"charge\" + 0.063*\"charger\" + 0.049*\"red\" + '\n",
      "  '0.049*\"mix\" + 0.033*\"ball\" + 0.031*\"name\" + 0.030*\"regular\" + '\n",
      "  '0.027*\"multiple\" + 0.023*\"cable\"'),\n",
      " (7,\n",
      "  '0.213*\"color\" + 0.118*\"smell\" + 0.066*\"paint\" + 0.029*\"forever\" + '\n",
      "  '0.028*\"craft\" + 0.027*\"spray\" + 0.027*\"vibrant\" + 0.026*\"pleased\" + '\n",
      "  '0.024*\"match\" + 0.021*\"tape\"'),\n",
      " (29,\n",
      "  '0.170*\"lot\" + 0.132*\"food\" + 0.116*\"help\" + 0.100*\"dog\" + 0.027*\"supplier\" '\n",
      "  '+ 0.022*\"delivery\" + 0.022*\"bowl\" + 0.021*\"chew\" + 0.018*\"popcorn\" + '\n",
      "  '0.017*\"pound\"'),\n",
      " (25,\n",
      "  '0.113*\"kid\" + 0.072*\"card\" + 0.043*\"oil\" + 0.031*\"foot\" + 0.030*\"movement\" '\n",
      "  '+ 0.025*\"fill\" + 0.024*\"wary\" + 0.024*\"perk\" + 0.019*\"useful\" + '\n",
      "  '0.019*\"stock\"'),\n",
      " (12,\n",
      "  '0.157*\"money\" + 0.134*\"worth\" + 0.069*\"system\" + 0.057*\"couple\" + '\n",
      "  '0.049*\"anyway\" + 0.047*\"waste\" + 0.047*\"contain\" + 0.026*\"air\" + '\n",
      "  '0.023*\"decent\" + 0.022*\"buying\"'),\n",
      " (6,\n",
      "  '0.128*\"last\" + 0.119*\"brush\" + 0.113*\"box\" + 0.111*\"clean\" + 0.073*\"bottle\" '\n",
      "  '+ 0.058*\"wash\" + 0.028*\"pop\" + 0.025*\"straight\" + 0.020*\"container\" + '\n",
      "  '0.020*\"cap\"'),\n",
      " (19,\n",
      "  '0.154*\"feel\" + 0.090*\"skin\" + 0.086*\"small\" + 0.053*\"size\" + 0.044*\"dry\" + '\n",
      "  '0.043*\"large\" + 0.041*\"area\" + 0.037*\"face\" + 0.031*\"chemical\" + '\n",
      "  '0.028*\"eye\"'),\n",
      " (18,\n",
      "  '0.046*\"material\" + 0.043*\"thick\" + 0.035*\"already\" + 0.034*\"print\" + '\n",
      "  '0.034*\"exactly\" + 0.032*\"flavor\" + 0.031*\"drop\" + 0.030*\"offer\" + '\n",
      "  '0.029*\"protect\" + 0.028*\"note\"'),\n",
      " (39,\n",
      "  '0.114*\"put\" + 0.082*\"toy\" + 0.072*\"cat\" + 0.071*\"hard\" + 0.062*\"top\" + '\n",
      "  '0.053*\"nothing\" + 0.048*\"kind\" + 0.040*\"fact\" + 0.039*\"range\" + '\n",
      "  '0.032*\"other\"'),\n",
      " (31,\n",
      "  '0.280*\"buy\" + 0.079*\"could\" + 0.065*\"never\" + 0.049*\"break\" + 0.044*\"cheap\" '\n",
      "  '+ 0.037*\"care\" + 0.037*\"star\" + 0.028*\"replace\" + 0.026*\"wait\" + '\n",
      "  '0.025*\"pack\"'),\n",
      " (13,\n",
      "  '0.296*\"love\" + 0.097*\"purchase\" + 0.063*\"do\" + 0.062*\"not\" + '\n",
      "  '0.043*\"daughter\" + 0.035*\"brand\" + 0.033*\"be\" + 0.032*\"gift\" + 0.024*\"next\" '\n",
      "  '+ 0.022*\"whole\"'),\n",
      " (3,\n",
      "  '0.035*\"tell\" + 0.030*\"else\" + 0.022*\"awesome\" + 0.019*\"movie\" + '\n",
      "  '0.019*\"figure\" + 0.018*\"interesting\" + 0.017*\"bring\" + 0.016*\"slight\" + '\n",
      "  '0.015*\"camera\" + 0.014*\"scent\"'),\n",
      " (2,\n",
      "  '0.036*\"less\" + 0.026*\"full\" + 0.023*\"easily\" + 0.022*\"fine\" + 0.017*\"power\" '\n",
      "  '+ 0.016*\"wrong\" + 0.015*\"cool\" + 0.015*\"design\" + 0.015*\"stop\" + '\n",
      "  '0.014*\"remove\"'),\n",
      " (17,\n",
      "  '0.141*\"good\" + 0.131*\"great\" + 0.119*\"product\" + 0.083*\"use\" + 0.075*\"look\" '\n",
      "  '+ 0.055*\"try\" + 0.048*\"find\" + 0.045*\"price\" + 0.033*\"year\" + 0.031*\"nice\"'),\n",
      " (1,\n",
      "  '0.084*\"time\" + 0.071*\"go\" + 0.058*\"much\" + 0.056*\"take\" + 0.050*\"say\" + '\n",
      "  '0.046*\"first\" + 0.040*\"give\" + 0.033*\"thing\" + 0.032*\"want\" + 0.031*\"may\"'),\n",
      " (11,\n",
      "  '0.083*\"get\" + 0.056*\"work\" + 0.053*\"make\" + 0.051*\"would\" + 0.043*\"really\" '\n",
      "  '+ 0.042*\"well\" + 0.037*\"little\" + 0.030*\"also\" + 0.029*\"come\" + '\n",
      "  '0.027*\"need\"')]\n"
     ]
    }
   ],
   "source": [
    "# Select the model and print the topics\n",
    "optimal_model = model_list[3]\n",
    "model_topics = optimal_model.show_topics(formatted=False)\n",
    "pprint(optimal_model.print_topics(num_words=10))"
   ]
  },
  {
   "cell_type": "code",
   "execution_count": null,
   "metadata": {},
   "outputs": [],
   "source": [
    "# Print the coherence scores\n",
    "for m, cv in zip(x, coherence_values):\n",
    "    print(\"Num Topics =\", m, \" has Coherence Value of\", round(cv, 4))"
   ]
  },
  {
   "cell_type": "markdown",
   "metadata": {},
   "source": [
    "# Building LDA Mallet Model"
   ]
  },
  {
   "cell_type": "code",
   "execution_count": 102,
   "metadata": {},
   "outputs": [
    {
     "ename": "CalledProcessError",
     "evalue": "Command 'C:\\Xiaomeng\\mallet\\bin\\mallet import-file --preserve-case --keep-sequence --remove-stopwords --token-regex \"\\S+\" --input C:\\Users\\Xiaomeng\\AppData\\Local\\Temp\\384278_corpus.txt --output C:\\Users\\Xiaomeng\\AppData\\Local\\Temp\\384278_corpus.mallet' returned non-zero exit status 1.",
     "output_type": "error",
     "traceback": [
      "\u001b[1;31m---------------------------------------------------------------------------\u001b[0m",
      "\u001b[1;31mCalledProcessError\u001b[0m                        Traceback (most recent call last)",
      "\u001b[1;32m<ipython-input-102-c1fdc46815f6>\u001b[0m in \u001b[0;36m<module>\u001b[1;34m()\u001b[0m\n\u001b[0;32m     12\u001b[0m \u001b[1;31m#mallet_path = 'C:/Users/Xiaomeng/OneDrive/Project/Category Dataframe/mallet/bin/mallet' # update this path\u001b[0m\u001b[1;33m\u001b[0m\u001b[1;33m\u001b[0m\u001b[0m\n\u001b[0;32m     13\u001b[0m \u001b[1;31m#mallet_path = 'C:\\Users\\Xiaomeng\\OneDrive\\Project\\Category Dataframe\\mallet\\bin\\mallet' # update this path\u001b[0m\u001b[1;33m\u001b[0m\u001b[1;33m\u001b[0m\u001b[0m\n\u001b[1;32m---> 14\u001b[1;33m \u001b[0mldamallet\u001b[0m \u001b[1;33m=\u001b[0m \u001b[0mLdaMallet\u001b[0m\u001b[1;33m(\u001b[0m\u001b[0mmallet_path\u001b[0m\u001b[1;33m,\u001b[0m \u001b[0mcorpus\u001b[0m\u001b[1;33m=\u001b[0m\u001b[0mtrain\u001b[0m\u001b[1;33m,\u001b[0m \u001b[0mnum_topics\u001b[0m\u001b[1;33m=\u001b[0m\u001b[1;36m30\u001b[0m\u001b[1;33m,\u001b[0m \u001b[0mid2word\u001b[0m\u001b[1;33m=\u001b[0m\u001b[0mid2word\u001b[0m\u001b[1;33m)\u001b[0m\u001b[1;33m\u001b[0m\u001b[0m\n\u001b[0m",
      "\u001b[1;32m~\\Anaconda3\\lib\\site-packages\\gensim\\models\\wrappers\\ldamallet.py\u001b[0m in \u001b[0;36m__init__\u001b[1;34m(self, mallet_path, corpus, num_topics, alpha, id2word, workers, prefix, optimize_interval, iterations, topic_threshold)\u001b[0m\n\u001b[0;32m    124\u001b[0m         \u001b[0mself\u001b[0m\u001b[1;33m.\u001b[0m\u001b[0miterations\u001b[0m \u001b[1;33m=\u001b[0m \u001b[0miterations\u001b[0m\u001b[1;33m\u001b[0m\u001b[0m\n\u001b[0;32m    125\u001b[0m         \u001b[1;32mif\u001b[0m \u001b[0mcorpus\u001b[0m \u001b[1;32mis\u001b[0m \u001b[1;32mnot\u001b[0m \u001b[1;32mNone\u001b[0m\u001b[1;33m:\u001b[0m\u001b[1;33m\u001b[0m\u001b[0m\n\u001b[1;32m--> 126\u001b[1;33m             \u001b[0mself\u001b[0m\u001b[1;33m.\u001b[0m\u001b[0mtrain\u001b[0m\u001b[1;33m(\u001b[0m\u001b[0mcorpus\u001b[0m\u001b[1;33m)\u001b[0m\u001b[1;33m\u001b[0m\u001b[0m\n\u001b[0m\u001b[0;32m    127\u001b[0m \u001b[1;33m\u001b[0m\u001b[0m\n\u001b[0;32m    128\u001b[0m     \u001b[1;32mdef\u001b[0m \u001b[0mfinferencer\u001b[0m\u001b[1;33m(\u001b[0m\u001b[0mself\u001b[0m\u001b[1;33m)\u001b[0m\u001b[1;33m:\u001b[0m\u001b[1;33m\u001b[0m\u001b[0m\n",
      "\u001b[1;32m~\\Anaconda3\\lib\\site-packages\\gensim\\models\\wrappers\\ldamallet.py\u001b[0m in \u001b[0;36mtrain\u001b[1;34m(self, corpus)\u001b[0m\n\u001b[0;32m    265\u001b[0m \u001b[1;33m\u001b[0m\u001b[0m\n\u001b[0;32m    266\u001b[0m         \"\"\"\n\u001b[1;32m--> 267\u001b[1;33m         \u001b[0mself\u001b[0m\u001b[1;33m.\u001b[0m\u001b[0mconvert_input\u001b[0m\u001b[1;33m(\u001b[0m\u001b[0mcorpus\u001b[0m\u001b[1;33m,\u001b[0m \u001b[0minfer\u001b[0m\u001b[1;33m=\u001b[0m\u001b[1;32mFalse\u001b[0m\u001b[1;33m)\u001b[0m\u001b[1;33m\u001b[0m\u001b[0m\n\u001b[0m\u001b[0;32m    268\u001b[0m         \u001b[0mcmd\u001b[0m \u001b[1;33m=\u001b[0m \u001b[0mself\u001b[0m\u001b[1;33m.\u001b[0m\u001b[0mmallet_path\u001b[0m \u001b[1;33m+\u001b[0m \u001b[1;34m' train-topics --input %s --num-topics %s  --alpha %s --optimize-interval %s '\u001b[0m\u001b[0;31m\\\u001b[0m\u001b[1;33m\u001b[0m\u001b[0m\n\u001b[0;32m    269\u001b[0m             \u001b[1;34m'--num-threads %s --output-state %s --output-doc-topics %s --output-topic-keys %s '\u001b[0m\u001b[0;31m\\\u001b[0m\u001b[1;33m\u001b[0m\u001b[0m\n",
      "\u001b[1;32m~\\Anaconda3\\lib\\site-packages\\gensim\\models\\wrappers\\ldamallet.py\u001b[0m in \u001b[0;36mconvert_input\u001b[1;34m(self, corpus, infer, serialize_corpus)\u001b[0m\n\u001b[0;32m    254\u001b[0m             \u001b[0mcmd\u001b[0m \u001b[1;33m=\u001b[0m \u001b[0mcmd\u001b[0m \u001b[1;33m%\u001b[0m \u001b[1;33m(\u001b[0m\u001b[0mself\u001b[0m\u001b[1;33m.\u001b[0m\u001b[0mfcorpustxt\u001b[0m\u001b[1;33m(\u001b[0m\u001b[1;33m)\u001b[0m\u001b[1;33m,\u001b[0m \u001b[0mself\u001b[0m\u001b[1;33m.\u001b[0m\u001b[0mfcorpusmallet\u001b[0m\u001b[1;33m(\u001b[0m\u001b[1;33m)\u001b[0m\u001b[1;33m)\u001b[0m\u001b[1;33m\u001b[0m\u001b[0m\n\u001b[0;32m    255\u001b[0m         \u001b[0mlogger\u001b[0m\u001b[1;33m.\u001b[0m\u001b[0minfo\u001b[0m\u001b[1;33m(\u001b[0m\u001b[1;34m\"converting temporary corpus to MALLET format with %s\"\u001b[0m\u001b[1;33m,\u001b[0m \u001b[0mcmd\u001b[0m\u001b[1;33m)\u001b[0m\u001b[1;33m\u001b[0m\u001b[0m\n\u001b[1;32m--> 256\u001b[1;33m         \u001b[0mcheck_output\u001b[0m\u001b[1;33m(\u001b[0m\u001b[0margs\u001b[0m\u001b[1;33m=\u001b[0m\u001b[0mcmd\u001b[0m\u001b[1;33m,\u001b[0m \u001b[0mshell\u001b[0m\u001b[1;33m=\u001b[0m\u001b[1;32mTrue\u001b[0m\u001b[1;33m)\u001b[0m\u001b[1;33m\u001b[0m\u001b[0m\n\u001b[0m\u001b[0;32m    257\u001b[0m \u001b[1;33m\u001b[0m\u001b[0m\n\u001b[0;32m    258\u001b[0m     \u001b[1;32mdef\u001b[0m \u001b[0mtrain\u001b[0m\u001b[1;33m(\u001b[0m\u001b[0mself\u001b[0m\u001b[1;33m,\u001b[0m \u001b[0mcorpus\u001b[0m\u001b[1;33m)\u001b[0m\u001b[1;33m:\u001b[0m\u001b[1;33m\u001b[0m\u001b[0m\n",
      "\u001b[1;32m~\\Anaconda3\\lib\\site-packages\\gensim\\utils.py\u001b[0m in \u001b[0;36mcheck_output\u001b[1;34m(stdout, *popenargs, **kwargs)\u001b[0m\n\u001b[0;32m   1804\u001b[0m             \u001b[0merror\u001b[0m \u001b[1;33m=\u001b[0m \u001b[0msubprocess\u001b[0m\u001b[1;33m.\u001b[0m\u001b[0mCalledProcessError\u001b[0m\u001b[1;33m(\u001b[0m\u001b[0mretcode\u001b[0m\u001b[1;33m,\u001b[0m \u001b[0mcmd\u001b[0m\u001b[1;33m)\u001b[0m\u001b[1;33m\u001b[0m\u001b[0m\n\u001b[0;32m   1805\u001b[0m             \u001b[0merror\u001b[0m\u001b[1;33m.\u001b[0m\u001b[0moutput\u001b[0m \u001b[1;33m=\u001b[0m \u001b[0moutput\u001b[0m\u001b[1;33m\u001b[0m\u001b[0m\n\u001b[1;32m-> 1806\u001b[1;33m             \u001b[1;32mraise\u001b[0m \u001b[0merror\u001b[0m\u001b[1;33m\u001b[0m\u001b[0m\n\u001b[0m\u001b[0;32m   1807\u001b[0m         \u001b[1;32mreturn\u001b[0m \u001b[0moutput\u001b[0m\u001b[1;33m\u001b[0m\u001b[0m\n\u001b[0;32m   1808\u001b[0m     \u001b[1;32mexcept\u001b[0m \u001b[0mKeyboardInterrupt\u001b[0m\u001b[1;33m:\u001b[0m\u001b[1;33m\u001b[0m\u001b[0m\n",
      "\u001b[1;31mCalledProcessError\u001b[0m: Command 'C:\\Xiaomeng\\mallet\\bin\\mallet import-file --preserve-case --keep-sequence --remove-stopwords --token-regex \"\\S+\" --input C:\\Users\\Xiaomeng\\AppData\\Local\\Temp\\384278_corpus.txt --output C:\\Users\\Xiaomeng\\AppData\\Local\\Temp\\384278_corpus.mallet' returned non-zero exit status 1."
     ]
    }
   ],
   "source": [
    "import os\n",
    "from gensim.models.wrappers import LdaMallet\n",
    "os.environ.update({'MALLET_HOME':r'C:/Xiaomeng/mallet/'})\n",
    "mallet_path = 'C:\\\\Xiaomeng\\\\mallet\\\\bin\\\\mallet' # update this path\n",
    "\n",
    "#ldamallet = gensim.models.wrappers.LdaMallet(mallet_path, corpus=corpus, num_topics=3, id2word=id2word)\n",
    "\n",
    "#result = (ldamallet.show_topics(num_topics=3, num_words=10,formatted=False))\n",
    "#for each in result:\n",
    "#print (each)\n",
    "#os.environ['MALLET_HOME'] = 'C:/Users/Xiaomeng/OneDrive/Project/Category Dataframe/mallet'\n",
    "#mallet_path = 'C:/Users/Xiaomeng/OneDrive/Project/Category Dataframe/mallet/bin/mallet' # update this path\n",
    "#mallet_path = 'C:\\Users\\Xiaomeng\\OneDrive\\Project\\Category Dataframe\\mallet\\bin\\mallet' # update this path\n",
    "ldamallet = LdaMallet(mallet_path, corpus=train, num_topics=30, id2word=id2word)"
   ]
  },
  {
   "cell_type": "code",
   "execution_count": null,
   "metadata": {},
   "outputs": [],
   "source": [
    "# Show Topics\n",
    "pprint(ldamallet.show_topics(formatted=False))\n",
    "\n",
    "# Compute Coherence Score\n",
    "coherence_model_ldamallet = CoherenceModel(model=ldamallet, texts=data_lemmatized, dictionary=id2word, coherence='c_v')\n",
    "coherence_ldamallet = coherence_model_ldamallet.get_coherence()\n",
    "print('\\nCoherence Score: ', coherence_ldamallet)"
   ]
  },
  {
   "cell_type": "code",
   "execution_count": 83,
   "metadata": {},
   "outputs": [],
   "source": [
    "def compute_coherence_values(dictionary, corpus, texts, limit, start=2, step=3):\n",
    "    \"\"\"\n",
    "    Compute c_v coherence for various number of topics\n",
    "\n",
    "    Parameters:\n",
    "    ----------\n",
    "    dictionary : Gensim dictionary\n",
    "    corpus : Gensim corpus\n",
    "    texts : List of input texts\n",
    "    limit : Max num of topics\n",
    "\n",
    "    Returns:\n",
    "    -------\n",
    "    model_list : List of LDA topic models\n",
    "    coherence_values : Coherence values corresponding to the LDA model with respective number of topics\n",
    "    \"\"\"\n",
    "    coherence_values = []\n",
    "    model_list = []\n",
    "    for num_topics in range(start, limit, step):\n",
    "        model = gensim.models.wrappers.LdaMallet(mallet_path, corpus=corpus, num_topics=num_topics, id2word=id2word)\n",
    "        model_list.append(model)\n",
    "        coherencemodel = CoherenceModel(model=model, texts=texts, dictionary=dictionary, coherence='c_v')\n",
    "        coherence_values.append(coherencemodel.get_coherence())\n",
    "\n",
    "    return model_list, coherence_values"
   ]
  },
  {
   "cell_type": "code",
   "execution_count": null,
   "metadata": {},
   "outputs": [],
   "source": []
  },
  {
   "cell_type": "raw",
   "metadata": {},
   "source": [
    "# Can take a long time to run.\n",
    "model_list, coherence_values = compute_coherence_values(dictionary=dct, corpus=corpus, texts=data_lemmatized, start=2, limit=40, step=6)"
   ]
  },
  {
   "cell_type": "code",
   "execution_count": 121,
   "metadata": {},
   "outputs": [],
   "source": [
    "# Build LDA model with the result from hyperparameter tuning\n",
    "lda_model_2 = gensim.models.LdaMulticore(corpus=train,\n",
    "                                           id2word=id2word,\n",
    "                                           num_topics=30, \n",
    "                                           random_state=100,\n",
    "                                           chunksize=100,\n",
    "                                           passes=10,\n",
    "                                           alpha=0.6,\n",
    "                                            eta=0.05,\n",
    "                                           per_word_topics=True)\n",
    "\n",
    "lda_model_2.save(\"lda_model2_gensim\")"
   ]
  },
  {
   "cell_type": "code",
   "execution_count": 122,
   "metadata": {},
   "outputs": [
    {
     "name": "stdout",
     "output_type": "stream",
     "text": [
      "53.35352006056018\n"
     ]
    }
   ],
   "source": [
    "theta, _ = lda_model_2.inference(train)\n",
    "theta /= theta.sum(axis=1)[:, None]\n",
    "theta_df_train = pd.DataFrame(theta)\n",
    "\n",
    "theta, _ = lda_model_2.inference(test)\n",
    "theta /= theta.sum(axis=1)[:, None]\n",
    "theta_df_test = pd.DataFrame(theta)\n",
    "\n",
    "\n",
    "from sklearn import svm\n",
    "x = theta_df_train\n",
    "y = list(all_data_df.iloc[train_index]['category'])\n",
    "\n",
    "clf = svm.LinearSVC()\n",
    "clf.fit(x,y)\n",
    "result = clf.predict(theta_df_test)\n",
    "\n",
    "i = 0\n",
    "for y,y_pred in zip(all_data_df.iloc[test_index]['category'],result):\n",
    "    if y == y_pred:\n",
    "        i +=1\n",
    "        \n",
    "print(i/len(result)*100)"
   ]
  },
  {
   "cell_type": "code",
   "execution_count": null,
   "metadata": {},
   "outputs": [],
   "source": [
    "lda_model_2 = gensim.models.LdaModel.load(\"lda_model2_gensim\")\n",
    "theta, _ = lda_model_2.inference(train)\n",
    "theta /= theta.sum(axis=1)[:, None]\n",
    "theta_df_test = pd.DataFrame(theta)\n",
    "tsne = TSNE(n_components=2, perplexity=50)\n",
    "\n",
    "# Clean and sample the data from each categories\n",
    "#theta_df_clean = theta_df[ theta_df['category'] != \"\" ]\n",
    "#theta_df_grouped = theta_df_clean.groupby(['category'])\n",
    "#theta_df_grouped = theta_df_grouped.apply(lambda x: x.sample(frac=0.3))\n",
    "# TSNE is taking too long for bigger dataset\n",
    "reduced_X = theta_df_grouped.sample(n=6000)\n",
    "\n",
    "\n",
    "tsne_data = tsne.fit_transform(reduced_X.ix[:, :30])\n",
    "tsne_data = pd.DataFrame(tsne_data, columns=[\"dim1\", \"dim2\"])\n",
    "tsne_data.plot(\"dim1\", \"dim2\", kind=\"scatter\")"
   ]
  },
  {
   "cell_type": "code",
   "execution_count": null,
   "metadata": {},
   "outputs": [],
   "source": [
    "tsne_data"
   ]
  },
  {
   "cell_type": "code",
   "execution_count": null,
   "metadata": {},
   "outputs": [],
   "source": [
    "    # label_marker dictionary for true labels\n",
    "    unqique_label = np.unique(result_df['labels_predict'].tolist())\n",
    "    unqique_true_label = np.unique(result_df['label'].tolist())\n",
    "    markers = ['o','*','s']\n",
    "    keys = [str(x) for x in unqique_true_label]\n",
    "    true_label_dict = dict(zip(keys, markers))\n",
    "    \n",
    "    for k in unqique_predict_label:\n",
    "        result_df.loc[(result_df['labels_predict']== k),'color'] = label_dict[str(int(k))]\n",
    "            \n",
    "    for kt in unqique_true_label:\n",
    "        result_df.loc[(result_df['label']== kt),'marker'] = true_label_dict[str(kt)]\n",
    "    "
   ]
  },
  {
   "cell_type": "code",
   "execution_count": 124,
   "metadata": {},
   "outputs": [
    {
     "name": "stdout",
     "output_type": "stream",
     "text": [
      "\n",
      "Perplexity:  -7.176296894845806\n",
      "\n",
      "Coherence Score:  0.018783704509758883\n"
     ]
    }
   ],
   "source": [
    "# Compute Perplexity\n",
    "print('\\nPerplexity: ', lda_model_2.log_perplexity(corpus))  # a measure of how good the model is. lower the better.\n",
    "\n",
    "# Compute Coherence Score\n",
    "coherence_model_lda = CoherenceModel(model=lda_model_2, corpus=test,texts=data_lemmatized, dictionary=id2word, coherence='c_npmi')\n",
    "coherence_lda = coherence_model_lda.get_coherence()\n",
    "print('\\nCoherence Score: ', coherence_lda)"
   ]
  },
  {
   "cell_type": "code",
   "execution_count": null,
   "metadata": {
    "scrolled": true
   },
   "outputs": [],
   "source": [
    "import pyLDAvis.gensim\n",
    "pyLDAvis.enable_notebook()\n",
    "vis = pyLDAvis.gensim.prepare(lda_model, corpus, id2word,mds='tsne')\n",
    "pyLDAvis.display(vis)"
   ]
  },
  {
   "cell_type": "code",
   "execution_count": null,
   "metadata": {},
   "outputs": [],
   "source": [
    "#tsne_data['label'] = list(theta_df_test['category'])\n",
    "from ggplot import *\n",
    "ggplot(tsne_data, aes(x='dim1', y='dim2', color='category')) +\\\n",
    "    geom_point()"
   ]
  },
  {
   "cell_type": "code",
   "execution_count": null,
   "metadata": {},
   "outputs": [],
   "source": []
  }
 ],
 "metadata": {
  "kernelspec": {
   "display_name": "Python 3",
   "language": "python",
   "name": "python3"
  },
  "language_info": {
   "codemirror_mode": {
    "name": "ipython",
    "version": 3
   },
   "file_extension": ".py",
   "mimetype": "text/x-python",
   "name": "python",
   "nbconvert_exporter": "python",
   "pygments_lexer": "ipython3",
   "version": "3.7.0"
  }
 },
 "nbformat": 4,
 "nbformat_minor": 2
}
