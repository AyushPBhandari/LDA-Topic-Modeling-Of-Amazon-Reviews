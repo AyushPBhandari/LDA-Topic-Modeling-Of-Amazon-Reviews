{
 "cells": [
  {
   "cell_type": "code",
   "execution_count": 2,
   "metadata": {},
   "outputs": [],
   "source": [
    "import re\n",
    "import numpy as np\n",
    "import pandas as pd\n",
    "from pprint import pprint\n",
    "import pickle\n",
    "import numpy as np\n",
    "\n",
    "# Gensim\n",
    "import gensim\n",
    "from gensim import corpora\n",
    "from gensim.utils import simple_preprocess\n",
    "from gensim.models import CoherenceModel\n",
    "#from gensim.parsing.preprocessing import STOPWORDS\n",
    "\n",
    "# spacy for lemmatization\n",
    "import spacy\n",
    "\n",
    "# Plotting tools\n",
    "import pyLDAvis\n",
    "import  pyLDAvis.gensim # don't skip this\n",
    "from matplotlib import pyplot as plt\n",
    "\n",
    "\n",
    "import nltk\n",
    "from nltk.corpus import stopwords\n",
    "# from stop_words import get_stop_words\n",
    "\n",
    "# Enable logging for gensim - optional\n",
    "import logging\n",
    "logging.basicConfig(format='%(asctime)s : %(levelname)s : %(message)s', level=logging.ERROR)\n",
    "\n",
    "import warnings\n",
    "warnings.filterwarnings(\"ignore\",category=DeprecationWarning)"
   ]
  },
  {
   "cell_type": "code",
   "execution_count": 2,
   "metadata": {},
   "outputs": [
    {
     "data": {
      "text/plain": [
       "'C:\\\\Users\\\\peng.x\\\\OneDrive\\\\Project\\\\Category Dataframe'"
      ]
     },
     "execution_count": 2,
     "metadata": {},
     "output_type": "execute_result"
    }
   ],
   "source": [
    "import os\n",
    "cwd = os.getcwd()\n",
    "data_dir = os.path.join(cwd,'Category Dataframe')\n",
    "os.chdir(data_dir)\n",
    "data_dir"
   ]
  },
  {
   "cell_type": "markdown",
   "metadata": {},
   "source": [
    "df1 = pd.read_pickle(\"df_1_0.001.pkl\")\n",
    "df2 = pd.read_pickle(\"df_2_0.001.pkl\")\n",
    "df3 = pd.read_pickle(\"df_3_0.001.pkl\")\n",
    "df4 = pd.read_pickle(\"df_4_0.001.pkl\")\n",
    "df5 = pd.read_pickle(\"df_5_0.001.pkl\")\n",
    "df6 = pd.read_pickle(\"df_6_0.001.pkl\")\n",
    "df7 = pd.read_pickle(\"df_7_0.001.pkl\")\n",
    "df8 = pd.read_pickle(\"df_8_0.001.pkl\")\n",
    "df9 = pd.read_pickle(\"df_9_0.001.pkl\")\n",
    "df10 = pd.read_pickle(\"df_10_0.001.pkl\")\n",
    "df11 = pd.read_pickle(\"df_11_0.001.pkl\")\n",
    "df12 = pd.read_pickle(\"df_12_0.001.pkl\")\n",
    "df13 = pd.read_pickle(\"df_13_0.001.pkl\")\n",
    "df14 = pd.read_pickle(\"df_14_0.001.pkl\")\n",
    "df15 = pd.read_pickle(\"df_15_0.001.pkl\")\n",
    "df16 = pd.read_pickle(\"df_16_0.001.pkl\")\n",
    "df17 = pd.read_pickle(\"df_17_0.001.pkl\")\n",
    "df18 = pd.read_pickle(\"df_18_0.001.pkl\")\n",
    "df19 = pd.read_pickle(\"df_19_0.001.pkl\")\n",
    "\n",
    "complete_df = [df1,df2,df3,df4,df5,df6,df7,df8,df9,df10,df11,df12,,df13,df14,df15,df16,df17,df18,df19]"
   ]
  },
  {
   "cell_type": "code",
   "execution_count": null,
   "metadata": {},
   "outputs": [],
   "source": []
  },
  {
   "cell_type": "code",
   "execution_count": 3,
   "metadata": {},
   "outputs": [],
   "source": [
    "file = open('data_lemmatized.pkl', 'rb')\n",
    "# dump information to that file\n",
    "data_lemmatized = pickle.load(file)\n",
    "# close the file\n",
    "file.close()"
   ]
  },
  {
   "cell_type": "code",
   "execution_count": 4,
   "metadata": {},
   "outputs": [
    {
     "name": "stdout",
     "output_type": "stream",
     "text": [
      "[[(0, 3), (1, 1), (2, 1), (3, 1), (4, 1), (5, 1), (6, 1), (7, 1), (8, 1), (9, 1), (10, 1), (11, 1)]]\n"
     ]
    }
   ],
   "source": [
    "# Create Dictionary\n",
    "id2word  = corpora.Dictionary(data_lemmatized)\n",
    "# Filter out word with frequency < 10 and max number of 10000\n",
    "id2word.filter_extremes(no_below=10, keep_n = 10000)\n",
    "# Create Corpus\n",
    "texts = data_lemmatized\n",
    "\n",
    "# Term Document Frequency\n",
    "corpus = [id2word.doc2bow(text) for text in texts]\n",
    "\n",
    "# View\n",
    "print(corpus[:1])"
   ]
  },
  {
   "cell_type": "code",
   "execution_count": 5,
   "metadata": {
    "scrolled": true
   },
   "outputs": [
    {
     "name": "stdout",
     "output_type": "stream",
     "text": [
      "good\n",
      "use\n",
      "great\n",
      "love\n",
      "work\n",
      "product\n",
      "buy\n",
      "make\n",
      "time\n",
      "well\n",
      "get\n",
      "go\n",
      "look\n",
      "much\n",
      "take\n",
      "come\n",
      "little\n",
      "try\n",
      "price\n",
      "recommend\n",
      "find\n",
      "easy\n",
      "year\n",
      "need\n",
      "think\n",
      "say\n",
      "give\n",
      "day\n",
      "want\n",
      "first\n",
      "phone\n",
      "purchase\n",
      "fit\n",
      "see\n",
      "case\n",
      "keep\n",
      "old\n",
      "put\n",
      "play\n",
      "feel\n",
      "nice\n",
      "way\n",
      "quality\n",
      "order\n",
      "know\n",
      "back\n",
      "long\n",
      "lot\n",
      "seem\n",
      "new\n"
     ]
    }
   ],
   "source": [
    "# get 50 most frequenct words\n",
    "most_freq_words_id_dct = {key: id2word.dfs[key] for key in sorted(id2word.dfs, key=id2word.dfs.get, reverse=True)[:50]}\n",
    "most_freq_words_id_list = list(most_freq_words_id_dct.keys())\n",
    "for id in most_freq_words_id_list:\n",
    "    print(id2word[id])"
   ]
  },
  {
   "cell_type": "code",
   "execution_count": 6,
   "metadata": {},
   "outputs": [
    {
     "data": {
      "text/plain": [
       "[[('battery', 3),\n",
       "  ('come', 1),\n",
       "  ('dud', 1),\n",
       "  ('offer', 1),\n",
       "  ('replace', 1),\n",
       "  ('say', 1),\n",
       "  ('transport', 1),\n",
       "  ('broke', 1),\n",
       "  ('low', 1),\n",
       "  ('quality', 1),\n",
       "  ('transportation', 1),\n",
       "  ('good', 1)]]"
      ]
     },
     "execution_count": 6,
     "metadata": {},
     "output_type": "execute_result"
    }
   ],
   "source": [
    "# Human readable format of corpus (term-frequency)\n",
    "[[(id2word[id], freq) for id, freq in cp] for cp in corpus[:1]]"
   ]
  },
  {
   "cell_type": "code",
   "execution_count": 6,
   "metadata": {},
   "outputs": [
    {
     "name": "stdout",
     "output_type": "stream",
     "text": [
      "[[(4, 1), (14, 1), (43, 1), (59, 1), (113, 1), (589, 1), (1194, 1)]]\n",
      "[[(43, 1), (284, 1), (363, 1), (374, 1), (386, 2), (491, 1), (848, 1), (993, 1), (1871, 2), (2591, 1), (3303, 2), (3731, 1), (4940, 1)]]\n",
      "9644\n",
      "104400\n"
     ]
    }
   ],
   "source": [
    "from sklearn.model_selection import train_test_split\n",
    "\n",
    "corpus_index = [i for i in range(len(corpus))]\n",
    "\n",
    "train, test, train_index, test_index = train_test_split(corpus, corpus_index, test_size=0.33, random_state=42)\n",
    "print(train[:1])\n",
    "print(test[:1])\n",
    "print(train_index[0])\n",
    "print(test_index[0])"
   ]
  },
  {
   "cell_type": "code",
   "execution_count": 8,
   "metadata": {},
   "outputs": [],
   "source": [
    "# save train and test data index in to pickle\n",
    "f =open('train_index.pkl','wb')\n",
    "pickle.dump(train_index, f)\n",
    "f.close()\n",
    "\n",
    "f =open('test_index.pkl','wb')\n",
    "pickle.dump(test_index, f)\n",
    "f.close()"
   ]
  },
  {
   "cell_type": "markdown",
   "metadata": {},
   "source": [
    "# Find optimal number of topics"
   ]
  },
  {
   "cell_type": "code",
   "execution_count": 17,
   "metadata": {},
   "outputs": [],
   "source": [
    "def compute_coherence_values(dictionary,train,test,texts,n_list):\n",
    "    \"\"\"\n",
    "    Compute c_v coherence for various number of topics\n",
    "\n",
    "    Parameters:\n",
    "    ----------\n",
    "    dictionary : Gensim dictionary\n",
    "    corpus : Gensim corpus\n",
    "    texts : List of input texts\n",
    "    limit : Max num of topics\n",
    "\n",
    "    Returns:\n",
    "    -------\n",
    "    model_list : List of LDA topic models\n",
    "    coherence_values : Coherence values corresponding to the LDA model with respective number of topics\n",
    "    \"\"\"\n",
    "\n",
    "    coherence_values = []\n",
    "    #model_list = []\n",
    "    perplexity_values = []\n",
    "    for num_topics in n_list:\n",
    "        t0 = time()\n",
    "        model = gensim.models.LdaMulticore(corpus = train,\n",
    "                                           id2word=dictionary,\n",
    "                                           num_topics=num_topics, \n",
    "                                           random_state=100,\n",
    "                                           passes=10,\n",
    "                                           alpha= 0.01,\n",
    "                                           eta=0.01,\n",
    "                                           per_word_topics=True,\n",
    "                                           workers=8)\n",
    "        #model = gensim.models.wrappers.LdaMallet(mallet_path, corpus=corpus, num_topics=num_topics, id2word=id2word)\n",
    "        print('================================ N_topics %f =====================================' %num_topics)\n",
    "        model.save(\"model_{0}\".format(num_topics))\n",
    "        # pickle.dump(model, open(filename, 'wb'))\n",
    "        \n",
    "        # Compute Coherence Score\n",
    "        coherence_model = CoherenceModel(model=model, corpus=test,texts=data_lemmatized, dictionary=dictionary, coherence='c_npmi')\n",
    "        coherence = coherence_model.get_coherence()\n",
    "        coherence_values.append(coherence)\n",
    "        \n",
    "        #print('Coherence Score:test=%.3f' %coherence)\n",
    "        \n",
    "        # Compute Perplexity \n",
    "        perplexity = model.log_perplexity(test)\n",
    "        print('preplexity: test=%.3f' %perplexity)\n",
    "        perplexity_values.append(perplexity)\n",
    "              \n",
    "        print(\"done in %0.3fs.\" %(time() - t0))\n",
    "    return perplexity_values, coherence_values\n",
    "    "
   ]
  },
  {
   "cell_type": "code",
   "execution_count": 18,
   "metadata": {},
   "outputs": [
    {
     "name": "stdout",
     "output_type": "stream",
     "text": [
      "================================ N_topics 10.000000 =====================================\n",
      "preplexity: test=-7.346\n",
      "done in 239.035s.\n",
      "================================ N_topics 20.000000 =====================================\n",
      "preplexity: test=-7.401\n",
      "done in 273.603s.\n",
      "================================ N_topics 30.000000 =====================================\n",
      "preplexity: test=-7.448\n",
      "done in 361.729s.\n",
      "================================ N_topics 40.000000 =====================================\n",
      "preplexity: test=-7.480\n",
      "done in 430.617s.\n",
      "================================ N_topics 50.000000 =====================================\n",
      "preplexity: test=-7.527\n",
      "done in 581.198s.\n",
      "================================ N_topics 60.000000 =====================================\n",
      "preplexity: test=-7.551\n",
      "done in 694.684s.\n",
      "================================ N_topics 70.000000 =====================================\n",
      "preplexity: test=-7.589\n",
      "done in 853.462s.\n",
      "================================ N_topics 80.000000 =====================================\n",
      "preplexity: test=-7.608\n",
      "done in 1120.710s.\n",
      "================================ N_topics 90.000000 =====================================\n",
      "preplexity: test=-7.635\n",
      "done in 1112.522s.\n",
      "================================ N_topics 100.000000 =====================================\n",
      "preplexity: test=-7.652\n",
      "done in 1296.736s.\n"
     ]
    }
   ],
   "source": [
    "# Can take a long time to run.\n",
    "from gensim.models.coherencemodel import CoherenceModel\n",
    "from time import time\n",
    "n_list = [10,20,30,40,50,60,70,80,90,100]\n",
    "perplexity_values, coherence_values = compute_coherence_values(dictionary=id2word, train=train, test = test,texts=data_lemmatized, n_list = n_list)"
   ]
  },
  {
   "cell_type": "code",
   "execution_count": 20,
   "metadata": {},
   "outputs": [
    {
     "data": {
      "text/plain": [
       "[0.028687103408387742,\n",
       " 0.035922879380122126,\n",
       " 0.0343093776522738,\n",
       " 0.03049759617272064,\n",
       " 0.02734424830021382,\n",
       " 0.022647627433830166,\n",
       " -0.0025136194674912414,\n",
       " -0.008629498747671872,\n",
       " -0.008871674159473698,\n",
       " -0.03580835854968417]"
      ]
     },
     "execution_count": 20,
     "metadata": {},
     "output_type": "execute_result"
    }
   ],
   "source": [
    "beta_plot = []\n",
    "for beta, p in zip([10,20,30,40,50,60,70,80,90,100], perplexity):\n",
    "    beta_plot.append([beta, p])\n",
    "    \n",
    "beta_plot = pd.DataFrame(beta_plot, columns=[\"beta\", \"perplexity\"])\n",
    "beta_plot.plot(\"beta\", \"perplexity\", kind=\"line\")"
   ]
  },
  {
   "cell_type": "code",
   "execution_count": 23,
   "metadata": {},
   "outputs": [
    {
     "data": {
      "text/plain": [
       "[-14029867.270586766,\n",
       " -14135517.574361444,\n",
       " -14225464.081085712,\n",
       " -14286743.735073209,\n",
       " -14376806.265937924,\n",
       " -14422068.182258904,\n",
       " -14495175.199444562,\n",
       " -14530568.812054187,\n",
       " -14582509.903026447,\n",
       " -14615323.820297293]"
      ]
     },
     "execution_count": 23,
     "metadata": {},
     "output_type": "execute_result"
    }
   ],
   "source": [
    "perplexity_bound = []\n",
    "for n in [10,20,30,40,50,60,70,80,90,100]:\n",
    "    model = gensim.models.LdaMulticore.load(\"model_{0}\".format(n))\n",
    "    perplexity_bound.append(model.bound(test))\n",
    "    \n",
    "perplexity_bound"
   ]
  },
  {
   "cell_type": "code",
   "execution_count": 31,
   "metadata": {},
   "outputs": [
    {
     "data": {
      "image/png": "[encoded data removed]",
      "text/plain": [
       "<Figure size 432x288 with 1 Axes>"
      ]
     },
     "metadata": {
      "needs_background": "light"
     },
     "output_type": "display_data"
    }
   ],
   "source": [
    "# Show graph\n",
    "limit=110; start=10; step=10;\n",
    "x = range(start, limit, step)\n",
    "plt.plot(x, perplexity_values)\n",
    "plt.xlabel(\"Num Topics\")\n",
    "plt.ylabel(\"Perplexity\")\n",
    "plt.legend((\"coherence_values\"), loc='best')\n",
    "plt.show()"
   ]
  },
  {
   "cell_type": "code",
   "execution_count": 32,
   "metadata": {},
   "outputs": [
    {
     "data": {
      "image/png": "[encoded data removed]",
      "text/plain": [
       "<Figure size 432x288 with 1 Axes>"
      ]
     },
     "metadata": {
      "needs_background": "light"
     },
     "output_type": "display_data"
    }
   ],
   "source": [
    "# Show graph\n",
    "limit=110; start=10; step=10;\n",
    "x = range(start, limit, step)\n",
    "plt.plot(x, coherence_values)\n",
    "plt.xlabel(\"Num Topics\")\n",
    "plt.ylabel(\"NPMI\")\n",
    "plt.legend((\"coherence_values\"), loc='best')\n",
    "plt.show()"
   ]
  },
  {
   "cell_type": "code",
   "execution_count": null,
   "metadata": {},
   "outputs": [],
   "source": [
    "# Print the coherence scores\n",
    "for m, cv in zip(x, coherence_values):\n",
    "    print(\"Num Topics =\", m, \" has Coherence Value of\", round(cv, 4))"
   ]
  },
  {
   "cell_type": "markdown",
   "metadata": {},
   "source": [
    "# Build LDA"
   ]
  },
  {
   "cell_type": "code",
   "execution_count": null,
   "metadata": {},
   "outputs": [],
   "source": [
    "# Build LDA model\n",
    "lda_model = gensim.models.ldamodel.LdaModel(corpus=train,\n",
    "                                           id2word=id2word,\n",
    "                                           num_topics=150, \n",
    "                                           random_state=100,\n",
    "                                           update_every=1,\n",
    "                                           chunksize=100,\n",
    "                                           passes=10,\n",
    "                                           alpha=0.01,\n",
    "                                           per_word_topics=True)"
   ]
  },
  {
   "cell_type": "code",
   "execution_count": null,
   "metadata": {},
   "outputs": [],
   "source": [
    "lda_model.save(\"lda_model_gensim\")"
   ]
  },
  {
   "cell_type": "code",
   "execution_count": null,
   "metadata": {},
   "outputs": [],
   "source": [
    "lda_model"
   ]
  },
  {
   "cell_type": "code",
   "execution_count": null,
   "metadata": {},
   "outputs": [],
   "source": [
    "# Print the Keyword in the 10 topics\n",
    "pprint(lda_model.print_topics(30))\n",
    "doc_lda = lda_model[test]"
   ]
  },
  {
   "cell_type": "code",
   "execution_count": null,
   "metadata": {},
   "outputs": [],
   "source": [
    "# Compute Perplexity\n",
    "print('\\nPerplexity: ', lda_model.log_perplexity(corpus))  # a measure of how good the model is. lower the better.\n",
    "\n",
    "# Compute Coherence Score\n",
    "coherence_model_lda = CoherenceModel(model=lda_model, texts=data_lemmatized, dictionary=id2word, coherence='c_v')\n",
    "coherence_lda = coherence_model_lda.get_coherence()\n",
    "print('\\nCoherence Score: ', coherence_lda)"
   ]
  },
  {
   "cell_type": "code",
   "execution_count": 36,
   "metadata": {},
   "outputs": [],
   "source": [
    "file = open('all_data_df_large.pkl', 'rb')\n",
    "# dump information to that file\n",
    "all_data_df = pickle.load(file)\n",
    "# close the file\n",
    "file.close()"
   ]
  },
  {
   "cell_type": "code",
   "execution_count": 58,
   "metadata": {},
   "outputs": [
    {
     "name": "stderr",
     "output_type": "stream",
     "text": [
      "/home/prdx/.local/lib/python3.7/site-packages/sklearn/linear_model/logistic.py:757: ConvergenceWarning: lbfgs failed to converge. Increase the number of iterations.\n",
      "  \"of iterations.\", ConvergenceWarning)\n"
     ]
    },
    {
     "data": {
      "text/plain": [
       "0.6497554919683275"
      ]
     },
     "execution_count": 58,
     "metadata": {},
     "output_type": "execute_result"
    }
   ],
   "source": [
    "model = gensim.models.LdaMulticore.load(\"model_100\")\n",
    "\n",
    "theta, _ = model.inference(train)\n",
    "theta /= theta.sum(axis=1)[:, None]\n",
    "theta_df_train = pd.DataFrame(theta)\n",
    "\n",
    "theta, _ = model.inference(test)\n",
    "theta /= theta.sum(axis=1)[:, None]\n",
    "theta_df_test = pd.DataFrame(theta)\n",
    "\n",
    "\n",
    "\n",
    "\n",
    "from sklearn.linear_model import LogisticRegression\n",
    "\n",
    "x = theta_df_train\n",
    "y = list(all_data_df.iloc[train_index]['category'])\n",
    "\n",
    "clf = LogisticRegression(random_state=0, solver='lbfgs', multi_class='multinomial').fit(x, y)\n",
    "clf.score(theta_df_test, list(all_data_df.iloc[test_index]['category']))\n"
   ]
  },
  {
   "cell_type": "code",
   "execution_count": 43,
   "metadata": {},
   "outputs": [
    {
     "name": "stderr",
     "output_type": "stream",
     "text": [
      "/home/prdx/.local/lib/python3.7/site-packages/sklearn/linear_model/logistic.py:757: ConvergenceWarning: lbfgs failed to converge. Increase the number of iterations.\n",
      "  \"of iterations.\", ConvergenceWarning)\n"
     ]
    },
    {
     "data": {
      "text/plain": [
       "0.5888177317527366"
      ]
     },
     "execution_count": 43,
     "metadata": {},
     "output_type": "execute_result"
    }
   ],
   "source": [
    "model = gensim.models.LdaMulticore.load(\"model_20\")\n",
    "\n",
    "theta, _ = model.inference(train)\n",
    "theta /= theta.sum(axis=1)[:, None]\n",
    "theta_df_train = pd.DataFrame(theta)\n",
    "\n",
    "theta, _ = model.inference(test)\n",
    "theta /= theta.sum(axis=1)[:, None]\n",
    "theta_df_test = pd.DataFrame(theta)\n",
    "\n",
    "\n",
    "from sklearn.linear_model import LogisticRegression\n",
    "\n",
    "x = theta_df_train\n",
    "y = list(all_data_df.iloc[train_index]['category'])\n",
    "\n",
    "clf = LogisticRegression(random_state=0, solver='lbfgs', multi_class='multinomial').fit(x, y)\n",
    "clf.score(theta_df_test, list(all_data_df.iloc[test_index]['category']))\n"
   ]
  },
  {
   "cell_type": "code",
   "execution_count": 73,
   "metadata": {},
   "outputs": [
    {
     "name": "stderr",
     "output_type": "stream",
     "text": [
      "/home/prdx/.local/lib/python3.7/site-packages/sklearn/ensemble/forest.py:248: FutureWarning: The default value of n_estimators will change from 10 in version 0.20 to 100 in 0.22.\n",
      "  \"10 in version 0.20 to 100 in 0.22.\", FutureWarning)\n"
     ]
    },
    {
     "data": {
      "text/plain": [
       "0.547077258482082"
      ]
     },
     "execution_count": 73,
     "metadata": {},
     "output_type": "execute_result"
    }
   ],
   "source": [
    "model = gensim.models.LdaMulticore.load(\"model_20\")\n",
    "\n",
    "theta, _ = model.inference(train)\n",
    "theta /= theta.sum(axis=1)[:, None]\n",
    "theta_df_train = pd.DataFrame(theta)\n",
    "\n",
    "theta, _ = model.inference(test)\n",
    "theta /= theta.sum(axis=1)[:, None]\n",
    "theta_df_test = pd.DataFrame(theta)\n",
    "\n",
    "\n",
    "\n",
    "from sklearn.ensemble import RandomForestClassifier\n",
    "\n",
    "x = theta_df_train\n",
    "y = list(all_data_df.iloc[train_index]['category'])\n",
    "\n",
    "clf = RandomForestClassifier().fit(x, y)\n",
    "clf.score(theta_df_test, list(all_data_df.iloc[test_index]['category']))\n"
   ]
  },
  {
   "cell_type": "code",
   "execution_count": 76,
   "metadata": {},
   "outputs": [
    {
     "name": "stderr",
     "output_type": "stream",
     "text": [
      "/home/prdx/.local/lib/python3.7/site-packages/sklearn/ensemble/forest.py:248: FutureWarning: The default value of n_estimators will change from 10 in version 0.20 to 100 in 0.22.\n",
      "  \"10 in version 0.20 to 100 in 0.22.\", FutureWarning)\n"
     ]
    },
    {
     "data": {
      "text/plain": [
       "0.465897564003573"
      ]
     },
     "execution_count": 76,
     "metadata": {},
     "output_type": "execute_result"
    }
   ],
   "source": [
    "model = gensim.models.LdaMulticore.load(\"model_10\")\n",
    "\n",
    "theta, _ = model.inference(train)\n",
    "theta /= theta.sum(axis=1)[:, None]\n",
    "theta_df_train = pd.DataFrame(theta)\n",
    "\n",
    "theta, _ = model.inference(test)\n",
    "theta /= theta.sum(axis=1)[:, None]\n",
    "theta_df_test = pd.DataFrame(theta)\n",
    "\n",
    "\n",
    "\n",
    "from sklearn.ensemble import RandomForestClassifier\n",
    "\n",
    "x = theta_df_train\n",
    "y = list(all_data_df.iloc[train_index]['category'])\n",
    "\n",
    "clf = RandomForestClassifier().fit(x, y)\n",
    "clf.score(theta_df_test, list(all_data_df.iloc[test_index]['category']))\n"
   ]
  },
  {
   "cell_type": "code",
   "execution_count": 84,
   "metadata": {},
   "outputs": [
    {
     "data": {
      "text/plain": [
       "reviewerID                                            ANVY8NSVZZXAR\n",
       "asin                                                     B007MJSZDQ\n",
       "reviewerName                                                   Ralz\n",
       "helpful                                                      [0, 0]\n",
       "reviewText        Batteries came in as duds, they offered to rep...\n",
       "overall                                                           1\n",
       "summary                                        Batteries don't work\n",
       "unixReviewTime                                           1388448000\n",
       "reviewTime                                              12 31, 2013\n",
       "category                                                Video_Games\n",
       "Name: 1051127, dtype: object"
      ]
     },
     "execution_count": 84,
     "metadata": {},
     "output_type": "execute_result"
    }
   ],
   "source": [
    "all_data_df.loc[1051127]"
   ]
  },
  {
   "cell_type": "code",
   "execution_count": 83,
   "metadata": {},
   "outputs": [],
   "source": [
    "theta, _ = model.inference(test)\n",
    "theta /= theta.sum(axis=1)[:, None]\n",
    "theta_df_test = pd.DataFrame(theta)"
   ]
  },
  {
   "cell_type": "code",
   "execution_count": 86,
   "metadata": {},
   "outputs": [
    {
     "data": {
      "text/plain": [
       "0    0.000621\n",
       "1    0.291502\n",
       "2    0.000621\n",
       "3    0.418321\n",
       "4    0.000621\n",
       "5    0.000621\n",
       "6    0.000621\n",
       "7    0.000621\n",
       "8    0.285829\n",
       "9    0.000621\n",
       "Name: 0, dtype: float32"
      ]
     },
     "execution_count": 86,
     "metadata": {},
     "output_type": "execute_result"
    }
   ],
   "source": [
    "theta_df_test.iloc[0]"
   ]
  },
  {
   "cell_type": "code",
   "execution_count": 79,
   "metadata": {},
   "outputs": [
    {
     "name": "stdout",
     "output_type": "stream",
     "text": [
      "             0         1         2          3          4          5    \\\n",
      "0         (4, 1)   (14, 1)   (43, 1)    (59, 1)   (113, 1)   (589, 1)   \n",
      "1         (4, 1)   (40, 1)   (84, 1)   (107, 1)   (225, 1)   (262, 1)   \n",
      "2         (7, 1)   (10, 1)   (22, 1)    (43, 1)   (386, 1)   (448, 1)   \n",
      "3         (4, 2)   (16, 1)   (18, 1)    (31, 1)    (75, 1)    (76, 1)   \n",
      "4        (16, 1)  (149, 1)  (262, 1)   (318, 1)   (363, 1)   (448, 1)   \n",
      "5         (2, 1)   (17, 1)  (137, 1)   (386, 1)   (429, 1)  (1496, 1)   \n",
      "6       (116, 1)  (386, 1)  (424, 1)   (429, 1)   (439, 1)   (485, 1)   \n",
      "7         (4, 1)   (15, 1)   (18, 1)    (50, 1)    (55, 1)    (70, 1)   \n",
      "8         (4, 1)   (21, 1)   (40, 1)   (116, 2)   (118, 1)   (153, 5)   \n",
      "9         (5, 1)  (111, 1)  (203, 1)   (249, 1)   (329, 1)   (507, 1)   \n",
      "10       (30, 1)  (175, 1)  (206, 1)   (208, 1)   (302, 1)   (363, 1)   \n",
      "11       (17, 1)  (184, 1)  (506, 1)   (523, 1)  (1407, 1)       None   \n",
      "12       (17, 1)   (18, 1)   (20, 1)    (41, 2)    (55, 1)    (70, 1)   \n",
      "13        (4, 1)   (47, 1)  (439, 2)   (718, 1)   (769, 1)   (864, 1)   \n",
      "14       (17, 1)   (20, 1)  (118, 1)   (149, 1)   (152, 1)   (153, 1)   \n",
      "15       (88, 1)   (96, 1)   (99, 1)   (144, 1)   (149, 1)   (385, 1)   \n",
      "16        (2, 1)    (4, 1)    (7, 2)    (20, 1)    (37, 2)    (51, 1)   \n",
      "17        (4, 1)   (16, 1)   (19, 1)    (37, 1)    (40, 1)    (52, 2)   \n",
      "18      (110, 1)  (406, 2)  (442, 1)   (501, 1)   (623, 1)   (629, 1)   \n",
      "19       (43, 1)  (109, 1)  (372, 1)   (857, 1)   (908, 1)   (922, 1)   \n",
      "20        (4, 1)  (240, 1)  (275, 1)   (305, 1)   (372, 1)   (489, 1)   \n",
      "21       (84, 1)  (158, 1)  (386, 1)   (491, 1)   (541, 1)   (641, 1)   \n",
      "22      (208, 1)  (363, 1)  (462, 1)   (521, 1)  (1045, 1)  (2940, 1)   \n",
      "23        (4, 1)   (50, 1)   (52, 1)    (55, 1)    (73, 1)   (232, 1)   \n",
      "24       (94, 1)  (149, 1)  (372, 1)   (386, 1)   (387, 1)   (507, 1)   \n",
      "25       (42, 1)  (208, 1)  (305, 1)   (341, 1)   (375, 1)   (826, 1)   \n",
      "26       (57, 1)  (521, 1)  (662, 1)  (1757, 1)  (2135, 1)  (2606, 1)   \n",
      "27       (43, 2)   (46, 1)   (52, 2)    (99, 1)   (111, 1)   (112, 1)   \n",
      "28        (4, 1)    (9, 1)   (30, 1)    (55, 1)    (75, 1)   (107, 1)   \n",
      "29        (4, 2)  (118, 1)  (363, 1)   (535, 1)   (704, 1)   (740, 1)   \n",
      "...          ...       ...       ...        ...        ...        ...   \n",
      "134071    (4, 1)   (17, 1)   (43, 1)   (112, 1)   (386, 1)   (481, 1)   \n",
      "134072    (4, 1)   (41, 1)  (133, 1)   (305, 1)   (341, 1)   (386, 1)   \n",
      "134073   (17, 1)   (39, 1)   (41, 1)    (59, 1)    (84, 1)    (85, 1)   \n",
      "134074  (245, 1)  (331, 1)  (481, 1)   (622, 1)   (764, 1)   (985, 1)   \n",
      "134075    (2, 1)   (16, 2)   (49, 1)    (76, 1)    (77, 1)   (102, 1)   \n",
      "134076   (17, 1)  (102, 1)  (137, 1)   (191, 1)   (363, 1)   (386, 1)   \n",
      "134077  (102, 1)  (372, 1)  (489, 1)   (491, 1)   (528, 1)   (554, 1)   \n",
      "134078   (37, 2)  (363, 1)  (675, 1)   (676, 1)  (2530, 1)  (4115, 1)   \n",
      "134079    (4, 1)    (9, 1)   (31, 1)   (112, 1)   (491, 1)   (521, 1)   \n",
      "134080   (30, 1)   (49, 1)   (99, 1)   (331, 1)   (386, 1)   (487, 1)   \n",
      "134081   (21, 1)   (50, 1)   (75, 1)   (103, 1)   (109, 1)   (406, 1)   \n",
      "134082    (2, 1)    (4, 1)   (12, 1)    (14, 5)    (15, 2)    (37, 2)   \n",
      "134083    (0, 3)    (8, 1)   (94, 1)   (111, 1)   (116, 1)   (210, 1)   \n",
      "134084    (7, 1)   (17, 1)  (232, 1)   (252, 1)   (305, 1)   (593, 1)   \n",
      "134085    (0, 1)    (8, 2)   (52, 1)    (55, 1)    (56, 1)   (103, 1)   \n",
      "134086   (17, 1)   (38, 1)  (102, 1)   (109, 1)   (118, 1)   (153, 2)   \n",
      "134087   (17, 1)   (39, 1)   (43, 1)    (52, 1)    (59, 1)    (76, 2)   \n",
      "134088    (9, 1)   (40, 1)   (52, 1)    (55, 1)   (191, 1)   (334, 1)   \n",
      "134089   (18, 1)   (40, 1)   (43, 1)   (149, 1)   (235, 1)   (306, 2)   \n",
      "134090   (47, 1)   (66, 1)   (99, 1)   (101, 1)   (354, 1)   (439, 1)   \n",
      "134091    (2, 1)   (59, 1)   (76, 1)   (102, 1)   (123, 1)   (156, 1)   \n",
      "134092  (164, 1)  (387, 1)  (533, 1)   (683, 1)  (2456, 1)  (3043, 1)   \n",
      "134093    (4, 1)    (7, 1)   (13, 1)    (16, 1)    (52, 1)    (57, 1)   \n",
      "134094  (448, 1)  (511, 1)  (662, 1)  (2306, 1)       None       None   \n",
      "134095    (4, 1)  (208, 1)  (448, 1)   (463, 1)   (521, 1)   (990, 1)   \n",
      "134096   (31, 1)  (112, 1)  (176, 1)   (208, 1)   (245, 1)   (513, 1)   \n",
      "134097  (161, 1)  (341, 1)  (363, 1)   (386, 1)   (521, 1)   (623, 1)   \n",
      "134098    (7, 1)   (15, 1)  (491, 1)   (945, 1)  (2224, 1)       None   \n",
      "134099    (4, 1)    (9, 1)  (116, 1)   (137, 1)   (468, 1)   (560, 1)   \n",
      "134100    (4, 1)   (97, 1)  (109, 1)   (208, 1)   (788, 1)   (841, 1)   \n",
      "\n",
      "              6          7          8          9    ...    671   672   673  \\\n",
      "0       (1194, 1)       None       None       None  ...   None  None  None   \n",
      "1        (329, 1)   (386, 1)   (696, 1)   (800, 1)  ...   None  None  None   \n",
      "2        (560, 1)   (704, 1)  (2944, 1)  (3395, 1)  ...   None  None  None   \n",
      "3         (84, 1)   (105, 1)   (482, 1)   (521, 1)  ...   None  None  None   \n",
      "4        (491, 1)   (546, 1)   (712, 1)  (2606, 1)  ...   None  None  None   \n",
      "5       (3117, 1)  (3591, 2)  (4051, 1)  (5214, 1)  ...   None  None  None   \n",
      "6        (519, 1)   (859, 1)  (1243, 1)  (1707, 1)  ...   None  None  None   \n",
      "7        (116, 1)   (149, 2)   (284, 1)   (300, 2)  ...   None  None  None   \n",
      "8        (248, 1)   (306, 1)   (363, 1)   (393, 1)  ...   None  None  None   \n",
      "9        (519, 1)   (559, 1)   (740, 1)  (1040, 1)  ...   None  None  None   \n",
      "10       (471, 1)   (477, 1)   (525, 1)   (583, 1)  ...   None  None  None   \n",
      "11           None       None       None       None  ...   None  None  None   \n",
      "12        (75, 1)    (76, 1)   (116, 1)   (136, 1)  ...   None  None  None   \n",
      "13       (945, 1)  (1478, 1)  (2106, 1)       None  ...   None  None  None   \n",
      "14       (377, 1)   (406, 1)   (554, 1)   (999, 1)  ...   None  None  None   \n",
      "15       (524, 1)   (563, 1)  (1408, 1)  (1467, 1)  ...   None  None  None   \n",
      "16        (58, 1)    (65, 1)   (102, 1)   (116, 1)  ...   None  None  None   \n",
      "17        (76, 1)   (103, 1)   (112, 1)   (184, 1)  ...   None  None  None   \n",
      "18       (999, 3)  (2274, 1)  (2918, 1)  (3234, 1)  ...   None  None  None   \n",
      "19      (1298, 1)  (1468, 1)  (1782, 1)  (2704, 1)  ...   None  None  None   \n",
      "20       (704, 1)  (2906, 1)  (5557, 1)       None  ...   None  None  None   \n",
      "21       (766, 1)  (1690, 1)  (4417, 1)  (5465, 1)  ...   None  None  None   \n",
      "22      (3591, 1)  (7942, 1)       None       None  ...   None  None  None   \n",
      "23       (298, 1)   (305, 1)   (358, 1)   (436, 1)  ...   None  None  None   \n",
      "24       (521, 1)  (1166, 1)  (1467, 1)  (1480, 1)  ...   None  None  None   \n",
      "25      (1014, 1)  (2728, 1)  (2795, 2)       None  ...   None  None  None   \n",
      "26      (3114, 1)  (3629, 1)  (6163, 1)       None  ...   None  None  None   \n",
      "27       (116, 2)   (149, 1)   (212, 1)   (216, 1)  ...   None  None  None   \n",
      "28       (109, 2)   (112, 1)   (122, 1)   (161, 1)  ...   None  None  None   \n",
      "29      (1743, 1)       None       None       None  ...   None  None  None   \n",
      "...           ...        ...        ...        ...  ...    ...   ...   ...   \n",
      "134071   (938, 1)  (1271, 1)       None       None  ...   None  None  None   \n",
      "134072   (470, 1)   (577, 1)   (693, 1)   (704, 1)  ...   None  None  None   \n",
      "134073    (99, 1)   (102, 1)   (113, 1)   (137, 1)  ...   None  None  None   \n",
      "134074  (1143, 1)  (2297, 2)       None       None  ...   None  None  None   \n",
      "134075   (232, 1)   (249, 1)   (307, 1)   (379, 1)  ...   None  None  None   \n",
      "134076   (406, 1)   (485, 1)   (538, 2)   (562, 1)  ...   None  None  None   \n",
      "134077   (578, 1)   (630, 1)   (838, 1)       None  ...   None  None  None   \n",
      "134078  (4819, 1)  (5757, 1)  (6171, 1)       None  ...   None  None  None   \n",
      "134079  (1615, 1)       None       None       None  ...   None  None  None   \n",
      "134080   (800, 1)  (1468, 1)  (2165, 1)  (2908, 1)  ...   None  None  None   \n",
      "134081   (525, 1)   (609, 1)   (999, 1)  (1168, 1)  ...   None  None  None   \n",
      "134082    (40, 2)    (43, 2)    (47, 1)    (50, 2)  ...   None  None  None   \n",
      "134083   (218, 1)   (250, 3)   (305, 1)   (363, 1)  ...   None  None  None   \n",
      "134084   (600, 1)   (740, 1)   (852, 1)  (1213, 1)  ...   None  None  None   \n",
      "134085   (105, 1)   (109, 1)   (122, 1)   (185, 1)  ...   None  None  None   \n",
      "134086   (386, 1)  (1164, 2)  (1187, 1)  (2038, 1)  ...   None  None  None   \n",
      "134087    (99, 1)   (102, 1)   (111, 3)   (116, 2)  ...   None  None  None   \n",
      "134088   (363, 1)  (1142, 1)  (1168, 1)  (1218, 1)  ...   None  None  None   \n",
      "134089   (384, 1)   (518, 1)   (565, 1)   (568, 1)  ...   None  None  None   \n",
      "134090   (559, 1)   (680, 1)   (776, 1)  (2757, 1)  ...   None  None  None   \n",
      "134091   (191, 1)   (206, 1)   (208, 1)   (238, 1)  ...   None  None  None   \n",
      "134092  (4011, 1)  (5038, 1)  (5856, 1)  (6317, 1)  ...   None  None  None   \n",
      "134093    (76, 2)    (99, 1)   (108, 1)   (137, 1)  ...   None  None  None   \n",
      "134094       None       None       None       None  ...   None  None  None   \n",
      "134095  (3588, 1)  (3617, 1)  (5724, 1)  (6197, 1)  ...   None  None  None   \n",
      "134096   (575, 1)  (1014, 1)  (1829, 1)  (2012, 1)  ...   None  None  None   \n",
      "134097  (2682, 1)  (3591, 2)  (8167, 1)  (8600, 1)  ...   None  None  None   \n",
      "134098       None       None       None       None  ...   None  None  None   \n",
      "134099   (600, 1)   (934, 1)  (1859, 1)  (1957, 1)  ...   None  None  None   \n",
      "134100  (1162, 1)  (1291, 1)  (2196, 1)  (2629, 1)  ...   None  None  None   \n",
      "\n",
      "         674   675   676   677   678   679   680  \n",
      "0       None  None  None  None  None  None  None  \n",
      "1       None  None  None  None  None  None  None  \n",
      "2       None  None  None  None  None  None  None  \n",
      "3       None  None  None  None  None  None  None  \n",
      "4       None  None  None  None  None  None  None  \n",
      "5       None  None  None  None  None  None  None  \n",
      "6       None  None  None  None  None  None  None  \n",
      "7       None  None  None  None  None  None  None  \n",
      "8       None  None  None  None  None  None  None  \n",
      "9       None  None  None  None  None  None  None  \n",
      "10      None  None  None  None  None  None  None  \n",
      "11      None  None  None  None  None  None  None  \n",
      "12      None  None  None  None  None  None  None  \n",
      "13      None  None  None  None  None  None  None  \n",
      "14      None  None  None  None  None  None  None  \n",
      "15      None  None  None  None  None  None  None  \n",
      "16      None  None  None  None  None  None  None  \n",
      "17      None  None  None  None  None  None  None  \n",
      "18      None  None  None  None  None  None  None  \n",
      "19      None  None  None  None  None  None  None  \n",
      "20      None  None  None  None  None  None  None  \n",
      "21      None  None  None  None  None  None  None  \n",
      "22      None  None  None  None  None  None  None  \n",
      "23      None  None  None  None  None  None  None  \n",
      "24      None  None  None  None  None  None  None  \n",
      "25      None  None  None  None  None  None  None  \n",
      "26      None  None  None  None  None  None  None  \n",
      "27      None  None  None  None  None  None  None  \n",
      "28      None  None  None  None  None  None  None  \n",
      "29      None  None  None  None  None  None  None  \n",
      "...      ...   ...   ...   ...   ...   ...   ...  \n",
      "134071  None  None  None  None  None  None  None  \n",
      "134072  None  None  None  None  None  None  None  \n",
      "134073  None  None  None  None  None  None  None  \n",
      "134074  None  None  None  None  None  None  None  \n",
      "134075  None  None  None  None  None  None  None  \n",
      "134076  None  None  None  None  None  None  None  \n",
      "134077  None  None  None  None  None  None  None  \n",
      "134078  None  None  None  None  None  None  None  \n",
      "134079  None  None  None  None  None  None  None  \n",
      "134080  None  None  None  None  None  None  None  \n",
      "134081  None  None  None  None  None  None  None  \n",
      "134082  None  None  None  None  None  None  None  \n",
      "134083  None  None  None  None  None  None  None  \n",
      "134084  None  None  None  None  None  None  None  \n",
      "134085  None  None  None  None  None  None  None  \n",
      "134086  None  None  None  None  None  None  None  \n",
      "134087  None  None  None  None  None  None  None  \n",
      "134088  None  None  None  None  None  None  None  \n",
      "134089  None  None  None  None  None  None  None  \n",
      "134090  None  None  None  None  None  None  None  \n",
      "134091  None  None  None  None  None  None  None  \n",
      "134092  None  None  None  None  None  None  None  \n",
      "134093  None  None  None  None  None  None  None  \n",
      "134094  None  None  None  None  None  None  None  \n",
      "134095  None  None  None  None  None  None  None  \n",
      "134096  None  None  None  None  None  None  None  \n",
      "134097  None  None  None  None  None  None  None  \n",
      "134098  None  None  None  None  None  None  None  \n",
      "134099  None  None  None  None  None  None  None  \n",
      "134100  None  None  None  None  None  None  None  \n",
      "\n",
      "[134101 rows x 681 columns]\n"
     ]
    }
   ],
   "source": [
    "# model = gensim.models.LdaMulticore.load(\"model_100\")\n",
    "\n",
    "# theta, _ = model.inference(train)\n",
    "# theta /= theta.sum(axis=1)[:, None]\n",
    "# theta_df_train = pd.DataFrame(theta)\n",
    "\n",
    "# theta, _ = model.inference(test)\n",
    "# theta /= theta.sum(axis=1)[:, None]\n",
    "# theta_df_test = pd.DataFrame(theta)\n",
    "\n",
    "\n",
    "\n",
    "from sklearn.ensemble import RandomForestClassifier\n",
    "\n",
    "x = pd.DataFrame(train)\n",
    "print(x)\n",
    "# y = list(all_data_df.iloc[train_index]['category'])\n",
    "\n",
    "# clf = RandomForestClassifier().fit(x, y)\n",
    "# clf.score(test, list(all_data_df.iloc[test_index]['category']))\n"
   ]
  },
  {
   "cell_type": "code",
   "execution_count": 45,
   "metadata": {},
   "outputs": [
    {
     "name": "stdout",
     "output_type": "stream",
     "text": [
      "[(0,\n",
      "  '0.143*\"water\" + 0.030*\"fill\" + 0.030*\"leak\" + 0.028*\"bottle\" + 0.021*\"meet\" '\n",
      "  '+ 0.015*\"use\" + 0.015*\"seal\" + 0.012*\"flow\" + 0.012*\"squeeze\" + '\n",
      "  '0.010*\"drink\"'),\n",
      " (1,\n",
      "  '0.121*\"toy\" + 0.091*\"son\" + 0.046*\"love\" + 0.037*\"play\" + 0.032*\"old\" + '\n",
      "  '0.021*\"year\" + 0.019*\"month\" + 0.017*\"get\" + 0.015*\"little\" + 0.015*\"buy\"'),\n",
      " (2,\n",
      "  '0.045*\"coffee\" + 0.040*\"cup\" + 0.034*\"food\" + 0.024*\"good\" + 0.022*\"taste\" '\n",
      "  '+ 0.022*\"mix\" + 0.018*\"make\" + 0.016*\"use\" + 0.015*\"try\" + 0.015*\"drink\"'),\n",
      " (3,\n",
      "  '0.087*\"play\" + 0.086*\"game\" + 0.069*\"fun\" + 0.024*\"child\" + 0.019*\"great\" + '\n",
      "  '0.019*\"kid\" + 0.017*\"learn\" + 0.013*\"adult\" + 0.013*\"lot\" + 0.012*\"enjoy\"'),\n",
      " (4,\n",
      "  '0.035*\"attempt\" + 0.021*\"starter\" + 0.020*\"youtube\" + 0.017*\"worthless\" + '\n",
      "  '0.014*\"beginning\" + 0.014*\"clay\" + 0.014*\"task\" + 0.009*\"hammer\" + '\n",
      "  '0.009*\"accomplish\" + 0.009*\"generator\"'),\n",
      " (5,\n",
      "  '0.048*\"oil\" + 0.046*\"product\" + 0.027*\"use\" + 0.020*\"ingredient\" + '\n",
      "  '0.019*\"contain\" + 0.019*\"vitamin\" + 0.019*\"natural\" + 0.017*\"body\" + '\n",
      "  '0.009*\"health\" + 0.008*\"chemical\"'),\n",
      " (6,\n",
      "  '0.049*\"shoot\" + 0.048*\"frame\" + 0.043*\"gun\" + 0.029*\"target\" + 0.024*\"fire\" '\n",
      "  '+ 0.021*\"kill\" + 0.019*\"powerful\" + 0.019*\"gentle\" + 0.014*\"shot\" + '\n",
      "  '0.013*\"vibrate\"'),\n",
      " (7,\n",
      "  '0.073*\"mirror\" + 0.033*\"view\" + 0.031*\"city\" + 0.027*\"investment\" + '\n",
      "  '0.023*\"catch\" + 0.017*\"compatible\" + 0.016*\"sonic\" + 0.016*\"mechanism\" + '\n",
      "  '0.016*\"recent\" + 0.015*\"stupid\"'),\n",
      " (8,\n",
      "  '0.107*\"book\" + 0.039*\"lid\" + 0.030*\"activity\" + 0.022*\"read\" + 0.022*\"page\" '\n",
      "  '+ 0.021*\"mold\" + 0.021*\"beach\" + 0.018*\"plush\" + 0.017*\"draw\" + '\n",
      "  '0.011*\"king\"'),\n",
      " (9,\n",
      "  '0.095*\"test\" + 0.036*\"positive\" + 0.023*\"result\" + 0.019*\"negative\" + '\n",
      "  '0.019*\"line\" + 0.017*\"sport\" + 0.013*\"review\" + 0.012*\"ipod\" + '\n",
      "  '0.010*\"testing\" + 0.009*\"greatly\"'),\n",
      " (10,\n",
      "  '0.215*\"price\" + 0.058*\"good\" + 0.033*\"great\" + 0.030*\"worth\" + 0.028*\"pay\" '\n",
      "  '+ 0.028*\"well\" + 0.023*\"beat\" + 0.022*\"little\" + 0.018*\"reasonable\" + '\n",
      "  '0.017*\"work\"'),\n",
      " (11,\n",
      "  '0.250*\"quot\" + 0.050*\"bonus\" + 0.032*\"sand\" + 0.032*\"cheaply_made\" + '\n",
      "  '0.021*\"pleasure\" + 0.017*\"adore\" + 0.017*\"superb\" + 0.014*\"edition\" + '\n",
      "  '0.013*\"kiss\" + 0.012*\"debut\"'),\n",
      " (12,\n",
      "  '0.037*\"wii\" + 0.031*\"mini\" + 0.031*\"control\" + 0.030*\"swing\" + '\n",
      "  '0.025*\"pedal\" + 0.025*\"speed\" + 0.023*\"race\" + 0.020*\"sensor\" + '\n",
      "  '0.015*\"remote\" + 0.015*\"trigger\"'),\n",
      " (13,\n",
      "  '0.064*\"phone\" + 0.025*\"call\" + 0.025*\"use\" + 0.014*\"work\" + 0.013*\"camera\" '\n",
      "  '+ 0.012*\"app\" + 0.011*\"feature\" + 0.009*\"screen\" + 0.009*\"computer\" + '\n",
      "  '0.009*\"software\"'),\n",
      " (14,\n",
      "  '0.103*\"light\" + 0.091*\"piece\" + 0.055*\"together\" + 0.033*\"put\" + '\n",
      "  '0.019*\"puzzle\" + 0.018*\"wire\" + 0.016*\"work\" + 0.015*\"apart\" + '\n",
      "  '0.013*\"instruction\" + 0.013*\"junk\"'),\n",
      " (15,\n",
      "  '0.033*\"install\" + 0.027*\"kit\" + 0.025*\"part\" + 0.025*\"fit\" + 0.025*\"easy\" + '\n",
      "  '0.024*\"instal\" + 0.023*\"mount\" + 0.020*\"tool\" + 0.015*\"make\" + '\n",
      "  '0.014*\"work\"'),\n",
      " (16,\n",
      "  '0.108*\"screen\" + 0.052*\"scratch\" + 0.044*\"touch\" + 0.037*\"surface\" + '\n",
      "  '0.020*\"flat\" + 0.018*\"use\" + 0.017*\"stretch\" + 0.010*\"see\" + 0.010*\"make\" + '\n",
      "  '0.010*\"angle\"'),\n",
      " (17,\n",
      "  '0.091*\"store\" + 0.073*\"find\" + 0.045*\"amazon\" + 0.039*\"buy\" + 0.025*\"local\" '\n",
      "  '+ 0.021*\"sell\" + 0.020*\"price\" + 0.020*\"good\" + 0.018*\"product\" + '\n",
      "  '0.017*\"cost\"'),\n",
      " (18,\n",
      "  '0.089*\"car\" + 0.048*\"seat\" + 0.019*\"strap\" + 0.018*\"use\" + 0.018*\"easy\" + '\n",
      "  '0.017*\"stroller\" + 0.015*\"back\" + 0.013*\"fold\" + 0.011*\"fit\" + 0.010*\"put\"'),\n",
      " (19,\n",
      "  '0.043*\"mail\" + 0.034*\"neck\" + 0.031*\"bone\" + 0.027*\"envelope\" + '\n",
      "  '0.027*\"definately\" + 0.024*\"busy\" + 0.024*\"jump\" + 0.021*\"breath\" + '\n",
      "  '0.020*\"working\" + 0.018*\"owner\"'),\n",
      " (20,\n",
      "  '0.168*\"hair\" + 0.042*\"use\" + 0.038*\"product\" + 0.021*\"shampoo\" + '\n",
      "  '0.016*\"conditioner\" + 0.015*\"thick\" + 0.014*\"look\" + 0.013*\"make\" + '\n",
      "  '0.012*\"good\" + 0.011*\"dry\"'),\n",
      " (21,\n",
      "  '0.109*\"care\" + 0.070*\"shock\" + 0.031*\"upgrade\" + 0.025*\"blackberry\" + '\n",
      "  '0.023*\"flawlessly\" + 0.022*\"enhance\" + 0.022*\"absorb\" + 0.021*\"amazed\" + '\n",
      "  '0.017*\"definite\" + 0.016*\"alternate\"'),\n",
      " (22,\n",
      "  '0.164*\"star\" + 0.098*\"bar\" + 0.085*\"give\" + 0.025*\"candy\" + 0.016*\"rate\" + '\n",
      "  '0.015*\"reason\" + 0.012*\"split\" + 0.012*\"circle\" + 0.011*\"straw\" + '\n",
      "  '0.011*\"hesitate\"'),\n",
      " (23,\n",
      "  '0.076*\"hot\" + 0.051*\"heat\" + 0.022*\"burn\" + 0.019*\"iron\" + 0.016*\"rd\" + '\n",
      "  '0.015*\"long\" + 0.014*\"time\" + 0.014*\"get\" + 0.014*\"temperature\" + '\n",
      "  '0.013*\"love\"'),\n",
      " (24,\n",
      "  '0.077*\"cover\" + 0.049*\"button\" + 0.030*\"side\" + 0.019*\"edge\" + 0.017*\"top\" '\n",
      "  '+ 0.016*\"bottom\" + 0.016*\"press\" + 0.016*\"back\" + 0.016*\"push\" + '\n",
      "  '0.013*\"front\"'),\n",
      " (25,\n",
      "  '0.067*\"spray\" + 0.059*\"tube\" + 0.054*\"tooth\" + 0.033*\"mouth\" + 0.030*\"fake\" '\n",
      "  '+ 0.019*\"commercial\" + 0.016*\"receiver\" + 0.016*\"hitch\" + '\n",
      "  '0.012*\"occasional\" + 0.012*\"use\"'),\n",
      " (26,\n",
      "  '0.064*\"mouse\" + 0.054*\"leather\" + 0.022*\"reliable\" + 0.019*\"use\" + '\n",
      "  '0.018*\"seam\" + 0.014*\"precise\" + 0.014*\"bank\" + 0.013*\"plane\" + '\n",
      "  '0.013*\"sight\" + 0.011*\"sew\"'),\n",
      " (27,\n",
      "  '0.142*\"cat\" + 0.049*\"sleep\" + 0.022*\"pillow\" + 0.019*\"love\" + 0.019*\"food\" '\n",
      "  '+ 0.015*\"night\" + 0.015*\"canon\" + 0.013*\"feed\" + 0.012*\"use\" + '\n",
      "  '0.012*\"kitty\"'),\n",
      " (28,\n",
      "  '0.091*\"roll\" + 0.056*\"party\" + 0.027*\"plain\" + 0.025*\"event\" + '\n",
      "  '0.025*\"boyfriend\" + 0.017*\"cart\" + 0.016*\"calendar\" + 0.012*\"genius\" + '\n",
      "  '0.011*\"movement\" + 0.010*\"subject\"'),\n",
      " (29,\n",
      "  '0.076*\"expectation\" + 0.026*\"headache\" + 0.025*\"joint\" + 0.023*\"exceed\" + '\n",
      "  '0.022*\"aid\" + 0.018*\"anti\" + 0.016*\"prove\" + 0.015*\"proper\" + 0.013*\"pac\" + '\n",
      "  '0.012*\"bacteria\"'),\n",
      " (30,\n",
      "  '0.075*\"dry\" + 0.063*\"use\" + 0.038*\"wash\" + 0.031*\"wipe\" + 0.026*\"wet\" + '\n",
      "  '0.022*\"shower\" + 0.020*\"container\" + 0.017*\"tub\" + 0.017*\"easy\" + '\n",
      "  '0.015*\"wax\"'),\n",
      " (31,\n",
      "  '0.074*\"movie\" + 0.052*\"truck\" + 0.029*\"horse\" + 0.028*\"ride\" + 0.027*\"sad\" '\n",
      "  '+ 0.021*\"steal\" + 0.018*\"terrific\" + 0.018*\"gas\" + 0.011*\"groove\" + '\n",
      "  '0.010*\"outstanding\"'),\n",
      " (32,\n",
      "  '0.057*\"weight\" + 0.053*\"scale\" + 0.038*\"step\" + 0.037*\"accurate\" + '\n",
      "  '0.036*\"easy\" + 0.029*\"display\" + 0.019*\"pattern\" + 0.018*\"use\" + '\n",
      "  '0.018*\"assemble\" + 0.017*\"cage\"'),\n",
      " (33,\n",
      "  '0.051*\"song\" + 0.032*\"album\" + 0.025*\"music\" + 0.019*\"good\" + 0.016*\"cd\" + '\n",
      "  '0.015*\"great\" + 0.014*\"listen\" + 0.014*\"track\" + 0.012*\"love\" + '\n",
      "  '0.012*\"hear\"'),\n",
      " (34,\n",
      "  '0.136*\"foot\" + 0.051*\"pair\" + 0.030*\"shoe\" + 0.026*\"wheel\" + '\n",
      "  '0.019*\"advertised\" + 0.015*\"wear\" + 0.013*\"work\" + 0.013*\"pool\" + '\n",
      "  '0.013*\"buy\" + 0.012*\"good\"'),\n",
      " (35,\n",
      "  '0.070*\"taste\" + 0.057*\"flavor\" + 0.053*\"tea\" + 0.027*\"good\" + 0.023*\"sweet\" '\n",
      "  '+ 0.016*\"try\" + 0.015*\"chocolate\" + 0.014*\"sugar\" + 0.013*\"drink\" + '\n",
      "  '0.012*\"great\"'),\n",
      " (36,\n",
      "  '0.060*\"delivery\" + 0.046*\"tablet\" + 0.034*\"pencil\" + 0.032*\"buy\" + '\n",
      "  '0.025*\"school\" + 0.020*\"every_penny\" + 0.019*\"worth\" + 0.019*\"use\" + '\n",
      "  '0.018*\"grade\" + 0.016*\"flower\"'),\n",
      " (37,\n",
      "  '0.042*\"tire\" + 0.034*\"pin\" + 0.033*\"dryer\" + 0.028*\"repair\" + 0.025*\"use\" + '\n",
      "  '0.024*\"belt\" + 0.020*\"pressure\" + 0.019*\"dock\" + 0.019*\"chain\" + '\n",
      "  '0.017*\"station\"'),\n",
      " (38,\n",
      "  '0.126*\"version\" + 0.087*\"gift\" + 0.053*\"original\" + 0.035*\"cool\" + '\n",
      "  '0.023*\"buy\" + 0.022*\"look\" + 0.016*\"give\" + 0.015*\"rain\" + 0.014*\"great\" + '\n",
      "  '0.014*\"helmet\"'),\n",
      " (39,\n",
      "  '0.148*\"dog\" + 0.026*\"treat\" + 0.022*\"chew\" + 0.021*\"love\" + 0.021*\"pet\" + '\n",
      "  '0.020*\"walk\" + 0.020*\"collar\" + 0.014*\"puppy\" + 0.013*\"get\" + 0.011*\"work\"'),\n",
      " (40,\n",
      "  '0.086*\"show\" + 0.030*\"story\" + 0.028*\"character\" + 0.024*\"series\" + '\n",
      "  '0.019*\"great\" + 0.019*\"good\" + 0.018*\"film\" + 0.015*\"see\" + 0.014*\"love\" + '\n",
      "  '0.013*\"interesting\"'),\n",
      " (41,\n",
      "  '0.039*\"product\" + 0.038*\"take\" + 0.030*\"difference\" + 0.030*\"day\" + '\n",
      "  '0.026*\"use\" + 0.026*\"week\" + 0.025*\"night\" + 0.022*\"work\" + 0.021*\"notice\" '\n",
      "  '+ 0.020*\"try\"'),\n",
      " (42,\n",
      "  '0.086*\"pen\" + 0.057*\"write\" + 0.056*\"tip\" + 0.042*\"use\" + 0.035*\"cap\" + '\n",
      "  '0.031*\"stylus\" + 0.018*\"ink\" + 0.017*\"refill\" + 0.015*\"work\" + '\n",
      "  '0.015*\"great\"'),\n",
      " (43,\n",
      "  '0.041*\"reciev\" + 0.034*\"usual\" + 0.034*\"minimal\" + 0.033*\"effort\" + '\n",
      "  '0.029*\"electric\" + 0.025*\"harder\" + 0.022*\"streak\" + 0.022*\"logo\" + '\n",
      "  '0.021*\"pipe\" + 0.019*\"stainless_steel\"'),\n",
      " (44,\n",
      "  '0.099*\"window\" + 0.061*\"load\" + 0.041*\"sun\" + 0.040*\"reading\" + '\n",
      "  '0.036*\"counter\" + 0.024*\"occasion\" + 0.021*\"whatsoever\" + 0.018*\"object\" + '\n",
      "  '0.016*\"grass\" + 0.015*\"bracelet\"'),\n",
      " (45,\n",
      "  '0.064*\"handle\" + 0.059*\"door\" + 0.040*\"slide\" + 0.016*\"open\" + 0.015*\"boot\" '\n",
      "  '+ 0.014*\"place\" + 0.014*\"tree\" + 0.012*\"wall\" + 0.012*\"wind\" + '\n",
      "  '0.012*\"heavy_duty\"'),\n",
      " (46,\n",
      "  '0.081*\"inch\" + 0.050*\"jack\" + 0.047*\"measure\" + 0.044*\"attachment\" + '\n",
      "  '0.031*\"gear\" + 0.029*\"mm\" + 0.025*\"mic\" + 0.019*\"valve\" + 0.018*\"mesh\" + '\n",
      "  '0.015*\"feeder\"'),\n",
      " (47,\n",
      "  '0.088*\"size\" + 0.078*\"small\" + 0.052*\"bag\" + 0.043*\"large\" + 0.026*\"fit\" + '\n",
      "  '0.023*\"big\" + 0.015*\"perfect\" + 0.014*\"little\" + 0.014*\"use\" + '\n",
      "  '0.012*\"enough\"'),\n",
      " (48,\n",
      "  '0.066*\"wrap\" + 0.058*\"collection\" + 0.051*\"lego\" + 0.032*\"figure\" + '\n",
      "  '0.029*\"project\" + 0.027*\"add\" + 0.023*\"plant\" + 0.023*\"vacation\" + '\n",
      "  '0.023*\"toilet\" + 0.022*\"addition\"'),\n",
      " (49,\n",
      "  '0.132*\"money\" + 0.053*\"waste\" + 0.041*\"save\" + 0.039*\"worth\" + '\n",
      "  '0.034*\"spend\" + 0.028*\"buy\" + 0.027*\"nail\" + 0.027*\"time\" + 0.021*\"work\" + '\n",
      "  '0.020*\"use\"'),\n",
      " (50,\n",
      "  '0.080*\"paint\" + 0.051*\"compliment\" + 0.029*\"magnet\" + 0.020*\"adhesive\" + '\n",
      "  '0.017*\"look\" + 0.017*\"clamp\" + 0.016*\"great\" + 0.015*\"smoothly\" + '\n",
      "  '0.014*\"lot\" + 0.014*\"many\"'),\n",
      " (51,\n",
      "  '0.046*\"hold\" + 0.025*\"clip\" + 0.024*\"key\" + 0.021*\"use\" + 0.017*\"place\" + '\n",
      "  '0.016*\"keep\" + 0.016*\"finger\" + 0.016*\"hand\" + 0.016*\"holder\" + '\n",
      "  '0.014*\"ring\"'),\n",
      " (52,\n",
      "  '0.072*\"guitar\" + 0.052*\"pick\" + 0.041*\"string\" + 0.027*\"plate\" + '\n",
      "  '0.023*\"play\" + 0.020*\"good\" + 0.019*\"tune\" + 0.016*\"great\" + 0.015*\"sound\" '\n",
      "  '+ 0.015*\"instrument\"'),\n",
      " (53,\n",
      "  '0.082*\"thank\" + 0.078*\"fast\" + 0.071*\"great\" + 0.055*\"product\" + '\n",
      "  '0.035*\"shipping\" + 0.034*\"ship\" + 0.032*\"work\" + 0.030*\"good\" + '\n",
      "  '0.021*\"describe\" + 0.019*\"deliver\"'),\n",
      " (54,\n",
      "  '0.101*\"game\" + 0.023*\"play\" + 0.015*\"good\" + 0.011*\"time\" + 0.010*\"graphic\" '\n",
      "  '+ 0.009*\"make\" + 0.007*\"fun\" + 0.007*\"character\" + 0.007*\"first\" + '\n",
      "  '0.007*\"new\"'),\n",
      " (55,\n",
      "  '0.062*\"eye\" + 0.040*\"use\" + 0.032*\"dark\" + 0.021*\"light\" + 0.019*\"look\" + '\n",
      "  '0.017*\"makeup\" + 0.016*\"mask\" + 0.016*\"product\" + 0.015*\"face\" + '\n",
      "  '0.014*\"brown\"'),\n",
      " (56,\n",
      "  '0.105*\"paper\" + 0.056*\"photo\" + 0.038*\"sticker\" + 0.034*\"peel\" + '\n",
      "  '0.027*\"correctly\" + 0.018*\"shirt\" + 0.015*\"use\" + 0.011*\"appearance\" + '\n",
      "  '0.011*\"dozen\" + 0.011*\"look\"'),\n",
      " (57,\n",
      "  '0.085*\"sit\" + 0.066*\"chair\" + 0.039*\"table\" + 0.030*\"tray\" + 0.019*\"gum\" + '\n",
      "  '0.017*\"bounce\" + 0.017*\"high\" + 0.015*\"cushion\" + 0.015*\"height\" + '\n",
      "  '0.014*\"back\"'),\n",
      " (58,\n",
      "  '0.058*\"arrive\" + 0.052*\"product\" + 0.049*\"exactly\" + 0.039*\"quickly\" + '\n",
      "  '0.037*\"great\" + 0.034*\"recommend\" + 0.031*\"glad\" + 0.030*\"purchase\" + '\n",
      "  '0.027*\"order\" + 0.024*\"come\"'),\n",
      " (59,\n",
      "  '0.222*\"phone\" + 0.078*\"fit\" + 0.050*\"great\" + 0.038*\"case\" + '\n",
      "  '0.032*\"protect\" + 0.022*\"iphone\" + 0.022*\"love\" + 0.021*\"good\" + '\n",
      "  '0.021*\"look\" + 0.019*\"work\"'),\n",
      " (60,\n",
      "  '0.019*\"develop\" + 0.016*\"method\" + 0.015*\"disappear\" + 0.014*\"sadly\" + '\n",
      "  '0.013*\"treatment\" + 0.012*\"year\" + 0.011*\"med\" + 0.011*\"nasty\" + '\n",
      "  '0.011*\"use\" + 0.010*\"prescription\"'),\n",
      " (61,\n",
      "  '0.041*\"china\" + 0.039*\"cookie\" + 0.034*\"make\" + 0.028*\"usa\" + 0.023*\"sock\" '\n",
      "  '+ 0.023*\"country\" + 0.023*\"roller\" + 0.020*\"nut\" + 0.019*\"premium\" + '\n",
      "  '0.015*\"shell\"'),\n",
      " (62,\n",
      "  '0.072*\"filter\" + 0.047*\"tank\" + 0.042*\"rat\" + 0.039*\"air\" + 0.033*\"fish\" + '\n",
      "  '0.026*\"engine\" + 0.026*\"accessory\" + 0.018*\"guard\" + 0.017*\"lens\" + '\n",
      "  '0.017*\"shield\"'),\n",
      " (63,\n",
      "  '0.089*\"perfectly\" + 0.047*\"screen_protector\" + 0.039*\"work\" + 0.037*\"fit\" + '\n",
      "  '0.031*\"advertise\" + 0.028*\"bubble\" + 0.024*\"protector\" + 0.020*\"apply\" + '\n",
      "  '0.020*\"bulb\" + 0.018*\"dust\"'),\n",
      " (64,\n",
      "  '0.054*\"leg\" + 0.042*\"fly\" + 0.034*\"arm\" + 0.020*\"section\" + 0.019*\"foam\" + '\n",
      "  '0.019*\"hurt\" + 0.019*\"motor\" + 0.014*\"tail\" + 0.014*\"flight\" + '\n",
      "  '0.012*\"painful\"'),\n",
      " (65,\n",
      "  '0.119*\"baby\" + 0.057*\"bottle\" + 0.041*\"pump\" + 0.031*\"use\" + 0.022*\"mom\" + '\n",
      "  '0.021*\"month\" + 0.018*\"bear\" + 0.013*\"time\" + 0.013*\"buy\" + 0.013*\"work\"'),\n",
      " (66,\n",
      "  '0.189*\"love\" + 0.066*\"daughter\" + 0.055*\"cute\" + 0.025*\"girl\" + '\n",
      "  '0.025*\"little\" + 0.025*\"absolutely\" + 0.024*\"doll\" + 0.022*\"beautiful\" + '\n",
      "  '0.020*\"buy\" + 0.020*\"look\"'),\n",
      " (67,\n",
      "  '0.183*\"do\" + 0.166*\"not\" + 0.046*\"be\" + 0.042*\"can\" + 0.022*\"good\" + '\n",
      "  '0.020*\"have\" + 0.017*\"will\" + 0.017*\"get\" + 0.016*\"buy\" + 0.014*\"alot\"'),\n",
      " (68,\n",
      "  '0.064*\"skin\" + 0.051*\"smell\" + 0.041*\"use\" + 0.034*\"product\" + 0.020*\"face\" '\n",
      "  '+ 0.020*\"scent\" + 0.017*\"good\" + 0.016*\"feel\" + 0.014*\"cream\" + '\n",
      "  '0.014*\"love\"'),\n",
      " (69,\n",
      "  '0.094*\"year\" + 0.051*\"ago\" + 0.046*\"use\" + 0.031*\"find\" + 0.023*\"work\" + '\n",
      "  '0.022*\"several\" + 0.020*\"time\" + 0.016*\"buy\" + 0.016*\"month\" + '\n",
      "  '0.016*\"many\"'),\n",
      " (70,\n",
      "  '0.059*\"review\" + 0.032*\"go\" + 0.030*\"say\" + 0.024*\"read\" + 0.022*\"get\" + '\n",
      "  '0.021*\"bad\" + 0.021*\"people\" + 0.020*\"know\" + 0.020*\"buy\" + 0.018*\"try\"'),\n",
      " (71,\n",
      "  '0.126*\"clean\" + 0.048*\"use\" + 0.022*\"floor\" + 0.017*\"product\" + '\n",
      "  '0.017*\"work\" + 0.016*\"stain\" + 0.013*\"easy\" + 0.013*\"great\" + '\n",
      "  '0.011*\"remove\" + 0.011*\"dirty\"'),\n",
      " (72,\n",
      "  '0.193*\"quality\" + 0.104*\"good\" + 0.038*\"product\" + 0.034*\"high\" + '\n",
      "  '0.031*\"great\" + 0.025*\"price\" + 0.022*\"excellent\" + 0.020*\"buy\" + '\n",
      "  '0.018*\"value\" + 0.017*\"use\"'),\n",
      " (73,\n",
      "  '0.054*\"lose\" + 0.035*\"take\" + 0.029*\"day\" + 0.023*\"product\" + 0.021*\"work\" '\n",
      "  '+ 0.021*\"energy\" + 0.020*\"pill\" + 0.017*\"help\" + 0.017*\"use\" + '\n",
      "  '0.017*\"weight\"'),\n",
      " (74,\n",
      "  '0.139*\"battery\" + 0.054*\"last\" + 0.033*\"long\" + 0.031*\"charge\" + '\n",
      "  '0.028*\"use\" + 0.026*\"life\" + 0.026*\"time\" + 0.020*\"work\" + 0.020*\"day\" + '\n",
      "  '0.019*\"hour\"'),\n",
      " (75,\n",
      "  '0.124*\"box\" + 0.071*\"plastic\" + 0.037*\"break\" + 0.024*\"open\" + 0.020*\"come\" '\n",
      "  '+ 0.017*\"mat\" + 0.016*\"package\" + 0.014*\"flimsy\" + 0.014*\"make\" + '\n",
      "  '0.014*\"packaging\"'),\n",
      " (76,\n",
      "  '0.031*\"disc\" + 0.030*\"insert\" + 0.027*\"patch\" + 0.022*\"freeze\" + '\n",
      "  '0.018*\"error\" + 0.016*\"crash\" + 0.015*\"disk\" + 0.011*\"crappy\" + '\n",
      "  '0.010*\"trial\" + 0.010*\"problem\"'),\n",
      " (77,\n",
      "  '0.046*\"solve\" + 0.029*\"sign\" + 0.028*\"road\" + 0.028*\"cube\" + 0.026*\"com\" + '\n",
      "  '0.023*\"master\" + 0.022*\"tile\" + 0.017*\"entertainment\" + 0.017*\"golden\" + '\n",
      "  '0.012*\"progress\"'),\n",
      " (78,\n",
      "  '0.037*\"return\" + 0.036*\"order\" + 0.033*\"product\" + 0.032*\"send\" + '\n",
      "  '0.028*\"company\" + 0.027*\"receive\" + 0.026*\"amazon\" + 0.018*\"seller\" + '\n",
      "  '0.016*\"back\" + 0.013*\"replacement\"'),\n",
      " (79,\n",
      "  '0.072*\"brush\" + 0.064*\"head\" + 0.038*\"use\" + 0.034*\"shave\" + 0.032*\"blade\" '\n",
      "  '+ 0.029*\"razor\" + 0.021*\"good\" + 0.012*\"shaving\" + 0.012*\"shaver\" + '\n",
      "  '0.010*\"time\"'),\n",
      " (80,\n",
      "  '0.064*\"system\" + 0.052*\"controller\" + 0.036*\"xbox\" + 0.035*\"work\" + '\n",
      "  '0.031*\"cord\" + 0.023*\"ps\" + 0.022*\"use\" + 0.019*\"console\" + 0.019*\"buy\" + '\n",
      "  '0.014*\"wireless\"'),\n",
      " (81,\n",
      "  '0.039*\"eat\" + 0.025*\"good\" + 0.021*\"taste\" + 0.018*\"make\" + 0.017*\"snack\" + '\n",
      "  '0.016*\"great\" + 0.013*\"fresh\" + 0.012*\"delicious\" + 0.012*\"healthy\" + '\n",
      "  '0.011*\"love\"'),\n",
      " (82,\n",
      "  '0.163*\"set\" + 0.064*\"stand\" + 0.028*\"space\" + 0.027*\"great\" + 0.025*\"desk\" '\n",
      "  '+ 0.022*\"monitor\" + 0.021*\"room\" + 0.021*\"office\" + 0.020*\"use\" + '\n",
      "  '0.019*\"easy\"'),\n",
      " (83,\n",
      "  '0.079*\"watch\" + 0.040*\"season\" + 0.027*\"video\" + 0.027*\"show\" + 0.026*\"tv\" '\n",
      "  '+ 0.021*\"episode\" + 0.016*\"see\" + 0.016*\"good\" + 0.011*\"dvd\" + '\n",
      "  '0.010*\"first\"'),\n",
      " (84,\n",
      "  '0.047*\"low\" + 0.047*\"level\" + 0.033*\"high\" + 0.023*\"take\" + 0.018*\"help\" + '\n",
      "  '0.016*\"increase\" + 0.016*\"balance\" + 0.016*\"doctor\" + 0.012*\"reduce\" + '\n",
      "  '0.011*\"may\"'),\n",
      " (85,\n",
      "  '0.048*\"pain\" + 0.039*\"bed\" + 0.033*\"help\" + 0.029*\"use\" + 0.027*\"cold\" + '\n",
      "  '0.021*\"work\" + 0.019*\"product\" + 0.012*\"time\" + 0.012*\"back\" + 0.012*\"day\"'),\n",
      " (86,\n",
      "  '0.083*\"charge\" + 0.052*\"charger\" + 0.043*\"plug\" + 0.042*\"work\" + '\n",
      "  '0.038*\"device\" + 0.036*\"cable\" + 0.030*\"power\" + 0.026*\"use\" + '\n",
      "  '0.015*\"iphone\" + 0.015*\"usb\"'),\n",
      " (87,\n",
      "  '0.226*\"item\" + 0.067*\"pad\" + 0.039*\"description\" + 0.030*\"purchase\" + '\n",
      "  '0.020*\"buy\" + 0.020*\"rip\" + 0.017*\"receive\" + 0.014*\"order\" + 0.012*\"say\" + '\n",
      "  '0.011*\"disappointed\"'),\n",
      " (88,\n",
      "  '0.117*\"ball\" + 0.036*\"fault\" + 0.022*\"joke\" + 0.022*\"okay\" + 0.021*\"glow\" + '\n",
      "  '0.021*\"mistake\" + 0.020*\"blow\" + 0.017*\"shame\" + 0.016*\"balloon\" + '\n",
      "  '0.014*\"wing\"'),\n",
      " (89,\n",
      "  '0.027*\"dream\" + 0.023*\"business\" + 0.015*\"escape\" + 0.014*\"up\" + '\n",
      "  '0.013*\"exceptional\" + 0.012*\"go\" + 0.012*\"class\" + 0.012*\"lube\" + '\n",
      "  '0.012*\"notebook\" + 0.011*\"appreciate\"'),\n",
      " (90,\n",
      "  '0.191*\"case\" + 0.042*\"phone\" + 0.029*\"drop\" + 0.018*\"protection\" + '\n",
      "  '0.016*\"look\" + 0.013*\"good\" + 0.013*\"iphone\" + 0.012*\"fit\" + 0.011*\"hard\" + '\n",
      "  '0.011*\"rubber\"'),\n",
      " (91,\n",
      "  '0.152*\"color\" + 0.042*\"look\" + 0.041*\"picture\" + 0.036*\"white\" + '\n",
      "  '0.034*\"black\" + 0.031*\"blue\" + 0.027*\"red\" + 0.021*\"pink\" + 0.019*\"bright\" '\n",
      "  '+ 0.017*\"love\"'),\n",
      " (92,\n",
      "  '0.045*\"sturdy\" + 0.043*\"look\" + 0.030*\"make\" + 0.029*\"comfortable\" + '\n",
      "  '0.029*\"well\" + 0.026*\"nice\" + 0.023*\"good\" + 0.023*\"recommend\" + '\n",
      "  '0.023*\"material\" + 0.021*\"great\"'),\n",
      " (93,\n",
      "  '0.061*\"printer\" + 0.056*\"print\" + 0.032*\"cartridge\" + 0.032*\"ink\" + '\n",
      "  '0.023*\"use\" + 0.020*\"work\" + 0.019*\"machine\" + 0.015*\"scan\" + 0.012*\"page\" '\n",
      "  '+ 0.010*\"scanner\"'),\n",
      " (94,\n",
      "  '0.144*\"cut\" + 0.054*\"tape\" + 0.032*\"sharp\" + 0.029*\"trim\" + 0.029*\"nose\" + '\n",
      "  '0.027*\"use\" + 0.020*\"clipper\" + 0.018*\"trimmer\" + 0.012*\"sticky\" + '\n",
      "  '0.012*\"work\"'),\n",
      " (95,\n",
      "  '0.079*\"old\" + 0.059*\"love\" + 0.057*\"year\" + 0.051*\"kid\" + 0.032*\"buy\" + '\n",
      "  '0.029*\"christma\" + 0.024*\"card\" + 0.022*\"family\" + 0.022*\"great\" + '\n",
      "  '0.022*\"gift\"'),\n",
      " (96,\n",
      "  '0.106*\"model\" + 0.067*\"label\" + 0.033*\"wood\" + 0.021*\"note\" + 0.020*\"use\" + '\n",
      "  '0.015*\"make\" + 0.013*\"feedback\" + 0.012*\"vibration\" + 0.009*\"anchor\" + '\n",
      "  '0.007*\"stack\"'),\n",
      " (97,\n",
      "  '0.043*\"forever\" + 0.035*\"tab\" + 0.035*\"mother\" + 0.031*\"satisfy\" + '\n",
      "  '0.025*\"quit\" + 0.024*\"mark\" + 0.024*\"fabulous\" + 0.024*\"staple\" + '\n",
      "  '0.018*\"dig\" + 0.016*\"boat\"'),\n",
      " (98,\n",
      "  '0.045*\"sheet\" + 0.043*\"s\" + 0.037*\"bowl\" + 0.029*\"noise\" + 0.025*\"crib\" + '\n",
      "  '0.022*\"that\" + 0.015*\"make\" + 0.014*\"sweat\" + 0.013*\"accident\" + '\n",
      "  '0.012*\"time\"'),\n",
      " (99,\n",
      "  '0.069*\"sound\" + 0.023*\"unit\" + 0.018*\"hear\" + 0.017*\"use\" + 0.015*\"volume\" '\n",
      "  '+ 0.015*\"speaker\" + 0.014*\"headset\" + 0.014*\"loud\" + 0.013*\"headphone\" + '\n",
      "  '0.010*\"ear\"')]\n"
     ]
    }
   ],
   "source": [
    "model100 = gensim.models.LdaMulticore.load(\"model_100\")\n",
    "pprint(model100.print_topics(100, num_words=10))\n"
   ]
  },
  {
   "cell_type": "code",
   "execution_count": 87,
   "metadata": {},
   "outputs": [
    {
     "name": "stdout",
     "output_type": "stream",
     "text": [
      "[(0,\n",
      "  '0.045*\"case\" + 0.029*\"phone\" + 0.019*\"look\" + 0.017*\"fit\" + 0.014*\"good\" + '\n",
      "  '0.013*\"great\" + 0.013*\"cover\" + 0.012*\"color\" + 0.009*\"use\" + 0.009*\"make\"'),\n",
      " (1,\n",
      "  '0.042*\"love\" + 0.018*\"old\" + 0.017*\"toy\" + 0.015*\"buy\" + 0.015*\"great\" + '\n",
      "  '0.015*\"year\" + 0.014*\"son\" + 0.013*\"dog\" + 0.012*\"daughter\" + 0.012*\"get\"'),\n",
      " (2,\n",
      "  '0.018*\"good\" + 0.016*\"taste\" + 0.012*\"product\" + 0.011*\"flavor\" + '\n",
      "  '0.010*\"make\" + 0.010*\"use\" + 0.010*\"try\" + 0.009*\"food\" + 0.009*\"great\" + '\n",
      "  '0.009*\"take\"'),\n",
      " (3,\n",
      "  '0.065*\"game\" + 0.023*\"play\" + 0.012*\"good\" + 0.011*\"fun\" + 0.009*\"time\" + '\n",
      "  '0.008*\"make\" + 0.007*\"great\" + 0.006*\"go\" + 0.006*\"get\" + 0.006*\"much\"'),\n",
      " (4,\n",
      "  '0.024*\"song\" + 0.016*\"good\" + 0.015*\"album\" + 0.015*\"love\" + 0.013*\"great\" '\n",
      "  '+ 0.013*\"music\" + 0.012*\"show\" + 0.009*\"watch\" + 0.008*\"hear\" + '\n",
      "  '0.007*\"time\"'),\n",
      " (5,\n",
      "  '0.034*\"use\" + 0.023*\"product\" + 0.017*\"hair\" + 0.012*\"work\" + 0.011*\"skin\" '\n",
      "  '+ 0.011*\"good\" + 0.009*\"try\" + 0.009*\"smell\" + 0.008*\"day\" + 0.008*\"time\"'),\n",
      " (6,\n",
      "  '0.026*\"product\" + 0.023*\"buy\" + 0.021*\"work\" + 0.020*\"good\" + 0.019*\"price\" '\n",
      "  '+ 0.018*\"great\" + 0.014*\"order\" + 0.013*\"use\" + 0.012*\"time\" + '\n",
      "  '0.011*\"item\"'),\n",
      " (7,\n",
      "  '0.019*\"sound\" + 0.016*\"printer\" + 0.015*\"use\" + 0.015*\"good\" + '\n",
      "  '0.014*\"print\" + 0.014*\"quality\" + 0.011*\"paper\" + 0.010*\"ink\" + '\n",
      "  '0.009*\"guitar\" + 0.008*\"cartridge\"'),\n",
      " (8,\n",
      "  '0.015*\"use\" + 0.009*\"easy\" + 0.008*\"work\" + 0.008*\"make\" + 0.008*\"car\" + '\n",
      "  '0.007*\"fit\" + 0.007*\"good\" + 0.007*\"need\" + 0.007*\"go\" + 0.006*\"back\"'),\n",
      " (9,\n",
      "  '0.027*\"phone\" + 0.020*\"battery\" + 0.020*\"use\" + 0.019*\"work\" + '\n",
      "  '0.016*\"charge\" + 0.009*\"time\" + 0.008*\"charger\" + 0.007*\"good\" + '\n",
      "  '0.007*\"device\" + 0.007*\"great\"')]\n"
     ]
    }
   ],
   "source": [
    "pprint(model.print_topics(10, num_words=10))\n"
   ]
  },
  {
   "cell_type": "code",
   "execution_count": 48,
   "metadata": {},
   "outputs": [],
   "source": [
    "# Download File: http://mallet.cs.umass.edu/dist/mallet-2.0.8.zip\n",
    "mallet_path = './mallet-2.0.8/bin/mallet' # update this path\n",
    "ldamallet = gensim.models.wrappers.LdaMallet(mallet_path, corpus=train, num_topics=20, id2word=id2word)\n",
    "\n"
   ]
  },
  {
   "cell_type": "code",
   "execution_count": 50,
   "metadata": {},
   "outputs": [
    {
     "name": "stdout",
     "output_type": "stream",
     "text": [
      "[(0,\n",
      "  [('buy', 0.18071626877822386),\n",
      "   ('price', 0.080171448054162),\n",
      "   ('find', 0.058983975451755884),\n",
      "   ('good', 0.04629932436663721),\n",
      "   ('money', 0.04544347571964347),\n",
      "   ('worth', 0.04211053667972474),\n",
      "   ('cheap', 0.03841577544758101),\n",
      "   ('purchase', 0.03700327727408727),\n",
      "   ('store', 0.036363130318612276),\n",
      "   ('brand', 0.024645657785787346)]),\n",
      " (1,\n",
      "  [('good', 0.05649928955648026),\n",
      "   ('quality', 0.04755531310260834),\n",
      "   ('sound', 0.03640388714097229),\n",
      "   ('high', 0.028975946412260225),\n",
      "   ('set', 0.026812899624479854),\n",
      "   ('make', 0.01909951283872932),\n",
      "   ('low', 0.016390946919719884),\n",
      "   ('build', 0.011068963767380494),\n",
      "   ('ear', 0.010485385161879631),\n",
      "   ('guitar', 0.01033314726479245)]),\n",
      " (2,\n",
      "  [('game', 0.1256595907272789),\n",
      "   ('play', 0.05508398748289054),\n",
      "   ('fun', 0.01963657820533283),\n",
      "   ('level', 0.01100809162446737),\n",
      "   ('graphic', 0.009856981867603032),\n",
      "   ('player', 0.0095474397481101),\n",
      "   ('system', 0.00797070957694298),\n",
      "   ('character', 0.007849794686516054),\n",
      "   ('time', 0.007438684059064506),\n",
      "   ('controller', 0.007192017682593576)]),\n",
      " (3,\n",
      "  [('love', 0.13747277123843402),\n",
      "   ('year', 0.04631720591272141),\n",
      "   ('toy', 0.044425348228381865),\n",
      "   ('son', 0.035439024227769005),\n",
      "   ('kid', 0.03435986597120912),\n",
      "   ('daughter', 0.03343392154119786),\n",
      "   ('play', 0.025446818148510828),\n",
      "   ('gift', 0.02512040608325506),\n",
      "   ('baby', 0.02465410313288968),\n",
      "   ('child', 0.022908797804379252)]),\n",
      " (4,\n",
      "  [('product', 0.08520436767493392),\n",
      "   ('order', 0.07415169394238727),\n",
      "   ('purchase', 0.04855567717649571),\n",
      "   ('item', 0.048515631257174896),\n",
      "   ('receive', 0.03670208505753264),\n",
      "   ('amazon', 0.03289104840216782),\n",
      "   ('return', 0.02494193341698481),\n",
      "   ('arrive', 0.024341244627172492),\n",
      "   ('package', 0.022385668900339054),\n",
      "   ('send', 0.021538030274715007)]),\n",
      " (5,\n",
      "  [('hair', 0.06615035310832834),\n",
      "   ('product', 0.051280801214636934),\n",
      "   ('long', 0.03180760819601343),\n",
      "   ('make', 0.03049128720870304),\n",
      "   ('soft', 0.024132551434023763),\n",
      "   ('feel', 0.022802301124096334),\n",
      "   ('brush', 0.019870178713209178),\n",
      "   ('good', 0.018630469000292516),\n",
      "   ('leave', 0.017906144224206378),\n",
      "   ('hand', 0.017808638965887087)]),\n",
      " (6,\n",
      "  [('great', 0.2503771733239589),\n",
      "   ('good', 0.16546557103308873),\n",
      "   ('work', 0.1505910269367667),\n",
      "   ('easy', 0.04213355597545078),\n",
      "   ('price', 0.028650525113151998),\n",
      "   ('recommend', 0.023370098577727),\n",
      "   ('fast', 0.02293067334593019),\n",
      "   ('job', 0.01972286915381348),\n",
      "   ('excellent', 0.019093026321571383),\n",
      "   ('cut', 0.015108904219946977)]),\n",
      " (7,\n",
      "  [('time', 0.09808529667130164),\n",
      "   ('day', 0.08356018618253984),\n",
      "   ('month', 0.05964761102733332),\n",
      "   ('year', 0.05393548892501126),\n",
      "   ('week', 0.04505069100357089),\n",
      "   ('start', 0.043993132397198126),\n",
      "   ('long', 0.029108974233433213),\n",
      "   ('couple', 0.022965994921107433),\n",
      "   ('break', 0.02167342329109627),\n",
      "   ('back', 0.021510219802458496)]),\n",
      " (8,\n",
      "  [('song', 0.04203676435662376),\n",
      "   ('music', 0.027282335059136464),\n",
      "   ('album', 0.02645703700185247),\n",
      "   ('hear', 0.015781598822020616),\n",
      "   ('track', 0.015401605471904242),\n",
      "   ('fan', 0.01420225146059944),\n",
      "   ('quot', 0.01402412957773239),\n",
      "   ('listen', 0.013804445922196361),\n",
      "   ('cd', 0.013661948415902722),\n",
      "   ('sound', 0.010633876407162875)]),\n",
      " (9,\n",
      "  [('clean', 0.0413615396425925),\n",
      "   ('water', 0.028818232188036128),\n",
      "   ('bottle', 0.021021221487172982),\n",
      "   ('put', 0.01838438995734341),\n",
      "   ('easy', 0.015053304050039719),\n",
      "   ('make', 0.012156127128657351),\n",
      "   ('kit', 0.010834373602312401),\n",
      "   ('air', 0.010500597459296),\n",
      "   ('problem', 0.010246927590603534),\n",
      "   ('work', 0.010080039519095333)]),\n",
      " (10,\n",
      "  [('taste', 0.03348632908893495),\n",
      "   ('flavor', 0.022042493337281612),\n",
      "   ('food', 0.019741387819563715),\n",
      "   ('eat', 0.018310137202645346),\n",
      "   ('add', 0.01639769025762511),\n",
      "   ('coffee', 0.015743756786102063),\n",
      "   ('tea', 0.014713503109268581),\n",
      "   ('cup', 0.013633895962886191),\n",
      "   ('good', 0.013066331063073734),\n",
      "   ('mix', 0.011906524528674366)]),\n",
      " (11,\n",
      "  [('give', 0.07956019557950407),\n",
      "   ('review', 0.04871401486803373),\n",
      "   ('star', 0.03330963428628449),\n",
      "   ('bad', 0.03303522426782418),\n",
      "   ('make', 0.032767050840692515),\n",
      "   ('read', 0.023362271117098238),\n",
      "   ('time', 0.01903407673501971),\n",
      "   ('people', 0.018067405079079977),\n",
      "   ('reason', 0.017805468243276956),\n",
      "   ('thing', 0.015329541485805518)]),\n",
      " (12,\n",
      "  [('case', 0.11846362527688593),\n",
      "   ('phone', 0.06800816346847856),\n",
      "   ('fit', 0.06401976156698773),\n",
      "   ('cover', 0.04063067771721546),\n",
      "   ('drop', 0.023389083849772268),\n",
      "   ('screen', 0.023264640732721074),\n",
      "   ('protect', 0.018336693297493715),\n",
      "   ('hard', 0.018075362751686204),\n",
      "   ('perfectly', 0.018044251972423406),\n",
      "   ('plastic', 0.01607182856716195)]),\n",
      " (13,\n",
      "  [('product', 0.09686127846420912),\n",
      "   ('skin', 0.04012432349637496),\n",
      "   ('smell', 0.03487822934749311),\n",
      "   ('feel', 0.027226079852956192),\n",
      "   ('face', 0.02339681405085265),\n",
      "   ('oil', 0.015738282446645564),\n",
      "   ('body', 0.013536454610436026),\n",
      "   ('result', 0.01335137343000102),\n",
      "   ('dry', 0.01317267435923619),\n",
      "   ('eye', 0.012911007862759113)]),\n",
      " (14,\n",
      "  [('small', 0.05793759874632311),\n",
      "   ('size', 0.03995452852243388),\n",
      "   ('piece', 0.03224107590140139),\n",
      "   ('large', 0.029884009197055913),\n",
      "   ('box', 0.029318826990019396),\n",
      "   ('big', 0.02702598553647352),\n",
      "   ('cat', 0.026544296155476488),\n",
      "   ('put', 0.02497720003596614),\n",
      "   ('bag', 0.022851344234499235),\n",
      "   ('open', 0.016801325609176503)]),\n",
      " (15,\n",
      "  [('dog', 0.04022957355447554),\n",
      "   ('car', 0.03301474883617289),\n",
      "   ('easy', 0.022421362626244376),\n",
      "   ('back', 0.017350509193180243),\n",
      "   ('seat', 0.015814799424259396),\n",
      "   ('fit', 0.014538052479117358),\n",
      "   ('side', 0.01352026835775413),\n",
      "   ('part', 0.012677133582660332),\n",
      "   ('pull', 0.011827976416315862),\n",
      "   ('put', 0.011394364246267623)]),\n",
      " (16,\n",
      "  [('printer', 0.01987237586654582),\n",
      "   ('work', 0.017808588295813634),\n",
      "   ('print', 0.01764936432893222),\n",
      "   ('problem', 0.014446512995125296),\n",
      "   ('paper', 0.01443426499767288),\n",
      "   ('ink', 0.012627685373441442),\n",
      "   ('set', 0.011990789505915783),\n",
      "   ('number', 0.011843813536486784),\n",
      "   ('cartridge', 0.010361805844744384),\n",
      "   ('computer', 0.009675917987409058)]),\n",
      " (17,\n",
      "  [('love', 0.0895592121592618),\n",
      "   ('color', 0.06603057336000351),\n",
      "   ('recommend', 0.0621760523280431),\n",
      "   ('light', 0.0473784876845133),\n",
      "   ('nice', 0.04515921799944518),\n",
      "   ('perfect', 0.04456789943204217),\n",
      "   ('great', 0.040019856623497975),\n",
      "   ('make', 0.03806339519060899),\n",
      "   ('highly', 0.028500094902979955),\n",
      "   ('awesome', 0.021667080346322875)]),\n",
      " (18,\n",
      "  [('show', 0.038809775239475874),\n",
      "   ('make', 0.03344851503089911),\n",
      "   ('watch', 0.02322587901547767),\n",
      "   ('figure', 0.017064803764129544),\n",
      "   ('good', 0.01487780950655161),\n",
      "   ('part', 0.013934277698282272),\n",
      "   ('end', 0.012590838368627255),\n",
      "   ('people', 0.011522335459924893),\n",
      "   ('season', 0.011178664933734074),\n",
      "   ('movie', 0.011066190943344352)]),\n",
      " (19,\n",
      "  [('phone', 0.06927856508830461),\n",
      "   ('battery', 0.05327048452756267),\n",
      "   ('charge', 0.04135777907012335),\n",
      "   ('work', 0.0332955832389581),\n",
      "   ('call', 0.019228061583667473),\n",
      "   ('charger', 0.01917908848826176),\n",
      "   ('device', 0.01864650607572465),\n",
      "   ('power', 0.018560803158764655),\n",
      "   ('plug', 0.01685898809341618),\n",
      "   ('unit', 0.01613051329925622)])]\n",
      "\n",
      "Coherence Score:  0.5493303527174218\n"
     ]
    }
   ],
   "source": [
    "# Show Topics\n",
    "pprint(ldamallet.show_topics(20,formatted=False))\n",
    "\n",
    "# Compute Coherence Score\n",
    "coherence_model_ldamallet = CoherenceModel(model=ldamallet, texts=data_lemmatized, dictionary=id2word, coherence='c_v')\n",
    "coherence_ldamallet = coherence_model_ldamallet.get_coherence()\n",
    "print('\\nCoherence Score: ', coherence_ldamallet)"
   ]
  },
  {
   "cell_type": "code",
   "execution_count": 64,
   "metadata": {},
   "outputs": [
    {
     "data": {
      "text/plain": [
       "<matplotlib.axes._subplots.AxesSubplot at 0x7f5e06e1f080>"
      ]
     },
     "execution_count": 64,
     "metadata": {},
     "output_type": "execute_result"
    },
    {
     "data": {
      "image/png": "[encoded data removed]",
      "text/plain": [
       "<Figure size 432x288 with 1 Axes>"
      ]
     },
     "metadata": {
      "needs_background": "light"
     },
     "output_type": "display_data"
    }
   ],
   "source": [
    "from sklearn.manifold import TSNE \n",
    "tsne = TSNE(n_components=2)\n",
    "\n",
    "# TSNE is taking too long for bigger dataset\n",
    "theta_df_test_with_labels = theta_df_test\n",
    "theta_df_test_with_labels[\"labels\"] = list(all_data_df.iloc[test_index]['category']) \n",
    "reduced_X = theta_df_test_with_labels.sample(n=6000)\n",
    "\n",
    "tsne_data = tsne.fit_transform(reduced_X.ix[:, :100])\n",
    "tsne_data = pd.DataFrame(tsne_data, columns=[\"dim1\", \"dim2\"])\n",
    "tsne_data.plot(\"dim1\", \"dim2\", kind=\"scatter\")"
   ]
  },
  {
   "cell_type": "code",
   "execution_count": 65,
   "metadata": {},
   "outputs": [
    {
     "data": {
      "image/png": "[encoded data removed]",
      "text/plain": [
       "<Figure size 792x576 with 1 Axes>"
      ]
     },
     "metadata": {},
     "output_type": "display_data"
    },
    {
     "data": {
      "text/plain": [
       "<ggplot: (-9223363284241149289)>"
      ]
     },
     "execution_count": 65,
     "metadata": {},
     "output_type": "execute_result"
    }
   ],
   "source": [
    "tsne_data['labels'] = list(reduced_X['labels'])\n",
    "from ggplot import *\n",
    "ggplot(tsne_data, aes(x='dim1', y='dim2', color='labels')) +\\\n",
    "    geom_point()"
   ]
  },
  {
   "cell_type": "code",
   "execution_count": 72,
   "metadata": {},
   "outputs": [
    {
     "data": {
      "text/plain": [
       "10000"
      ]
     },
     "execution_count": 72,
     "metadata": {},
     "output_type": "execute_result"
    }
   ],
   "source": [
    "len(model.get_topics()[0])"
   ]
  },
  {
   "cell_type": "markdown",
   "metadata": {},
   "source": [
    "# Visualization"
   ]
  },
  {
   "cell_type": "code",
   "execution_count": null,
   "metadata": {
    "scrolled": false
   },
   "outputs": [],
   "source": [
    "import pyLDAvis.gensim\n",
    "pyLDAvis.enable_notebook()\n",
    "vis = pyLDAvis.gensim.prepare(lda_model, corpus, dct,mds='tsne',sort_topics=False)\n",
    "pyLDAvis.display(vis)"
   ]
  },
  {
   "cell_type": "code",
   "execution_count": null,
   "metadata": {},
   "outputs": [],
   "source": [
    "pyLDAvis.save_html(vis, 'lda.html')"
   ]
  },
  {
   "cell_type": "code",
   "execution_count": null,
   "metadata": {
    "scrolled": true
   },
   "outputs": [],
   "source": [
    "# Select the model and print the topics\n",
    "optimal_model = model_list[3]\n",
    "model_topics = optimal_model.show_topics(formatted=False)\n",
    "pprint(optimal_model.print_topics(num_words=10))"
   ]
  },
  {
   "cell_type": "markdown",
   "metadata": {},
   "source": [
    "# t - sne Visulization "
   ]
  },
  {
   "cell_type": "code",
   "execution_count": null,
   "metadata": {},
   "outputs": [],
   "source": [
    "theta, _ = lda_model_2.inference(train)\n",
    "theta /= theta.sum(axis=1)[:, None]\n",
    "theta_df_train = pd.DataFrame(theta)\n",
    "\n",
    "theta, _ = lda_model_2.inference(test)\n",
    "theta /= theta.sum(axis=1)[:, None]\n",
    "theta_df_test = pd.DataFrame(theta)"
   ]
  },
  {
   "cell_type": "markdown",
   "metadata": {},
   "source": [
    "# SVM"
   ]
  },
  {
   "cell_type": "code",
   "execution_count": null,
   "metadata": {},
   "outputs": [],
   "source": [
    "from sklearn import svm\n",
    "x = theta_df_train\n",
    "y = list(all_data_df.iloc[train_index]['category'])\n",
    "\n",
    "clf = svm.LinearSVC()\n",
    "clf.fit(x,y)\n",
    "result = clf.predict(theta_df_test)\n",
    "\n",
    "i = 0\n",
    "for y,y_pred in zip(all_data_df.iloc[test_index]['category'],result):\n",
    "    if y == y_pred:\n",
    "        i +=1\n",
    "        \n",
    "print(i/len(result)*100)"
   ]
  },
  {
   "cell_type": "markdown",
   "metadata": {},
   "source": [
    "# PCA"
   ]
  },
  {
   "cell_type": "code",
   "execution_count": null,
   "metadata": {},
   "outputs": [],
   "source": []
  },
  {
   "cell_type": "code",
   "execution_count": null,
   "metadata": {},
   "outputs": [],
   "source": []
  },
  {
   "cell_type": "markdown",
   "metadata": {},
   "source": [
    "# Building LDA Mallet Model"
   ]
  },
  {
   "cell_type": "code",
   "execution_count": null,
   "metadata": {},
   "outputs": [],
   "source": [
    "import os\n",
    "from gensim.models.wrappers import LdaMallet\n",
    "os.environ.update({'MALLET_HOME':r'C:/Xiaomeng/mallet/'})\n",
    "mallet_path = 'C:\\\\Xiaomeng\\\\mallet\\\\bin\\\\mallet' # update this path\n",
    "\n",
    "#ldamallet = gensim.models.wrappers.LdaMallet(mallet_path, corpus=corpus, num_topics=3, id2word=id2word)\n",
    "\n",
    "#result = (ldamallet.show_topics(num_topics=3, num_words=10,formatted=False))\n",
    "#for each in result:\n",
    "#print (each)\n",
    "#os.environ['MALLET_HOME'] = 'C:/Users/Xiaomeng/OneDrive/Project/Category Dataframe/mallet'\n",
    "#mallet_path = 'C:/Users/Xiaomeng/OneDrive/Project/Category Dataframe/mallet/bin/mallet' # update this path\n",
    "#mallet_path = 'C:\\Users\\Xiaomeng\\OneDrive\\Project\\Category Dataframe\\mallet\\bin\\mallet' # update this path\n",
    "ldamallet = LdaMallet(mallet_path, corpus=train, num_topics=30, id2word=id2word)"
   ]
  },
  {
   "cell_type": "code",
   "execution_count": null,
   "metadata": {},
   "outputs": [],
   "source": [
    "# Show Topics\n",
    "pprint(ldamallet.show_topics(formatted=False))\n",
    "\n",
    "# Compute Coherence Score\n",
    "coherence_model_ldamallet = CoherenceModel(model=ldamallet, texts=data_lemmatized, dictionary=id2word, coherence='c_v')\n",
    "coherence_ldamallet = coherence_model_ldamallet.get_coherence()\n",
    "print('\\nCoherence Score: ', coherence_ldamallet)"
   ]
  },
  {
   "cell_type": "code",
   "execution_count": null,
   "metadata": {},
   "outputs": [],
   "source": [
    "def compute_coherence_values(dictionary, corpus, texts, limit, start=2, step=3):\n",
    "    \"\"\"\n",
    "    Compute c_v coherence for various number of topics\n",
    "\n",
    "    Parameters:\n",
    "    ----------\n",
    "    dictionary : Gensim dictionary\n",
    "    corpus : Gensim corpus\n",
    "    texts : List of input texts\n",
    "    limit : Max num of topics\n",
    "\n",
    "    Returns:\n",
    "    -------\n",
    "    model_list : List of LDA topic models\n",
    "    coherence_values : Coherence values corresponding to the LDA model with respective number of topics\n",
    "    \"\"\"\n",
    "    coherence_values = []\n",
    "    model_list = []\n",
    "    for num_topics in range(start, limit, step):\n",
    "        model = gensim.models.wrappers.LdaMallet(mallet_path, corpus=corpus, num_topics=num_topics, id2word=id2word)\n",
    "        model_list.append(model)\n",
    "        coherencemodel = CoherenceModel(model=model, texts=texts, dictionary=dictionary, coherence='c_v')\n",
    "        coherence_values.append(coherencemodel.get_coherence())\n",
    "\n",
    "    return model_list, coherence_values"
   ]
  },
  {
   "cell_type": "code",
   "execution_count": null,
   "metadata": {},
   "outputs": [],
   "source": []
  },
  {
   "cell_type": "raw",
   "metadata": {},
   "source": [
    "# Can take a long time to run.\n",
    "model_list, coherence_values = compute_coherence_values(dictionary=dct, corpus=corpus, texts=data_lemmatized, start=2, limit=40, step=6)"
   ]
  },
  {
   "cell_type": "code",
   "execution_count": null,
   "metadata": {},
   "outputs": [],
   "source": [
    "# Build LDA model with the result from hyperparameter tuning\n",
    "lda_model_2 = gensim.models.LdaMulticore(corpus=train,\n",
    "                                           id2word=id2word,\n",
    "                                           num_topics=30, \n",
    "                                           random_state=100,\n",
    "                                           chunksize=100,\n",
    "                                           passes=10,\n",
    "                                           alpha=0.6,\n",
    "                                            eta=0.05,\n",
    "                                           per_word_topics=True)\n",
    "\n",
    "lda_model_2.save(\"lda_model2_gensim\")"
   ]
  },
  {
   "cell_type": "code",
   "execution_count": null,
   "metadata": {},
   "outputs": [],
   "source": [
    "lda_model_2 = gensim.models.LdaModel.load(\"lda_model2_gensim\")\n",
    "theta, _ = lda_model_2.inference(train)\n",
    "theta /= theta.sum(axis=1)[:, None]\n",
    "theta_df_test = pd.DataFrame(theta)\n",
    "tsne = TSNE(n_components=2, perplexity=50)\n",
    "\n",
    "# Clean and sample the data from each categories\n",
    "#theta_df_clean = theta_df[ theta_df['category'] != \"\" ]\n",
    "#theta_df_grouped = theta_df_clean.groupby(['category'])\n",
    "#theta_df_grouped = theta_df_grouped.apply(lambda x: x.sample(frac=0.3))\n",
    "# TSNE is taking too long for bigger dataset\n",
    "reduced_X = theta_df_grouped.sample(n=6000)\n",
    "\n",
    "\n",
    "tsne_data = tsne.fit_transform(reduced_X.ix[:, :30])\n",
    "tsne_data = pd.DataFrame(tsne_data, columns=[\"dim1\", \"dim2\"])\n",
    "tsne_data.plot(\"dim1\", \"dim2\", kind=\"scatter\")"
   ]
  },
  {
   "cell_type": "code",
   "execution_count": null,
   "metadata": {},
   "outputs": [],
   "source": [
    "tsne_data"
   ]
  },
  {
   "cell_type": "code",
   "execution_count": null,
   "metadata": {},
   "outputs": [],
   "source": [
    "    # label_marker dictionary for true labels\n",
    "    unqique_label = np.unique(result_df['labels_predict'].tolist())\n",
    "    unqique_true_label = np.unique(result_df['label'].tolist())\n",
    "    markers = ['o','*','s']\n",
    "    keys = [str(x) for x in unqique_true_label]\n",
    "    true_label_dict = dict(zip(keys, markers))\n",
    "    \n",
    "    for k in unqique_predict_label:\n",
    "        result_df.loc[(result_df['labels_predict']== k),'color'] = label_dict[str(int(k))]\n",
    "            \n",
    "    for kt in unqique_true_label:\n",
    "        result_df.loc[(result_df['label']== kt),'marker'] = true_label_dict[str(kt)]\n",
    "    "
   ]
  },
  {
   "cell_type": "code",
   "execution_count": null,
   "metadata": {},
   "outputs": [],
   "source": [
    "# Compute Perplexity\n",
    "print('\\nPerplexity: ', lda_model_2.log_perplexity(corpus))  # a measure of how good the model is. lower the better.\n",
    "\n",
    "# Compute Coherence Score\n",
    "coherence_model_lda = CoherenceModel(model=lda_model_2, corpus=test,texts=data_lemmatized, dictionary=id2word, coherence='c_npmi')\n",
    "coherence_lda = coherence_model_lda.get_coherence()\n",
    "print('\\nCoherence Score: ', coherence_lda)"
   ]
  },
  {
   "cell_type": "code",
   "execution_count": null,
   "metadata": {},
   "outputs": [],
   "source": []
  }
 ],
 "metadata": {
  "kernelspec": {
   "display_name": "Python 3",
   "language": "python",
   "name": "python3"
  },
  "language_info": {
   "codemirror_mode": {
    "name": "ipython",
    "version": 3
   },
   "file_extension": ".py",
   "mimetype": "text/x-python",
   "name": "python",
   "nbconvert_exporter": "python",
   "pygments_lexer": "ipython3",
   "version": "3.7.1"
  }
 },
 "nbformat": 4,
 "nbformat_minor": 2
}
