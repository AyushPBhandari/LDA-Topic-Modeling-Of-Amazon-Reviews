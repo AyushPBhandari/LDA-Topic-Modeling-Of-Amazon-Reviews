{
 "cells": [
  {
   "cell_type": "code",
   "execution_count": 58,
   "metadata": {},
   "outputs": [],
   "source": [
    "%matplotlib inline\n",
    "import re\n",
    "from collections import defaultdict\n",
    "import numpy as np\n",
    "from sklearn.decomposition import PCA, LatentDirichletAllocation, TruncatedSVD\n",
    "from sklearn.feature_extraction.text import CountVectorizer, TfidfVectorizer\n",
    "from nltk.stem.snowball import SnowballStemmer\n",
    "import matplotlib.pyplot as plt\n",
    "from sklearn.manifold import TSNE\n",
    "from prep import *\n",
    "import pandas as pd"
   ]
  },
  {
   "cell_type": "markdown",
   "metadata": {},
   "source": [
    "## Abstract\n",
    "\n",
    "We will implement various unsupervised methods on Amazon Fine Food Reviews [1]. The dataset consists of reviews of fine foods from Amazon. The overview of the dataset is as at the end of this document.\n",
    "\n",
    "In this project, we want to cluster the dataset into two clusters: positive review and negative review. To do that we will do dimensionality reduction using Principal Component Analysis, t-sne and Latent Dirichlet Allocation, and compare the results to know which method works better for this case and discuss why it works or not. For the clustering, we will try various clustering methods we have learnt in class. For example: k-means, GMM, or DBScan. Again, we will discuss the result to know which clustering methods work best for this kind of data. For the data pre-processing on the review dataset, we will follow the standard procedure on text, which are stopwords removal and stemming and then convert it into vectors of tf-idf or bag of words.\n",
    "\n",
    "Furthermore on this analysis, we will not only utilize the reviews from the user, but also we will use a transaction data to see what combinations of products a user usually buy using FP-Growth algorithm.\n",
    "\n",
    "[1] http://snap.stanford.edu/data/web-FineFoods.html\n"
   ]
  },
  {
   "cell_type": "markdown",
   "metadata": {},
   "source": [
    "## Milestone 1 - Exploratory Data Analysis"
   ]
  },
  {
   "cell_type": "markdown",
   "metadata": {},
   "source": [
    "Data Cleaning:\n",
    "1. Remove duplicated reviews:  \n",
    "We can see the  the dataset has duplication reviews for one review.\n",
    "Remove empty reviews. Also for one review, two records have different Helpfulness Denominator and Helpfulness Numerator. In that case, we assume the record is cumulated and only kept the record with largest number of Helpfulness Denominator.  \n",
    "2. Remove the empty reviews:\n",
    "The purpose of the project is to do semantic analysis for customer reviews. When reviews are not applicable, that review is not helpful. We remove the empty review.\n"
   ]
  },
  {
   "cell_type": "markdown",
   "metadata": {},
   "source": [
    "Here, we have cleaned our numerical and categorical datasets and made it as pickle, so that we can just load it"
   ]
  },
  {
   "cell_type": "code",
   "execution_count": 19,
   "metadata": {},
   "outputs": [
    {
     "data": {
      "text/html": [
       "<div>\n",
       "<style scoped>\n",
       "    .dataframe tbody tr th:only-of-type {\n",
       "        vertical-align: middle;\n",
       "    }\n",
       "\n",
       "    .dataframe tbody tr th {\n",
       "        vertical-align: top;\n",
       "    }\n",
       "\n",
       "    .dataframe thead th {\n",
       "        text-align: right;\n",
       "    }\n",
       "</style>\n",
       "<table border=\"1\" class=\"dataframe\">\n",
       "  <thead>\n",
       "    <tr style=\"text-align: right;\">\n",
       "      <th></th>\n",
       "      <th>Id</th>\n",
       "      <th>ProductId</th>\n",
       "      <th>UserId</th>\n",
       "      <th>ProfileName</th>\n",
       "      <th>HelpfulnessNumerator</th>\n",
       "      <th>HelpfulnessDenominator</th>\n",
       "      <th>Score</th>\n",
       "      <th>Time</th>\n",
       "      <th>Summary</th>\n",
       "      <th>Text</th>\n",
       "    </tr>\n",
       "  </thead>\n",
       "  <tbody>\n",
       "    <tr>\n",
       "      <th>0</th>\n",
       "      <td>1</td>\n",
       "      <td>B001E4KFG0</td>\n",
       "      <td>A3SGXH7AUHU8GW</td>\n",
       "      <td>delmartian</td>\n",
       "      <td>1</td>\n",
       "      <td>1</td>\n",
       "      <td>5</td>\n",
       "      <td>1303862400</td>\n",
       "      <td>Good Quality Dog Food</td>\n",
       "      <td>I have bought several of the Vitality canned d...</td>\n",
       "    </tr>\n",
       "    <tr>\n",
       "      <th>1</th>\n",
       "      <td>2</td>\n",
       "      <td>B00813GRG4</td>\n",
       "      <td>A1D87F6ZCVE5NK</td>\n",
       "      <td>dll pa</td>\n",
       "      <td>0</td>\n",
       "      <td>0</td>\n",
       "      <td>1</td>\n",
       "      <td>1346976000</td>\n",
       "      <td>Not as Advertised</td>\n",
       "      <td>Product arrived labeled as Jumbo Salted Peanut...</td>\n",
       "    </tr>\n",
       "    <tr>\n",
       "      <th>2</th>\n",
       "      <td>3</td>\n",
       "      <td>B000LQOCH0</td>\n",
       "      <td>ABXLMWJIXXAIN</td>\n",
       "      <td>Natalia Corres \"Natalia Corres\"</td>\n",
       "      <td>1</td>\n",
       "      <td>1</td>\n",
       "      <td>4</td>\n",
       "      <td>1219017600</td>\n",
       "      <td>\"Delight\" says it all</td>\n",
       "      <td>This is a confection that has been around a fe...</td>\n",
       "    </tr>\n",
       "    <tr>\n",
       "      <th>3</th>\n",
       "      <td>4</td>\n",
       "      <td>B000UA0QIQ</td>\n",
       "      <td>A395BORC6FGVXV</td>\n",
       "      <td>Karl</td>\n",
       "      <td>3</td>\n",
       "      <td>3</td>\n",
       "      <td>2</td>\n",
       "      <td>1307923200</td>\n",
       "      <td>Cough Medicine</td>\n",
       "      <td>If you are looking for the secret ingredient i...</td>\n",
       "    </tr>\n",
       "    <tr>\n",
       "      <th>4</th>\n",
       "      <td>5</td>\n",
       "      <td>B006K2ZZ7K</td>\n",
       "      <td>A1UQRSCLF8GW1T</td>\n",
       "      <td>Michael D. Bigham \"M. Wassir\"</td>\n",
       "      <td>0</td>\n",
       "      <td>0</td>\n",
       "      <td>5</td>\n",
       "      <td>1350777600</td>\n",
       "      <td>Great taffy</td>\n",
       "      <td>Great taffy at a great price.  There was a wid...</td>\n",
       "    </tr>\n",
       "  </tbody>\n",
       "</table>\n",
       "</div>"
      ],
      "text/plain": [
       "  Id   ProductId          UserId                      ProfileName  \\\n",
       "0  1  B001E4KFG0  A3SGXH7AUHU8GW                       delmartian   \n",
       "1  2  B00813GRG4  A1D87F6ZCVE5NK                           dll pa   \n",
       "2  3  B000LQOCH0   ABXLMWJIXXAIN  Natalia Corres \"Natalia Corres\"   \n",
       "3  4  B000UA0QIQ  A395BORC6FGVXV                             Karl   \n",
       "4  5  B006K2ZZ7K  A1UQRSCLF8GW1T    Michael D. Bigham \"M. Wassir\"   \n",
       "\n",
       "  HelpfulnessNumerator HelpfulnessDenominator Score        Time  \\\n",
       "0                    1                      1     5  1303862400   \n",
       "1                    0                      0     1  1346976000   \n",
       "2                    1                      1     4  1219017600   \n",
       "3                    3                      3     2  1307923200   \n",
       "4                    0                      0     5  1350777600   \n",
       "\n",
       "                 Summary                                               Text  \n",
       "0  Good Quality Dog Food  I have bought several of the Vitality canned d...  \n",
       "1      Not as Advertised  Product arrived labeled as Jumbo Salted Peanut...  \n",
       "2  \"Delight\" says it all  This is a confection that has been around a fe...  \n",
       "3         Cough Medicine  If you are looking for the secret ingredient i...  \n",
       "4            Great taffy  Great taffy at a great price.  There was a wid...  "
      ]
     },
     "execution_count": 19,
     "metadata": {},
     "output_type": "execute_result"
    }
   ],
   "source": [
    "all_reviews_df = pd.read_pickle(\"./dataframes/All_reviews.pkl\")\n",
    "all_reviews_df.head()"
   ]
  },
  {
   "cell_type": "code",
   "execution_count": 23,
   "metadata": {},
   "outputs": [
    {
     "data": {
      "image/png": "[encoded data removed]",
      "text/plain": [
       "<Figure size 432x288 with 1 Axes>"
      ]
     },
     "metadata": {
      "needs_background": "light"
     },
     "output_type": "display_data"
    }
   ],
   "source": [
    "def polarity(x):\n",
    "    if x < 3:\n",
    "        # Means negative\n",
    "        return \"Negative\"\n",
    "    else:\n",
    "        # Means positive\n",
    "        return \"Positive\"\n",
    "    \n",
    "all_reviews_df[\"ScoreAsCategory\"] = all_reviews_df[\"Score\"].map(polarity)\n",
    "\n",
    "ax = all_reviews_df[\"ScoreAsCategory\"].value_counts().plot(kind=\"bar\")\n",
    "ax.set_xlabel(\"Review\")\n",
    "ax.set_ylabel(\"Frequency\")\n",
    "plt.show()"
   ]
  },
  {
   "cell_type": "markdown",
   "metadata": {},
   "source": [
    "Here, we will do text and summary pre-processing, both will be stored to two text files text_prep.txt and summary_prep.txt"
   ]
  },
  {
   "cell_type": "code",
   "execution_count": null,
   "metadata": {},
   "outputs": [
    {
     "name": "stdout",
     "output_type": "stream",
     "text": [
      "0\n",
      "100000\n",
      "200000\n",
      "300000\n",
      "400000\n",
      "500000\n"
     ]
    }
   ],
   "source": [
    "rtitle = re.compile(r'^review\\/text:\\s*(.+)')\n",
    "stemmer = SnowballStemmer('english')\n",
    "texts = []\n",
    "stopwords = []\n",
    "parsed_titles = []\n",
    "\n",
    "with open('stopwords_english.txt') as fsw:\n",
    "    for word in fsw.readlines():\n",
    "        word = word.strip('\\n')\n",
    "        stopwords.append(word)\n",
    "fsw.close()\n",
    "\n",
    "with open('finefoods.txt', encoding='latin-1') as fin:\n",
    "    for line in fin.readlines():\n",
    "        line = line.strip('\\n')\n",
    "        mtext = rtitle.match(line)\n",
    "        ## if it is a title string\n",
    "        if mtext:\n",
    "            text = mtext.group(1).lower()\n",
    "            texts.append(text[:-1])\n",
    "fin.close()\n",
    "\n",
    "fout = open('text_prep.txt', 'w+')\n",
    "for i, words in enumerate(texts):\n",
    "    words = words.split(\" \")\n",
    "    words = [re.match('[a-zA-Z0-9]+', stemmer.stem(word)).group() for word in words if re.match('[a-zA-Z0-9]+', stemmer.stem(word)) is not None]\n",
    "    words = ['NUM' if re.match('[0-9]+', word) is not None else word for word in words]\n",
    "    words = list(filter(None, [\"\" if word in stopwords else word for word in words]))\n",
    "    words = ' '.join(words)\n",
    "    fout.write(words + '\\n')\n",
    "    parsed_titles.append(words)\n",
    "    if i % 100000 == 0 :\n",
    "        print(i)\n",
    "fout.close()"
   ]
  },
  {
   "cell_type": "code",
   "execution_count": 14,
   "metadata": {},
   "outputs": [
    {
     "name": "stdout",
     "output_type": "stream",
     "text": [
      "0\n",
      "100000\n",
      "200000\n",
      "300000\n",
      "400000\n",
      "500000\n"
     ]
    }
   ],
   "source": [
    "rtitle = re.compile(r'^review\\/summary:\\s*(.+)')\n",
    "stemmer = SnowballStemmer('english')\n",
    "texts = []\n",
    "stopwords = []\n",
    "parsed_titles = []\n",
    "\n",
    "with open('stopwords_english.txt') as fsw:\n",
    "    for word in fsw.readlines():\n",
    "        word = word.strip('\\n')\n",
    "        stopwords.append(word)\n",
    "fsw.close()\n",
    "\n",
    "with open('finefoods.txt', encoding='latin-1') as fin:\n",
    "    for line in fin.readlines():\n",
    "        line = line.strip('\\n')\n",
    "        mtext = rtitle.match(line)\n",
    "        ## if it is a title string\n",
    "        if mtext:\n",
    "            text = mtext.group(1).lower()\n",
    "            texts.append(text[:-1])\n",
    "fin.close()\n",
    "\n",
    "fout = open('summary_prep.txt', 'w+')\n",
    "for i, words in enumerate(texts):\n",
    "    words = words.split(\" \")\n",
    "    words = [re.match('[a-zA-Z0-9]+', stemmer.stem(word)).group() for word in words if re.match('[a-zA-Z0-9]+', stemmer.stem(word)) is not None]\n",
    "    words = ['NUM' if re.match('[0-9]+', word) is not None else word for word in words]\n",
    "    words = list(filter(None, [\"\" if word in stopwords else word for word in words]))\n",
    "    words = ' '.join(words)\n",
    "    fout.write(words + '\\n')\n",
    "    parsed_titles.append(words)\n",
    "    if i % 100000 == 0 :\n",
    "        print(i)\n",
    "fout.close()"
   ]
  },
  {
   "cell_type": "code",
   "execution_count": 37,
   "metadata": {},
   "outputs": [],
   "source": [
    "\"\"\"\n",
    "load dataset and convert bag of words represenetations.\n",
    "\"\"\"\n",
    "with open(\"./text_prep.txt\", \"r\") as t:\n",
    "    df = t.read()\n",
    "    df = df.split(\"\\n\")\n",
    "\n",
    "vec = CountVectorizer(min_df=800, max_features=1023)\n",
    "df = vec.fit_transform(df)"
   ]
  },
  {
   "cell_type": "code",
   "execution_count": 56,
   "metadata": {},
   "outputs": [
    {
     "data": {
      "text/plain": [
       "[('like', 496),\n",
       " ('tast', 887),\n",
       " ('good', 380),\n",
       " ('flavor', 345),\n",
       " ('one', 603),\n",
       " ('love', 514),\n",
       " ('product', 689),\n",
       " ('use', 953),\n",
       " ('great', 388),\n",
       " ('veri', 963)]"
      ]
     },
     "execution_count": 56,
     "metadata": {},
     "output_type": "execute_result"
    }
   ],
   "source": [
    "# We will see the top 10 words appears the most\n",
    "\n",
    "count_df = df.toarray().sum(axis=0)\n",
    "vocab = {v: k for k, v in vec.vocabulary_.items()}\n",
    "[(vocab[i], vec.vocabulary_[vocab[i]]) for i in count_df.argsort()[-10:][::-1]]"
   ]
  },
  {
   "cell_type": "markdown",
   "metadata": {},
   "source": [
    "We will try to run LDA over our dataset for 10 topics to see the topics"
   ]
  },
  {
   "cell_type": "code",
   "execution_count": 16,
   "metadata": {},
   "outputs": [],
   "source": [
    "def topwords_pca(cv, pca, num_topwords):\n",
    "    \"\"\"\n",
    "    print the top words based on the eigenvectors \n",
    "    \"\"\"\n",
    "    Topwords = []\n",
    "    vocab = {v: k for k, v in cv.vocabulary_.items()}\n",
    "    eigenvectors = pca.components_\n",
    "    for k,ev in enumerate(eigenvectors):\n",
    "        ev_indices = np.argsort(- np.abs(ev))[:num_topwords]\n",
    "        ev_topwords =', '.join([vocab[ind] for ind in ev_indices])\n",
    "        Topwords.append(ev_topwords)\n",
    "        print(\"Component : %d, topwords : %s\" % (k, ev_topwords))"
   ]
  },
  {
   "cell_type": "code",
   "execution_count": 18,
   "metadata": {},
   "outputs": [
    {
     "name": "stdout",
     "output_type": "stream",
     "text": [
      "======================================================\n",
      "Components: 10\n",
      "======================================================\n",
      "Component : 0, topwords : bar, love, eat, free, gluten, snack, protein, tast, great, organ\n",
      "Component : 1, topwords : use, salt, mix, butter, make, tast, peanut, like, great, popcorn\n",
      "Component : 2, topwords : love, find, amazon, store, great, use, buy, price, local, get\n",
      "Component : 3, topwords : like, tast, flavor, chocol, good, chip, cooki, eat, snack, bag\n",
      "Component : 4, topwords : order, product, amazon, price, box, buy, veri, good, ship, purchas\n",
      "Component : 5, topwords : flavor, hot, make, great, good, like, veri, love, add, tast\n",
      "Component : 6, topwords : tea, coffe, flavor, cup, like, coffee, tast, good, drink, one\n",
      "Component : 7, topwords : dog, treat, get, love, one, like, time, day, use, give\n",
      "Component : 8, topwords : tast, like, use, water, product, drink, sugar, flavor, oil, tri\n",
      "Component : 9, topwords : food, cat, dog, eat, like, feed, love, chicken, one, dri\n",
      "------------------------------------------------------\n"
     ]
    }
   ],
   "source": [
    "lda = LatentDirichletAllocation(n_components=10, n_jobs=1)\n",
    "lda.fit(df)\n",
    "# reduced_X = lda.transform(df)\n",
    "print(\"======================================================\")\n",
    "print(\"Components: {0}\".format(10))\n",
    "print(\"======================================================\")\n",
    "topwords_pca(vec, lda, num_topwords=10)\n",
    "print(\"------------------------------------------------------\")"
   ]
  },
  {
   "cell_type": "markdown",
   "metadata": {},
   "source": [
    "We can see the category for each topic, for example the first topic talks about snack, most likelike protein bar like and while the second topic is lilely about salt and butter. We couldn't tell much from this."
   ]
  },
  {
   "cell_type": "code",
   "execution_count": 59,
   "metadata": {},
   "outputs": [],
   "source": [
    "\"\"\"\n",
    "load dataset and convert bag of words represenetations.\n",
    "\"\"\"\n",
    "with open(\"./text_prep.txt\", \"r\") as t:\n",
    "    df = t.read()\n",
    "    df = df.split(\"\\n\")\n",
    "\n",
    "tfidf = TfidfVectorizer(min_df=800, max_features=1023)\n",
    "df_tfidf = tfidf.fit_transform(df)"
   ]
  },
  {
   "cell_type": "markdown",
   "metadata": {},
   "source": [
    "Now, we will try to make the text as TF-IDF to see if it makes a difference"
   ]
  },
  {
   "cell_type": "code",
   "execution_count": 60,
   "metadata": {},
   "outputs": [
    {
     "name": "stdout",
     "output_type": "stream",
     "text": [
      "======================================================\n",
      "Components: 10\n",
      "======================================================\n",
      "Component : 0, topwords : use, make, cook, add, great, tast, like, good, rice, mix\n",
      "Component : 1, topwords : amazon, price, store, find, great, buy, love, bar, local, product\n",
      "Component : 2, topwords : tea, flavor, green, hot, tast, like, drink, good, sauc, love\n",
      "Component : 3, topwords : coffe, coffee, cup, flavor, like, strong, tast, roast, good, blend\n",
      "Component : 4, topwords : dog, food, cat, treat, love, eat, like, one, get, chew\n",
      "Component : 5, topwords : chip, salt, popcorn, flavor, like, tast, bag, chips, good, great\n",
      "Component : 6, topwords : chocol, tast, like, flavor, candi, sugar, bar, sweet, good, syrup\n",
      "Component : 7, topwords : order, product, veri, box, arriv, receiv, amazon, time, packag, great\n",
      "Component : 8, topwords : cooki, gluten, love, like, eat, free, tast, great, good, bread\n",
      "Component : 9, topwords : drink, water, tast, like, use, product, tea, bottl, help, good\n",
      "------------------------------------------------------\n"
     ]
    }
   ],
   "source": [
    "lda = LatentDirichletAllocation(n_components=10, n_jobs=1)\n",
    "lda.fit(df_tfidf)\n",
    "# reduced_X = lda.transform(df)\n",
    "print(\"======================================================\")\n",
    "print(\"Components: {0}\".format(10))\n",
    "print(\"======================================================\")\n",
    "topwords_pca(vec, lda, num_topwords=10)\n",
    "print(\"------------------------------------------------------\")"
   ]
  },
  {
   "cell_type": "markdown",
   "metadata": {},
   "source": [
    "--------------------------------------------------------------------------------------------------------"
   ]
  },
  {
   "cell_type": "code",
   "execution_count": null,
   "metadata": {},
   "outputs": [],
   "source": []
  }
 ],
 "metadata": {
  "kernelspec": {
   "display_name": "Python 3",
   "language": "python",
   "name": "python3"
  },
  "language_info": {
   "codemirror_mode": {
    "name": "ipython",
    "version": 3
   },
   "file_extension": ".py",
   "mimetype": "text/x-python",
   "name": "python",
   "nbconvert_exporter": "python",
   "pygments_lexer": "ipython3",
   "version": "3.7.1"
  }
 },
 "nbformat": 4,
 "nbformat_minor": 2
}
